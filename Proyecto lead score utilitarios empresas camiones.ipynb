{
 "cells": [
  {
   "cell_type": "markdown",
   "metadata": {},
   "source": [
    "# Lead Score camiones empresas"
   ]
  },
  {
   "cell_type": "code",
   "execution_count": 1,
   "metadata": {},
   "outputs": [],
   "source": [
    "#referencias:\n",
    "#https://www.kaggle.com/janiobachmann/credit-fraud-dealing-with-imbalanced-datasets\n",
    "#https://www.kaggle.com/tboyle10/methods-for-dealing-with-imbalanced-data\n",
    "#https://medium.com/thalus-ai/performance-metrics-for-classification-problems-in-machine-learning-part-i-b085d432082b\n",
    "\n",
    "\n",
    "#Area de Analytics - Comercial Kaufmann\n",
    "#creado por Sebastian Alibaud\n",
    "\n"
   ]
  },
  {
   "cell_type": "markdown",
   "metadata": {},
   "source": [
    "# CARGA DE PAQUETES"
   ]
  },
  {
   "cell_type": "code",
   "execution_count": 2,
   "metadata": {},
   "outputs": [],
   "source": [
    "# quitamos alertas porfavor!\n",
    "import warnings\n",
    "warnings.filterwarnings('ignore')"
   ]
  },
  {
   "cell_type": "code",
   "execution_count": 3,
   "metadata": {},
   "outputs": [],
   "source": [
    "# librerias clasicas\n",
    "import numpy as np\n",
    "import pandas as pd\n",
    "import matplotlib.pyplot as plt\n",
    "import seaborn as sns\n",
    "\n",
    "# ploteos\n",
    "from matplotlib.pyplot import xticks\n",
    "%matplotlib inline\n",
    "from sklearn.metrics import roc_curve,confusion_matrix,accuracy_score,recall_score\n",
    "from sklearn.metrics import f1_score,precision_score,roc_auc_score,average_precision_score\n",
    "\n",
    "\n",
    "#modelos\n",
    "from sklearn.model_selection import train_test_split\n",
    "from  sklearn.ensemble import RandomForestClassifier\n",
    "from sklearn.preprocessing import StandardScaler\n",
    "#from sklearn.svm import SVC\n",
    "#from sklearn.linear_model import RidgeClassifier,SGDClassifier,LogisticRegression\n",
    "from sklearn.metrics import confusion_matrix,accuracy_score,recall_score,f1_score,precision_score,roc_auc_score,average_precision_score\n",
    "#from sklearn.neighbors import NearestNeighbors\n",
    "import xgboost as xgb\n"
   ]
  },
  {
   "cell_type": "markdown",
   "metadata": {},
   "source": [
    "### Funciones utiles"
   ]
  },
  {
   "cell_type": "code",
   "execution_count": 4,
   "metadata": {},
   "outputs": [],
   "source": [
    "#funciones para medir\n",
    "\n",
    "def mediciones(x_train,y_train,x_test,y_test,model):\n",
    "    a = int(accuracy_score(y_train,model.predict(x_train))*1000)/1000\n",
    "    b = int(recall_score(y_train,model.predict(x_train))*1000)/1000\n",
    "    c = int(accuracy_score(y_test,model.predict(x_test))*1000)/1000\n",
    "    d = int(recall_score(y_test,model.predict(x_test))*1000)/1000\n",
    "    aa = int(roc_auc_score(y_train,model.predict_proba(x_train)[:,1])*1000)/1000\n",
    "    cc = int(roc_auc_score(y_test,model.predict_proba(x_test)[:,1])*1000)/1000\n",
    "    dd = int(f1_score(y_test,model.predict(x_test))*1000)/1000\n",
    "    ee = int(f1_score(y_train,model.predict(x_train))*1000)/1000\n",
    "    e = {'Entrenamiento':[a,b,aa,ee],\n",
    "         'Testeo':[c,d,cc,dd]}\n",
    "    f = pd.DataFrame(data=e,index=[\"Accuracy\",\"recall\",\"roc\",\"f1\"])\n",
    "    matrix=confusion_matrix(y_test,model.predict(x_test))\n",
    "    TP=matrix[1,1]\n",
    "    TN=matrix[0,0]\n",
    "    FP=matrix[0,1]\n",
    "    FN=matrix[1,0]\n",
    "    ma = {'Prediccion falso':[TN,FN],\n",
    "         'Prediccion verdadero':[FP,TP]}\n",
    "    i = pd.DataFrame(data=ma,index=[\"Actual falsa\",\"Actual verdadera\"])\n",
    "    print(\"Matriz de confusion:\\n\",i)\n",
    "    return f\n",
    "\n",
    "\n",
    "\n",
    "#print(\"the recall for this model is :\",cnf_matrix[1,1]/(cnf_matrix[1,1]+cnf_matrix[1,0]))\n",
    "#fig= plt.figure(figsize=(6,3))# to plot the graph\n",
    "#print(\"TP\",cnf_matrix[1,1,]) # no of fraud transaction which are predicted fraud\n",
    "#print(\"TN\",cnf_matrix[0,0]) # no. of normal transaction which are predited normal\n",
    "#print(\"FP\",cnf_matrix[0,1]) # no of normal transaction which are predicted fraud\n",
    "#print(\"FN\",cnf_matrix[1,0]) # no of fraud Transaction which are predicted normal\n",
    "\n",
    "\n",
    "def mediciones2(x_train,y_train,x_test,y_test,model):\n",
    "    #a = int(accuracy_score(y_train,model.predict(x_train))*1000)/1000\n",
    "    #b = int(recall_score(y_train,model.predict(x_train))*1000)/1000\n",
    "    c = int(accuracy_score(y_test,model.predict(x_test))*1000)/1000\n",
    "    d = int(recall_score(y_test,model.predict(x_test))*1000)/1000\n",
    "    #aa = int(roc_auc_score(y_train,model.predict_proba(x_train)[:,1])*1000)/1000\n",
    "    #cc = int(roc_auc_score(y_test,model.predict_proba(x_test)[:,1])*1000)/1000\n",
    "    e = {'Testeo':[c,d]}\n",
    "    f = pd.DataFrame(data=e,index=[\"Accuracy\",\"recall\"])\n",
    "    return f\n",
    "\n",
    "def roc_(x_train,y_train,x_test,y_test,model):\n",
    "    aa = int(roc_auc_score(y_train,model.predict_proba(x_train)[:,1])*1000)/1000\n",
    "    cc = int(roc_auc_score(y_test,model.predict_proba(x_test)[:,1])*1000)/1000\n",
    "    e = {'Entrenamiento':[a],\n",
    "         'Testeo':[c]}\n",
    "    f = pd.DataFrame(data=e,index=[\"roc-auc\"])\n",
    "    return f"
   ]
  },
  {
   "cell_type": "markdown",
   "metadata": {},
   "source": [
    "# Preparación de datos\n",
    "### LECTURA DE BASE BRUTA DESDE SAS\n",
    "\n",
    "\n",
    "La base de datos se obtiene desde el SAS guardado en la carpeta diaria de Customer analytics, esta base considera todas las ofertas realizadas en kaufmann a clientes que se encuentran en el perfil, se cruza con información de venta, rvm, post venta y datos del SII.\n",
    "\n",
    "\n",
    "Para el caso de puesta en prd, se consideran todas las empresas presentes en SII mas todos los clientes kaufman, mas todas las personas que están en rvm.\n",
    "\n",
    "\n",
    "* Periodo de información = 2018 y 2019.\n",
    "* Modelos: Utilitarios.\n",
    "* Tipo Cliente: Persona y empresa.\n",
    "\n",
    "Fuente sii:\n",
    "http://www.sii.cl/sobre_el_sii/nominapersonasjuridicas.html\n",
    "\n"
   ]
  },
  {
   "cell_type": "code",
   "execution_count": 9,
   "metadata": {},
   "outputs": [],
   "source": [
    "#----------------------#\n",
    "# carga de informacion #\n",
    "#----------------------#\n",
    "#lectura de datos\n",
    "df = pd.read_sas(r\"file:\\\\10.1.1.145\\datos\\ANALISIS\\CHILE\\IMPORTER_MARKETING_CUSTOMER_ANALYTICS\\DATOS\\LEAD_SCORE_UTILITARIOS_PREV1.sas7bdat\",\n",
    "                    format='sas7bdat',encoding='latin1')\n",
    "\n",
    "df = df[df['TIPO_CLIENTE']!='PERSONA']\n",
    "df=df[df['CATEGORIA']=='CAMION']\n",
    "\n",
    "df=df.drop(['TIPO_CLIENTE'], axis=1)"
   ]
  },
  {
   "cell_type": "code",
   "execution_count": 10,
   "metadata": {},
   "outputs": [
    {
     "data": {
      "text/plain": [
       "(107726, 33)"
      ]
     },
     "execution_count": 10,
     "metadata": {},
     "output_type": "execute_result"
    }
   ],
   "source": [
    "df=df.drop([\"CATEGORIA\"], axis=1)\n",
    "df.shape"
   ]
  },
  {
   "cell_type": "markdown",
   "metadata": {},
   "source": [
    "### LIMPIEZA DE DATOS GENERAL"
   ]
  },
  {
   "cell_type": "code",
   "execution_count": 11,
   "metadata": {},
   "outputs": [
    {
     "data": {
      "text/plain": [
       "RUBRO_ECON                   0.00\n",
       "ANTIGUEDAD_E                 0.00\n",
       "TRAMO_VENTA                 18.71\n",
       "NUM_TRABAJADORES            18.71\n",
       "TOTAL_UTILITARIOS           42.83\n",
       "UTILITARIOS_EXCLUSION       50.14\n",
       "RELEVANTE_BUSES             96.69\n",
       "RELEVANTE_CAMIONES          52.23\n",
       "RELEVANTE_RODADOS           79.18\n",
       "RELEVANTE_VANS              80.35\n",
       "RELEVANTE_CARGA             85.14\n",
       "RELEVANTE_PASAJERA          90.77\n",
       "RELEVANTE_PESADO            61.08\n",
       "RELEVANTE_CAMIONETA         91.92\n",
       "RELEVANTE_MEDIANO           80.92\n",
       "RELEVANTE_OTROS             68.02\n",
       "RELEVANTE_LIVIANO           93.05\n",
       "RELEVANTE_CAMIONETA_DCAB    97.17\n",
       "RELEVANTE_FORESTAL          97.25\n",
       "RELEVANTE_CAMABAJA          95.12\n",
       "MARCA_AGRUPADA               0.00\n",
       "FLOTA_NUEVA                 42.83\n",
       "ANTIGUEDAD_FLOTA            42.83\n",
       "COMPRO_NUM                   0.00\n",
       "CAMPANAS_U180D              69.74\n",
       "CAMPANAS_U180D_C            70.35\n",
       "SERVICIOS_PV                 0.00\n",
       "REGION                       1.52\n",
       "USADO_NUEVO                  0.00\n",
       "DESC_TIPO_VEHICULO           2.75\n",
       "NUM_OFERTAS_U12M             0.00\n",
       "COMPRAS_REALIZADAS_U12M      0.00\n",
       "TIPO_CREDITO_USADO_ANT      48.84\n",
       "dtype: float64"
      ]
     },
     "execution_count": 11,
     "metadata": {},
     "output_type": "execute_result"
    }
   ],
   "source": [
    "#porcentaje de missing\n",
    "#round(100*(df.isnull().sum()/len(df.index)), 2)\n",
    "#porcentaje de missing\n",
    "round(100*(df.isnull().sum()/len(df.index)), 2)"
   ]
  },
  {
   "cell_type": "code",
   "execution_count": 12,
   "metadata": {
    "scrolled": false
   },
   "outputs": [
    {
     "data": {
      "text/plain": [
       "RUBRO_ECON                   0.00\n",
       "ANTIGUEDAD_E                 0.00\n",
       "TRAMO_VENTA                 18.71\n",
       "NUM_TRABAJADORES            18.71\n",
       "TOTAL_UTILITARIOS           42.83\n",
       "UTILITARIOS_EXCLUSION       50.14\n",
       "RELEVANTE_BUSES              0.00\n",
       "RELEVANTE_CAMIONES           0.00\n",
       "RELEVANTE_RODADOS            0.00\n",
       "RELEVANTE_VANS               0.00\n",
       "RELEVANTE_CARGA              0.00\n",
       "RELEVANTE_PASAJERA           0.00\n",
       "RELEVANTE_PESADO             0.00\n",
       "RELEVANTE_CAMIONETA          0.00\n",
       "RELEVANTE_MEDIANO            0.00\n",
       "RELEVANTE_OTROS              0.00\n",
       "RELEVANTE_LIVIANO            0.00\n",
       "RELEVANTE_CAMIONETA_DCAB     0.00\n",
       "RELEVANTE_FORESTAL           0.00\n",
       "RELEVANTE_CAMABAJA           0.00\n",
       "MARCA_AGRUPADA               0.00\n",
       "FLOTA_NUEVA                 42.83\n",
       "ANTIGUEDAD_FLOTA            42.83\n",
       "COMPRO_NUM                   0.00\n",
       "CAMPANAS_U180D              69.74\n",
       "CAMPANAS_U180D_C            70.35\n",
       "SERVICIOS_PV                 0.00\n",
       "REGION                       1.52\n",
       "USADO_NUEVO                  0.00\n",
       "DESC_TIPO_VEHICULO           2.75\n",
       "NUM_OFERTAS_U12M             0.00\n",
       "COMPRAS_REALIZADAS_U12M      0.00\n",
       "TIPO_CREDITO_USADO_ANT      48.84\n",
       "dtype: float64"
      ]
     },
     "execution_count": 12,
     "metadata": {},
     "output_type": "execute_result"
    }
   ],
   "source": [
    "#no elimino estos datos porque vienen de rvm, miss significa que no tiene\n",
    "df['RELEVANTE_BUSES'] = df['RELEVANTE_BUSES'].replace(np.nan,0)\n",
    "df['RELEVANTE_CAMIONES'] = df['RELEVANTE_CAMIONES'].replace(np.nan,0)\n",
    "df['RELEVANTE_RODADOS'] = df['RELEVANTE_RODADOS'].replace(np.nan,0)\n",
    "df['RELEVANTE_VANS'] = df['RELEVANTE_VANS'].replace(np.nan,0)\n",
    "df['RELEVANTE_CARGA'] = df['RELEVANTE_CARGA'].replace(np.nan,0)\n",
    "df['RELEVANTE_PASAJERA'] = df['RELEVANTE_PASAJERA'].replace(np.nan,0)\n",
    "df['RELEVANTE_PESADO'] = df['RELEVANTE_PESADO'].replace(np.nan,0)\n",
    "df['RELEVANTE_CAMIONETA'] = df['RELEVANTE_CAMIONETA'].replace(np.nan,0)\n",
    "df['RELEVANTE_MEDIANO'] = df['RELEVANTE_MEDIANO'].replace(np.nan,0)\n",
    "df['RELEVANTE_OTROS'] = df['RELEVANTE_OTROS'].replace(np.nan,0)\n",
    "df['RELEVANTE_LIVIANO'] = df['RELEVANTE_LIVIANO'].replace(np.nan,0)\n",
    "df['RELEVANTE_CAMIONETA_DCAB'] = df['RELEVANTE_CAMIONETA_DCAB'].replace(np.nan,0)\n",
    "df['RELEVANTE_FORESTAL'] = df['RELEVANTE_FORESTAL'].replace(np.nan,0)\n",
    "df['RELEVANTE_CAMABAJA'] = df['RELEVANTE_CAMABAJA'].replace(np.nan,0)\n",
    "#porcentaje de missing\n",
    "round(100*(df.isnull().sum()/len(df.index)), 2)"
   ]
  },
  {
   "cell_type": "code",
   "execution_count": 13,
   "metadata": {},
   "outputs": [
    {
     "name": "stdout",
     "output_type": "stream",
     "text": [
      "<class 'pandas.core.frame.DataFrame'>\n",
      "Int64Index: 107726 entries, 31 to 212228\n",
      "Data columns (total 33 columns):\n",
      " #   Column                    Non-Null Count   Dtype  \n",
      "---  ------                    --------------   -----  \n",
      " 0   RUBRO_ECON                107726 non-null  object \n",
      " 1   ANTIGUEDAD_E              107726 non-null  object \n",
      " 2   TRAMO_VENTA               87571 non-null   float64\n",
      " 3   NUM_TRABAJADORES          87571 non-null   float64\n",
      " 4   TOTAL_UTILITARIOS         61585 non-null   float64\n",
      " 5   UTILITARIOS_EXCLUSION     53713 non-null   float64\n",
      " 6   RELEVANTE_BUSES           107726 non-null  float64\n",
      " 7   RELEVANTE_CAMIONES        107726 non-null  float64\n",
      " 8   RELEVANTE_RODADOS         107726 non-null  float64\n",
      " 9   RELEVANTE_VANS            107726 non-null  float64\n",
      " 10  RELEVANTE_CARGA           107726 non-null  float64\n",
      " 11  RELEVANTE_PASAJERA        107726 non-null  float64\n",
      " 12  RELEVANTE_PESADO          107726 non-null  float64\n",
      " 13  RELEVANTE_CAMIONETA       107726 non-null  float64\n",
      " 14  RELEVANTE_MEDIANO         107726 non-null  float64\n",
      " 15  RELEVANTE_OTROS           107726 non-null  float64\n",
      " 16  RELEVANTE_LIVIANO         107726 non-null  float64\n",
      " 17  RELEVANTE_CAMIONETA_DCAB  107726 non-null  float64\n",
      " 18  RELEVANTE_FORESTAL        107726 non-null  float64\n",
      " 19  RELEVANTE_CAMABAJA        107726 non-null  float64\n",
      " 20  MARCA_AGRUPADA            107726 non-null  object \n",
      " 21  FLOTA_NUEVA               61585 non-null   float64\n",
      " 22  ANTIGUEDAD_FLOTA          61585 non-null   float64\n",
      " 23  COMPRO_NUM                107726 non-null  float64\n",
      " 24  CAMPANAS_U180D            32596 non-null   float64\n",
      " 25  CAMPANAS_U180D_C          31938 non-null   float64\n",
      " 26  SERVICIOS_PV              107726 non-null  float64\n",
      " 27  REGION                    106090 non-null  object \n",
      " 28  USADO_NUEVO               107726 non-null  object \n",
      " 29  DESC_TIPO_VEHICULO        104766 non-null  object \n",
      " 30  NUM_OFERTAS_U12M          107726 non-null  float64\n",
      " 31  COMPRAS_REALIZADAS_U12M   107726 non-null  float64\n",
      " 32  TIPO_CREDITO_USADO_ANT    55115 non-null   object \n",
      "dtypes: float64(26), object(7)\n",
      "memory usage: 27.9+ MB\n"
     ]
    }
   ],
   "source": [
    "df.info()"
   ]
  },
  {
   "cell_type": "markdown",
   "metadata": {},
   "source": [
    "### LIMPIEZA DE DATOS POR COLUMNA \n",
    "\n",
    "#### columnas numericas"
   ]
  },
  {
   "cell_type": "code",
   "execution_count": 14,
   "metadata": {},
   "outputs": [
    {
     "data": {
      "text/html": [
       "<div>\n",
       "<style scoped>\n",
       "    .dataframe tbody tr th:only-of-type {\n",
       "        vertical-align: middle;\n",
       "    }\n",
       "\n",
       "    .dataframe tbody tr th {\n",
       "        vertical-align: top;\n",
       "    }\n",
       "\n",
       "    .dataframe thead th {\n",
       "        text-align: right;\n",
       "    }\n",
       "</style>\n",
       "<table border=\"1\" class=\"dataframe\">\n",
       "  <thead>\n",
       "    <tr style=\"text-align: right;\">\n",
       "      <th></th>\n",
       "      <th>TRAMO_VENTA</th>\n",
       "      <th>NUM_TRABAJADORES</th>\n",
       "      <th>TOTAL_UTILITARIOS</th>\n",
       "      <th>FLOTA_NUEVA</th>\n",
       "      <th>ANTIGUEDAD_FLOTA</th>\n",
       "      <th>CAMPANAS_U180D</th>\n",
       "      <th>CAMPANAS_U180D_C</th>\n",
       "      <th>NUM_OFERTAS_U12M</th>\n",
       "      <th>COMPRAS_REALIZADAS_U12M</th>\n",
       "    </tr>\n",
       "  </thead>\n",
       "  <tbody>\n",
       "    <tr>\n",
       "      <th>count</th>\n",
       "      <td>87571.000000</td>\n",
       "      <td>87571.000000</td>\n",
       "      <td>61585.000000</td>\n",
       "      <td>61585.000000</td>\n",
       "      <td>61585.000000</td>\n",
       "      <td>32596.000000</td>\n",
       "      <td>31938.000000</td>\n",
       "      <td>107726.000000</td>\n",
       "      <td>107726.000000</td>\n",
       "    </tr>\n",
       "    <tr>\n",
       "      <th>mean</th>\n",
       "      <td>9.043393</td>\n",
       "      <td>407.783821</td>\n",
       "      <td>25.366631</td>\n",
       "      <td>0.296176</td>\n",
       "      <td>3.768883</td>\n",
       "      <td>5.037643</td>\n",
       "      <td>4.876699</td>\n",
       "      <td>85.204927</td>\n",
       "      <td>8.522789</td>\n",
       "    </tr>\n",
       "    <tr>\n",
       "      <th>std</th>\n",
       "      <td>3.096114</td>\n",
       "      <td>971.735836</td>\n",
       "      <td>106.674503</td>\n",
       "      <td>0.456573</td>\n",
       "      <td>3.038850</td>\n",
       "      <td>6.801570</td>\n",
       "      <td>6.714604</td>\n",
       "      <td>335.036582</td>\n",
       "      <td>33.838182</td>\n",
       "    </tr>\n",
       "    <tr>\n",
       "      <th>min</th>\n",
       "      <td>1.000000</td>\n",
       "      <td>0.000000</td>\n",
       "      <td>1.000000</td>\n",
       "      <td>0.000000</td>\n",
       "      <td>0.000000</td>\n",
       "      <td>1.000000</td>\n",
       "      <td>1.000000</td>\n",
       "      <td>0.000000</td>\n",
       "      <td>0.000000</td>\n",
       "    </tr>\n",
       "    <tr>\n",
       "      <th>25%</th>\n",
       "      <td>7.000000</td>\n",
       "      <td>11.000000</td>\n",
       "      <td>1.000000</td>\n",
       "      <td>0.000000</td>\n",
       "      <td>1.000000</td>\n",
       "      <td>1.000000</td>\n",
       "      <td>1.000000</td>\n",
       "      <td>1.000000</td>\n",
       "      <td>0.000000</td>\n",
       "    </tr>\n",
       "    <tr>\n",
       "      <th>50%</th>\n",
       "      <td>9.000000</td>\n",
       "      <td>63.000000</td>\n",
       "      <td>3.000000</td>\n",
       "      <td>0.000000</td>\n",
       "      <td>3.482759</td>\n",
       "      <td>3.000000</td>\n",
       "      <td>3.000000</td>\n",
       "      <td>7.000000</td>\n",
       "      <td>0.000000</td>\n",
       "    </tr>\n",
       "    <tr>\n",
       "      <th>75%</th>\n",
       "      <td>11.000000</td>\n",
       "      <td>351.000000</td>\n",
       "      <td>12.000000</td>\n",
       "      <td>1.000000</td>\n",
       "      <td>5.400000</td>\n",
       "      <td>6.000000</td>\n",
       "      <td>5.000000</td>\n",
       "      <td>27.000000</td>\n",
       "      <td>3.000000</td>\n",
       "    </tr>\n",
       "    <tr>\n",
       "      <th>max</th>\n",
       "      <td>13.000000</td>\n",
       "      <td>31416.000000</td>\n",
       "      <td>4462.000000</td>\n",
       "      <td>1.000000</td>\n",
       "      <td>19.000000</td>\n",
       "      <td>80.000000</td>\n",
       "      <td>79.000000</td>\n",
       "      <td>2528.000000</td>\n",
       "      <td>375.000000</td>\n",
       "    </tr>\n",
       "  </tbody>\n",
       "</table>\n",
       "</div>"
      ],
      "text/plain": [
       "        TRAMO_VENTA  NUM_TRABAJADORES  TOTAL_UTILITARIOS   FLOTA_NUEVA  \\\n",
       "count  87571.000000      87571.000000       61585.000000  61585.000000   \n",
       "mean       9.043393        407.783821          25.366631      0.296176   \n",
       "std        3.096114        971.735836         106.674503      0.456573   \n",
       "min        1.000000          0.000000           1.000000      0.000000   \n",
       "25%        7.000000         11.000000           1.000000      0.000000   \n",
       "50%        9.000000         63.000000           3.000000      0.000000   \n",
       "75%       11.000000        351.000000          12.000000      1.000000   \n",
       "max       13.000000      31416.000000        4462.000000      1.000000   \n",
       "\n",
       "       ANTIGUEDAD_FLOTA  CAMPANAS_U180D  CAMPANAS_U180D_C  NUM_OFERTAS_U12M  \\\n",
       "count      61585.000000    32596.000000      31938.000000     107726.000000   \n",
       "mean           3.768883        5.037643          4.876699         85.204927   \n",
       "std            3.038850        6.801570          6.714604        335.036582   \n",
       "min            0.000000        1.000000          1.000000          0.000000   \n",
       "25%            1.000000        1.000000          1.000000          1.000000   \n",
       "50%            3.482759        3.000000          3.000000          7.000000   \n",
       "75%            5.400000        6.000000          5.000000         27.000000   \n",
       "max           19.000000       80.000000         79.000000       2528.000000   \n",
       "\n",
       "       COMPRAS_REALIZADAS_U12M  \n",
       "count            107726.000000  \n",
       "mean                  8.522789  \n",
       "std                  33.838182  \n",
       "min                   0.000000  \n",
       "25%                   0.000000  \n",
       "50%                   0.000000  \n",
       "75%                   3.000000  \n",
       "max                 375.000000  "
      ]
     },
     "execution_count": 14,
     "metadata": {},
     "output_type": "execute_result"
    }
   ],
   "source": [
    "#ahora tratare de revisar cada columna para imputar en caso de que se pueda imputar\n",
    "df[['TRAMO_VENTA','NUM_TRABAJADORES','TOTAL_UTILITARIOS','FLOTA_NUEVA','ANTIGUEDAD_FLOTA','CAMPANAS_U180D',\n",
    "   'CAMPANAS_U180D_C','NUM_OFERTAS_U12M','COMPRAS_REALIZADAS_U12M']].describe()"
   ]
  },
  {
   "cell_type": "code",
   "execution_count": 15,
   "metadata": {
    "scrolled": false
   },
   "outputs": [
    {
     "data": {
      "image/png": "[encoded data removed]",
      "text/plain": [
       "<Figure size 864x756 with 9 Axes>"
      ]
     },
     "metadata": {
      "needs_background": "light"
     },
     "output_type": "display_data"
    }
   ],
   "source": [
    "fig, axs = plt.subplots(3,3, figsize = (12,10.5))\n",
    "plt2 = sns.boxplot(df['TRAMO_VENTA'], ax = axs[0,0])\n",
    "plt2 = sns.boxplot(df['NUM_TRABAJADORES'], ax = axs[0,1])\n",
    "plt2 = sns.boxplot(df['TOTAL_UTILITARIOS'], ax = axs[1,0])\n",
    "plt2 = sns.boxplot(df['ANTIGUEDAD_FLOTA'], ax = axs[2,1])\n",
    "plt2 = sns.boxplot(df['CAMPANAS_U180D_C'], ax = axs[1,2])\n",
    "plt2 = sns.boxplot(df['NUM_OFERTAS_U12M'], ax = axs[2,2])\n",
    "plt2 = sns.boxplot(df['CAMPANAS_U180D'], ax = axs[0,2])\n",
    "plt2 = sns.boxplot(df['COMPRAS_REALIZADAS_U12M'], ax = axs[2,0])\n",
    "\n",
    "plt.show()"
   ]
  },
  {
   "cell_type": "markdown",
   "metadata": {},
   "source": [
    "ahi un exceso de variabilidad en algunas columnas"
   ]
  },
  {
   "cell_type": "code",
   "execution_count": 16,
   "metadata": {},
   "outputs": [],
   "source": [
    "#estas variables no pueden ser imputadas porque indican que no tienen vehiculos, candidatas a irse de la base!!\n",
    "df['TOTAL_UTILITARIOS'] = df['TOTAL_UTILITARIOS'].replace(np.nan,0)\n",
    "df['UTILITARIOS_EXCLUSION'] = df['UTILITARIOS_EXCLUSION'].replace(np.nan,0)\n",
    "df['RELEVANTE_CAMIONES'] = df['RELEVANTE_CAMIONES'].replace(np.nan,0)\n",
    "df['RELEVANTE_OTROS'] = df['RELEVANTE_OTROS'].replace(np.nan,0)\n",
    "\n",
    "\n",
    "\n",
    "df['TRAMO_VENTA'] = df['TRAMO_VENTA'].replace(np.nan, np.mean(df['TRAMO_VENTA']))\n",
    "df['NUM_TRABAJADORES'] = df['NUM_TRABAJADORES'].replace(np.nan, np.mean(df['NUM_TRABAJADORES']))\n"
   ]
  },
  {
   "cell_type": "markdown",
   "metadata": {},
   "source": [
    "### columnas categoricas"
   ]
  },
  {
   "cell_type": "code",
   "execution_count": 17,
   "metadata": {},
   "outputs": [
    {
     "data": {
      "text/html": [
       "<div>\n",
       "<style scoped>\n",
       "    .dataframe tbody tr th:only-of-type {\n",
       "        vertical-align: middle;\n",
       "    }\n",
       "\n",
       "    .dataframe tbody tr th {\n",
       "        vertical-align: top;\n",
       "    }\n",
       "\n",
       "    .dataframe thead th {\n",
       "        text-align: right;\n",
       "    }\n",
       "</style>\n",
       "<table border=\"1\" class=\"dataframe\">\n",
       "  <thead>\n",
       "    <tr style=\"text-align: right;\">\n",
       "      <th></th>\n",
       "      <th>MARCA_AGRUPADA</th>\n",
       "      <th>DESC_TIPO_VEHICULO</th>\n",
       "    </tr>\n",
       "  </thead>\n",
       "  <tbody>\n",
       "    <tr>\n",
       "      <th>count</th>\n",
       "      <td>107726</td>\n",
       "      <td>104766</td>\n",
       "    </tr>\n",
       "    <tr>\n",
       "      <th>unique</th>\n",
       "      <td>4</td>\n",
       "      <td>16</td>\n",
       "    </tr>\n",
       "    <tr>\n",
       "      <th>top</th>\n",
       "      <td>MERCEDES-BENZ</td>\n",
       "      <td>CAMION</td>\n",
       "    </tr>\n",
       "    <tr>\n",
       "      <th>freq</th>\n",
       "      <td>59478</td>\n",
       "      <td>42403</td>\n",
       "    </tr>\n",
       "  </tbody>\n",
       "</table>\n",
       "</div>"
      ],
      "text/plain": [
       "       MARCA_AGRUPADA DESC_TIPO_VEHICULO\n",
       "count          107726             104766\n",
       "unique              4                 16\n",
       "top     MERCEDES-BENZ             CAMION\n",
       "freq            59478              42403"
      ]
     },
     "execution_count": 17,
     "metadata": {},
     "output_type": "execute_result"
    }
   ],
   "source": [
    "df[['MARCA_AGRUPADA','DESC_TIPO_VEHICULO']].describe()"
   ]
  },
  {
   "cell_type": "code",
   "execution_count": 18,
   "metadata": {},
   "outputs": [
    {
     "data": {
      "text/html": [
       "<div>\n",
       "<style scoped>\n",
       "    .dataframe tbody tr th:only-of-type {\n",
       "        vertical-align: middle;\n",
       "    }\n",
       "\n",
       "    .dataframe tbody tr th {\n",
       "        vertical-align: top;\n",
       "    }\n",
       "\n",
       "    .dataframe thead th {\n",
       "        text-align: right;\n",
       "    }\n",
       "</style>\n",
       "<table border=\"1\" class=\"dataframe\">\n",
       "  <thead>\n",
       "    <tr style=\"text-align: right;\">\n",
       "      <th></th>\n",
       "      <th>COMPRO_NUM</th>\n",
       "    </tr>\n",
       "    <tr>\n",
       "      <th>MARCA_AGRUPADA</th>\n",
       "      <th></th>\n",
       "    </tr>\n",
       "  </thead>\n",
       "  <tbody>\n",
       "    <tr>\n",
       "      <th>MERCEDES-BENZ</th>\n",
       "      <td>0.080282</td>\n",
       "    </tr>\n",
       "    <tr>\n",
       "      <th>FREIGHTLINER</th>\n",
       "      <td>0.059949</td>\n",
       "    </tr>\n",
       "    <tr>\n",
       "      <th>MITSUBISHI-FUSO</th>\n",
       "      <td>0.055086</td>\n",
       "    </tr>\n",
       "    <tr>\n",
       "      <th>WESTERN STAR</th>\n",
       "      <td>0.047619</td>\n",
       "    </tr>\n",
       "  </tbody>\n",
       "</table>\n",
       "</div>"
      ],
      "text/plain": [
       "                 COMPRO_NUM\n",
       "MARCA_AGRUPADA             \n",
       "MERCEDES-BENZ      0.080282\n",
       "FREIGHTLINER       0.059949\n",
       "MITSUBISHI-FUSO    0.055086\n",
       "WESTERN STAR       0.047619"
      ]
     },
     "execution_count": 18,
     "metadata": {},
     "output_type": "execute_result"
    }
   ],
   "source": [
    "avr_mar=pd.DataFrame(df.groupby('MARCA_AGRUPADA')[\"COMPRO_NUM\"].mean())\n",
    "avr_mar=avr_mar.sort_values(\"COMPRO_NUM\",ascending=False)\n",
    "avr_mar.head(50)"
   ]
  },
  {
   "cell_type": "code",
   "execution_count": 19,
   "metadata": {},
   "outputs": [
    {
     "data": {
      "image/png": "[encoded data removed]",
      "text/plain": [
       "<Figure size 432x288 with 1 Axes>"
      ]
     },
     "metadata": {
      "needs_background": "light"
     },
     "output_type": "display_data"
    }
   ],
   "source": [
    "df['DESC_TIPO_VEHICULO'] = df['DESC_TIPO_VEHICULO'].replace(np.nan,'CAMION')\n",
    "plt1 = sns.countplot(df['DESC_TIPO_VEHICULO'])\n",
    "plt.show()"
   ]
  },
  {
   "cell_type": "code",
   "execution_count": 20,
   "metadata": {},
   "outputs": [
    {
     "data": {
      "text/html": [
       "<div>\n",
       "<style scoped>\n",
       "    .dataframe tbody tr th:only-of-type {\n",
       "        vertical-align: middle;\n",
       "    }\n",
       "\n",
       "    .dataframe tbody tr th {\n",
       "        vertical-align: top;\n",
       "    }\n",
       "\n",
       "    .dataframe thead th {\n",
       "        text-align: right;\n",
       "    }\n",
       "</style>\n",
       "<table border=\"1\" class=\"dataframe\">\n",
       "  <thead>\n",
       "    <tr style=\"text-align: right;\">\n",
       "      <th></th>\n",
       "      <th>FLOTA_NUEVA</th>\n",
       "      <th>ANTIGUEDAD_FLOTA</th>\n",
       "    </tr>\n",
       "  </thead>\n",
       "  <tbody>\n",
       "    <tr>\n",
       "      <th>count</th>\n",
       "      <td>61585.000000</td>\n",
       "      <td>61585.000000</td>\n",
       "    </tr>\n",
       "    <tr>\n",
       "      <th>mean</th>\n",
       "      <td>0.296176</td>\n",
       "      <td>3.768883</td>\n",
       "    </tr>\n",
       "    <tr>\n",
       "      <th>std</th>\n",
       "      <td>0.456573</td>\n",
       "      <td>3.038850</td>\n",
       "    </tr>\n",
       "    <tr>\n",
       "      <th>min</th>\n",
       "      <td>0.000000</td>\n",
       "      <td>0.000000</td>\n",
       "    </tr>\n",
       "    <tr>\n",
       "      <th>25%</th>\n",
       "      <td>0.000000</td>\n",
       "      <td>1.000000</td>\n",
       "    </tr>\n",
       "    <tr>\n",
       "      <th>50%</th>\n",
       "      <td>0.000000</td>\n",
       "      <td>3.482759</td>\n",
       "    </tr>\n",
       "    <tr>\n",
       "      <th>75%</th>\n",
       "      <td>1.000000</td>\n",
       "      <td>5.400000</td>\n",
       "    </tr>\n",
       "    <tr>\n",
       "      <th>max</th>\n",
       "      <td>1.000000</td>\n",
       "      <td>19.000000</td>\n",
       "    </tr>\n",
       "  </tbody>\n",
       "</table>\n",
       "</div>"
      ],
      "text/plain": [
       "        FLOTA_NUEVA  ANTIGUEDAD_FLOTA\n",
       "count  61585.000000      61585.000000\n",
       "mean       0.296176          3.768883\n",
       "std        0.456573          3.038850\n",
       "min        0.000000          0.000000\n",
       "25%        0.000000          1.000000\n",
       "50%        0.000000          3.482759\n",
       "75%        1.000000          5.400000\n",
       "max        1.000000         19.000000"
      ]
     },
     "execution_count": 20,
     "metadata": {},
     "output_type": "execute_result"
    }
   ],
   "source": [
    "df[['FLOTA_NUEVA','ANTIGUEDAD_FLOTA']].describe()"
   ]
  },
  {
   "cell_type": "code",
   "execution_count": 21,
   "metadata": {},
   "outputs": [],
   "source": [
    "# estos valores corresponden a flotas, si estan vacion significa que no tienen flota o bien no tienen flota nueva\n",
    "df['FLOTA_NUEVA'] = df['FLOTA_NUEVA'].replace(np.nan,0)\n",
    "\n",
    "#se debe trabajar en esto\n",
    "df['CAMPANAS_U180D'] = df['CAMPANAS_U180D'].replace(np.nan,0)\n",
    "df['CAMPANAS_U180D_C'] = df['CAMPANAS_U180D_C'].replace(np.nan,0)\n",
    "df['ANTIGUEDAD_FLOTA'] = df['ANTIGUEDAD_FLOTA'].replace(np.nan,0)"
   ]
  },
  {
   "cell_type": "code",
   "execution_count": 22,
   "metadata": {},
   "outputs": [
    {
     "data": {
      "image/png": "[encoded data removed]",
      "text/plain": [
       "<Figure size 432x288 with 1 Axes>"
      ]
     },
     "metadata": {
      "needs_background": "light"
     },
     "output_type": "display_data"
    },
    {
     "data": {
      "text/html": [
       "<div>\n",
       "<style scoped>\n",
       "    .dataframe tbody tr th:only-of-type {\n",
       "        vertical-align: middle;\n",
       "    }\n",
       "\n",
       "    .dataframe tbody tr th {\n",
       "        vertical-align: top;\n",
       "    }\n",
       "\n",
       "    .dataframe thead th {\n",
       "        text-align: right;\n",
       "    }\n",
       "</style>\n",
       "<table border=\"1\" class=\"dataframe\">\n",
       "  <thead>\n",
       "    <tr style=\"text-align: right;\">\n",
       "      <th></th>\n",
       "      <th>REGION</th>\n",
       "    </tr>\n",
       "  </thead>\n",
       "  <tbody>\n",
       "    <tr>\n",
       "      <th>count</th>\n",
       "      <td>106090</td>\n",
       "    </tr>\n",
       "    <tr>\n",
       "      <th>unique</th>\n",
       "      <td>16</td>\n",
       "    </tr>\n",
       "    <tr>\n",
       "      <th>top</th>\n",
       "      <td>Metropolitana de Santiago</td>\n",
       "    </tr>\n",
       "    <tr>\n",
       "      <th>freq</th>\n",
       "      <td>49248</td>\n",
       "    </tr>\n",
       "  </tbody>\n",
       "</table>\n",
       "</div>"
      ],
      "text/plain": [
       "                            REGION\n",
       "count                       106090\n",
       "unique                          16\n",
       "top      Metropolitana de Santiago\n",
       "freq                         49248"
      ]
     },
     "execution_count": 22,
     "metadata": {},
     "output_type": "execute_result"
    }
   ],
   "source": [
    "plt1 = sns.countplot(df['REGION'])\n",
    "plt.show(),\n",
    "df[['REGION']].describe()"
   ]
  },
  {
   "cell_type": "code",
   "execution_count": 23,
   "metadata": {},
   "outputs": [],
   "source": [
    "df['REGION'] = df['REGION'].replace(np.nan,'NA')"
   ]
  },
  {
   "cell_type": "code",
   "execution_count": 30,
   "metadata": {},
   "outputs": [
    {
     "data": {
      "text/html": [
       "<div>\n",
       "<style scoped>\n",
       "    .dataframe tbody tr th:only-of-type {\n",
       "        vertical-align: middle;\n",
       "    }\n",
       "\n",
       "    .dataframe tbody tr th {\n",
       "        vertical-align: top;\n",
       "    }\n",
       "\n",
       "    .dataframe thead th {\n",
       "        text-align: right;\n",
       "    }\n",
       "</style>\n",
       "<table border=\"1\" class=\"dataframe\">\n",
       "  <thead>\n",
       "    <tr style=\"text-align: right;\">\n",
       "      <th></th>\n",
       "      <th>DESC_TIPO_VEHICULO</th>\n",
       "    </tr>\n",
       "  </thead>\n",
       "  <tbody>\n",
       "    <tr>\n",
       "      <th>count</th>\n",
       "      <td>107726</td>\n",
       "    </tr>\n",
       "    <tr>\n",
       "      <th>unique</th>\n",
       "      <td>16</td>\n",
       "    </tr>\n",
       "    <tr>\n",
       "      <th>top</th>\n",
       "      <td>CAMION</td>\n",
       "    </tr>\n",
       "    <tr>\n",
       "      <th>freq</th>\n",
       "      <td>45363</td>\n",
       "    </tr>\n",
       "  </tbody>\n",
       "</table>\n",
       "</div>"
      ],
      "text/plain": [
       "       DESC_TIPO_VEHICULO\n",
       "count              107726\n",
       "unique                 16\n",
       "top                CAMION\n",
       "freq                45363"
      ]
     },
     "execution_count": 30,
     "metadata": {},
     "output_type": "execute_result"
    }
   ],
   "source": [
    "df[['DESC_TIPO_VEHICULO']].describe()"
   ]
  },
  {
   "cell_type": "code",
   "execution_count": 31,
   "metadata": {},
   "outputs": [],
   "source": [
    "df['DESC_TIPO_VEHICULO'] = df['DESC_TIPO_VEHICULO'].replace(np.nan,'NA')"
   ]
  },
  {
   "cell_type": "code",
   "execution_count": 32,
   "metadata": {},
   "outputs": [
    {
     "data": {
      "text/html": [
       "<div>\n",
       "<style scoped>\n",
       "    .dataframe tbody tr th:only-of-type {\n",
       "        vertical-align: middle;\n",
       "    }\n",
       "\n",
       "    .dataframe tbody tr th {\n",
       "        vertical-align: top;\n",
       "    }\n",
       "\n",
       "    .dataframe thead th {\n",
       "        text-align: right;\n",
       "    }\n",
       "</style>\n",
       "<table border=\"1\" class=\"dataframe\">\n",
       "  <thead>\n",
       "    <tr style=\"text-align: right;\">\n",
       "      <th></th>\n",
       "      <th>TIPO_CREDITO_USADO_ANT</th>\n",
       "    </tr>\n",
       "  </thead>\n",
       "  <tbody>\n",
       "    <tr>\n",
       "      <th>count</th>\n",
       "      <td>107726</td>\n",
       "    </tr>\n",
       "    <tr>\n",
       "      <th>unique</th>\n",
       "      <td>8</td>\n",
       "    </tr>\n",
       "    <tr>\n",
       "      <th>top</th>\n",
       "      <td>NA</td>\n",
       "    </tr>\n",
       "    <tr>\n",
       "      <th>freq</th>\n",
       "      <td>52611</td>\n",
       "    </tr>\n",
       "  </tbody>\n",
       "</table>\n",
       "</div>"
      ],
      "text/plain": [
       "       TIPO_CREDITO_USADO_ANT\n",
       "count                  107726\n",
       "unique                      8\n",
       "top                        NA\n",
       "freq                    52611"
      ]
     },
     "execution_count": 32,
     "metadata": {},
     "output_type": "execute_result"
    }
   ],
   "source": [
    "df[['TIPO_CREDITO_USADO_ANT']].describe()"
   ]
  },
  {
   "cell_type": "code",
   "execution_count": 33,
   "metadata": {},
   "outputs": [],
   "source": [
    "df['TIPO_CREDITO_USADO_ANT'] = df['TIPO_CREDITO_USADO_ANT'].replace(np.nan,'NA')"
   ]
  },
  {
   "cell_type": "code",
   "execution_count": 34,
   "metadata": {},
   "outputs": [
    {
     "name": "stdout",
     "output_type": "stream",
     "text": [
      "<class 'pandas.core.frame.DataFrame'>\n",
      "Int64Index: 107726 entries, 31 to 212228\n",
      "Data columns (total 33 columns):\n",
      " #   Column                    Non-Null Count   Dtype  \n",
      "---  ------                    --------------   -----  \n",
      " 0   RUBRO_ECON                107726 non-null  object \n",
      " 1   ANTIGUEDAD_E              107726 non-null  object \n",
      " 2   TRAMO_VENTA               107726 non-null  float64\n",
      " 3   NUM_TRABAJADORES          107726 non-null  float64\n",
      " 4   TOTAL_UTILITARIOS         107726 non-null  float64\n",
      " 5   UTILITARIOS_EXCLUSION     107726 non-null  float64\n",
      " 6   RELEVANTE_BUSES           107726 non-null  float64\n",
      " 7   RELEVANTE_CAMIONES        107726 non-null  float64\n",
      " 8   RELEVANTE_RODADOS         107726 non-null  float64\n",
      " 9   RELEVANTE_VANS            107726 non-null  float64\n",
      " 10  RELEVANTE_CARGA           107726 non-null  float64\n",
      " 11  RELEVANTE_PASAJERA        107726 non-null  float64\n",
      " 12  RELEVANTE_PESADO          107726 non-null  float64\n",
      " 13  RELEVANTE_CAMIONETA       107726 non-null  float64\n",
      " 14  RELEVANTE_MEDIANO         107726 non-null  float64\n",
      " 15  RELEVANTE_OTROS           107726 non-null  float64\n",
      " 16  RELEVANTE_LIVIANO         107726 non-null  float64\n",
      " 17  RELEVANTE_CAMIONETA_DCAB  107726 non-null  float64\n",
      " 18  RELEVANTE_FORESTAL        107726 non-null  float64\n",
      " 19  RELEVANTE_CAMABAJA        107726 non-null  float64\n",
      " 20  MARCA_AGRUPADA            107726 non-null  object \n",
      " 21  FLOTA_NUEVA               107726 non-null  float64\n",
      " 22  ANTIGUEDAD_FLOTA          107726 non-null  float64\n",
      " 23  COMPRO_NUM                107726 non-null  float64\n",
      " 24  CAMPANAS_U180D            107726 non-null  float64\n",
      " 25  CAMPANAS_U180D_C          107726 non-null  float64\n",
      " 26  SERVICIOS_PV              107726 non-null  float64\n",
      " 27  REGION                    107726 non-null  object \n",
      " 28  USADO_NUEVO               107726 non-null  object \n",
      " 29  DESC_TIPO_VEHICULO        107726 non-null  object \n",
      " 30  NUM_OFERTAS_U12M          107726 non-null  float64\n",
      " 31  COMPRAS_REALIZADAS_U12M   107726 non-null  float64\n",
      " 32  TIPO_CREDITO_USADO_ANT    107726 non-null  object \n",
      "dtypes: float64(26), object(7)\n",
      "memory usage: 32.9+ MB\n"
     ]
    }
   ],
   "source": [
    "#cantidad de missing\n",
    "df.info()"
   ]
  },
  {
   "cell_type": "code",
   "execution_count": 35,
   "metadata": {},
   "outputs": [],
   "source": [
    "numericas = [['NUM_TRABAJADORES',\n",
    "'TOTAL_UTILITARIOS',\n",
    "'UTILITARIOS_EXCLUSION',\n",
    "'RELEVANTE_BUSES',\n",
    "'RELEVANTE_CAMIONES',\n",
    "'RELEVANTE_RODADOS',\n",
    "'RELEVANTE_VANS',\n",
    "'RELEVANTE_CARGA',\n",
    "'RELEVANTE_PASAJERA',\n",
    "'RELEVANTE_PESADO',\n",
    "'RELEVANTE_CAMIONETA',\n",
    "'RELEVANTE_MEDIANO',\n",
    "'RELEVANTE_OTROS',\n",
    "'RELEVANTE_LIVIANO',\n",
    "'RELEVANTE_CAMIONETA_DCAB',\n",
    "'RELEVANTE_FORESTAL',\n",
    "'RELEVANTE_CAMABAJA',\n",
    "'FLOTA_NUEVA',\n",
    "'ANTIGUEDAD_FLOTA',\n",
    "'CAMPANAS_U180D',\n",
    "'CAMPANAS_U180D_C',\n",
    "'NUM_OFERTAS_U12M',\n",
    "'COMPRAS_REALIZADAS_U12M',\n",
    "'CAMPANAS_U180D_C',\n",
    "'NUM_OFERTAS_U12M',\n",
    "'COMPRAS_REALIZADAS_U12M']]\n",
    "\n",
    "df1=df\n",
    "\n",
    "for i in numericas:\n",
    "    df1[i]=(df[i]-df1[i].mean())/df1[i].std()"
   ]
  },
  {
   "cell_type": "code",
   "execution_count": 36,
   "metadata": {},
   "outputs": [
    {
     "name": "stdout",
     "output_type": "stream",
     "text": [
      "<class 'pandas.core.frame.DataFrame'>\n",
      "Int64Index: 107726 entries, 31 to 212228\n",
      "Data columns (total 33 columns):\n",
      " #   Column                    Non-Null Count   Dtype  \n",
      "---  ------                    --------------   -----  \n",
      " 0   RUBRO_ECON                107726 non-null  object \n",
      " 1   ANTIGUEDAD_E              107726 non-null  object \n",
      " 2   TRAMO_VENTA               107726 non-null  float64\n",
      " 3   NUM_TRABAJADORES          107726 non-null  float64\n",
      " 4   TOTAL_UTILITARIOS         107726 non-null  float64\n",
      " 5   UTILITARIOS_EXCLUSION     107726 non-null  float64\n",
      " 6   RELEVANTE_BUSES           107726 non-null  float64\n",
      " 7   RELEVANTE_CAMIONES        107726 non-null  float64\n",
      " 8   RELEVANTE_RODADOS         107726 non-null  float64\n",
      " 9   RELEVANTE_VANS            107726 non-null  float64\n",
      " 10  RELEVANTE_CARGA           107726 non-null  float64\n",
      " 11  RELEVANTE_PASAJERA        107726 non-null  float64\n",
      " 12  RELEVANTE_PESADO          107726 non-null  float64\n",
      " 13  RELEVANTE_CAMIONETA       107726 non-null  float64\n",
      " 14  RELEVANTE_MEDIANO         107726 non-null  float64\n",
      " 15  RELEVANTE_OTROS           107726 non-null  float64\n",
      " 16  RELEVANTE_LIVIANO         107726 non-null  float64\n",
      " 17  RELEVANTE_CAMIONETA_DCAB  107726 non-null  float64\n",
      " 18  RELEVANTE_FORESTAL        107726 non-null  float64\n",
      " 19  RELEVANTE_CAMABAJA        107726 non-null  float64\n",
      " 20  MARCA_AGRUPADA            107726 non-null  object \n",
      " 21  FLOTA_NUEVA               107726 non-null  float64\n",
      " 22  ANTIGUEDAD_FLOTA          107726 non-null  float64\n",
      " 23  COMPRO_NUM                107726 non-null  float64\n",
      " 24  CAMPANAS_U180D            107726 non-null  float64\n",
      " 25  CAMPANAS_U180D_C          107726 non-null  float64\n",
      " 26  SERVICIOS_PV              107726 non-null  float64\n",
      " 27  REGION                    107726 non-null  object \n",
      " 28  USADO_NUEVO               107726 non-null  object \n",
      " 29  DESC_TIPO_VEHICULO        107726 non-null  object \n",
      " 30  NUM_OFERTAS_U12M          107726 non-null  float64\n",
      " 31  COMPRAS_REALIZADAS_U12M   107726 non-null  float64\n",
      " 32  TIPO_CREDITO_USADO_ANT    107726 non-null  object \n",
      "dtypes: float64(26), object(7)\n",
      "memory usage: 32.9+ MB\n"
     ]
    }
   ],
   "source": [
    "df1.info()"
   ]
  },
  {
   "cell_type": "markdown",
   "metadata": {},
   "source": [
    "## Exploración\n",
    "Practicamente todos los grupos tienen una baja conversion pero existen diferencias en promedio"
   ]
  },
  {
   "cell_type": "markdown",
   "metadata": {},
   "source": [
    "### Análisis por columna"
   ]
  },
  {
   "cell_type": "markdown",
   "metadata": {},
   "source": [
    " la variable COMPRO_NUM corresponde a una variable indicadora de si compra o no lo ofertado\n",
    "#(1) compra (0) no compra"
   ]
  },
  {
   "cell_type": "code",
   "execution_count": 37,
   "metadata": {},
   "outputs": [
    {
     "data": {
      "text/plain": [
       "6.972318660304848"
      ]
     },
     "execution_count": 37,
     "metadata": {},
     "output_type": "execute_result"
    }
   ],
   "source": [
    "conversion = (sum(df1['COMPRO_NUM'])/len(df1['COMPRO_NUM'].index))*100\n",
    "conversion"
   ]
  },
  {
   "cell_type": "markdown",
   "metadata": {},
   "source": [
    "Una conversion tan baja requiere balance de la información"
   ]
  },
  {
   "cell_type": "markdown",
   "metadata": {},
   "source": [
    "#### RUBRO_ECON"
   ]
  },
  {
   "cell_type": "code",
   "execution_count": 38,
   "metadata": {},
   "outputs": [
    {
     "data": {
      "image/png": "[encoded data removed]",
      "text/plain": [
       "<Figure size 432x288 with 1 Axes>"
      ]
     },
     "metadata": {
      "needs_background": "light"
     },
     "output_type": "display_data"
    }
   ],
   "source": [
    "sns.countplot(x = \"RUBRO_ECON\", hue = \"COMPRO_NUM\", data = df1)\n",
    "xticks(rotation = 90)\n",
    "plt.show()"
   ]
  },
  {
   "cell_type": "code",
   "execution_count": 39,
   "metadata": {},
   "outputs": [
    {
     "data": {
      "text/plain": [
       "RUBRO_ECON\n",
       "A    0.074742\n",
       "B    0.061662\n",
       "C    0.059513\n",
       "D    0.029851\n",
       "E    0.073315\n",
       "F    0.058782\n",
       "G    0.078844\n",
       "H    0.083856\n",
       "I    0.016949\n",
       "J    0.034188\n",
       "K    0.047801\n",
       "L    0.098361\n",
       "M    0.038462\n",
       "N    0.067901\n",
       "O    0.068947\n",
       "P    0.074074\n",
       "Q    0.000000\n",
       "R    0.037037\n",
       "S    0.098446\n",
       "U    0.000000\n",
       "Z    0.052875\n",
       "Name: COMPRO_NUM, dtype: float64"
      ]
     },
     "execution_count": 39,
     "metadata": {},
     "output_type": "execute_result"
    }
   ],
   "source": [
    "df1.groupby('RUBRO_ECON')[\"COMPRO_NUM\"].mean() "
   ]
  },
  {
   "cell_type": "markdown",
   "metadata": {},
   "source": [
    "#### ANTIGUEDAD_E"
   ]
  },
  {
   "cell_type": "code",
   "execution_count": 40,
   "metadata": {},
   "outputs": [
    {
     "data": {
      "image/png": "[encoded data removed]",
      "text/plain": [
       "<Figure size 432x288 with 1 Axes>"
      ]
     },
     "metadata": {
      "needs_background": "light"
     },
     "output_type": "display_data"
    },
    {
     "data": {
      "text/plain": [
       "ANTIGUEDAD_E\n",
       "ENTRE 15 Y 25 A    0.086293\n",
       "ENTRE 5 Y 15 AÑ    0.079040\n",
       "MAYOR A 25 AÑOS    0.056605\n",
       "MENOS DE 5 AÑOS    0.053062\n",
       "Name: COMPRO_NUM, dtype: float64"
      ]
     },
     "execution_count": 40,
     "metadata": {},
     "output_type": "execute_result"
    }
   ],
   "source": [
    "# la variable la optimize desde sas\n",
    "sns.countplot(x = \"ANTIGUEDAD_E\", hue = \"COMPRO_NUM\", data = df1)\n",
    "xticks(rotation = 90)\n",
    "plt.show(),\n",
    "df1.groupby('ANTIGUEDAD_E')[\"COMPRO_NUM\"].mean() \n"
   ]
  },
  {
   "cell_type": "markdown",
   "metadata": {},
   "source": [
    "#### TRAMO_VENTA"
   ]
  },
  {
   "cell_type": "code",
   "execution_count": 41,
   "metadata": {},
   "outputs": [
    {
     "data": {
      "text/plain": [
       "TRAMO_VENTA\n",
       "1.000000     0.068054\n",
       "2.000000     0.020027\n",
       "3.000000     0.026869\n",
       "4.000000     0.042803\n",
       "5.000000     0.056723\n",
       "6.000000     0.061768\n",
       "7.000000     0.064459\n",
       "8.000000     0.070944\n",
       "9.000000     0.082234\n",
       "9.043393     0.053585\n",
       "10.000000    0.099934\n",
       "11.000000    0.102975\n",
       "12.000000    0.070152\n",
       "13.000000    0.061635\n",
       "Name: COMPRO_NUM, dtype: float64"
      ]
     },
     "execution_count": 41,
     "metadata": {},
     "output_type": "execute_result"
    }
   ],
   "source": [
    "df1.groupby('TRAMO_VENTA')[\"COMPRO_NUM\"].mean() "
   ]
  },
  {
   "cell_type": "code",
   "execution_count": 42,
   "metadata": {
    "scrolled": true
   },
   "outputs": [
    {
     "data": {
      "text/plain": [
       "<function matplotlib.pyplot.show(*args, **kw)>"
      ]
     },
     "execution_count": 42,
     "metadata": {},
     "output_type": "execute_result"
    },
    {
     "data": {
      "image/png": "[encoded data removed]",
      "text/plain": [
       "<Figure size 432x288 with 1 Axes>"
      ]
     },
     "metadata": {
      "needs_background": "light"
     },
     "output_type": "display_data"
    }
   ],
   "source": [
    "plt.hist(df1[\"TRAMO_VENTA\"])\n",
    "plt.show"
   ]
  },
  {
   "cell_type": "markdown",
   "metadata": {},
   "source": [
    "### Numero de trabajadores"
   ]
  },
  {
   "cell_type": "code",
   "execution_count": 43,
   "metadata": {},
   "outputs": [
    {
     "data": {
      "text/plain": [
       "<function matplotlib.pyplot.show(*args, **kw)>"
      ]
     },
     "execution_count": 43,
     "metadata": {},
     "output_type": "execute_result"
    },
    {
     "data": {
      "image/png": "[encoded data removed]",
      "text/plain": [
       "<Figure size 432x288 with 1 Axes>"
      ]
     },
     "metadata": {
      "needs_background": "light"
     },
     "output_type": "display_data"
    }
   ],
   "source": [
    "plt.hist(df1[\"NUM_TRABAJADORES\"],bins=200)\n",
    "plt.show\n",
    "\n"
   ]
  },
  {
   "cell_type": "markdown",
   "metadata": {},
   "source": [
    "Existen aoutliers es esta variable"
   ]
  },
  {
   "cell_type": "markdown",
   "metadata": {},
   "source": [
    "### REGION"
   ]
  },
  {
   "cell_type": "code",
   "execution_count": 44,
   "metadata": {},
   "outputs": [
    {
     "data": {
      "image/png": "[encoded data removed]",
      "text/plain": [
       "<Figure size 432x288 with 1 Axes>"
      ]
     },
     "metadata": {
      "needs_background": "light"
     },
     "output_type": "display_data"
    },
    {
     "data": {
      "text/plain": [
       "REGION\n",
       "NA                                     0.051956\n",
       " Antofagasta                           0.047768\n",
       " Arica y Parinacota                    0.030710\n",
       " Atacama                               0.053667\n",
       " Aysén del Gral. C. Ibáñez del Camp    0.038889\n",
       " Biobío                                0.092234\n",
       " Coquimbo                              0.062735\n",
       " La Araucanía                          0.090189\n",
       " Lib. Gral. Bernardo O'Higgins         0.053789\n",
       " Los Lagos                             0.083449\n",
       " Los Ríos                              0.097938\n",
       " Magallanes y Antártica Chilena        0.085197\n",
       " Maule                                 0.097846\n",
       " Metropolitana de Santiago             0.065993\n",
       " Tarapacá                              0.073303\n",
       " Valparaíso                            0.055616\n",
       " Ñuble                                 0.102220\n",
       "Name: COMPRO_NUM, dtype: float64"
      ]
     },
     "execution_count": 44,
     "metadata": {},
     "output_type": "execute_result"
    }
   ],
   "source": [
    "# la variable la optimize desde sas\n",
    "sns.countplot(x = \"REGION\", hue = \"COMPRO_NUM\", data = df1)\n",
    "xticks(rotation = 90)\n",
    "plt.show(),\n",
    "df1.groupby('REGION')[\"COMPRO_NUM\"].mean() \n"
   ]
  },
  {
   "cell_type": "markdown",
   "metadata": {},
   "source": [
    "### Tipo credito usado anteriormente"
   ]
  },
  {
   "cell_type": "code",
   "execution_count": 45,
   "metadata": {},
   "outputs": [
    {
     "data": {
      "image/png": "[encoded data removed]",
      "text/plain": [
       "<Figure size 432x288 with 1 Axes>"
      ]
     },
     "metadata": {
      "needs_background": "light"
     },
     "output_type": "display_data"
    },
    {
     "data": {
      "text/plain": [
       "TIPO_CREDITO_USADO_ANT\n",
       "CHEQUES                           0.133599\n",
       "CONTADO                           0.135369\n",
       "LEASING FINANCIERO                0.110023\n",
       "LETRAS                            0.128741\n",
       "MUTUOS                            0.107955\n",
       "NA                                0.002053\n",
       "ORDEN DE COMPRA                   0.148392\n",
       "PAGARE/O.COMPRA/CREDITO SIMPLE    0.116149\n",
       "Name: COMPRO_NUM, dtype: float64"
      ]
     },
     "execution_count": 45,
     "metadata": {},
     "output_type": "execute_result"
    }
   ],
   "source": [
    "sns.countplot(x = \"TIPO_CREDITO_USADO_ANT\", hue = \"COMPRO_NUM\", data = df1)\n",
    "xticks(rotation = 90)\n",
    "plt.show(),\n",
    "df1.groupby('TIPO_CREDITO_USADO_ANT')[\"COMPRO_NUM\"].mean() "
   ]
  },
  {
   "cell_type": "markdown",
   "metadata": {},
   "source": [
    "Esto tiene poca logica, pero se usa, si el cliente compra antes, tengo el tipo de credito que ocupa, pero voy a agrupar"
   ]
  },
  {
   "cell_type": "code",
   "execution_count": 46,
   "metadata": {},
   "outputs": [],
   "source": [
    "df1['TIPO_CREDITO_USADO_ANT'] = df1['TIPO_CREDITO_USADO_ANT'].replace('PAGARE/O.COMPRA/CREDITO SIMPLE','CREDITO')\n",
    "df1['TIPO_CREDITO_USADO_ANT'] = df1['TIPO_CREDITO_USADO_ANT'].replace('LEASING FINANCIERO','LEASING')"
   ]
  },
  {
   "cell_type": "markdown",
   "metadata": {},
   "source": [
    "### Ofertas realizadas anteriormente"
   ]
  },
  {
   "cell_type": "code",
   "execution_count": 47,
   "metadata": {},
   "outputs": [
    {
     "data": {
      "text/plain": [
       "-0.04098130550696154"
      ]
     },
     "execution_count": 47,
     "metadata": {},
     "output_type": "execute_result"
    },
    {
     "data": {
      "image/png": "[encoded data removed]",
      "text/plain": [
       "<Figure size 432x288 with 1 Axes>"
      ]
     },
     "metadata": {
      "needs_background": "light"
     },
     "output_type": "display_data"
    }
   ],
   "source": [
    "plt.hist(df1[\"NUM_OFERTAS_U12M\"],bins=50)\n",
    "plt.show\n",
    "\n",
    "df1['NUM_OFERTAS_U12M'].corr(df1[\"COMPRO_NUM\"])"
   ]
  },
  {
   "cell_type": "markdown",
   "metadata": {},
   "source": [
    "### Servicios PV"
   ]
  },
  {
   "cell_type": "code",
   "execution_count": 48,
   "metadata": {},
   "outputs": [
    {
     "data": {
      "image/png": "[encoded data removed]",
      "text/plain": [
       "<Figure size 432x288 with 1 Axes>"
      ]
     },
     "metadata": {
      "needs_background": "light"
     },
     "output_type": "display_data"
    },
    {
     "data": {
      "text/plain": [
       "SERVICIOS_PV\n",
       "0.0    0.056651\n",
       "1.0    0.081653\n",
       "Name: COMPRO_NUM, dtype: float64"
      ]
     },
     "execution_count": 48,
     "metadata": {},
     "output_type": "execute_result"
    }
   ],
   "source": [
    "sns.countplot(x = \"SERVICIOS_PV\", hue = \"COMPRO_NUM\", data = df1)\n",
    "xticks(rotation = 90)\n",
    "plt.show(),\n",
    "df1.groupby('SERVICIOS_PV')[\"COMPRO_NUM\"].mean() "
   ]
  },
  {
   "cell_type": "markdown",
   "metadata": {},
   "source": [
    "## Dummificacion de variables"
   ]
  },
  {
   "cell_type": "code",
   "execution_count": 49,
   "metadata": {},
   "outputs": [],
   "source": [
    "def variables_dummy(dataset,variable):\n",
    "    cat_dummies = pd.get_dummies(dataset[variable],prefix=variable)\n",
    "    #.iloc[:,1:]\n",
    "    data_new = dataset.join(cat_dummies)\n",
    "    dataset = data_new.drop([variable],axis=1)\n",
    "    return dataset"
   ]
  },
  {
   "cell_type": "code",
   "execution_count": 50,
   "metadata": {},
   "outputs": [
    {
     "name": "stdout",
     "output_type": "stream",
     "text": [
      "<class 'pandas.core.frame.DataFrame'>\n",
      "Int64Index: 107726 entries, 31 to 212228\n",
      "Data columns (total 33 columns):\n",
      " #   Column                    Non-Null Count   Dtype  \n",
      "---  ------                    --------------   -----  \n",
      " 0   RUBRO_ECON                107726 non-null  object \n",
      " 1   ANTIGUEDAD_E              107726 non-null  object \n",
      " 2   TRAMO_VENTA               107726 non-null  float64\n",
      " 3   NUM_TRABAJADORES          107726 non-null  float64\n",
      " 4   TOTAL_UTILITARIOS         107726 non-null  float64\n",
      " 5   UTILITARIOS_EXCLUSION     107726 non-null  float64\n",
      " 6   RELEVANTE_BUSES           107726 non-null  float64\n",
      " 7   RELEVANTE_CAMIONES        107726 non-null  float64\n",
      " 8   RELEVANTE_RODADOS         107726 non-null  float64\n",
      " 9   RELEVANTE_VANS            107726 non-null  float64\n",
      " 10  RELEVANTE_CARGA           107726 non-null  float64\n",
      " 11  RELEVANTE_PASAJERA        107726 non-null  float64\n",
      " 12  RELEVANTE_PESADO          107726 non-null  float64\n",
      " 13  RELEVANTE_CAMIONETA       107726 non-null  float64\n",
      " 14  RELEVANTE_MEDIANO         107726 non-null  float64\n",
      " 15  RELEVANTE_OTROS           107726 non-null  float64\n",
      " 16  RELEVANTE_LIVIANO         107726 non-null  float64\n",
      " 17  RELEVANTE_CAMIONETA_DCAB  107726 non-null  float64\n",
      " 18  RELEVANTE_FORESTAL        107726 non-null  float64\n",
      " 19  RELEVANTE_CAMABAJA        107726 non-null  float64\n",
      " 20  MARCA_AGRUPADA            107726 non-null  object \n",
      " 21  FLOTA_NUEVA               107726 non-null  float64\n",
      " 22  ANTIGUEDAD_FLOTA          107726 non-null  float64\n",
      " 23  COMPRO_NUM                107726 non-null  float64\n",
      " 24  CAMPANAS_U180D            107726 non-null  float64\n",
      " 25  CAMPANAS_U180D_C          107726 non-null  float64\n",
      " 26  SERVICIOS_PV              107726 non-null  float64\n",
      " 27  REGION                    107726 non-null  object \n",
      " 28  USADO_NUEVO               107726 non-null  object \n",
      " 29  DESC_TIPO_VEHICULO        107726 non-null  object \n",
      " 30  NUM_OFERTAS_U12M          107726 non-null  float64\n",
      " 31  COMPRAS_REALIZADAS_U12M   107726 non-null  float64\n",
      " 32  TIPO_CREDITO_USADO_ANT    107726 non-null  object \n",
      "dtypes: float64(26), object(7)\n",
      "memory usage: 32.9+ MB\n"
     ]
    }
   ],
   "source": [
    "df3=df1\n",
    "\n",
    "df3.info()"
   ]
  },
  {
   "cell_type": "code",
   "execution_count": 52,
   "metadata": {},
   "outputs": [],
   "source": [
    "tabla=variables_dummy(df3,\"ANTIGUEDAD_E\")\n",
    "tabla=variables_dummy(tabla,\"DESC_TIPO_VEHICULO\")\n",
    "tabla=variables_dummy(tabla,\"MARCA_AGRUPADA\")\n",
    "tabla=variables_dummy(tabla,\"RUBRO_ECON\")\n",
    "tabla=variables_dummy(tabla,\"REGION\")\n",
    "#tabla=variables_dummy(tabla,\"COMUNA_CRM\")\n",
    "tabla=variables_dummy(tabla,\"USADO_NUEVO\")\n",
    "tabla=variables_dummy(tabla,\"TIPO_CREDITO_USADO_ANT\")\n"
   ]
  },
  {
   "cell_type": "code",
   "execution_count": 53,
   "metadata": {},
   "outputs": [],
   "source": [
    "y=tabla[\"COMPRO_NUM\"]\n",
    "x=tabla.drop([\"COMPRO_NUM\"], axis=1)"
   ]
  },
  {
   "cell_type": "code",
   "execution_count": 54,
   "metadata": {},
   "outputs": [
    {
     "name": "stdout",
     "output_type": "stream",
     "text": [
      "<class 'pandas.core.frame.DataFrame'>\n",
      "Int64Index: 107726 entries, 31 to 212228\n",
      "Data columns (total 97 columns):\n",
      " #   Column                                         Non-Null Count   Dtype  \n",
      "---  ------                                         --------------   -----  \n",
      " 0   TRAMO_VENTA                                    107726 non-null  float64\n",
      " 1   NUM_TRABAJADORES                               107726 non-null  float64\n",
      " 2   TOTAL_UTILITARIOS                              107726 non-null  float64\n",
      " 3   UTILITARIOS_EXCLUSION                          107726 non-null  float64\n",
      " 4   RELEVANTE_BUSES                                107726 non-null  float64\n",
      " 5   RELEVANTE_CAMIONES                             107726 non-null  float64\n",
      " 6   RELEVANTE_RODADOS                              107726 non-null  float64\n",
      " 7   RELEVANTE_VANS                                 107726 non-null  float64\n",
      " 8   RELEVANTE_CARGA                                107726 non-null  float64\n",
      " 9   RELEVANTE_PASAJERA                             107726 non-null  float64\n",
      " 10  RELEVANTE_PESADO                               107726 non-null  float64\n",
      " 11  RELEVANTE_CAMIONETA                            107726 non-null  float64\n",
      " 12  RELEVANTE_MEDIANO                              107726 non-null  float64\n",
      " 13  RELEVANTE_OTROS                                107726 non-null  float64\n",
      " 14  RELEVANTE_LIVIANO                              107726 non-null  float64\n",
      " 15  RELEVANTE_CAMIONETA_DCAB                       107726 non-null  float64\n",
      " 16  RELEVANTE_FORESTAL                             107726 non-null  float64\n",
      " 17  RELEVANTE_CAMABAJA                             107726 non-null  float64\n",
      " 18  FLOTA_NUEVA                                    107726 non-null  float64\n",
      " 19  ANTIGUEDAD_FLOTA                               107726 non-null  float64\n",
      " 20  CAMPANAS_U180D                                 107726 non-null  float64\n",
      " 21  CAMPANAS_U180D_C                               107726 non-null  float64\n",
      " 22  SERVICIOS_PV                                   107726 non-null  float64\n",
      " 23  NUM_OFERTAS_U12M                               107726 non-null  float64\n",
      " 24  COMPRAS_REALIZADAS_U12M                        107726 non-null  float64\n",
      " 25  ANTIGUEDAD_E_ENTRE 15 Y 25 A                   107726 non-null  uint8  \n",
      " 26  ANTIGUEDAD_E_ENTRE 5 Y 15 AÑ                   107726 non-null  uint8  \n",
      " 27  ANTIGUEDAD_E_MAYOR A 25 AÑOS                   107726 non-null  uint8  \n",
      " 28  ANTIGUEDAD_E_MENOS DE 5 AÑOS                   107726 non-null  uint8  \n",
      " 29  DESC_TIPO_VEHICULO_AMBULANCIA                  107726 non-null  uint8  \n",
      " 30  DESC_TIPO_VEHICULO_BUS                         107726 non-null  uint8  \n",
      " 31  DESC_TIPO_VEHICULO_CAMION                      107726 non-null  uint8  \n",
      " 32  DESC_TIPO_VEHICULO_CAMION USO FAENERO          107726 non-null  uint8  \n",
      " 33  DESC_TIPO_VEHICULO_CAMIONETA                   107726 non-null  uint8  \n",
      " 34  DESC_TIPO_VEHICULO_CARRO BOMBA                 107726 non-null  uint8  \n",
      " 35  DESC_TIPO_VEHICULO_CHASIS                      107726 non-null  uint8  \n",
      " 36  DESC_TIPO_VEHICULO_CHASIS CABINA               107726 non-null  uint8  \n",
      " 37  DESC_TIPO_VEHICULO_CHASIS CABINADO             107726 non-null  uint8  \n",
      " 38  DESC_TIPO_VEHICULO_FURGON                      107726 non-null  uint8  \n",
      " 39  DESC_TIPO_VEHICULO_GRUA                        107726 non-null  uint8  \n",
      " 40  DESC_TIPO_VEHICULO_MINIBUS                     107726 non-null  uint8  \n",
      " 41  DESC_TIPO_VEHICULO_STATION WAGON               107726 non-null  uint8  \n",
      " 42  DESC_TIPO_VEHICULO_TRACTOCAMION                107726 non-null  uint8  \n",
      " 43  DESC_TIPO_VEHICULO_TRACTOCAMION USO CARRETERO  107726 non-null  uint8  \n",
      " 44  DESC_TIPO_VEHICULO_TRACTOR                     107726 non-null  uint8  \n",
      " 45  MARCA_AGRUPADA_FREIGHTLINER                    107726 non-null  uint8  \n",
      " 46  MARCA_AGRUPADA_MERCEDES-BENZ                   107726 non-null  uint8  \n",
      " 47  MARCA_AGRUPADA_MITSUBISHI-FUSO                 107726 non-null  uint8  \n",
      " 48  MARCA_AGRUPADA_WESTERN STAR                    107726 non-null  uint8  \n",
      " 49  RUBRO_ECON_A                                   107726 non-null  uint8  \n",
      " 50  RUBRO_ECON_B                                   107726 non-null  uint8  \n",
      " 51  RUBRO_ECON_C                                   107726 non-null  uint8  \n",
      " 52  RUBRO_ECON_D                                   107726 non-null  uint8  \n",
      " 53  RUBRO_ECON_E                                   107726 non-null  uint8  \n",
      " 54  RUBRO_ECON_F                                   107726 non-null  uint8  \n",
      " 55  RUBRO_ECON_G                                   107726 non-null  uint8  \n",
      " 56  RUBRO_ECON_H                                   107726 non-null  uint8  \n",
      " 57  RUBRO_ECON_I                                   107726 non-null  uint8  \n",
      " 58  RUBRO_ECON_J                                   107726 non-null  uint8  \n",
      " 59  RUBRO_ECON_K                                   107726 non-null  uint8  \n",
      " 60  RUBRO_ECON_L                                   107726 non-null  uint8  \n",
      " 61  RUBRO_ECON_M                                   107726 non-null  uint8  \n",
      " 62  RUBRO_ECON_N                                   107726 non-null  uint8  \n",
      " 63  RUBRO_ECON_O                                   107726 non-null  uint8  \n",
      " 64  RUBRO_ECON_P                                   107726 non-null  uint8  \n",
      " 65  RUBRO_ECON_Q                                   107726 non-null  uint8  \n",
      " 66  RUBRO_ECON_R                                   107726 non-null  uint8  \n",
      " 67  RUBRO_ECON_S                                   107726 non-null  uint8  \n",
      " 68  RUBRO_ECON_U                                   107726 non-null  uint8  \n",
      " 69  RUBRO_ECON_Z                                   107726 non-null  uint8  \n",
      " 70  REGION_NA                                      107726 non-null  uint8  \n",
      " 71  REGION_ Antofagasta                            107726 non-null  uint8  \n",
      " 72  REGION_ Arica y Parinacota                     107726 non-null  uint8  \n",
      " 73  REGION_ Atacama                                107726 non-null  uint8  \n",
      " 74  REGION_ Aysén del Gral. C. Ibáñez del Camp     107726 non-null  uint8  \n",
      " 75  REGION_ Biobío                                 107726 non-null  uint8  \n",
      " 76  REGION_ Coquimbo                               107726 non-null  uint8  \n",
      " 77  REGION_ La Araucanía                           107726 non-null  uint8  \n",
      " 78  REGION_ Lib. Gral. Bernardo O'Higgins          107726 non-null  uint8  \n",
      " 79  REGION_ Los Lagos                              107726 non-null  uint8  \n",
      " 80  REGION_ Los Ríos                               107726 non-null  uint8  \n",
      " 81  REGION_ Magallanes y Antártica Chilena         107726 non-null  uint8  \n",
      " 82  REGION_ Maule                                  107726 non-null  uint8  \n",
      " 83  REGION_ Metropolitana de Santiago              107726 non-null  uint8  \n",
      " 84  REGION_ Tarapacá                               107726 non-null  uint8  \n",
      " 85  REGION_ Valparaíso                             107726 non-null  uint8  \n",
      " 86  REGION_ Ñuble                                  107726 non-null  uint8  \n",
      " 87  USADO_NUEVO_Nuevo                              107726 non-null  uint8  \n",
      " 88  USADO_NUEVO_Usado                              107726 non-null  uint8  \n",
      " 89  TIPO_CREDITO_USADO_ANT_CHEQUES                 107726 non-null  uint8  \n",
      " 90  TIPO_CREDITO_USADO_ANT_CONTADO                 107726 non-null  uint8  \n",
      " 91  TIPO_CREDITO_USADO_ANT_CREDITO                 107726 non-null  uint8  \n",
      " 92  TIPO_CREDITO_USADO_ANT_LEASING                 107726 non-null  uint8  \n",
      " 93  TIPO_CREDITO_USADO_ANT_LETRAS                  107726 non-null  uint8  \n",
      " 94  TIPO_CREDITO_USADO_ANT_MUTUOS                  107726 non-null  uint8  \n",
      " 95  TIPO_CREDITO_USADO_ANT_NA                      107726 non-null  uint8  \n",
      " 96  TIPO_CREDITO_USADO_ANT_ORDEN DE COMPRA         107726 non-null  uint8  \n",
      "dtypes: float64(25), uint8(72)\n",
      "memory usage: 33.8 MB\n"
     ]
    }
   ],
   "source": [
    "x.info()"
   ]
  },
  {
   "cell_type": "markdown",
   "metadata": {},
   "source": [
    "# Inicio de modelamiento"
   ]
  },
  {
   "cell_type": "markdown",
   "metadata": {},
   "source": [
    "### Datos entrenamiento y testeo"
   ]
  },
  {
   "cell_type": "markdown",
   "metadata": {},
   "source": [
    "como esta desbalanceado, primero divido la muestra pero por estratos"
   ]
  },
  {
   "cell_type": "code",
   "execution_count": 55,
   "metadata": {},
   "outputs": [],
   "source": [
    "x_res,x_test,y_res,y_test=train_test_split(x,y,test_size=0.2,random_state=1010)"
   ]
  },
  {
   "cell_type": "markdown",
   "metadata": {},
   "source": [
    "Revisamos como quedan las separaciones"
   ]
  },
  {
   "cell_type": "code",
   "execution_count": 56,
   "metadata": {},
   "outputs": [
    {
     "data": {
      "text/plain": [
       "(0.06919238802506382, 0.07184628237259816, (86180,), (21546,))"
      ]
     },
     "execution_count": 56,
     "metadata": {},
     "output_type": "execute_result"
    }
   ],
   "source": [
    "y_res.mean(),y_test.mean(),y_res.shape,y_test.shape"
   ]
  },
  {
   "cell_type": "markdown",
   "metadata": {},
   "source": [
    "Tenemos un problema con datos desbalanceados, por lo que revisemos como se comporta este desbalance utilizando un modelo sde random forest como base inicial"
   ]
  },
  {
   "cell_type": "code",
   "execution_count": 57,
   "metadata": {},
   "outputs": [],
   "source": [
    "modelo_rfc = RandomForestClassifier().fit(x_res, y_res)"
   ]
  },
  {
   "cell_type": "code",
   "execution_count": 58,
   "metadata": {
    "scrolled": true
   },
   "outputs": [
    {
     "name": "stdout",
     "output_type": "stream",
     "text": [
      "Matriz de confusion:\n",
      "                   Prediccion falso  Prediccion verdadero\n",
      "Actual falsa                 19351                   647\n",
      "Actual verdadera              1327                   221\n"
     ]
    },
    {
     "data": {
      "text/html": [
       "<div>\n",
       "<style scoped>\n",
       "    .dataframe tbody tr th:only-of-type {\n",
       "        vertical-align: middle;\n",
       "    }\n",
       "\n",
       "    .dataframe tbody tr th {\n",
       "        vertical-align: top;\n",
       "    }\n",
       "\n",
       "    .dataframe thead th {\n",
       "        text-align: right;\n",
       "    }\n",
       "</style>\n",
       "<table border=\"1\" class=\"dataframe\">\n",
       "  <thead>\n",
       "    <tr style=\"text-align: right;\">\n",
       "      <th></th>\n",
       "      <th>Entrenamiento</th>\n",
       "      <th>Testeo</th>\n",
       "    </tr>\n",
       "  </thead>\n",
       "  <tbody>\n",
       "    <tr>\n",
       "      <th>Accuracy</th>\n",
       "      <td>0.978</td>\n",
       "      <td>0.908</td>\n",
       "    </tr>\n",
       "    <tr>\n",
       "      <th>recall</th>\n",
       "      <td>0.742</td>\n",
       "      <td>0.142</td>\n",
       "    </tr>\n",
       "    <tr>\n",
       "      <th>roc</th>\n",
       "      <td>0.994</td>\n",
       "      <td>0.797</td>\n",
       "    </tr>\n",
       "    <tr>\n",
       "      <th>f1</th>\n",
       "      <td>0.825</td>\n",
       "      <td>0.182</td>\n",
       "    </tr>\n",
       "  </tbody>\n",
       "</table>\n",
       "</div>"
      ],
      "text/plain": [
       "          Entrenamiento  Testeo\n",
       "Accuracy          0.978   0.908\n",
       "recall            0.742   0.142\n",
       "roc               0.994   0.797\n",
       "f1                0.825   0.182"
      ]
     },
     "execution_count": 58,
     "metadata": {},
     "output_type": "execute_result"
    }
   ],
   "source": [
    "#evaluacion del modelo\n",
    "mediciones(x_res,y_res,x_test,y_test,modelo_rfc)   "
   ]
  },
  {
   "cell_type": "markdown",
   "metadata": {},
   "source": [
    "El recall es muy bajo y se ve afectado el f1, es necesario balancear los datos"
   ]
  },
  {
   "cell_type": "markdown",
   "metadata": {},
   "source": [
    "### Balanceo de datos de entrenamiento"
   ]
  },
  {
   "cell_type": "markdown",
   "metadata": {},
   "source": [
    "Tengo la opcion de bajar o subir la muestra, a modo de no perder informacion se sube"
   ]
  },
  {
   "cell_type": "code",
   "execution_count": 59,
   "metadata": {},
   "outputs": [
    {
     "name": "stderr",
     "output_type": "stream",
     "text": [
      "Using TensorFlow backend.\n"
     ]
    }
   ],
   "source": [
    "from imblearn.under_sampling import NearMiss\n",
    "from imblearn.over_sampling import SMOTE \n",
    "nm = SMOTE(random_state = 10101) \n",
    "#nm = NearMiss(random_state = 10101)"
   ]
  },
  {
   "cell_type": "code",
   "execution_count": 60,
   "metadata": {},
   "outputs": [],
   "source": [
    "x_train,y_train=nm.fit_resample(x_res,y_res)"
   ]
  },
  {
   "cell_type": "markdown",
   "metadata": {},
   "source": [
    "Reviso dimenciones nuevamente"
   ]
  },
  {
   "cell_type": "code",
   "execution_count": 61,
   "metadata": {},
   "outputs": [
    {
     "data": {
      "text/plain": [
       "((86180,), 0.06919238802506382, (160434,), 0.5)"
      ]
     },
     "execution_count": 61,
     "metadata": {},
     "output_type": "execute_result"
    }
   ],
   "source": [
    "y_res.shape, y_res.mean(), y_train.shape,y_train.mean()"
   ]
  },
  {
   "cell_type": "markdown",
   "metadata": {},
   "source": [
    "paso de 151 mil datos de entrenamiento a 280, mediante resample"
   ]
  },
  {
   "cell_type": "markdown",
   "metadata": {},
   "source": [
    "# Modelamiento con datos balanceados\n",
    "\n",
    "La estrategia en este caso es utilizar regresion logistica, en el caso de obtener un pobre ajuste, se utilitan varios modelos para probar"
   ]
  },
  {
   "cell_type": "markdown",
   "metadata": {},
   "source": [
    "## Regresion logistica como modelo base\n",
    "\n",
    "Utilizo regresion loistica y una busqueda por gridsearch para encontrar mejores hiperparametros"
   ]
  },
  {
   "cell_type": "code",
   "execution_count": 62,
   "metadata": {},
   "outputs": [],
   "source": [
    "from sklearn.linear_model import LogisticRegression\n",
    "from sklearn.model_selection import GridSearchCV\n",
    "\n",
    "\n",
    "grid={\"C\":np.logspace(-3,3,3), \"penalty\":[\"l2\"]}\n",
    "\n",
    "logreg=LogisticRegression()\n",
    "\n",
    "logreg_cv=GridSearchCV(logreg,grid,cv=5,scoring='f1',verbose=0)"
   ]
  },
  {
   "cell_type": "code",
   "execution_count": 63,
   "metadata": {
    "scrolled": true
   },
   "outputs": [
    {
     "data": {
      "text/plain": [
       "GridSearchCV(cv=5, error_score=nan,\n",
       "             estimator=LogisticRegression(C=1.0, class_weight=None, dual=False,\n",
       "                                          fit_intercept=True,\n",
       "                                          intercept_scaling=1, l1_ratio=None,\n",
       "                                          max_iter=100, multi_class='auto',\n",
       "                                          n_jobs=None, penalty='l2',\n",
       "                                          random_state=None, solver='lbfgs',\n",
       "                                          tol=0.0001, verbose=0,\n",
       "                                          warm_start=False),\n",
       "             iid='deprecated', n_jobs=None,\n",
       "             param_grid={'C': array([1.e-03, 1.e+00, 1.e+03]),\n",
       "                         'penalty': ['l2']},\n",
       "             pre_dispatch='2*n_jobs', refit=True, return_train_score=False,\n",
       "             scoring='f1', verbose=0)"
      ]
     },
     "execution_count": 63,
     "metadata": {},
     "output_type": "execute_result"
    }
   ],
   "source": [
    "logreg_cv.fit(x_train,y_train)"
   ]
  },
  {
   "cell_type": "code",
   "execution_count": 64,
   "metadata": {
    "scrolled": true
   },
   "outputs": [
    {
     "data": {
      "text/plain": [
       "{'C': 1.0, 'penalty': 'l2'}"
      ]
     },
     "execution_count": 64,
     "metadata": {},
     "output_type": "execute_result"
    }
   ],
   "source": [
    "logreg_cv.best_params_"
   ]
  },
  {
   "cell_type": "code",
   "execution_count": 65,
   "metadata": {},
   "outputs": [
    {
     "data": {
      "text/plain": [
       "LogisticRegression(C=1, class_weight=None, dual=False, fit_intercept=True,\n",
       "                   intercept_scaling=1, l1_ratio=None, max_iter=100,\n",
       "                   multi_class='auto', n_jobs=None, penalty='l2',\n",
       "                   random_state=None, solver='lbfgs', tol=0.0001, verbose=0,\n",
       "                   warm_start=False)"
      ]
     },
     "execution_count": 65,
     "metadata": {},
     "output_type": "execute_result"
    }
   ],
   "source": [
    "logreg=LogisticRegression(C=1,penalty='l2')\n",
    "logreg.fit(x_train,y_train)"
   ]
  },
  {
   "cell_type": "code",
   "execution_count": 66,
   "metadata": {
    "scrolled": false
   },
   "outputs": [
    {
     "name": "stdout",
     "output_type": "stream",
     "text": [
      "Matriz de confusion:\n",
      "                   Prediccion falso  Prediccion verdadero\n",
      "Actual falsa                 16393                  3605\n",
      "Actual verdadera               799                   749\n"
     ]
    },
    {
     "data": {
      "text/html": [
       "<div>\n",
       "<style scoped>\n",
       "    .dataframe tbody tr th:only-of-type {\n",
       "        vertical-align: middle;\n",
       "    }\n",
       "\n",
       "    .dataframe tbody tr th {\n",
       "        vertical-align: top;\n",
       "    }\n",
       "\n",
       "    .dataframe thead th {\n",
       "        text-align: right;\n",
       "    }\n",
       "</style>\n",
       "<table border=\"1\" class=\"dataframe\">\n",
       "  <thead>\n",
       "    <tr style=\"text-align: right;\">\n",
       "      <th></th>\n",
       "      <th>Entrenamiento</th>\n",
       "      <th>Testeo</th>\n",
       "    </tr>\n",
       "  </thead>\n",
       "  <tbody>\n",
       "    <tr>\n",
       "      <th>Accuracy</th>\n",
       "      <td>0.836</td>\n",
       "      <td>0.795</td>\n",
       "    </tr>\n",
       "    <tr>\n",
       "      <th>recall</th>\n",
       "      <td>0.849</td>\n",
       "      <td>0.483</td>\n",
       "    </tr>\n",
       "    <tr>\n",
       "      <th>roc</th>\n",
       "      <td>0.935</td>\n",
       "      <td>0.793</td>\n",
       "    </tr>\n",
       "    <tr>\n",
       "      <th>f1</th>\n",
       "      <td>0.838</td>\n",
       "      <td>0.253</td>\n",
       "    </tr>\n",
       "  </tbody>\n",
       "</table>\n",
       "</div>"
      ],
      "text/plain": [
       "          Entrenamiento  Testeo\n",
       "Accuracy          0.836   0.795\n",
       "recall            0.849   0.483\n",
       "roc               0.935   0.793\n",
       "f1                0.838   0.253"
      ]
     },
     "execution_count": 66,
     "metadata": {},
     "output_type": "execute_result"
    }
   ],
   "source": [
    "mediciones(x_train,y_train,x_test,y_test,logreg)   "
   ]
  },
  {
   "cell_type": "markdown",
   "metadata": {},
   "source": [
    "Se aprecia un claro bajo ajuste, veamos si aplicamos otros modelos podemos mejorar esto (al menos el recall y press deben estar sobre 50%)"
   ]
  },
  {
   "cell_type": "markdown",
   "metadata": {},
   "source": [
    "## Multi-modelos"
   ]
  },
  {
   "cell_type": "markdown",
   "metadata": {},
   "source": [
    "Para evita probar uno a uno los modelos, se seleccionan varios y luego se verifica los con mejor rendimiento para hacer una busqueda ampliada de los mejores con gridsearch"
   ]
  },
  {
   "cell_type": "code",
   "execution_count": 67,
   "metadata": {
    "scrolled": false
   },
   "outputs": [
    {
     "name": "stdout",
     "output_type": "stream",
     "text": [
      "\n",
      " modelo: LR\n",
      "          Testeo\n",
      "Accuracy   0.795\n",
      "recall     0.483\n",
      "f1 score: 0.253\n",
      "roc-auc: 0.7934177300158956\n",
      "[[16393  3605]\n",
      " [  799   749]]\n",
      "\n",
      " modelo: SVC\n",
      "          Testeo\n",
      "Accuracy   0.517\n",
      "recall     0.572\n",
      "f1 score: 0.145\n",
      "[[10258  9740]\n",
      " [  662   886]]\n",
      "\n",
      " modelo: RF\n",
      "          Testeo\n",
      "Accuracy   0.897\n",
      "recall     0.218\n",
      "f1 score: 0.234\n",
      "roc-auc: 0.8035044460518401\n",
      "[[18989  1009]\n",
      " [ 1209   339]]\n",
      "\n",
      " modelo: TREE\n",
      "          Testeo\n",
      "Accuracy   0.905\n",
      "recall     0.299\n",
      "f1 score: 0.312\n",
      "roc-auc: 0.6498385626676362\n",
      "[[19038   960]\n",
      " [ 1084   464]]\n",
      "\n",
      " modelo: MLP\n",
      "          Testeo\n",
      "Accuracy   0.870\n",
      "recall     0.277\n",
      "f1 score: 0.235\n",
      "roc-auc: 0.789767025798187\n",
      "[[18319  1679]\n",
      " [ 1118   430]]\n",
      "\n",
      " modelo: GBOOST\n",
      "          Testeo\n",
      "Accuracy   0.593\n",
      "recall     0.950\n",
      "f1 score: 0.251\n",
      "roc-auc: 0.7561292304941089\n",
      "[[11322  8676]\n",
      " [   77  1471]]\n",
      "\n",
      " modelo: ADABOOST\n",
      "          Testeo\n",
      "Accuracy   0.689\n",
      "recall     0.752\n",
      "f1 score: 0.258\n",
      "roc-auc: 0.7956587163884348\n",
      "[[13681  6317]\n",
      " [  383  1165]]\n",
      "\n",
      " modelo: GRBOOST\n",
      "          Testeo\n",
      "Accuracy   0.702\n",
      "recall     0.736\n",
      "f1 score: 0.262\n",
      "roc-auc: 0.8075272482028565\n",
      "[[13995  6003]\n",
      " [  408  1140]]\n"
     ]
    }
   ],
   "source": [
    "from sklearn import svm\n",
    "from sklearn.linear_model import LogisticRegression\n",
    "from sklearn.ensemble import RandomForestClassifier,AdaBoostClassifier,VotingClassifier,StackingClassifier,GradientBoostingClassifier\n",
    "from sklearn.neural_network import MLPClassifier\n",
    "from sklearn.discriminant_analysis import LinearDiscriminantAnalysis\n",
    "from sklearn.neighbors import KNeighborsClassifier\n",
    "from sklearn.naive_bayes import GaussianNB\n",
    "from sklearn.tree import DecisionTreeClassifier          \n",
    "              \n",
    "\n",
    "modelos = [[\"LR\",\"SVC\",\"RF\",\"TREE\",\"MLP\",\"GBOOST\",\"ADABOOST\",\"GRBOOST\"],\n",
    "           [\n",
    "            LogisticRegression(C=1,penalty='l2'),  \n",
    "            svm.SVC(max_iter=50),\n",
    "            RandomForestClassifier(),\n",
    "            DecisionTreeClassifier(),\n",
    "            MLPClassifier(),\n",
    "            GaussianNB(),\n",
    "            AdaBoostClassifier(),\n",
    "            GradientBoostingClassifier()]\n",
    "          ]\n",
    "warnings.filterwarnings(\"ignore\")\n",
    "\n",
    "resultados=[]\n",
    "predicion=[]\n",
    "error=[]\n",
    "precision=[]\n",
    "a=0\n",
    "for i in modelos[1]:\n",
    "    ajuste=i.fit(x_train,y_train)\n",
    "    resultados.append(ajuste)\n",
    "    predicion.append(ajuste.predict(x_test))\n",
    "    er = i.score(x_test,y_test)\n",
    "    error.append(er)\n",
    "    precision.append(ajuste.score(x_test , y_test))\n",
    "    print(\"\\n modelo:\",modelos[0][a])\n",
    "    print(mediciones2(x_train,y_train,x_test,y_test,ajuste))\n",
    "    print(\"f1 score:\",int(f1_score(y_test,ajuste.predict(x_test))*1000)/1000)\n",
    "    if modelos[0][a]!='SVC':\n",
    "        print(\"roc-auc:\", roc_auc_score(y_test,ajuste.predict_proba(x_test)[:,1]))\n",
    "    print(confusion_matrix(y_test,ajuste.predict(x_test)))\n",
    "    a=a+1"
   ]
  },
  {
   "cell_type": "markdown",
   "metadata": {},
   "source": [
    "Siguiente paso es usar gridsearch para buscar la mejor version de cada uno usando como referencia para los mejores en f1 (arbol de decision, random forest, mlp, adaboost)"
   ]
  },
  {
   "cell_type": "markdown",
   "metadata": {},
   "source": [
    "## Tree Clasificador Tunning"
   ]
  },
  {
   "cell_type": "code",
   "execution_count": 68,
   "metadata": {},
   "outputs": [
    {
     "name": "stdout",
     "output_type": "stream",
     "text": [
      "Fitting 3 folds for each of 182 candidates, totalling 546 fits\n"
     ]
    },
    {
     "name": "stderr",
     "output_type": "stream",
     "text": [
      "[Parallel(n_jobs=-1)]: Using backend LokyBackend with 8 concurrent workers.\n",
      "[Parallel(n_jobs=-1)]: Done   2 tasks      | elapsed:    3.4s\n",
      "[Parallel(n_jobs=-1)]: Done   9 tasks      | elapsed:    4.6s\n",
      "[Parallel(n_jobs=-1)]: Done  16 tasks      | elapsed:    5.0s\n",
      "[Parallel(n_jobs=-1)]: Done  25 tasks      | elapsed:    6.8s\n",
      "[Parallel(n_jobs=-1)]: Done  34 tasks      | elapsed:    8.2s\n",
      "[Parallel(n_jobs=-1)]: Done  45 tasks      | elapsed:   10.0s\n",
      "[Parallel(n_jobs=-1)]: Done  56 tasks      | elapsed:   12.3s\n",
      "[Parallel(n_jobs=-1)]: Done  69 tasks      | elapsed:   14.5s\n",
      "[Parallel(n_jobs=-1)]: Done  82 tasks      | elapsed:   17.0s\n",
      "[Parallel(n_jobs=-1)]: Done  97 tasks      | elapsed:   20.5s\n",
      "[Parallel(n_jobs=-1)]: Done 112 tasks      | elapsed:   24.0s\n",
      "[Parallel(n_jobs=-1)]: Done 129 tasks      | elapsed:   28.4s\n",
      "[Parallel(n_jobs=-1)]: Done 146 tasks      | elapsed:   32.5s\n",
      "[Parallel(n_jobs=-1)]: Done 165 tasks      | elapsed:   37.9s\n",
      "[Parallel(n_jobs=-1)]: Done 184 tasks      | elapsed:   43.8s\n",
      "[Parallel(n_jobs=-1)]: Done 205 tasks      | elapsed:   50.2s\n",
      "[Parallel(n_jobs=-1)]: Done 226 tasks      | elapsed:   57.2s\n",
      "[Parallel(n_jobs=-1)]: Done 249 tasks      | elapsed:  1.1min\n",
      "[Parallel(n_jobs=-1)]: Done 272 tasks      | elapsed:  1.2min\n",
      "[Parallel(n_jobs=-1)]: Done 297 tasks      | elapsed:  1.3min\n",
      "[Parallel(n_jobs=-1)]: Done 322 tasks      | elapsed:  1.4min\n",
      "[Parallel(n_jobs=-1)]: Done 349 tasks      | elapsed:  1.4min\n",
      "[Parallel(n_jobs=-1)]: Done 376 tasks      | elapsed:  1.5min\n",
      "[Parallel(n_jobs=-1)]: Done 405 tasks      | elapsed:  1.6min\n",
      "[Parallel(n_jobs=-1)]: Done 434 tasks      | elapsed:  1.8min\n",
      "[Parallel(n_jobs=-1)]: Done 465 tasks      | elapsed:  1.9min\n",
      "[Parallel(n_jobs=-1)]: Done 496 tasks      | elapsed:  2.1min\n",
      "[Parallel(n_jobs=-1)]: Done 529 tasks      | elapsed:  2.3min\n",
      "[Parallel(n_jobs=-1)]: Done 546 out of 546 | elapsed:  2.4min finished\n"
     ]
    }
   ],
   "source": [
    "from sklearn.tree import DecisionTreeClassifier\n",
    "from sklearn.model_selection import GridSearchCV\n",
    "\n",
    "tree_params = {\"criterion\": [\"gini\", \"entropy\"], \"max_depth\": list(range(1,8,1)), \n",
    "              \"min_samples_leaf\": list(range(5,18,1))}\n",
    "\n",
    "tree_cv = GridSearchCV(DecisionTreeClassifier(), tree_params, cv=3,n_jobs=-1,verbose=10).fit(x_train,y_train)\n"
   ]
  },
  {
   "cell_type": "code",
   "execution_count": 69,
   "metadata": {},
   "outputs": [
    {
     "name": "stdout",
     "output_type": "stream",
     "text": [
      "Matriz de confusion:\n",
      "                   Prediccion falso  Prediccion verdadero\n",
      "Actual falsa                 11972                  8026\n",
      "Actual verdadera               180                  1368\n"
     ]
    },
    {
     "data": {
      "text/html": [
       "<div>\n",
       "<style scoped>\n",
       "    .dataframe tbody tr th:only-of-type {\n",
       "        vertical-align: middle;\n",
       "    }\n",
       "\n",
       "    .dataframe tbody tr th {\n",
       "        vertical-align: top;\n",
       "    }\n",
       "\n",
       "    .dataframe thead th {\n",
       "        text-align: right;\n",
       "    }\n",
       "</style>\n",
       "<table border=\"1\" class=\"dataframe\">\n",
       "  <thead>\n",
       "    <tr style=\"text-align: right;\">\n",
       "      <th></th>\n",
       "      <th>Entrenamiento</th>\n",
       "      <th>Testeo</th>\n",
       "    </tr>\n",
       "  </thead>\n",
       "  <tbody>\n",
       "    <tr>\n",
       "      <th>Accuracy</th>\n",
       "      <td>0.780</td>\n",
       "      <td>0.619</td>\n",
       "    </tr>\n",
       "    <tr>\n",
       "      <th>recall</th>\n",
       "      <td>0.958</td>\n",
       "      <td>0.883</td>\n",
       "    </tr>\n",
       "    <tr>\n",
       "      <th>roc</th>\n",
       "      <td>0.850</td>\n",
       "      <td>0.784</td>\n",
       "    </tr>\n",
       "    <tr>\n",
       "      <th>f1</th>\n",
       "      <td>0.813</td>\n",
       "      <td>0.250</td>\n",
       "    </tr>\n",
       "  </tbody>\n",
       "</table>\n",
       "</div>"
      ],
      "text/plain": [
       "          Entrenamiento  Testeo\n",
       "Accuracy          0.780   0.619\n",
       "recall            0.958   0.883\n",
       "roc               0.850   0.784\n",
       "f1                0.813   0.250"
      ]
     },
     "execution_count": 69,
     "metadata": {},
     "output_type": "execute_result"
    }
   ],
   "source": [
    "mediciones(x_train,y_train,x_test,y_test,tree_cv)"
   ]
  },
  {
   "cell_type": "markdown",
   "metadata": {},
   "source": [
    "No mejoro mucho respecto a lo que ya estaba ajustado (claso sobre ajuste)"
   ]
  },
  {
   "cell_type": "markdown",
   "metadata": {},
   "source": [
    "## Random Forest Tunning"
   ]
  },
  {
   "cell_type": "code",
   "execution_count": 70,
   "metadata": {},
   "outputs": [
    {
     "name": "stdout",
     "output_type": "stream",
     "text": [
      "Fitting 3 folds for each of 9 candidates, totalling 27 fits\n"
     ]
    },
    {
     "name": "stderr",
     "output_type": "stream",
     "text": [
      "[Parallel(n_jobs=-1)]: Using backend LokyBackend with 8 concurrent workers.\n",
      "[Parallel(n_jobs=-1)]: Done   2 tasks      | elapsed:    9.8s\n",
      "[Parallel(n_jobs=-1)]: Done   9 tasks      | elapsed:   20.8s\n",
      "[Parallel(n_jobs=-1)]: Done  15 out of  27 | elapsed:   31.7s remaining:   25.3s\n",
      "[Parallel(n_jobs=-1)]: Done  18 out of  27 | elapsed:   41.1s remaining:   20.5s\n",
      "[Parallel(n_jobs=-1)]: Done  21 out of  27 | elapsed:   44.0s remaining:   12.5s\n",
      "[Parallel(n_jobs=-1)]: Done  24 out of  27 | elapsed:   49.8s remaining:    6.1s\n",
      "[Parallel(n_jobs=-1)]: Done  27 out of  27 | elapsed:   55.2s remaining:    0.0s\n",
      "[Parallel(n_jobs=-1)]: Done  27 out of  27 | elapsed:   55.2s finished\n"
     ]
    }
   ],
   "source": [
    "## from sklearn.ensemble import RandomForestClassifier\n",
    "from sklearn.model_selection import GridSearchCV\n",
    "\n",
    "parameters = {\n",
    "    'n_estimators'      : [25,30,50],\n",
    "    'max_depth'         : [8,10,15],\n",
    "    'random_state'      : [0]}\n",
    "\n",
    "rf_cv = GridSearchCV(RandomForestClassifier(), parameters, cv=3, n_jobs=-1,verbose=10).fit(x_train,y_train)"
   ]
  },
  {
   "cell_type": "code",
   "execution_count": 71,
   "metadata": {},
   "outputs": [
    {
     "data": {
      "text/plain": [
       "{'max_depth': 15, 'n_estimators': 50, 'random_state': 0}"
      ]
     },
     "execution_count": 71,
     "metadata": {},
     "output_type": "execute_result"
    }
   ],
   "source": [
    "rf_cv.best_params_"
   ]
  },
  {
   "cell_type": "code",
   "execution_count": 72,
   "metadata": {},
   "outputs": [
    {
     "name": "stdout",
     "output_type": "stream",
     "text": [
      "Matriz de confusion:\n",
      "                   Prediccion falso  Prediccion verdadero\n",
      "Actual falsa                 15628                  4370\n",
      "Actual verdadera               600                   948\n"
     ]
    },
    {
     "data": {
      "text/html": [
       "<div>\n",
       "<style scoped>\n",
       "    .dataframe tbody tr th:only-of-type {\n",
       "        vertical-align: middle;\n",
       "    }\n",
       "\n",
       "    .dataframe tbody tr th {\n",
       "        vertical-align: top;\n",
       "    }\n",
       "\n",
       "    .dataframe thead th {\n",
       "        text-align: right;\n",
       "    }\n",
       "</style>\n",
       "<table border=\"1\" class=\"dataframe\">\n",
       "  <thead>\n",
       "    <tr style=\"text-align: right;\">\n",
       "      <th></th>\n",
       "      <th>Entrenamiento</th>\n",
       "      <th>Testeo</th>\n",
       "    </tr>\n",
       "  </thead>\n",
       "  <tbody>\n",
       "    <tr>\n",
       "      <th>Accuracy</th>\n",
       "      <td>0.893</td>\n",
       "      <td>0.769</td>\n",
       "    </tr>\n",
       "    <tr>\n",
       "      <th>recall</th>\n",
       "      <td>0.983</td>\n",
       "      <td>0.612</td>\n",
       "    </tr>\n",
       "    <tr>\n",
       "      <th>roc</th>\n",
       "      <td>0.975</td>\n",
       "      <td>0.814</td>\n",
       "    </tr>\n",
       "    <tr>\n",
       "      <th>f1</th>\n",
       "      <td>0.901</td>\n",
       "      <td>0.276</td>\n",
       "    </tr>\n",
       "  </tbody>\n",
       "</table>\n",
       "</div>"
      ],
      "text/plain": [
       "          Entrenamiento  Testeo\n",
       "Accuracy          0.893   0.769\n",
       "recall            0.983   0.612\n",
       "roc               0.975   0.814\n",
       "f1                0.901   0.276"
      ]
     },
     "execution_count": 72,
     "metadata": {},
     "output_type": "execute_result"
    }
   ],
   "source": [
    "mediciones(x_train,y_train,x_test,y_test,rf_cv)"
   ]
  },
  {
   "cell_type": "markdown",
   "metadata": {},
   "source": [
    "Los modelos que revisare en mayor profundidad son la rn, adaboost y randomforest"
   ]
  },
  {
   "cell_type": "markdown",
   "metadata": {},
   "source": [
    "## Adaboost con grid search"
   ]
  },
  {
   "cell_type": "code",
   "execution_count": 88,
   "metadata": {},
   "outputs": [],
   "source": [
    "from sklearn.ensemble import AdaBoostClassifier\n",
    "from sklearn.tree import DecisionTreeClassifier\n",
    "from sklearn.model_selection import GridSearchCV\n",
    "\n",
    "\n",
    "ada=AdaBoostClassifier()\n",
    "search_grid={'n_estimators':[500,1000],'learning_rate':[.001,0.01,.1]}\n",
    "gs=GridSearchCV(estimator=ada,param_grid=search_grid,scoring='accuracy',n_jobs=-1,cv=5,verbose=10)"
   ]
  },
  {
   "cell_type": "code",
   "execution_count": 89,
   "metadata": {
    "scrolled": false
   },
   "outputs": [
    {
     "name": "stdout",
     "output_type": "stream",
     "text": [
      "Fitting 5 folds for each of 6 candidates, totalling 30 fits\n"
     ]
    },
    {
     "name": "stderr",
     "output_type": "stream",
     "text": [
      "[Parallel(n_jobs=-1)]: Using backend LokyBackend with 8 concurrent workers.\n",
      "[Parallel(n_jobs=-1)]: Done   2 tasks      | elapsed:  8.7min\n",
      "[Parallel(n_jobs=-1)]: Done   9 tasks      | elapsed: 19.7min\n",
      "[Parallel(n_jobs=-1)]: Done  19 out of  30 | elapsed: 38.5min remaining: 22.3min\n",
      "[Parallel(n_jobs=-1)]: Done  23 out of  30 | elapsed: 42.4min remaining: 12.9min\n",
      "[Parallel(n_jobs=-1)]: Done  27 out of  30 | elapsed: 51.8min remaining:  5.8min\n",
      "[Parallel(n_jobs=-1)]: Done  30 out of  30 | elapsed: 52.0min finished\n"
     ]
    },
    {
     "data": {
      "text/plain": [
       "GridSearchCV(cv=5, error_score=nan,\n",
       "             estimator=AdaBoostClassifier(algorithm='SAMME.R',\n",
       "                                          base_estimator=None,\n",
       "                                          learning_rate=1.0, n_estimators=50,\n",
       "                                          random_state=None),\n",
       "             iid='deprecated', n_jobs=-1,\n",
       "             param_grid={'learning_rate': [0.001, 0.01, 0.1],\n",
       "                         'n_estimators': [500, 1000]},\n",
       "             pre_dispatch='2*n_jobs', refit=True, return_train_score=False,\n",
       "             scoring='accuracy', verbose=10)"
      ]
     },
     "execution_count": 89,
     "metadata": {},
     "output_type": "execute_result"
    }
   ],
   "source": [
    "gs.fit(x_train,y_train)"
   ]
  },
  {
   "cell_type": "code",
   "execution_count": 90,
   "metadata": {},
   "outputs": [
    {
     "data": {
      "text/plain": [
       "{'learning_rate': 0.1, 'n_estimators': 1000}"
      ]
     },
     "execution_count": 90,
     "metadata": {},
     "output_type": "execute_result"
    }
   ],
   "source": [
    "gs.best_params_"
   ]
  },
  {
   "cell_type": "code",
   "execution_count": 91,
   "metadata": {},
   "outputs": [
    {
     "name": "stdout",
     "output_type": "stream",
     "text": [
      "Matriz de confusion:\n",
      "                   Prediccion falso  Prediccion verdadero\n",
      "Actual falsa                 13428                  6570\n",
      "Actual verdadera               329                  1219\n"
     ]
    },
    {
     "data": {
      "text/html": [
       "<div>\n",
       "<style scoped>\n",
       "    .dataframe tbody tr th:only-of-type {\n",
       "        vertical-align: middle;\n",
       "    }\n",
       "\n",
       "    .dataframe tbody tr th {\n",
       "        vertical-align: top;\n",
       "    }\n",
       "\n",
       "    .dataframe thead th {\n",
       "        text-align: right;\n",
       "    }\n",
       "</style>\n",
       "<table border=\"1\" class=\"dataframe\">\n",
       "  <thead>\n",
       "    <tr style=\"text-align: right;\">\n",
       "      <th></th>\n",
       "      <th>Entrenamiento</th>\n",
       "      <th>Testeo</th>\n",
       "    </tr>\n",
       "  </thead>\n",
       "  <tbody>\n",
       "    <tr>\n",
       "      <th>Accuracy</th>\n",
       "      <td>0.816</td>\n",
       "      <td>0.679</td>\n",
       "    </tr>\n",
       "    <tr>\n",
       "      <th>recall</th>\n",
       "      <td>0.958</td>\n",
       "      <td>0.787</td>\n",
       "    </tr>\n",
       "    <tr>\n",
       "      <th>roc</th>\n",
       "      <td>0.932</td>\n",
       "      <td>0.803</td>\n",
       "    </tr>\n",
       "    <tr>\n",
       "      <th>f1</th>\n",
       "      <td>0.839</td>\n",
       "      <td>0.261</td>\n",
       "    </tr>\n",
       "  </tbody>\n",
       "</table>\n",
       "</div>"
      ],
      "text/plain": [
       "          Entrenamiento  Testeo\n",
       "Accuracy          0.816   0.679\n",
       "recall            0.958   0.787\n",
       "roc               0.932   0.803\n",
       "f1                0.839   0.261"
      ]
     },
     "execution_count": 91,
     "metadata": {},
     "output_type": "execute_result"
    }
   ],
   "source": [
    "mediciones(x_train,y_train,x_test,y_test,gs)"
   ]
  },
  {
   "cell_type": "markdown",
   "metadata": {},
   "source": [
    "Teniendo en cuenta los ajustes actuales es un buen ajuste pero el recall es muy bajo, veamos mas opciones"
   ]
  },
  {
   "cell_type": "markdown",
   "metadata": {},
   "source": [
    "## Clasificador por Multi-Layer-Perc.  (RN)"
   ]
  },
  {
   "cell_type": "code",
   "execution_count": 77,
   "metadata": {},
   "outputs": [],
   "source": [
    "from sklearn.model_selection import GridSearchCV\n",
    "from sklearn.neural_network import MLPClassifier\n",
    "\n",
    "parameters = {'solver': ['lbfgs'], 'alpha': 10.0 ** -np.arange(1, 10), 'hidden_layer_sizes':np.arange(10, 15), 'random_state':[10101]}\n",
    "mlp_cv = GridSearchCV(MLPClassifier(), parameters, n_jobs=-1,verbose=10,cv=3,scoring='f1')\n"
   ]
  },
  {
   "cell_type": "code",
   "execution_count": 78,
   "metadata": {},
   "outputs": [
    {
     "name": "stdout",
     "output_type": "stream",
     "text": [
      "Fitting 3 folds for each of 45 candidates, totalling 135 fits\n"
     ]
    },
    {
     "name": "stderr",
     "output_type": "stream",
     "text": [
      "[Parallel(n_jobs=-1)]: Using backend LokyBackend with 8 concurrent workers.\n",
      "[Parallel(n_jobs=-1)]: Done   2 tasks      | elapsed:    6.7s\n",
      "[Parallel(n_jobs=-1)]: Done   9 tasks      | elapsed:   21.4s\n",
      "[Parallel(n_jobs=-1)]: Done  16 tasks      | elapsed:  1.3min\n",
      "[Parallel(n_jobs=-1)]: Done  25 tasks      | elapsed:  1.8min\n",
      "[Parallel(n_jobs=-1)]: Done  34 tasks      | elapsed:  2.6min\n",
      "[Parallel(n_jobs=-1)]: Done  45 tasks      | elapsed:  3.5min\n",
      "[Parallel(n_jobs=-1)]: Done  56 tasks      | elapsed:  4.1min\n",
      "[Parallel(n_jobs=-1)]: Done  69 tasks      | elapsed:  5.1min\n",
      "[Parallel(n_jobs=-1)]: Done  82 tasks      | elapsed:  5.9min\n",
      "[Parallel(n_jobs=-1)]: Done  97 tasks      | elapsed:  7.0min\n",
      "[Parallel(n_jobs=-1)]: Done 112 tasks      | elapsed:  8.3min\n",
      "[Parallel(n_jobs=-1)]: Done 135 out of 135 | elapsed:  9.7min finished\n"
     ]
    },
    {
     "data": {
      "text/plain": [
       "GridSearchCV(cv=3, error_score=nan,\n",
       "             estimator=MLPClassifier(activation='relu', alpha=0.0001,\n",
       "                                     batch_size='auto', beta_1=0.9,\n",
       "                                     beta_2=0.999, early_stopping=False,\n",
       "                                     epsilon=1e-08, hidden_layer_sizes=(100,),\n",
       "                                     learning_rate='constant',\n",
       "                                     learning_rate_init=0.001, max_fun=15000,\n",
       "                                     max_iter=200, momentum=0.9,\n",
       "                                     n_iter_no_change=10,\n",
       "                                     nesterovs_momentum=True, power_t=0.5,\n",
       "                                     random_state...\n",
       "                                     solver='adam', tol=0.0001,\n",
       "                                     validation_fraction=0.1, verbose=False,\n",
       "                                     warm_start=False),\n",
       "             iid='deprecated', n_jobs=-1,\n",
       "             param_grid={'alpha': array([1.e-01, 1.e-02, 1.e-03, 1.e-04, 1.e-05, 1.e-06, 1.e-07, 1.e-08,\n",
       "       1.e-09]),\n",
       "                         'hidden_layer_sizes': array([10, 11, 12, 13, 14]),\n",
       "                         'random_state': [10101], 'solver': ['lbfgs']},\n",
       "             pre_dispatch='2*n_jobs', refit=True, return_train_score=False,\n",
       "             scoring='f1', verbose=10)"
      ]
     },
     "execution_count": 78,
     "metadata": {},
     "output_type": "execute_result"
    }
   ],
   "source": [
    "mlp_cv.fit(x_train,y_train)"
   ]
  },
  {
   "cell_type": "code",
   "execution_count": 79,
   "metadata": {},
   "outputs": [
    {
     "data": {
      "text/plain": [
       "{'alpha': 0.1,\n",
       " 'hidden_layer_sizes': 12,\n",
       " 'random_state': 10101,\n",
       " 'solver': 'lbfgs'}"
      ]
     },
     "execution_count": 79,
     "metadata": {},
     "output_type": "execute_result"
    }
   ],
   "source": [
    "mlp_cv.best_params_"
   ]
  },
  {
   "cell_type": "code",
   "execution_count": 80,
   "metadata": {},
   "outputs": [
    {
     "name": "stdout",
     "output_type": "stream",
     "text": [
      "Matriz de confusion:\n",
      "                   Prediccion falso  Prediccion verdadero\n",
      "Actual falsa                 16477                  3521\n",
      "Actual verdadera               816                   732\n"
     ]
    },
    {
     "data": {
      "text/html": [
       "<div>\n",
       "<style scoped>\n",
       "    .dataframe tbody tr th:only-of-type {\n",
       "        vertical-align: middle;\n",
       "    }\n",
       "\n",
       "    .dataframe tbody tr th {\n",
       "        vertical-align: top;\n",
       "    }\n",
       "\n",
       "    .dataframe thead th {\n",
       "        text-align: right;\n",
       "    }\n",
       "</style>\n",
       "<table border=\"1\" class=\"dataframe\">\n",
       "  <thead>\n",
       "    <tr style=\"text-align: right;\">\n",
       "      <th></th>\n",
       "      <th>Entrenamiento</th>\n",
       "      <th>Testeo</th>\n",
       "    </tr>\n",
       "  </thead>\n",
       "  <tbody>\n",
       "    <tr>\n",
       "      <th>Accuracy</th>\n",
       "      <td>0.840</td>\n",
       "      <td>0.798</td>\n",
       "    </tr>\n",
       "    <tr>\n",
       "      <th>recall</th>\n",
       "      <td>0.853</td>\n",
       "      <td>0.472</td>\n",
       "    </tr>\n",
       "    <tr>\n",
       "      <th>roc</th>\n",
       "      <td>0.936</td>\n",
       "      <td>0.794</td>\n",
       "    </tr>\n",
       "    <tr>\n",
       "      <th>f1</th>\n",
       "      <td>0.842</td>\n",
       "      <td>0.252</td>\n",
       "    </tr>\n",
       "  </tbody>\n",
       "</table>\n",
       "</div>"
      ],
      "text/plain": [
       "          Entrenamiento  Testeo\n",
       "Accuracy          0.840   0.798\n",
       "recall            0.853   0.472\n",
       "roc               0.936   0.794\n",
       "f1                0.842   0.252"
      ]
     },
     "execution_count": 80,
     "metadata": {},
     "output_type": "execute_result"
    }
   ],
   "source": [
    "mediciones(x_train,y_train,x_test,y_test,mlp_cv)"
   ]
  },
  {
   "cell_type": "markdown",
   "metadata": {},
   "source": [
    "Mejora el recall pero caemos en el accuracy, igualmente roc esta muy bueno"
   ]
  },
  {
   "cell_type": "markdown",
   "metadata": {},
   "source": [
    "Ya tengo la mejor version de estos 3 modelos, antes de escojer uno de ellos ¿juntemoslos todos y veamos si la union de todos es mejor que uno solo?"
   ]
  },
  {
   "cell_type": "code",
   "execution_count": 81,
   "metadata": {},
   "outputs": [
    {
     "name": "stderr",
     "output_type": "stream",
     "text": [
      "[Parallel(n_jobs=1)]: Using backend SequentialBackend with 1 concurrent workers.\n",
      "[Parallel(n_jobs=1)]: Done   1 out of   1 | elapsed:  1.6min remaining:    0.0s\n",
      "[Parallel(n_jobs=1)]: Done   2 out of   2 | elapsed:  3.0min remaining:    0.0s\n",
      "[Parallel(n_jobs=1)]: Done   3 out of   3 | elapsed:  4.4min remaining:    0.0s\n",
      "[Parallel(n_jobs=1)]: Done   4 out of   4 | elapsed:  5.8min remaining:    0.0s\n",
      "[Parallel(n_jobs=1)]: Done   5 out of   5 | elapsed:  7.3min remaining:    0.0s\n",
      "[Parallel(n_jobs=1)]: Done   5 out of   5 | elapsed:  7.3min finished\n",
      "[Parallel(n_jobs=1)]: Using backend SequentialBackend with 1 concurrent workers.\n",
      "[Parallel(n_jobs=1)]: Done   1 out of   1 | elapsed:    0.5s remaining:    0.0s\n",
      "[Parallel(n_jobs=1)]: Done   2 out of   2 | elapsed:    1.1s remaining:    0.0s\n",
      "[Parallel(n_jobs=1)]: Done   3 out of   3 | elapsed:    1.8s remaining:    0.0s\n",
      "[Parallel(n_jobs=1)]: Done   4 out of   4 | elapsed:    2.5s remaining:    0.0s\n",
      "[Parallel(n_jobs=1)]: Done   5 out of   5 | elapsed:    3.2s remaining:    0.0s\n",
      "[Parallel(n_jobs=1)]: Done   5 out of   5 | elapsed:    3.2s finished\n",
      "[Parallel(n_jobs=1)]: Using backend SequentialBackend with 1 concurrent workers.\n",
      "[Parallel(n_jobs=1)]: Done   1 out of   1 | elapsed:    8.2s remaining:    0.0s\n",
      "[Parallel(n_jobs=1)]: Done   2 out of   2 | elapsed:   16.8s remaining:    0.0s\n",
      "[Parallel(n_jobs=1)]: Done   3 out of   3 | elapsed:   25.3s remaining:    0.0s\n",
      "[Parallel(n_jobs=1)]: Done   4 out of   4 | elapsed:   33.9s remaining:    0.0s\n",
      "[Parallel(n_jobs=1)]: Done   5 out of   5 | elapsed:   42.4s remaining:    0.0s\n",
      "[Parallel(n_jobs=1)]: Done   5 out of   5 | elapsed:   42.4s finished\n"
     ]
    },
    {
     "data": {
      "text/plain": [
       "StackingClassifier(cv=None,\n",
       "                   estimators=[('ada',\n",
       "                                AdaBoostClassifier(algorithm='SAMME.R',\n",
       "                                                   base_estimator=DecisionTreeClassifier(ccp_alpha=0.0,\n",
       "                                                                                         class_weight=None,\n",
       "                                                                                         criterion='gini',\n",
       "                                                                                         max_depth=20,\n",
       "                                                                                         max_features=None,\n",
       "                                                                                         max_leaf_nodes=None,\n",
       "                                                                                         min_impurity_decrease=0.0,\n",
       "                                                                                         min_impurity_split=None,\n",
       "                                                                                         min_samples_leaf=1,\n",
       "                                                                                         min_samples_split=2,\n",
       "                                                                                         min_weight_fraction_leaf=0.0,\n",
       "                                                                                         presort='...\n",
       "                                                       random_state=0,\n",
       "                                                       verbose=0,\n",
       "                                                       warm_start=False))],\n",
       "                   final_estimator=LogisticRegression(C=1000, class_weight=None,\n",
       "                                                      dual=False,\n",
       "                                                      fit_intercept=True,\n",
       "                                                      intercept_scaling=1,\n",
       "                                                      l1_ratio=None,\n",
       "                                                      max_iter=100,\n",
       "                                                      multi_class='auto',\n",
       "                                                      n_jobs=None, penalty='l2',\n",
       "                                                      random_state=None,\n",
       "                                                      solver='lbfgs',\n",
       "                                                      tol=0.0001, verbose=0,\n",
       "                                                      warm_start=False),\n",
       "                   n_jobs=1, passthrough=True, stack_method='auto', verbose=10)"
      ]
     },
     "execution_count": 81,
     "metadata": {},
     "output_type": "execute_result"
    }
   ],
   "source": [
    "from sklearn.ensemble import StackingClassifier\n",
    "from sklearn.model_selection import GridSearchCV\n",
    "from sklearn.linear_model import LogisticRegression\n",
    "from sklearn.ensemble import AdaBoostClassifier\n",
    "from sklearn.tree import DecisionTreeClassifier\n",
    "from sklearn.neural_network import MLPClassifier\n",
    "\n",
    "modelos =[('ada',AdaBoostClassifier(base_estimator=DecisionTreeClassifier(max_depth=20))),\n",
    "('mlp',MLPClassifier(alpha=0.1,hidden_layer_sizes=14,random_state= 10101,solver='lbfgs')),\n",
    "('rfc',RandomForestClassifier(max_depth=15,n_estimators=50,random_state=0))]\n",
    "\n",
    "modelo_salida = LogisticRegression(C= 1000, penalty= 'l2')\n",
    "\n",
    "#voy a forzarlo a usar las variables predictoras con las predichas\n",
    "stack=StackingClassifier(estimators=modelos, final_estimator=modelo_salida,n_jobs=1,passthrough=True,verbose=10)\n",
    "\n",
    "stack.fit(x_train,y_train)"
   ]
  },
  {
   "cell_type": "code",
   "execution_count": 82,
   "metadata": {},
   "outputs": [
    {
     "name": "stdout",
     "output_type": "stream",
     "text": [
      "Matriz de confusion:\n",
      "                   Prediccion falso  Prediccion verdadero\n",
      "Actual falsa                 18990                  1008\n",
      "Actual verdadera              1149                   399\n"
     ]
    },
    {
     "data": {
      "text/html": [
       "<div>\n",
       "<style scoped>\n",
       "    .dataframe tbody tr th:only-of-type {\n",
       "        vertical-align: middle;\n",
       "    }\n",
       "\n",
       "    .dataframe tbody tr th {\n",
       "        vertical-align: top;\n",
       "    }\n",
       "\n",
       "    .dataframe thead th {\n",
       "        text-align: right;\n",
       "    }\n",
       "</style>\n",
       "<table border=\"1\" class=\"dataframe\">\n",
       "  <thead>\n",
       "    <tr style=\"text-align: right;\">\n",
       "      <th></th>\n",
       "      <th>Entrenamiento</th>\n",
       "      <th>Testeo</th>\n",
       "    </tr>\n",
       "  </thead>\n",
       "  <tbody>\n",
       "    <tr>\n",
       "      <th>Accuracy</th>\n",
       "      <td>0.982</td>\n",
       "      <td>0.899</td>\n",
       "    </tr>\n",
       "    <tr>\n",
       "      <th>recall</th>\n",
       "      <td>0.983</td>\n",
       "      <td>0.257</td>\n",
       "    </tr>\n",
       "    <tr>\n",
       "      <th>roc</th>\n",
       "      <td>0.998</td>\n",
       "      <td>0.822</td>\n",
       "    </tr>\n",
       "    <tr>\n",
       "      <th>f1</th>\n",
       "      <td>0.982</td>\n",
       "      <td>0.270</td>\n",
       "    </tr>\n",
       "  </tbody>\n",
       "</table>\n",
       "</div>"
      ],
      "text/plain": [
       "          Entrenamiento  Testeo\n",
       "Accuracy          0.982   0.899\n",
       "recall            0.983   0.257\n",
       "roc               0.998   0.822\n",
       "f1                0.982   0.270"
      ]
     },
     "execution_count": 82,
     "metadata": {},
     "output_type": "execute_result"
    }
   ],
   "source": [
    "mediciones(x_train,y_train,x_test,y_test,stack)"
   ]
  },
  {
   "cell_type": "code",
   "execution_count": 92,
   "metadata": {},
   "outputs": [
    {
     "data": {
      "image/png": "[encoded data removed]",
      "text/plain": [
       "<Figure size 1152x576 with 1 Axes>"
      ]
     },
     "metadata": {
      "needs_background": "light"
     },
     "output_type": "display_data"
    }
   ],
   "source": [
    "log_reg_pred = logreg_cv.predict_proba(x_test)[:,1]\n",
    "rf_pred = rf_cv.predict_proba(x_test)[:,1]\n",
    "ada_pred = gs.predict_proba(x_test)[:,1]\n",
    "rn_pred = mlp_cv.predict_proba(x_test)[:,1]\n",
    "\n",
    "log_fpr, log_tpr, log_thresold = roc_curve(y_test, log_reg_pred)\n",
    "knear_fpr, knear_tpr, knear_threshold = roc_curve(y_test, rf_pred)\n",
    "svc_fpr, svc_tpr, svc_threshold = roc_curve(y_test, ada_pred)\n",
    "tree_fpr, tree_tpr, tree_threshold = roc_curve(y_test,rn_pred)\n",
    "\n",
    "\n",
    "plt.figure(figsize=(16,8))\n",
    "plt.title('Curva ROC \\n Top 4 Clasificadores', fontsize=18)\n",
    "plt.plot(log_fpr, log_tpr, label='Regresión logistica Score: {:.4f}'.format(roc_auc_score(y_test, log_reg_pred)))\n",
    "plt.plot(knear_fpr, knear_tpr, label='Random Forest Score: {:.4f}'.format(roc_auc_score(y_test, rf_pred)))\n",
    "plt.plot(svc_fpr, svc_tpr, label='AdaBoost: {:.4f}'.format(roc_auc_score(y_test, ada_pred)))\n",
    "plt.plot(tree_fpr, tree_tpr, label='Red neuronal Score: {:.4f}'.format(roc_auc_score(y_test, rn_pred)))\n",
    "plt.plot([0, 1], [0, 1], 'k--')\n",
    "plt.axis([-0.01, 1, 0, 1])\n",
    "plt.xlabel('Falso Positivo', fontsize=16)\n",
    "plt.ylabel('Verdadero Positivo', fontsize=16)\n",
    "plt.annotate('Roc minimo 50% \\n (Este es el minimo score a obtener)', xy=(0.5, 0.5), xytext=(0.6, 0.3),\n",
    "                arrowprops=dict(facecolor='#6E726D', shrink=0.05),\n",
    "                )\n",
    "plt.legend()\n",
    "    \n",
    "plt.show()"
   ]
  },
  {
   "cell_type": "markdown",
   "metadata": {},
   "source": [
    "# Conclusión Camiones"
   ]
  },
  {
   "cell_type": "markdown",
   "metadata": {},
   "source": [
    "En todos los modelos balaneados es posible apreciar un sobre ajuste de los valores, sin embargo es importante indicar que para el problema en cuestion es prioritario no desechar lead buenos e intentar desechar lead malos. por este motivo busco el mejor equilibrio entre recall y accuracy, evitando descuidar el presicion.\n",
    "\n",
    "Tal contexto lleva a dejar al modelo RF con el mejor comportamiento."
   ]
  },
  {
   "cell_type": "code",
   "execution_count": 84,
   "metadata": {},
   "outputs": [
    {
     "name": "stdout",
     "output_type": "stream",
     "text": [
      "Confusion matrix Random Forest:\n",
      " [[15628  4370]\n",
      " [  600   948]]\n"
     ]
    },
    {
     "data": {
      "image/png": "[encoded data removed]",
      "text/plain": [
       "<Figure size 432x288 with 2 Axes>"
      ]
     },
     "metadata": {
      "needs_background": "light"
     },
     "output_type": "display_data"
    }
   ],
   "source": [
    "from sklearn.metrics import confusion_matrix\n",
    "from matplotlib import pyplot as plt\n",
    "\n",
    "conf_mat = confusion_matrix(y_true=y_test, y_pred=rf_cv.predict(x_test))\n",
    "print('Confusion matrix Random Forest:\\n', conf_mat)\n",
    "\n",
    "labels = ['No compra', 'Si compra']\n",
    "fig = plt.figure()\n",
    "ax = fig.add_subplot(111)\n",
    "cax = ax.matshow(conf_mat, cmap=plt.cm.Blues)\n",
    "fig.colorbar(cax)\n",
    "ax.set_xticklabels([''] + labels)\n",
    "ax.set_yticklabels([''] + labels)\n",
    "plt.xlabel('Estimado')\n",
    "plt.ylabel('Real')\n",
    "plt.show()"
   ]
  },
  {
   "cell_type": "markdown",
   "metadata": {},
   "source": [
    "# Exportación del modelo"
   ]
  },
  {
   "cell_type": "code",
   "execution_count": 87,
   "metadata": {},
   "outputs": [],
   "source": [
    "import pickle\n",
    "\n",
    "filename = 'lead_score_camiones_empresa_modelo.sav'\n",
    "\n",
    "pickle.dump(rf_cv, open(filename, 'wb'))"
   ]
  },
  {
   "cell_type": "code",
   "execution_count": 85,
   "metadata": {},
   "outputs": [
    {
     "data": {
      "text/plain": [
       "GridSearchCV(cv=3, error_score=nan,\n",
       "             estimator=KNeighborsClassifier(algorithm='auto', leaf_size=30,\n",
       "                                            metric='minkowski',\n",
       "                                            metric_params=None, n_jobs=None,\n",
       "                                            n_neighbors=5, p=2,\n",
       "                                            weights='uniform'),\n",
       "             iid='deprecated', n_jobs=None,\n",
       "             param_grid={'n_neighbors': [5, 6, 7, 8, 9, 10, 11, 12, 13, 14, 15,\n",
       "                                         16, 17, 18, 19],\n",
       "                         'weights': ['uniform', 'distance']},\n",
       "             pre_dispatch='2*n_jobs', refit=True, return_train_score=False,\n",
       "             scoring='accuracy', verbose=0)"
      ]
     },
     "execution_count": 85,
     "metadata": {},
     "output_type": "execute_result"
    }
   ],
   "source": [
    "from sklearn.neighbors import KNeighborsClassifier\n",
    "\n",
    "\n",
    "k_range = list(range(5,20))\n",
    "weight_options = [\"uniform\", \"distance\"]\n",
    "\n",
    "param_grid = dict(n_neighbors = k_range, weights = weight_options)\n",
    "#print (param_grid)\n",
    "knn = KNeighborsClassifier()\n",
    "\n",
    "grid = GridSearchCV(knn, param_grid, cv = 3, scoring = 'accuracy')\n",
    "grid.fit(x_train,y_train)"
   ]
  },
  {
   "cell_type": "code",
   "execution_count": 86,
   "metadata": {},
   "outputs": [
    {
     "name": "stdout",
     "output_type": "stream",
     "text": [
      "Matriz de confusion:\n",
      "                   Prediccion falso  Prediccion verdadero\n",
      "Actual falsa                 18722                  1276\n",
      "Actual verdadera              1194                   354\n"
     ]
    },
    {
     "data": {
      "text/html": [
       "<div>\n",
       "<style scoped>\n",
       "    .dataframe tbody tr th:only-of-type {\n",
       "        vertical-align: middle;\n",
       "    }\n",
       "\n",
       "    .dataframe tbody tr th {\n",
       "        vertical-align: top;\n",
       "    }\n",
       "\n",
       "    .dataframe thead th {\n",
       "        text-align: right;\n",
       "    }\n",
       "</style>\n",
       "<table border=\"1\" class=\"dataframe\">\n",
       "  <thead>\n",
       "    <tr style=\"text-align: right;\">\n",
       "      <th></th>\n",
       "      <th>Entrenamiento</th>\n",
       "      <th>Testeo</th>\n",
       "    </tr>\n",
       "  </thead>\n",
       "  <tbody>\n",
       "    <tr>\n",
       "      <th>Accuracy</th>\n",
       "      <td>0.985</td>\n",
       "      <td>0.885</td>\n",
       "    </tr>\n",
       "    <tr>\n",
       "      <th>recall</th>\n",
       "      <td>0.973</td>\n",
       "      <td>0.228</td>\n",
       "    </tr>\n",
       "    <tr>\n",
       "      <th>roc</th>\n",
       "      <td>0.999</td>\n",
       "      <td>0.676</td>\n",
       "    </tr>\n",
       "    <tr>\n",
       "      <th>f1</th>\n",
       "      <td>0.984</td>\n",
       "      <td>0.222</td>\n",
       "    </tr>\n",
       "  </tbody>\n",
       "</table>\n",
       "</div>"
      ],
      "text/plain": [
       "          Entrenamiento  Testeo\n",
       "Accuracy          0.985   0.885\n",
       "recall            0.973   0.228\n",
       "roc               0.999   0.676\n",
       "f1                0.984   0.222"
      ]
     },
     "execution_count": 86,
     "metadata": {},
     "output_type": "execute_result"
    }
   ],
   "source": [
    "mediciones(x_train,y_train,x_test,y_test,grid)"
   ]
  },
  {
   "cell_type": "code",
   "execution_count": 93,
   "metadata": {},
   "outputs": [
    {
     "name": "stdout",
     "output_type": "stream",
     "text": [
      "feature: TRAMO_VENTA, importance: 0.014642767229801365\n",
      "feature: NUM_TRABAJADORES, importance: 0.02292948162385985\n",
      "feature: TOTAL_UTILITARIOS, importance: 0.024554501402576426\n",
      "feature: UTILITARIOS_EXCLUSION, importance: 0.04111008924918936\n",
      "feature: RELEVANTE_BUSES, importance: 0.0019449744509620088\n",
      "feature: RELEVANTE_CAMIONES, importance: 0.022123749557311608\n",
      "feature: RELEVANTE_RODADOS, importance: 0.007147249617810446\n",
      "feature: RELEVANTE_VANS, importance: 0.02136291465714063\n",
      "feature: RELEVANTE_CARGA, importance: 0.013211812498420567\n",
      "feature: RELEVANTE_PASAJERA, importance: 0.011322708054787451\n",
      "feature: RELEVANTE_PESADO, importance: 0.019725475754816594\n",
      "feature: RELEVANTE_CAMIONETA, importance: 0.0028622633155951705\n",
      "feature: RELEVANTE_MEDIANO, importance: 0.010756784171346175\n",
      "feature: RELEVANTE_OTROS, importance: 0.014264369349416158\n",
      "feature: RELEVANTE_LIVIANO, importance: 0.004345601462206655\n",
      "feature: RELEVANTE_CAMIONETA_DCAB, importance: 0.0012241938424175606\n",
      "feature: RELEVANTE_FORESTAL, importance: 0.0014294803450755783\n",
      "feature: RELEVANTE_CAMABAJA, importance: 0.0014242664674662972\n",
      "feature: FLOTA_NUEVA, importance: 0.0024457291855437186\n",
      "feature: ANTIGUEDAD_FLOTA, importance: 0.014012475617369461\n",
      "feature: CAMPANAS_U180D, importance: 0.018890679497274614\n",
      "feature: CAMPANAS_U180D_C, importance: 0.01934881259174262\n",
      "feature: SERVICIOS_PV, importance: 0.028862374964633626\n",
      "feature: NUM_OFERTAS_U12M, importance: 0.09220671963813921\n",
      "feature: COMPRAS_REALIZADAS_U12M, importance: 0.11823225542167166\n",
      "feature: ANTIGUEDAD_E_ENTRE 15 Y 25 A, importance: 0.0027569639279735434\n",
      "feature: ANTIGUEDAD_E_ENTRE 5 Y 15 AÑ, importance: 0.002608653986376937\n",
      "feature: ANTIGUEDAD_E_MAYOR A 25 AÑOS, importance: 0.005053102598212681\n",
      "feature: ANTIGUEDAD_E_MENOS DE 5 AÑOS, importance: 0.002774256778682259\n",
      "feature: DESC_TIPO_VEHICULO_AMBULANCIA, importance: 1.3628736856294576e-05\n",
      "feature: DESC_TIPO_VEHICULO_BUS, importance: 2.441294977430196e-08\n",
      "feature: DESC_TIPO_VEHICULO_CAMION, importance: 0.004542031985897835\n",
      "feature: DESC_TIPO_VEHICULO_CAMION USO FAENERO, importance: 0.0\n",
      "feature: DESC_TIPO_VEHICULO_CAMIONETA, importance: 0.0013785047009554315\n",
      "feature: DESC_TIPO_VEHICULO_CARRO BOMBA, importance: 1.7891600809165174e-05\n",
      "feature: DESC_TIPO_VEHICULO_CHASIS, importance: 6.126016280357148e-05\n",
      "feature: DESC_TIPO_VEHICULO_CHASIS CABINA, importance: 0.008963990929112814\n",
      "feature: DESC_TIPO_VEHICULO_CHASIS CABINADO, importance: 1.1417996971837692e-06\n",
      "feature: DESC_TIPO_VEHICULO_FURGON, importance: 1.3425378165413902e-05\n",
      "feature: DESC_TIPO_VEHICULO_GRUA, importance: 0.0\n",
      "feature: DESC_TIPO_VEHICULO_MINIBUS, importance: 0.0\n",
      "feature: DESC_TIPO_VEHICULO_STATION WAGON, importance: 0.0\n",
      "feature: DESC_TIPO_VEHICULO_TRACTOCAMION, importance: 0.0037238640024016565\n",
      "feature: DESC_TIPO_VEHICULO_TRACTOCAMION USO CARRETERO, importance: 9.8445964306833e-07\n",
      "feature: DESC_TIPO_VEHICULO_TRACTOR, importance: 2.2607975668747477e-06\n",
      "feature: MARCA_AGRUPADA_FREIGHTLINER, importance: 0.008002662834954004\n",
      "feature: MARCA_AGRUPADA_MERCEDES-BENZ, importance: 0.0054934221408525505\n",
      "feature: MARCA_AGRUPADA_MITSUBISHI-FUSO, importance: 0.00595415289684428\n",
      "feature: MARCA_AGRUPADA_WESTERN STAR, importance: 3.7418067169260545e-06\n",
      "feature: RUBRO_ECON_A, importance: 0.0007273589542609915\n",
      "feature: RUBRO_ECON_B, importance: 0.001179702753920046\n",
      "feature: RUBRO_ECON_C, importance: 0.0024774360375878837\n",
      "feature: RUBRO_ECON_D, importance: 4.5968112890697805e-05\n",
      "feature: RUBRO_ECON_E, importance: 0.0017078733217109339\n",
      "feature: RUBRO_ECON_F, importance: 0.00296967313558433\n",
      "feature: RUBRO_ECON_G, importance: 0.003506901206229393\n",
      "feature: RUBRO_ECON_H, importance: 0.002130894960296995\n",
      "feature: RUBRO_ECON_I, importance: 1.180900386007299e-05\n",
      "feature: RUBRO_ECON_J, importance: 1.4243056270898369e-05\n",
      "feature: RUBRO_ECON_K, importance: 0.0001468134028626712\n",
      "feature: RUBRO_ECON_L, importance: 7.058656024301037e-05\n",
      "feature: RUBRO_ECON_M, importance: 0.000174788839812481\n",
      "feature: RUBRO_ECON_N, importance: 0.0008974299338505117\n",
      "feature: RUBRO_ECON_O, importance: 0.0006835829427011148\n",
      "feature: RUBRO_ECON_P, importance: 5.786697221808573e-06\n",
      "feature: RUBRO_ECON_Q, importance: 1.5568390310461715e-08\n",
      "feature: RUBRO_ECON_R, importance: 5.7700823116320025e-06\n",
      "feature: RUBRO_ECON_S, importance: 0.0001146853907065153\n",
      "feature: RUBRO_ECON_U, importance: 8.640154153142265e-07\n",
      "feature: RUBRO_ECON_Z, importance: 0.0018655059635633033\n",
      "feature: REGION_NA, importance: 0.0009923226321812443\n",
      "feature: REGION_ Antofagasta, importance: 0.005907706215651772\n",
      "feature: REGION_ Arica y Parinacota, importance: 9.121019524025032e-05\n",
      "feature: REGION_ Atacama, importance: 0.0013546095352621754\n",
      "feature: REGION_ Aysén del Gral. C. Ibáñez del Camp, importance: 4.315706251852279e-06\n",
      "feature: REGION_ Biobío, importance: 0.001297919237384492\n",
      "feature: REGION_ Coquimbo, importance: 0.0009727596145995013\n",
      "feature: REGION_ La Araucanía, importance: 0.0007479874407763326\n",
      "feature: REGION_ Lib. Gral. Bernardo O'Higgins, importance: 0.002249478688641221\n",
      "feature: REGION_ Los Lagos, importance: 0.0010142491175780205\n",
      "feature: REGION_ Los Ríos, importance: 0.0008661747822796672\n",
      "feature: REGION_ Magallanes y Antártica Chilena, importance: 0.00016116942383004814\n",
      "feature: REGION_ Maule, importance: 0.0007485486759994854\n",
      "feature: REGION_ Metropolitana de Santiago, importance: 0.005324028668205302\n",
      "feature: REGION_ Tarapacá, importance: 0.0012338244992027801\n",
      "feature: REGION_ Valparaíso, importance: 0.002740576612287972\n",
      "feature: REGION_ Ñuble, importance: 0.0004774735822449479\n",
      "feature: USADO_NUEVO_Nuevo, importance: 0.0041295283002382105\n",
      "feature: USADO_NUEVO_Usado, importance: 0.003424401079143056\n",
      "feature: TIPO_CREDITO_USADO_ANT_CHEQUES, importance: 0.007404045323837316\n",
      "feature: TIPO_CREDITO_USADO_ANT_CONTADO, importance: 0.06313789370747765\n",
      "feature: TIPO_CREDITO_USADO_ANT_CREDITO, importance: 0.0016659474788851794\n",
      "feature: TIPO_CREDITO_USADO_ANT_LEASING, importance: 0.0009869955823726961\n",
      "feature: TIPO_CREDITO_USADO_ANT_LETRAS, importance: 0.0015553947846470774\n",
      "feature: TIPO_CREDITO_USADO_ANT_MUTUOS, importance: 5.399152875536184e-05\n",
      "feature: TIPO_CREDITO_USADO_ANT_NA, importance: 0.287483679332959\n",
      "feature: TIPO_CREDITO_USADO_ANT_ORDEN DE COMPRA, importance: 0.0034883824103295845\n"
     ]
    }
   ],
   "source": [
    "for feat, importance in zip(x_train.columns,rf_cv.best_estimator_.feature_importances_):\n",
    "    print ('feature: {f}, importance: {i}'.format(f=feat, i=importance))"
   ]
  },
  {
   "cell_type": "code",
   "execution_count": null,
   "metadata": {},
   "outputs": [],
   "source": []
  }
 ],
 "metadata": {
  "kernelspec": {
   "display_name": "Python 3",
   "language": "python",
   "name": "python3"
  },
  "language_info": {
   "codemirror_mode": {
    "name": "ipython",
    "version": 3
   },
   "file_extension": ".py",
   "mimetype": "text/x-python",
   "name": "python",
   "nbconvert_exporter": "python",
   "pygments_lexer": "ipython3",
   "version": "3.7.2"
  }
 },
 "nbformat": 4,
 "nbformat_minor": 2
}
