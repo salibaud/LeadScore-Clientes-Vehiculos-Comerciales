{
 "cells": [
  {
   "cell_type": "markdown",
   "metadata": {},
   "source": [
    "# Lead Score buses empresas"
   ]
  },
  {
   "cell_type": "code",
   "execution_count": 1,
   "metadata": {},
   "outputs": [],
   "source": [
    "#referencias:\n",
    "#https://www.kaggle.com/janiobachmann/credit-fraud-dealing-with-imbalanced-datasets\n",
    "#https://www.kaggle.com/tboyle10/methods-for-dealing-with-imbalanced-data\n",
    "#https://medium.com/thalus-ai/performance-metrics-for-classification-problems-in-machine-learning-part-i-b085d432082b\n",
    "\n",
    "\n",
    "#Area de Analytics - Comercial Kaufmann\n",
    "#creado por Sebastian Alibaud\n",
    "\n"
   ]
  },
  {
   "cell_type": "markdown",
   "metadata": {},
   "source": [
    "# CARGA DE PAQUETES"
   ]
  },
  {
   "cell_type": "code",
   "execution_count": 2,
   "metadata": {},
   "outputs": [],
   "source": [
    "# quitamos alertas porfavor!\n",
    "import warnings\n",
    "warnings.filterwarnings('ignore')"
   ]
  },
  {
   "cell_type": "code",
   "execution_count": 3,
   "metadata": {},
   "outputs": [],
   "source": [
    "# librerias clasicas\n",
    "import numpy as np\n",
    "import pandas as pd\n",
    "import matplotlib.pyplot as plt\n",
    "import seaborn as sns\n",
    "\n",
    "# ploteos\n",
    "from matplotlib.pyplot import xticks\n",
    "%matplotlib inline\n",
    "from sklearn.metrics import roc_curve,confusion_matrix,accuracy_score,recall_score\n",
    "from sklearn.metrics import f1_score,precision_score,roc_auc_score,average_precision_score\n",
    "\n",
    "\n",
    "#modelos\n",
    "from sklearn.model_selection import train_test_split\n",
    "from  sklearn.ensemble import RandomForestClassifier\n",
    "from sklearn.preprocessing import StandardScaler\n",
    "#from sklearn.svm import SVC\n",
    "#from sklearn.linear_model import RidgeClassifier,SGDClassifier,LogisticRegression\n",
    "from sklearn.metrics import confusion_matrix,accuracy_score,recall_score,f1_score,precision_score,roc_auc_score,average_precision_score\n",
    "#from sklearn.neighbors import NearestNeighbors\n",
    "import xgboost as xgb\n"
   ]
  },
  {
   "cell_type": "markdown",
   "metadata": {},
   "source": [
    "### Funciones utiles"
   ]
  },
  {
   "cell_type": "code",
   "execution_count": 4,
   "metadata": {},
   "outputs": [],
   "source": [
    "#funciones para medir\n",
    "\n",
    "def mediciones(x_train,y_train,x_test,y_test,model):\n",
    "    a = int(accuracy_score(y_train,model.predict(x_train))*1000)/1000\n",
    "    b = int(recall_score(y_train,model.predict(x_train))*1000)/1000\n",
    "    c = int(accuracy_score(y_test,model.predict(x_test))*1000)/1000\n",
    "    d = int(recall_score(y_test,model.predict(x_test))*1000)/1000\n",
    "    aa = int(roc_auc_score(y_train,model.predict_proba(x_train)[:,1])*1000)/1000\n",
    "    cc = int(roc_auc_score(y_test,model.predict_proba(x_test)[:,1])*1000)/1000\n",
    "    dd = int(f1_score(y_test,model.predict(x_test))*1000)/1000\n",
    "    ee = int(f1_score(y_train,model.predict(x_train))*1000)/1000\n",
    "    e = {'Entrenamiento':[a,b,aa,ee],\n",
    "         'Testeo':[c,d,cc,dd]}\n",
    "    f = pd.DataFrame(data=e,index=[\"Accuracy\",\"recall\",\"roc\",\"f1\"])\n",
    "    matrix=confusion_matrix(y_test,model.predict(x_test))\n",
    "    TP=matrix[1,1]\n",
    "    TN=matrix[0,0]\n",
    "    FP=matrix[0,1]\n",
    "    FN=matrix[1,0]\n",
    "    ma = {'Prediccion falso':[TN,FN],\n",
    "         'Prediccion verdadero':[FP,TP]}\n",
    "    i = pd.DataFrame(data=ma,index=[\"Actual falsa\",\"Actual verdadera\"])\n",
    "    print(\"Matriz de confusion:\\n\",i)\n",
    "    return f\n",
    "\n",
    "\n",
    "\n",
    "#print(\"the recall for this model is :\",cnf_matrix[1,1]/(cnf_matrix[1,1]+cnf_matrix[1,0]))\n",
    "#fig= plt.figure(figsize=(6,3))# to plot the graph\n",
    "#print(\"TP\",cnf_matrix[1,1,]) # no of fraud transaction which are predicted fraud\n",
    "#print(\"TN\",cnf_matrix[0,0]) # no. of normal transaction which are predited normal\n",
    "#print(\"FP\",cnf_matrix[0,1]) # no of normal transaction which are predicted fraud\n",
    "#print(\"FN\",cnf_matrix[1,0]) # no of fraud Transaction which are predicted normal\n",
    "\n",
    "\n",
    "def mediciones2(x_train,y_train,x_test,y_test,model):\n",
    "    #a = int(accuracy_score(y_train,model.predict(x_train))*1000)/1000\n",
    "    #b = int(recall_score(y_train,model.predict(x_train))*1000)/1000\n",
    "    c = int(accuracy_score(y_test,model.predict(x_test))*1000)/1000\n",
    "    d = int(recall_score(y_test,model.predict(x_test))*1000)/1000\n",
    "    #aa = int(roc_auc_score(y_train,model.predict_proba(x_train)[:,1])*1000)/1000\n",
    "    #cc = int(roc_auc_score(y_test,model.predict_proba(x_test)[:,1])*1000)/1000\n",
    "    e = {'Testeo':[c,d]}\n",
    "    f = pd.DataFrame(data=e,index=[\"Accuracy\",\"recall\"])\n",
    "    return f\n",
    "\n",
    "def roc_(x_train,y_train,x_test,y_test,model):\n",
    "    aa = int(roc_auc_score(y_train,model.predict_proba(x_train)[:,1])*1000)/1000\n",
    "    cc = int(roc_auc_score(y_test,model.predict_proba(x_test)[:,1])*1000)/1000\n",
    "    e = {'Entrenamiento':[a],\n",
    "         'Testeo':[c]}\n",
    "    f = pd.DataFrame(data=e,index=[\"roc-auc\"])\n",
    "    return f"
   ]
  },
  {
   "cell_type": "markdown",
   "metadata": {},
   "source": [
    "# Preparación de datos\n",
    "### LECTURA DE BASE BRUTA DESDE SAS\n",
    "\n",
    "\n",
    "La base de datos se obtiene desde el SAS guardado en la carpeta diaria de Customer analytics, esta base considera todas las ofertas realizadas en kaufmann a clientes que se encuentran en el perfil, se cruza con información de venta, rvm, post venta y datos del SII.\n",
    "\n",
    "\n",
    "Para el caso de puesta en prd, se consideran todas las empresas presentes en SII mas todos los clientes kaufman, mas todas las personas que están en rvm.\n",
    "\n",
    "\n",
    "* Periodo de información = 2018 y 2019.\n",
    "* Modelos: Utilitarios.\n",
    "* Tipo Cliente: Persona y empresa.\n",
    "\n",
    "Fuente sii:\n",
    "http://www.sii.cl/sobre_el_sii/nominapersonasjuridicas.html\n",
    "\n"
   ]
  },
  {
   "cell_type": "code",
   "execution_count": 5,
   "metadata": {},
   "outputs": [],
   "source": [
    "#----------------------#\n",
    "# carga de informacion #\n",
    "#----------------------#\n",
    "#lectura de datos\n",
    "df = pd.read_sas(r\"file:\\\\10.1.1.145\\datos\\ANALISIS\\CHILE\\IMPORTER_MARKETING_CUSTOMER_ANALYTICS\\DATOS\\LEAD_SCORE_UTILITARIOS_PREV1.sas7bdat\",\n",
    "                    format='sas7bdat',encoding='latin1')\n",
    "\n",
    "df = df[df['TIPO_CLIENTE']!='PERSONA']\n",
    "df=df[df['CATEGORIA']=='BUS']\n",
    "\n",
    "df=df.drop(['TIPO_CLIENTE'], axis=1)"
   ]
  },
  {
   "cell_type": "code",
   "execution_count": 6,
   "metadata": {},
   "outputs": [
    {
     "data": {
      "text/plain": [
       "(7311, 33)"
      ]
     },
     "execution_count": 6,
     "metadata": {},
     "output_type": "execute_result"
    }
   ],
   "source": [
    "df=df.drop([\"CATEGORIA\"], axis=1)\n",
    "df.shape"
   ]
  },
  {
   "cell_type": "markdown",
   "metadata": {},
   "source": [
    "### LIMPIEZA DE DATOS GENERAL"
   ]
  },
  {
   "cell_type": "code",
   "execution_count": 7,
   "metadata": {},
   "outputs": [
    {
     "data": {
      "text/plain": [
       "RUBRO_ECON                   0.00\n",
       "ANTIGUEDAD_E                 0.00\n",
       "TRAMO_VENTA                 34.73\n",
       "NUM_TRABAJADORES            34.73\n",
       "TOTAL_UTILITARIOS           44.88\n",
       "UTILITARIOS_EXCLUSION       57.56\n",
       "RELEVANTE_BUSES             75.71\n",
       "RELEVANTE_CAMIONES          84.20\n",
       "RELEVANTE_RODADOS           94.62\n",
       "RELEVANTE_VANS              58.45\n",
       "RELEVANTE_CARGA             81.52\n",
       "RELEVANTE_PASAJERA          67.56\n",
       "RELEVANTE_PESADO            88.48\n",
       "RELEVANTE_CAMIONETA         94.82\n",
       "RELEVANTE_MEDIANO           90.29\n",
       "RELEVANTE_OTROS             49.71\n",
       "RELEVANTE_LIVIANO           95.53\n",
       "RELEVANTE_CAMIONETA_DCAB    98.41\n",
       "RELEVANTE_FORESTAL          97.96\n",
       "RELEVANTE_CAMABAJA          97.36\n",
       "MARCA_AGRUPADA               0.00\n",
       "FLOTA_NUEVA                 44.88\n",
       "ANTIGUEDAD_FLOTA            44.88\n",
       "COMPRO_NUM                   0.00\n",
       "CAMPANAS_U180D              79.70\n",
       "CAMPANAS_U180D_C            79.93\n",
       "SERVICIOS_PV                 0.00\n",
       "REGION                       0.82\n",
       "USADO_NUEVO                  0.00\n",
       "DESC_TIPO_VEHICULO           0.82\n",
       "NUM_OFERTAS_U12M             0.00\n",
       "COMPRAS_REALIZADAS_U12M      0.00\n",
       "TIPO_CREDITO_USADO_ANT      40.71\n",
       "dtype: float64"
      ]
     },
     "execution_count": 7,
     "metadata": {},
     "output_type": "execute_result"
    }
   ],
   "source": [
    "#porcentaje de missing\n",
    "#round(100*(df.isnull().sum()/len(df.index)), 2)\n",
    "#porcentaje de missing\n",
    "round(100*(df.isnull().sum()/len(df.index)), 2)"
   ]
  },
  {
   "cell_type": "code",
   "execution_count": 8,
   "metadata": {
    "scrolled": false
   },
   "outputs": [
    {
     "data": {
      "text/plain": [
       "RUBRO_ECON                   0.00\n",
       "ANTIGUEDAD_E                 0.00\n",
       "TRAMO_VENTA                 34.73\n",
       "NUM_TRABAJADORES            34.73\n",
       "TOTAL_UTILITARIOS           44.88\n",
       "UTILITARIOS_EXCLUSION       57.56\n",
       "RELEVANTE_BUSES              0.00\n",
       "RELEVANTE_CAMIONES           0.00\n",
       "RELEVANTE_RODADOS            0.00\n",
       "RELEVANTE_VANS               0.00\n",
       "RELEVANTE_CARGA              0.00\n",
       "RELEVANTE_PASAJERA           0.00\n",
       "RELEVANTE_PESADO             0.00\n",
       "RELEVANTE_CAMIONETA          0.00\n",
       "RELEVANTE_MEDIANO            0.00\n",
       "RELEVANTE_OTROS              0.00\n",
       "RELEVANTE_LIVIANO            0.00\n",
       "RELEVANTE_CAMIONETA_DCAB     0.00\n",
       "RELEVANTE_FORESTAL           0.00\n",
       "RELEVANTE_CAMABAJA           0.00\n",
       "MARCA_AGRUPADA               0.00\n",
       "FLOTA_NUEVA                 44.88\n",
       "ANTIGUEDAD_FLOTA            44.88\n",
       "COMPRO_NUM                   0.00\n",
       "CAMPANAS_U180D              79.70\n",
       "CAMPANAS_U180D_C            79.93\n",
       "SERVICIOS_PV                 0.00\n",
       "REGION                       0.82\n",
       "USADO_NUEVO                  0.00\n",
       "DESC_TIPO_VEHICULO           0.82\n",
       "NUM_OFERTAS_U12M             0.00\n",
       "COMPRAS_REALIZADAS_U12M      0.00\n",
       "TIPO_CREDITO_USADO_ANT      40.71\n",
       "dtype: float64"
      ]
     },
     "execution_count": 8,
     "metadata": {},
     "output_type": "execute_result"
    }
   ],
   "source": [
    "#no elimino estos datos porque vienen de rvm, miss significa que no tiene\n",
    "df['RELEVANTE_BUSES'] = df['RELEVANTE_BUSES'].replace(np.nan,0)\n",
    "df['RELEVANTE_CAMIONES'] = df['RELEVANTE_CAMIONES'].replace(np.nan,0)\n",
    "df['RELEVANTE_RODADOS'] = df['RELEVANTE_RODADOS'].replace(np.nan,0)\n",
    "df['RELEVANTE_VANS'] = df['RELEVANTE_VANS'].replace(np.nan,0)\n",
    "df['RELEVANTE_CARGA'] = df['RELEVANTE_CARGA'].replace(np.nan,0)\n",
    "df['RELEVANTE_PASAJERA'] = df['RELEVANTE_PASAJERA'].replace(np.nan,0)\n",
    "df['RELEVANTE_PESADO'] = df['RELEVANTE_PESADO'].replace(np.nan,0)\n",
    "df['RELEVANTE_CAMIONETA'] = df['RELEVANTE_CAMIONETA'].replace(np.nan,0)\n",
    "df['RELEVANTE_MEDIANO'] = df['RELEVANTE_MEDIANO'].replace(np.nan,0)\n",
    "df['RELEVANTE_OTROS'] = df['RELEVANTE_OTROS'].replace(np.nan,0)\n",
    "df['RELEVANTE_LIVIANO'] = df['RELEVANTE_LIVIANO'].replace(np.nan,0)\n",
    "df['RELEVANTE_CAMIONETA_DCAB'] = df['RELEVANTE_CAMIONETA_DCAB'].replace(np.nan,0)\n",
    "df['RELEVANTE_FORESTAL'] = df['RELEVANTE_FORESTAL'].replace(np.nan,0)\n",
    "df['RELEVANTE_CAMABAJA'] = df['RELEVANTE_CAMABAJA'].replace(np.nan,0)\n",
    "#porcentaje de missing\n",
    "round(100*(df.isnull().sum()/len(df.index)), 2)"
   ]
  },
  {
   "cell_type": "code",
   "execution_count": 9,
   "metadata": {},
   "outputs": [
    {
     "name": "stdout",
     "output_type": "stream",
     "text": [
      "<class 'pandas.core.frame.DataFrame'>\n",
      "Int64Index: 7311 entries, 15 to 212018\n",
      "Data columns (total 33 columns):\n",
      " #   Column                    Non-Null Count  Dtype  \n",
      "---  ------                    --------------  -----  \n",
      " 0   RUBRO_ECON                7311 non-null   object \n",
      " 1   ANTIGUEDAD_E              7311 non-null   object \n",
      " 2   TRAMO_VENTA               4772 non-null   float64\n",
      " 3   NUM_TRABAJADORES          4772 non-null   float64\n",
      " 4   TOTAL_UTILITARIOS         4030 non-null   float64\n",
      " 5   UTILITARIOS_EXCLUSION     3103 non-null   float64\n",
      " 6   RELEVANTE_BUSES           7311 non-null   float64\n",
      " 7   RELEVANTE_CAMIONES        7311 non-null   float64\n",
      " 8   RELEVANTE_RODADOS         7311 non-null   float64\n",
      " 9   RELEVANTE_VANS            7311 non-null   float64\n",
      " 10  RELEVANTE_CARGA           7311 non-null   float64\n",
      " 11  RELEVANTE_PASAJERA        7311 non-null   float64\n",
      " 12  RELEVANTE_PESADO          7311 non-null   float64\n",
      " 13  RELEVANTE_CAMIONETA       7311 non-null   float64\n",
      " 14  RELEVANTE_MEDIANO         7311 non-null   float64\n",
      " 15  RELEVANTE_OTROS           7311 non-null   float64\n",
      " 16  RELEVANTE_LIVIANO         7311 non-null   float64\n",
      " 17  RELEVANTE_CAMIONETA_DCAB  7311 non-null   float64\n",
      " 18  RELEVANTE_FORESTAL        7311 non-null   float64\n",
      " 19  RELEVANTE_CAMABAJA        7311 non-null   float64\n",
      " 20  MARCA_AGRUPADA            7311 non-null   object \n",
      " 21  FLOTA_NUEVA               4030 non-null   float64\n",
      " 22  ANTIGUEDAD_FLOTA          4030 non-null   float64\n",
      " 23  COMPRO_NUM                7311 non-null   float64\n",
      " 24  CAMPANAS_U180D            1484 non-null   float64\n",
      " 25  CAMPANAS_U180D_C          1467 non-null   float64\n",
      " 26  SERVICIOS_PV              7311 non-null   float64\n",
      " 27  REGION                    7251 non-null   object \n",
      " 28  USADO_NUEVO               7311 non-null   object \n",
      " 29  DESC_TIPO_VEHICULO        7251 non-null   object \n",
      " 30  NUM_OFERTAS_U12M          7311 non-null   float64\n",
      " 31  COMPRAS_REALIZADAS_U12M   7311 non-null   float64\n",
      " 32  TIPO_CREDITO_USADO_ANT    4335 non-null   object \n",
      "dtypes: float64(26), object(7)\n",
      "memory usage: 1.9+ MB\n"
     ]
    }
   ],
   "source": [
    "df.info()"
   ]
  },
  {
   "cell_type": "markdown",
   "metadata": {},
   "source": [
    "### LIMPIEZA DE DATOS POR COLUMNA \n",
    "\n",
    "#### columnas numericas"
   ]
  },
  {
   "cell_type": "code",
   "execution_count": 10,
   "metadata": {},
   "outputs": [
    {
     "data": {
      "text/html": [
       "<div>\n",
       "<style scoped>\n",
       "    .dataframe tbody tr th:only-of-type {\n",
       "        vertical-align: middle;\n",
       "    }\n",
       "\n",
       "    .dataframe tbody tr th {\n",
       "        vertical-align: top;\n",
       "    }\n",
       "\n",
       "    .dataframe thead th {\n",
       "        text-align: right;\n",
       "    }\n",
       "</style>\n",
       "<table border=\"1\" class=\"dataframe\">\n",
       "  <thead>\n",
       "    <tr style=\"text-align: right;\">\n",
       "      <th></th>\n",
       "      <th>TRAMO_VENTA</th>\n",
       "      <th>NUM_TRABAJADORES</th>\n",
       "      <th>TOTAL_UTILITARIOS</th>\n",
       "      <th>FLOTA_NUEVA</th>\n",
       "      <th>ANTIGUEDAD_FLOTA</th>\n",
       "      <th>CAMPANAS_U180D</th>\n",
       "      <th>CAMPANAS_U180D_C</th>\n",
       "      <th>NUM_OFERTAS_U12M</th>\n",
       "      <th>COMPRAS_REALIZADAS_U12M</th>\n",
       "    </tr>\n",
       "  </thead>\n",
       "  <tbody>\n",
       "    <tr>\n",
       "      <th>count</th>\n",
       "      <td>4772.000000</td>\n",
       "      <td>4772.000000</td>\n",
       "      <td>4030.000000</td>\n",
       "      <td>4030.000000</td>\n",
       "      <td>4030.000000</td>\n",
       "      <td>1484.000000</td>\n",
       "      <td>1467.000000</td>\n",
       "      <td>7311.000000</td>\n",
       "      <td>7311.000000</td>\n",
       "    </tr>\n",
       "    <tr>\n",
       "      <th>mean</th>\n",
       "      <td>9.346396</td>\n",
       "      <td>444.035834</td>\n",
       "      <td>29.127047</td>\n",
       "      <td>0.414888</td>\n",
       "      <td>4.337853</td>\n",
       "      <td>4.365903</td>\n",
       "      <td>4.276074</td>\n",
       "      <td>92.616742</td>\n",
       "      <td>24.266037</td>\n",
       "    </tr>\n",
       "    <tr>\n",
       "      <th>std</th>\n",
       "      <td>3.577404</td>\n",
       "      <td>1079.696427</td>\n",
       "      <td>104.972822</td>\n",
       "      <td>0.492764</td>\n",
       "      <td>3.629290</td>\n",
       "      <td>5.146427</td>\n",
       "      <td>5.022812</td>\n",
       "      <td>337.274598</td>\n",
       "      <td>61.041261</td>\n",
       "    </tr>\n",
       "    <tr>\n",
       "      <th>min</th>\n",
       "      <td>1.000000</td>\n",
       "      <td>0.000000</td>\n",
       "      <td>1.000000</td>\n",
       "      <td>0.000000</td>\n",
       "      <td>0.000000</td>\n",
       "      <td>1.000000</td>\n",
       "      <td>1.000000</td>\n",
       "      <td>0.000000</td>\n",
       "      <td>0.000000</td>\n",
       "    </tr>\n",
       "    <tr>\n",
       "      <th>25%</th>\n",
       "      <td>7.000000</td>\n",
       "      <td>11.000000</td>\n",
       "      <td>1.000000</td>\n",
       "      <td>0.000000</td>\n",
       "      <td>1.000000</td>\n",
       "      <td>1.000000</td>\n",
       "      <td>1.000000</td>\n",
       "      <td>1.000000</td>\n",
       "      <td>0.000000</td>\n",
       "    </tr>\n",
       "    <tr>\n",
       "      <th>50%</th>\n",
       "      <td>11.000000</td>\n",
       "      <td>38.000000</td>\n",
       "      <td>3.000000</td>\n",
       "      <td>0.000000</td>\n",
       "      <td>3.764706</td>\n",
       "      <td>3.000000</td>\n",
       "      <td>3.000000</td>\n",
       "      <td>7.000000</td>\n",
       "      <td>0.000000</td>\n",
       "    </tr>\n",
       "    <tr>\n",
       "      <th>75%</th>\n",
       "      <td>13.000000</td>\n",
       "      <td>226.500000</td>\n",
       "      <td>17.000000</td>\n",
       "      <td>1.000000</td>\n",
       "      <td>6.500000</td>\n",
       "      <td>6.000000</td>\n",
       "      <td>5.000000</td>\n",
       "      <td>34.000000</td>\n",
       "      <td>6.000000</td>\n",
       "    </tr>\n",
       "    <tr>\n",
       "      <th>max</th>\n",
       "      <td>13.000000</td>\n",
       "      <td>13148.000000</td>\n",
       "      <td>3817.000000</td>\n",
       "      <td>1.000000</td>\n",
       "      <td>19.000000</td>\n",
       "      <td>50.000000</td>\n",
       "      <td>47.000000</td>\n",
       "      <td>2459.000000</td>\n",
       "      <td>371.000000</td>\n",
       "    </tr>\n",
       "  </tbody>\n",
       "</table>\n",
       "</div>"
      ],
      "text/plain": [
       "       TRAMO_VENTA  NUM_TRABAJADORES  TOTAL_UTILITARIOS  FLOTA_NUEVA  \\\n",
       "count  4772.000000       4772.000000        4030.000000  4030.000000   \n",
       "mean      9.346396        444.035834          29.127047     0.414888   \n",
       "std       3.577404       1079.696427         104.972822     0.492764   \n",
       "min       1.000000          0.000000           1.000000     0.000000   \n",
       "25%       7.000000         11.000000           1.000000     0.000000   \n",
       "50%      11.000000         38.000000           3.000000     0.000000   \n",
       "75%      13.000000        226.500000          17.000000     1.000000   \n",
       "max      13.000000      13148.000000        3817.000000     1.000000   \n",
       "\n",
       "       ANTIGUEDAD_FLOTA  CAMPANAS_U180D  CAMPANAS_U180D_C  NUM_OFERTAS_U12M  \\\n",
       "count       4030.000000     1484.000000       1467.000000       7311.000000   \n",
       "mean           4.337853        4.365903          4.276074         92.616742   \n",
       "std            3.629290        5.146427          5.022812        337.274598   \n",
       "min            0.000000        1.000000          1.000000          0.000000   \n",
       "25%            1.000000        1.000000          1.000000          1.000000   \n",
       "50%            3.764706        3.000000          3.000000          7.000000   \n",
       "75%            6.500000        6.000000          5.000000         34.000000   \n",
       "max           19.000000       50.000000         47.000000       2459.000000   \n",
       "\n",
       "       COMPRAS_REALIZADAS_U12M  \n",
       "count              7311.000000  \n",
       "mean                 24.266037  \n",
       "std                  61.041261  \n",
       "min                   0.000000  \n",
       "25%                   0.000000  \n",
       "50%                   0.000000  \n",
       "75%                   6.000000  \n",
       "max                 371.000000  "
      ]
     },
     "execution_count": 10,
     "metadata": {},
     "output_type": "execute_result"
    }
   ],
   "source": [
    "#ahora tratare de revisar cada columna para imputar en caso de que se pueda imputar\n",
    "df[['TRAMO_VENTA','NUM_TRABAJADORES','TOTAL_UTILITARIOS','FLOTA_NUEVA','ANTIGUEDAD_FLOTA','CAMPANAS_U180D',\n",
    "   'CAMPANAS_U180D_C','NUM_OFERTAS_U12M','COMPRAS_REALIZADAS_U12M']].describe()"
   ]
  },
  {
   "cell_type": "code",
   "execution_count": 11,
   "metadata": {
    "scrolled": false
   },
   "outputs": [
    {
     "data": {
      "image/png": "[encoded data removed]",
      "text/plain": [
       "<Figure size 864x756 with 9 Axes>"
      ]
     },
     "metadata": {
      "needs_background": "light"
     },
     "output_type": "display_data"
    }
   ],
   "source": [
    "fig, axs = plt.subplots(3,3, figsize = (12,10.5))\n",
    "plt2 = sns.boxplot(df['TRAMO_VENTA'], ax = axs[0,0])\n",
    "plt2 = sns.boxplot(df['NUM_TRABAJADORES'], ax = axs[0,1])\n",
    "plt2 = sns.boxplot(df['TOTAL_UTILITARIOS'], ax = axs[1,0])\n",
    "plt2 = sns.boxplot(df['ANTIGUEDAD_FLOTA'], ax = axs[2,1])\n",
    "plt2 = sns.boxplot(df['CAMPANAS_U180D_C'], ax = axs[1,2])\n",
    "plt2 = sns.boxplot(df['NUM_OFERTAS_U12M'], ax = axs[2,2])\n",
    "plt2 = sns.boxplot(df['CAMPANAS_U180D'], ax = axs[0,2])\n",
    "plt2 = sns.boxplot(df['COMPRAS_REALIZADAS_U12M'], ax = axs[2,0])\n",
    "\n",
    "plt.show()"
   ]
  },
  {
   "cell_type": "markdown",
   "metadata": {},
   "source": [
    "ahi un exceso de variabilidad en algunas columnas"
   ]
  },
  {
   "cell_type": "code",
   "execution_count": 12,
   "metadata": {},
   "outputs": [],
   "source": [
    "#estas variables no pueden ser imputadas porque indican que no tienen vehiculos, candidatas a irse de la base!!\n",
    "df['TOTAL_UTILITARIOS'] = df['TOTAL_UTILITARIOS'].replace(np.nan,0)\n",
    "df['UTILITARIOS_EXCLUSION'] = df['UTILITARIOS_EXCLUSION'].replace(np.nan,0)\n",
    "df['RELEVANTE_CAMIONES'] = df['RELEVANTE_CAMIONES'].replace(np.nan,0)\n",
    "df['RELEVANTE_OTROS'] = df['RELEVANTE_OTROS'].replace(np.nan,0)\n",
    "\n",
    "\n",
    "\n",
    "df['TRAMO_VENTA'] = df['TRAMO_VENTA'].replace(np.nan, np.mean(df['TRAMO_VENTA']))\n",
    "df['NUM_TRABAJADORES'] = df['NUM_TRABAJADORES'].replace(np.nan, np.mean(df['NUM_TRABAJADORES']))\n"
   ]
  },
  {
   "cell_type": "markdown",
   "metadata": {},
   "source": [
    "### columnas categoricas"
   ]
  },
  {
   "cell_type": "code",
   "execution_count": 13,
   "metadata": {},
   "outputs": [
    {
     "data": {
      "text/html": [
       "<div>\n",
       "<style scoped>\n",
       "    .dataframe tbody tr th:only-of-type {\n",
       "        vertical-align: middle;\n",
       "    }\n",
       "\n",
       "    .dataframe tbody tr th {\n",
       "        vertical-align: top;\n",
       "    }\n",
       "\n",
       "    .dataframe thead th {\n",
       "        text-align: right;\n",
       "    }\n",
       "</style>\n",
       "<table border=\"1\" class=\"dataframe\">\n",
       "  <thead>\n",
       "    <tr style=\"text-align: right;\">\n",
       "      <th></th>\n",
       "      <th>MARCA_AGRUPADA</th>\n",
       "      <th>DESC_TIPO_VEHICULO</th>\n",
       "    </tr>\n",
       "  </thead>\n",
       "  <tbody>\n",
       "    <tr>\n",
       "      <th>count</th>\n",
       "      <td>7311</td>\n",
       "      <td>7251</td>\n",
       "    </tr>\n",
       "    <tr>\n",
       "      <th>unique</th>\n",
       "      <td>2</td>\n",
       "      <td>6</td>\n",
       "    </tr>\n",
       "    <tr>\n",
       "      <th>top</th>\n",
       "      <td>MITSUBISHI-FUSO</td>\n",
       "      <td>BUS</td>\n",
       "    </tr>\n",
       "    <tr>\n",
       "      <th>freq</th>\n",
       "      <td>4923</td>\n",
       "      <td>6439</td>\n",
       "    </tr>\n",
       "  </tbody>\n",
       "</table>\n",
       "</div>"
      ],
      "text/plain": [
       "         MARCA_AGRUPADA DESC_TIPO_VEHICULO\n",
       "count              7311               7251\n",
       "unique                2                  6\n",
       "top     MITSUBISHI-FUSO                BUS\n",
       "freq               4923               6439"
      ]
     },
     "execution_count": 13,
     "metadata": {},
     "output_type": "execute_result"
    }
   ],
   "source": [
    "df[['MARCA_AGRUPADA','DESC_TIPO_VEHICULO']].describe()"
   ]
  },
  {
   "cell_type": "code",
   "execution_count": 14,
   "metadata": {},
   "outputs": [
    {
     "data": {
      "text/html": [
       "<div>\n",
       "<style scoped>\n",
       "    .dataframe tbody tr th:only-of-type {\n",
       "        vertical-align: middle;\n",
       "    }\n",
       "\n",
       "    .dataframe tbody tr th {\n",
       "        vertical-align: top;\n",
       "    }\n",
       "\n",
       "    .dataframe thead th {\n",
       "        text-align: right;\n",
       "    }\n",
       "</style>\n",
       "<table border=\"1\" class=\"dataframe\">\n",
       "  <thead>\n",
       "    <tr style=\"text-align: right;\">\n",
       "      <th></th>\n",
       "      <th>COMPRO_NUM</th>\n",
       "    </tr>\n",
       "    <tr>\n",
       "      <th>MARCA_AGRUPADA</th>\n",
       "      <th></th>\n",
       "    </tr>\n",
       "  </thead>\n",
       "  <tbody>\n",
       "    <tr>\n",
       "      <th>MERCEDES-BENZ</th>\n",
       "      <td>0.292714</td>\n",
       "    </tr>\n",
       "    <tr>\n",
       "      <th>MITSUBISHI-FUSO</th>\n",
       "      <td>0.082673</td>\n",
       "    </tr>\n",
       "  </tbody>\n",
       "</table>\n",
       "</div>"
      ],
      "text/plain": [
       "                 COMPRO_NUM\n",
       "MARCA_AGRUPADA             \n",
       "MERCEDES-BENZ      0.292714\n",
       "MITSUBISHI-FUSO    0.082673"
      ]
     },
     "execution_count": 14,
     "metadata": {},
     "output_type": "execute_result"
    }
   ],
   "source": [
    "avr_mar=pd.DataFrame(df.groupby('MARCA_AGRUPADA')[\"COMPRO_NUM\"].mean())\n",
    "avr_mar=avr_mar.sort_values(\"COMPRO_NUM\",ascending=False)\n",
    "avr_mar.head(50)"
   ]
  },
  {
   "cell_type": "code",
   "execution_count": 15,
   "metadata": {},
   "outputs": [
    {
     "data": {
      "image/png": "[encoded data removed]",
      "text/plain": [
       "<Figure size 432x288 with 1 Axes>"
      ]
     },
     "metadata": {
      "needs_background": "light"
     },
     "output_type": "display_data"
    }
   ],
   "source": [
    "df['DESC_TIPO_VEHICULO'] = df['DESC_TIPO_VEHICULO'].replace(np.nan,'CAMION')\n",
    "plt1 = sns.countplot(df['DESC_TIPO_VEHICULO'])\n",
    "plt.show()"
   ]
  },
  {
   "cell_type": "code",
   "execution_count": 16,
   "metadata": {},
   "outputs": [
    {
     "data": {
      "text/html": [
       "<div>\n",
       "<style scoped>\n",
       "    .dataframe tbody tr th:only-of-type {\n",
       "        vertical-align: middle;\n",
       "    }\n",
       "\n",
       "    .dataframe tbody tr th {\n",
       "        vertical-align: top;\n",
       "    }\n",
       "\n",
       "    .dataframe thead th {\n",
       "        text-align: right;\n",
       "    }\n",
       "</style>\n",
       "<table border=\"1\" class=\"dataframe\">\n",
       "  <thead>\n",
       "    <tr style=\"text-align: right;\">\n",
       "      <th></th>\n",
       "      <th>FLOTA_NUEVA</th>\n",
       "      <th>ANTIGUEDAD_FLOTA</th>\n",
       "    </tr>\n",
       "  </thead>\n",
       "  <tbody>\n",
       "    <tr>\n",
       "      <th>count</th>\n",
       "      <td>4030.000000</td>\n",
       "      <td>4030.000000</td>\n",
       "    </tr>\n",
       "    <tr>\n",
       "      <th>mean</th>\n",
       "      <td>0.414888</td>\n",
       "      <td>4.337853</td>\n",
       "    </tr>\n",
       "    <tr>\n",
       "      <th>std</th>\n",
       "      <td>0.492764</td>\n",
       "      <td>3.629290</td>\n",
       "    </tr>\n",
       "    <tr>\n",
       "      <th>min</th>\n",
       "      <td>0.000000</td>\n",
       "      <td>0.000000</td>\n",
       "    </tr>\n",
       "    <tr>\n",
       "      <th>25%</th>\n",
       "      <td>0.000000</td>\n",
       "      <td>1.000000</td>\n",
       "    </tr>\n",
       "    <tr>\n",
       "      <th>50%</th>\n",
       "      <td>0.000000</td>\n",
       "      <td>3.764706</td>\n",
       "    </tr>\n",
       "    <tr>\n",
       "      <th>75%</th>\n",
       "      <td>1.000000</td>\n",
       "      <td>6.500000</td>\n",
       "    </tr>\n",
       "    <tr>\n",
       "      <th>max</th>\n",
       "      <td>1.000000</td>\n",
       "      <td>19.000000</td>\n",
       "    </tr>\n",
       "  </tbody>\n",
       "</table>\n",
       "</div>"
      ],
      "text/plain": [
       "       FLOTA_NUEVA  ANTIGUEDAD_FLOTA\n",
       "count  4030.000000       4030.000000\n",
       "mean      0.414888          4.337853\n",
       "std       0.492764          3.629290\n",
       "min       0.000000          0.000000\n",
       "25%       0.000000          1.000000\n",
       "50%       0.000000          3.764706\n",
       "75%       1.000000          6.500000\n",
       "max       1.000000         19.000000"
      ]
     },
     "execution_count": 16,
     "metadata": {},
     "output_type": "execute_result"
    }
   ],
   "source": [
    "df[['FLOTA_NUEVA','ANTIGUEDAD_FLOTA']].describe()"
   ]
  },
  {
   "cell_type": "code",
   "execution_count": 17,
   "metadata": {},
   "outputs": [],
   "source": [
    "# estos valores corresponden a flotas, si estan vacion significa que no tienen flota o bien no tienen flota nueva\n",
    "df['FLOTA_NUEVA'] = df['FLOTA_NUEVA'].replace(np.nan,0)\n",
    "\n",
    "#se debe trabajar en esto\n",
    "df['CAMPANAS_U180D'] = df['CAMPANAS_U180D'].replace(np.nan,0)\n",
    "df['CAMPANAS_U180D_C'] = df['CAMPANAS_U180D_C'].replace(np.nan,0)\n",
    "df['ANTIGUEDAD_FLOTA'] = df['ANTIGUEDAD_FLOTA'].replace(np.nan,0)"
   ]
  },
  {
   "cell_type": "code",
   "execution_count": 18,
   "metadata": {},
   "outputs": [
    {
     "data": {
      "image/png": "[encoded data removed]",
      "text/plain": [
       "<Figure size 432x288 with 1 Axes>"
      ]
     },
     "metadata": {
      "needs_background": "light"
     },
     "output_type": "display_data"
    },
    {
     "data": {
      "text/html": [
       "<div>\n",
       "<style scoped>\n",
       "    .dataframe tbody tr th:only-of-type {\n",
       "        vertical-align: middle;\n",
       "    }\n",
       "\n",
       "    .dataframe tbody tr th {\n",
       "        vertical-align: top;\n",
       "    }\n",
       "\n",
       "    .dataframe thead th {\n",
       "        text-align: right;\n",
       "    }\n",
       "</style>\n",
       "<table border=\"1\" class=\"dataframe\">\n",
       "  <thead>\n",
       "    <tr style=\"text-align: right;\">\n",
       "      <th></th>\n",
       "      <th>REGION</th>\n",
       "    </tr>\n",
       "  </thead>\n",
       "  <tbody>\n",
       "    <tr>\n",
       "      <th>count</th>\n",
       "      <td>7251</td>\n",
       "    </tr>\n",
       "    <tr>\n",
       "      <th>unique</th>\n",
       "      <td>16</td>\n",
       "    </tr>\n",
       "    <tr>\n",
       "      <th>top</th>\n",
       "      <td>Metropolitana de Santiago</td>\n",
       "    </tr>\n",
       "    <tr>\n",
       "      <th>freq</th>\n",
       "      <td>3213</td>\n",
       "    </tr>\n",
       "  </tbody>\n",
       "</table>\n",
       "</div>"
      ],
      "text/plain": [
       "                            REGION\n",
       "count                         7251\n",
       "unique                          16\n",
       "top      Metropolitana de Santiago\n",
       "freq                          3213"
      ]
     },
     "execution_count": 18,
     "metadata": {},
     "output_type": "execute_result"
    }
   ],
   "source": [
    "plt1 = sns.countplot(df['REGION'])\n",
    "plt.show(),\n",
    "df[['REGION']].describe()"
   ]
  },
  {
   "cell_type": "code",
   "execution_count": 19,
   "metadata": {},
   "outputs": [],
   "source": [
    "df['REGION'] = df['REGION'].replace(np.nan,'NA')"
   ]
  },
  {
   "cell_type": "code",
   "execution_count": 20,
   "metadata": {},
   "outputs": [
    {
     "data": {
      "text/html": [
       "<div>\n",
       "<style scoped>\n",
       "    .dataframe tbody tr th:only-of-type {\n",
       "        vertical-align: middle;\n",
       "    }\n",
       "\n",
       "    .dataframe tbody tr th {\n",
       "        vertical-align: top;\n",
       "    }\n",
       "\n",
       "    .dataframe thead th {\n",
       "        text-align: right;\n",
       "    }\n",
       "</style>\n",
       "<table border=\"1\" class=\"dataframe\">\n",
       "  <thead>\n",
       "    <tr style=\"text-align: right;\">\n",
       "      <th></th>\n",
       "      <th>DESC_TIPO_VEHICULO</th>\n",
       "    </tr>\n",
       "  </thead>\n",
       "  <tbody>\n",
       "    <tr>\n",
       "      <th>count</th>\n",
       "      <td>7311</td>\n",
       "    </tr>\n",
       "    <tr>\n",
       "      <th>unique</th>\n",
       "      <td>6</td>\n",
       "    </tr>\n",
       "    <tr>\n",
       "      <th>top</th>\n",
       "      <td>BUS</td>\n",
       "    </tr>\n",
       "    <tr>\n",
       "      <th>freq</th>\n",
       "      <td>6439</td>\n",
       "    </tr>\n",
       "  </tbody>\n",
       "</table>\n",
       "</div>"
      ],
      "text/plain": [
       "       DESC_TIPO_VEHICULO\n",
       "count                7311\n",
       "unique                  6\n",
       "top                   BUS\n",
       "freq                 6439"
      ]
     },
     "execution_count": 20,
     "metadata": {},
     "output_type": "execute_result"
    }
   ],
   "source": [
    "df[['DESC_TIPO_VEHICULO']].describe()"
   ]
  },
  {
   "cell_type": "code",
   "execution_count": 21,
   "metadata": {},
   "outputs": [],
   "source": [
    "df['DESC_TIPO_VEHICULO'] = df['DESC_TIPO_VEHICULO'].replace(np.nan,'NA')"
   ]
  },
  {
   "cell_type": "code",
   "execution_count": 22,
   "metadata": {},
   "outputs": [
    {
     "data": {
      "text/html": [
       "<div>\n",
       "<style scoped>\n",
       "    .dataframe tbody tr th:only-of-type {\n",
       "        vertical-align: middle;\n",
       "    }\n",
       "\n",
       "    .dataframe tbody tr th {\n",
       "        vertical-align: top;\n",
       "    }\n",
       "\n",
       "    .dataframe thead th {\n",
       "        text-align: right;\n",
       "    }\n",
       "</style>\n",
       "<table border=\"1\" class=\"dataframe\">\n",
       "  <thead>\n",
       "    <tr style=\"text-align: right;\">\n",
       "      <th></th>\n",
       "      <th>TIPO_CREDITO_USADO_ANT</th>\n",
       "    </tr>\n",
       "  </thead>\n",
       "  <tbody>\n",
       "    <tr>\n",
       "      <th>count</th>\n",
       "      <td>4335</td>\n",
       "    </tr>\n",
       "    <tr>\n",
       "      <th>unique</th>\n",
       "      <td>7</td>\n",
       "    </tr>\n",
       "    <tr>\n",
       "      <th>top</th>\n",
       "      <td>CONTADO</td>\n",
       "    </tr>\n",
       "    <tr>\n",
       "      <th>freq</th>\n",
       "      <td>2811</td>\n",
       "    </tr>\n",
       "  </tbody>\n",
       "</table>\n",
       "</div>"
      ],
      "text/plain": [
       "       TIPO_CREDITO_USADO_ANT\n",
       "count                    4335\n",
       "unique                      7\n",
       "top                   CONTADO\n",
       "freq                     2811"
      ]
     },
     "execution_count": 22,
     "metadata": {},
     "output_type": "execute_result"
    }
   ],
   "source": [
    "df[['TIPO_CREDITO_USADO_ANT']].describe()"
   ]
  },
  {
   "cell_type": "code",
   "execution_count": 23,
   "metadata": {},
   "outputs": [],
   "source": [
    "df['TIPO_CREDITO_USADO_ANT'] = df['TIPO_CREDITO_USADO_ANT'].replace(np.nan,'NA')"
   ]
  },
  {
   "cell_type": "code",
   "execution_count": 24,
   "metadata": {},
   "outputs": [
    {
     "name": "stdout",
     "output_type": "stream",
     "text": [
      "<class 'pandas.core.frame.DataFrame'>\n",
      "Int64Index: 7311 entries, 15 to 212018\n",
      "Data columns (total 33 columns):\n",
      " #   Column                    Non-Null Count  Dtype  \n",
      "---  ------                    --------------  -----  \n",
      " 0   RUBRO_ECON                7311 non-null   object \n",
      " 1   ANTIGUEDAD_E              7311 non-null   object \n",
      " 2   TRAMO_VENTA               7311 non-null   float64\n",
      " 3   NUM_TRABAJADORES          7311 non-null   float64\n",
      " 4   TOTAL_UTILITARIOS         7311 non-null   float64\n",
      " 5   UTILITARIOS_EXCLUSION     7311 non-null   float64\n",
      " 6   RELEVANTE_BUSES           7311 non-null   float64\n",
      " 7   RELEVANTE_CAMIONES        7311 non-null   float64\n",
      " 8   RELEVANTE_RODADOS         7311 non-null   float64\n",
      " 9   RELEVANTE_VANS            7311 non-null   float64\n",
      " 10  RELEVANTE_CARGA           7311 non-null   float64\n",
      " 11  RELEVANTE_PASAJERA        7311 non-null   float64\n",
      " 12  RELEVANTE_PESADO          7311 non-null   float64\n",
      " 13  RELEVANTE_CAMIONETA       7311 non-null   float64\n",
      " 14  RELEVANTE_MEDIANO         7311 non-null   float64\n",
      " 15  RELEVANTE_OTROS           7311 non-null   float64\n",
      " 16  RELEVANTE_LIVIANO         7311 non-null   float64\n",
      " 17  RELEVANTE_CAMIONETA_DCAB  7311 non-null   float64\n",
      " 18  RELEVANTE_FORESTAL        7311 non-null   float64\n",
      " 19  RELEVANTE_CAMABAJA        7311 non-null   float64\n",
      " 20  MARCA_AGRUPADA            7311 non-null   object \n",
      " 21  FLOTA_NUEVA               7311 non-null   float64\n",
      " 22  ANTIGUEDAD_FLOTA          7311 non-null   float64\n",
      " 23  COMPRO_NUM                7311 non-null   float64\n",
      " 24  CAMPANAS_U180D            7311 non-null   float64\n",
      " 25  CAMPANAS_U180D_C          7311 non-null   float64\n",
      " 26  SERVICIOS_PV              7311 non-null   float64\n",
      " 27  REGION                    7311 non-null   object \n",
      " 28  USADO_NUEVO               7311 non-null   object \n",
      " 29  DESC_TIPO_VEHICULO        7311 non-null   object \n",
      " 30  NUM_OFERTAS_U12M          7311 non-null   float64\n",
      " 31  COMPRAS_REALIZADAS_U12M   7311 non-null   float64\n",
      " 32  TIPO_CREDITO_USADO_ANT    7311 non-null   object \n",
      "dtypes: float64(26), object(7)\n",
      "memory usage: 2.2+ MB\n"
     ]
    }
   ],
   "source": [
    "#cantidad de missing\n",
    "df.info()"
   ]
  },
  {
   "cell_type": "code",
   "execution_count": 25,
   "metadata": {},
   "outputs": [],
   "source": [
    "numericas = [['NUM_TRABAJADORES',\n",
    "'TOTAL_UTILITARIOS',\n",
    "'UTILITARIOS_EXCLUSION',\n",
    "'RELEVANTE_BUSES',\n",
    "'RELEVANTE_CAMIONES',\n",
    "'RELEVANTE_RODADOS',\n",
    "'RELEVANTE_VANS',\n",
    "'RELEVANTE_CARGA',\n",
    "'RELEVANTE_PASAJERA',\n",
    "'RELEVANTE_PESADO',\n",
    "'RELEVANTE_CAMIONETA',\n",
    "'RELEVANTE_MEDIANO',\n",
    "'RELEVANTE_OTROS',\n",
    "'RELEVANTE_LIVIANO',\n",
    "'RELEVANTE_CAMIONETA_DCAB',\n",
    "'RELEVANTE_FORESTAL',\n",
    "'RELEVANTE_CAMABAJA',\n",
    "'FLOTA_NUEVA',\n",
    "'ANTIGUEDAD_FLOTA',\n",
    "'CAMPANAS_U180D',\n",
    "'CAMPANAS_U180D_C',\n",
    "'NUM_OFERTAS_U12M',\n",
    "'COMPRAS_REALIZADAS_U12M',\n",
    "'CAMPANAS_U180D_C',\n",
    "'NUM_OFERTAS_U12M',\n",
    "'COMPRAS_REALIZADAS_U12M']]\n",
    "\n",
    "df1=df\n",
    "\n",
    "for i in numericas:\n",
    "    df1[i]=(df[i]-df1[i].mean())/df1[i].std()"
   ]
  },
  {
   "cell_type": "code",
   "execution_count": 26,
   "metadata": {},
   "outputs": [
    {
     "name": "stdout",
     "output_type": "stream",
     "text": [
      "<class 'pandas.core.frame.DataFrame'>\n",
      "Int64Index: 7311 entries, 15 to 212018\n",
      "Data columns (total 33 columns):\n",
      " #   Column                    Non-Null Count  Dtype  \n",
      "---  ------                    --------------  -----  \n",
      " 0   RUBRO_ECON                7311 non-null   object \n",
      " 1   ANTIGUEDAD_E              7311 non-null   object \n",
      " 2   TRAMO_VENTA               7311 non-null   float64\n",
      " 3   NUM_TRABAJADORES          7311 non-null   float64\n",
      " 4   TOTAL_UTILITARIOS         7311 non-null   float64\n",
      " 5   UTILITARIOS_EXCLUSION     7311 non-null   float64\n",
      " 6   RELEVANTE_BUSES           7311 non-null   float64\n",
      " 7   RELEVANTE_CAMIONES        7311 non-null   float64\n",
      " 8   RELEVANTE_RODADOS         7311 non-null   float64\n",
      " 9   RELEVANTE_VANS            7311 non-null   float64\n",
      " 10  RELEVANTE_CARGA           7311 non-null   float64\n",
      " 11  RELEVANTE_PASAJERA        7311 non-null   float64\n",
      " 12  RELEVANTE_PESADO          7311 non-null   float64\n",
      " 13  RELEVANTE_CAMIONETA       7311 non-null   float64\n",
      " 14  RELEVANTE_MEDIANO         7311 non-null   float64\n",
      " 15  RELEVANTE_OTROS           7311 non-null   float64\n",
      " 16  RELEVANTE_LIVIANO         7311 non-null   float64\n",
      " 17  RELEVANTE_CAMIONETA_DCAB  7311 non-null   float64\n",
      " 18  RELEVANTE_FORESTAL        7311 non-null   float64\n",
      " 19  RELEVANTE_CAMABAJA        7311 non-null   float64\n",
      " 20  MARCA_AGRUPADA            7311 non-null   object \n",
      " 21  FLOTA_NUEVA               7311 non-null   float64\n",
      " 22  ANTIGUEDAD_FLOTA          7311 non-null   float64\n",
      " 23  COMPRO_NUM                7311 non-null   float64\n",
      " 24  CAMPANAS_U180D            7311 non-null   float64\n",
      " 25  CAMPANAS_U180D_C          7311 non-null   float64\n",
      " 26  SERVICIOS_PV              7311 non-null   float64\n",
      " 27  REGION                    7311 non-null   object \n",
      " 28  USADO_NUEVO               7311 non-null   object \n",
      " 29  DESC_TIPO_VEHICULO        7311 non-null   object \n",
      " 30  NUM_OFERTAS_U12M          7311 non-null   float64\n",
      " 31  COMPRAS_REALIZADAS_U12M   7311 non-null   float64\n",
      " 32  TIPO_CREDITO_USADO_ANT    7311 non-null   object \n",
      "dtypes: float64(26), object(7)\n",
      "memory usage: 2.2+ MB\n"
     ]
    }
   ],
   "source": [
    "df1.info()"
   ]
  },
  {
   "cell_type": "markdown",
   "metadata": {},
   "source": [
    "## Exploración\n",
    "Practicamente todos los grupos tienen una baja conversion pero existen diferencias en promedio"
   ]
  },
  {
   "cell_type": "markdown",
   "metadata": {},
   "source": [
    "### Análisis por columna"
   ]
  },
  {
   "cell_type": "markdown",
   "metadata": {},
   "source": [
    " la variable COMPRO_NUM corresponde a una variable indicadora de si compra o no lo ofertado\n",
    "#(1) compra (0) no compra"
   ]
  },
  {
   "cell_type": "code",
   "execution_count": 27,
   "metadata": {},
   "outputs": [
    {
     "data": {
      "text/plain": [
       "15.127889481603063"
      ]
     },
     "execution_count": 27,
     "metadata": {},
     "output_type": "execute_result"
    }
   ],
   "source": [
    "conversion = (sum(df1['COMPRO_NUM'])/len(df1['COMPRO_NUM'].index))*100\n",
    "conversion"
   ]
  },
  {
   "cell_type": "markdown",
   "metadata": {},
   "source": [
    "Una conversion tan baja requiere balance de la información"
   ]
  },
  {
   "cell_type": "markdown",
   "metadata": {},
   "source": [
    "#### RUBRO_ECON"
   ]
  },
  {
   "cell_type": "code",
   "execution_count": 28,
   "metadata": {},
   "outputs": [
    {
     "data": {
      "image/png": "[encoded data removed]",
      "text/plain": [
       "<Figure size 432x288 with 1 Axes>"
      ]
     },
     "metadata": {
      "needs_background": "light"
     },
     "output_type": "display_data"
    }
   ],
   "source": [
    "sns.countplot(x = \"RUBRO_ECON\", hue = \"COMPRO_NUM\", data = df1)\n",
    "xticks(rotation = 90)\n",
    "plt.show()"
   ]
  },
  {
   "cell_type": "code",
   "execution_count": 29,
   "metadata": {},
   "outputs": [
    {
     "data": {
      "text/plain": [
       "RUBRO_ECON\n",
       "A    0.102041\n",
       "B    0.032609\n",
       "C    0.238806\n",
       "E    0.139535\n",
       "F    0.062842\n",
       "G    0.268234\n",
       "H    0.142857\n",
       "I    0.000000\n",
       "J    0.000000\n",
       "K    0.000000\n",
       "L    0.000000\n",
       "M    0.000000\n",
       "N    0.108696\n",
       "O    0.052632\n",
       "P    0.072289\n",
       "Q    0.000000\n",
       "R    0.000000\n",
       "S    0.050000\n",
       "U    0.000000\n",
       "Z    0.089947\n",
       "Name: COMPRO_NUM, dtype: float64"
      ]
     },
     "execution_count": 29,
     "metadata": {},
     "output_type": "execute_result"
    }
   ],
   "source": [
    "df1.groupby('RUBRO_ECON')[\"COMPRO_NUM\"].mean() "
   ]
  },
  {
   "cell_type": "markdown",
   "metadata": {},
   "source": [
    "#### ANTIGUEDAD_E"
   ]
  },
  {
   "cell_type": "code",
   "execution_count": 30,
   "metadata": {},
   "outputs": [
    {
     "data": {
      "image/png": "[encoded data removed]",
      "text/plain": [
       "<Figure size 432x288 with 1 Axes>"
      ]
     },
     "metadata": {
      "needs_background": "light"
     },
     "output_type": "display_data"
    },
    {
     "data": {
      "text/plain": [
       "ANTIGUEDAD_E\n",
       "ENTRE 15 Y 25 A    0.155360\n",
       "ENTRE 5 Y 15 AÑ    0.095967\n",
       "MAYOR A 25 AÑOS    0.048893\n",
       "MENOS DE 5 AÑOS    0.191222\n",
       "Name: COMPRO_NUM, dtype: float64"
      ]
     },
     "execution_count": 30,
     "metadata": {},
     "output_type": "execute_result"
    }
   ],
   "source": [
    "# la variable la optimize desde sas\n",
    "sns.countplot(x = \"ANTIGUEDAD_E\", hue = \"COMPRO_NUM\", data = df1)\n",
    "xticks(rotation = 90)\n",
    "plt.show(),\n",
    "df1.groupby('ANTIGUEDAD_E')[\"COMPRO_NUM\"].mean() \n"
   ]
  },
  {
   "cell_type": "markdown",
   "metadata": {},
   "source": [
    "#### TRAMO_VENTA"
   ]
  },
  {
   "cell_type": "code",
   "execution_count": 31,
   "metadata": {},
   "outputs": [
    {
     "data": {
      "text/plain": [
       "TRAMO_VENTA\n",
       "1.000000     0.081633\n",
       "2.000000     0.048387\n",
       "3.000000     0.062500\n",
       "4.000000     0.055749\n",
       "5.000000     0.101504\n",
       "6.000000     0.070922\n",
       "7.000000     0.084507\n",
       "8.000000     0.088235\n",
       "9.000000     0.079070\n",
       "9.346396     0.092556\n",
       "10.000000    0.283784\n",
       "11.000000    0.387222\n",
       "12.000000    0.375000\n",
       "13.000000    0.103175\n",
       "Name: COMPRO_NUM, dtype: float64"
      ]
     },
     "execution_count": 31,
     "metadata": {},
     "output_type": "execute_result"
    }
   ],
   "source": [
    "df1.groupby('TRAMO_VENTA')[\"COMPRO_NUM\"].mean() "
   ]
  },
  {
   "cell_type": "code",
   "execution_count": 32,
   "metadata": {
    "scrolled": true
   },
   "outputs": [
    {
     "data": {
      "text/plain": [
       "<function matplotlib.pyplot.show(*args, **kw)>"
      ]
     },
     "execution_count": 32,
     "metadata": {},
     "output_type": "execute_result"
    },
    {
     "data": {
      "image/png": "[encoded data removed]",
      "text/plain": [
       "<Figure size 432x288 with 1 Axes>"
      ]
     },
     "metadata": {
      "needs_background": "light"
     },
     "output_type": "display_data"
    }
   ],
   "source": [
    "plt.hist(df1[\"TRAMO_VENTA\"])\n",
    "plt.show"
   ]
  },
  {
   "cell_type": "markdown",
   "metadata": {},
   "source": [
    "### Numero de trabajadores"
   ]
  },
  {
   "cell_type": "code",
   "execution_count": 33,
   "metadata": {},
   "outputs": [
    {
     "data": {
      "text/plain": [
       "<function matplotlib.pyplot.show(*args, **kw)>"
      ]
     },
     "execution_count": 33,
     "metadata": {},
     "output_type": "execute_result"
    },
    {
     "data": {
      "image/png": "[encoded data removed]",
      "text/plain": [
       "<Figure size 432x288 with 1 Axes>"
      ]
     },
     "metadata": {
      "needs_background": "light"
     },
     "output_type": "display_data"
    }
   ],
   "source": [
    "plt.hist(df1[\"NUM_TRABAJADORES\"],bins=200)\n",
    "plt.show\n",
    "\n"
   ]
  },
  {
   "cell_type": "markdown",
   "metadata": {},
   "source": [
    "Existen aoutliers es esta variable"
   ]
  },
  {
   "cell_type": "markdown",
   "metadata": {},
   "source": [
    "### REGION"
   ]
  },
  {
   "cell_type": "code",
   "execution_count": 34,
   "metadata": {},
   "outputs": [
    {
     "data": {
      "image/png": "[encoded data removed]",
      "text/plain": [
       "<Figure size 432x288 with 1 Axes>"
      ]
     },
     "metadata": {
      "needs_background": "light"
     },
     "output_type": "display_data"
    },
    {
     "data": {
      "text/plain": [
       "REGION\n",
       "NA                                     0.066667\n",
       " Antofagasta                           0.069351\n",
       " Arica y Parinacota                    0.000000\n",
       " Atacama                               0.045455\n",
       " Aysén del Gral. C. Ibáñez del Camp    0.060606\n",
       " Biobío                                0.045045\n",
       " Coquimbo                              0.105839\n",
       " La Araucanía                          0.109375\n",
       " Lib. Gral. Bernardo O'Higgins         0.067729\n",
       " Los Lagos                             0.129108\n",
       " Los Ríos                              0.088000\n",
       " Magallanes y Antártica Chilena        0.131148\n",
       " Maule                                 0.094150\n",
       " Metropolitana de Santiago             0.223156\n",
       " Tarapacá                              0.062500\n",
       " Valparaíso                            0.112329\n",
       " Ñuble                                 0.041667\n",
       "Name: COMPRO_NUM, dtype: float64"
      ]
     },
     "execution_count": 34,
     "metadata": {},
     "output_type": "execute_result"
    }
   ],
   "source": [
    "# la variable la optimize desde sas\n",
    "sns.countplot(x = \"REGION\", hue = \"COMPRO_NUM\", data = df1)\n",
    "xticks(rotation = 90)\n",
    "plt.show(),\n",
    "df1.groupby('REGION')[\"COMPRO_NUM\"].mean() \n"
   ]
  },
  {
   "cell_type": "markdown",
   "metadata": {},
   "source": [
    "### Tipo credito usado anteriormente"
   ]
  },
  {
   "cell_type": "code",
   "execution_count": 35,
   "metadata": {},
   "outputs": [
    {
     "data": {
      "image/png": "[encoded data removed]",
      "text/plain": [
       "<Figure size 432x288 with 1 Axes>"
      ]
     },
     "metadata": {
      "needs_background": "light"
     },
     "output_type": "display_data"
    },
    {
     "data": {
      "text/plain": [
       "TIPO_CREDITO_USADO_ANT\n",
       "CHEQUES                           0.362887\n",
       "CONTADO                           0.228033\n",
       "LEASING FINANCIERO                0.565217\n",
       "LETRAS                            0.098214\n",
       "MUTUOS                            0.250000\n",
       "NA                                0.003024\n",
       "ORDEN DE COMPRA                   0.337143\n",
       "PAGARE/O.COMPRA/CREDITO SIMPLE    0.083333\n",
       "Name: COMPRO_NUM, dtype: float64"
      ]
     },
     "execution_count": 35,
     "metadata": {},
     "output_type": "execute_result"
    }
   ],
   "source": [
    "sns.countplot(x = \"TIPO_CREDITO_USADO_ANT\", hue = \"COMPRO_NUM\", data = df1)\n",
    "xticks(rotation = 90)\n",
    "plt.show(),\n",
    "df1.groupby('TIPO_CREDITO_USADO_ANT')[\"COMPRO_NUM\"].mean() "
   ]
  },
  {
   "cell_type": "markdown",
   "metadata": {},
   "source": [
    "Esto tiene poca logica, pero se usa, si el cliente compra antes, tengo el tipo de credito que ocupa, pero voy a agrupar"
   ]
  },
  {
   "cell_type": "code",
   "execution_count": 36,
   "metadata": {},
   "outputs": [],
   "source": [
    "df1['TIPO_CREDITO_USADO_ANT'] = df1['TIPO_CREDITO_USADO_ANT'].replace('PAGARE/O.COMPRA/CREDITO SIMPLE','CREDITO')\n",
    "df1['TIPO_CREDITO_USADO_ANT'] = df1['TIPO_CREDITO_USADO_ANT'].replace('LEASING FINANCIERO','LEASING')"
   ]
  },
  {
   "cell_type": "markdown",
   "metadata": {},
   "source": [
    "### Ofertas realizadas anteriormente"
   ]
  },
  {
   "cell_type": "code",
   "execution_count": 37,
   "metadata": {},
   "outputs": [
    {
     "data": {
      "text/plain": [
       "-0.04139724678381833"
      ]
     },
     "execution_count": 37,
     "metadata": {},
     "output_type": "execute_result"
    },
    {
     "data": {
      "image/png": "[encoded data removed]",
      "text/plain": [
       "<Figure size 432x288 with 1 Axes>"
      ]
     },
     "metadata": {
      "needs_background": "light"
     },
     "output_type": "display_data"
    }
   ],
   "source": [
    "plt.hist(df1[\"NUM_OFERTAS_U12M\"],bins=50)\n",
    "plt.show\n",
    "\n",
    "df1['NUM_OFERTAS_U12M'].corr(df1[\"COMPRO_NUM\"])"
   ]
  },
  {
   "cell_type": "markdown",
   "metadata": {},
   "source": [
    "### Servicios PV"
   ]
  },
  {
   "cell_type": "code",
   "execution_count": 38,
   "metadata": {},
   "outputs": [
    {
     "data": {
      "image/png": "[encoded data removed]",
      "text/plain": [
       "<Figure size 432x288 with 1 Axes>"
      ]
     },
     "metadata": {
      "needs_background": "light"
     },
     "output_type": "display_data"
    },
    {
     "data": {
      "text/plain": [
       "SERVICIOS_PV\n",
       "0.0    0.157021\n",
       "1.0    0.144881\n",
       "Name: COMPRO_NUM, dtype: float64"
      ]
     },
     "execution_count": 38,
     "metadata": {},
     "output_type": "execute_result"
    }
   ],
   "source": [
    "sns.countplot(x = \"SERVICIOS_PV\", hue = \"COMPRO_NUM\", data = df1)\n",
    "xticks(rotation = 90)\n",
    "plt.show(),\n",
    "df1.groupby('SERVICIOS_PV')[\"COMPRO_NUM\"].mean() "
   ]
  },
  {
   "cell_type": "markdown",
   "metadata": {},
   "source": [
    "## Dummificacion de variables"
   ]
  },
  {
   "cell_type": "code",
   "execution_count": 39,
   "metadata": {},
   "outputs": [],
   "source": [
    "def variables_dummy(dataset,variable):\n",
    "    cat_dummies = pd.get_dummies(dataset[variable],prefix=variable)\n",
    "    #.iloc[:,1:]\n",
    "    data_new = dataset.join(cat_dummies)\n",
    "    dataset = data_new.drop([variable],axis=1)\n",
    "    return dataset"
   ]
  },
  {
   "cell_type": "code",
   "execution_count": 40,
   "metadata": {},
   "outputs": [
    {
     "name": "stdout",
     "output_type": "stream",
     "text": [
      "<class 'pandas.core.frame.DataFrame'>\n",
      "Int64Index: 7311 entries, 15 to 212018\n",
      "Data columns (total 33 columns):\n",
      " #   Column                    Non-Null Count  Dtype  \n",
      "---  ------                    --------------  -----  \n",
      " 0   RUBRO_ECON                7311 non-null   object \n",
      " 1   ANTIGUEDAD_E              7311 non-null   object \n",
      " 2   TRAMO_VENTA               7311 non-null   float64\n",
      " 3   NUM_TRABAJADORES          7311 non-null   float64\n",
      " 4   TOTAL_UTILITARIOS         7311 non-null   float64\n",
      " 5   UTILITARIOS_EXCLUSION     7311 non-null   float64\n",
      " 6   RELEVANTE_BUSES           7311 non-null   float64\n",
      " 7   RELEVANTE_CAMIONES        7311 non-null   float64\n",
      " 8   RELEVANTE_RODADOS         7311 non-null   float64\n",
      " 9   RELEVANTE_VANS            7311 non-null   float64\n",
      " 10  RELEVANTE_CARGA           7311 non-null   float64\n",
      " 11  RELEVANTE_PASAJERA        7311 non-null   float64\n",
      " 12  RELEVANTE_PESADO          7311 non-null   float64\n",
      " 13  RELEVANTE_CAMIONETA       7311 non-null   float64\n",
      " 14  RELEVANTE_MEDIANO         7311 non-null   float64\n",
      " 15  RELEVANTE_OTROS           7311 non-null   float64\n",
      " 16  RELEVANTE_LIVIANO         7311 non-null   float64\n",
      " 17  RELEVANTE_CAMIONETA_DCAB  7311 non-null   float64\n",
      " 18  RELEVANTE_FORESTAL        7311 non-null   float64\n",
      " 19  RELEVANTE_CAMABAJA        7311 non-null   float64\n",
      " 20  MARCA_AGRUPADA            7311 non-null   object \n",
      " 21  FLOTA_NUEVA               7311 non-null   float64\n",
      " 22  ANTIGUEDAD_FLOTA          7311 non-null   float64\n",
      " 23  COMPRO_NUM                7311 non-null   float64\n",
      " 24  CAMPANAS_U180D            7311 non-null   float64\n",
      " 25  CAMPANAS_U180D_C          7311 non-null   float64\n",
      " 26  SERVICIOS_PV              7311 non-null   float64\n",
      " 27  REGION                    7311 non-null   object \n",
      " 28  USADO_NUEVO               7311 non-null   object \n",
      " 29  DESC_TIPO_VEHICULO        7311 non-null   object \n",
      " 30  NUM_OFERTAS_U12M          7311 non-null   float64\n",
      " 31  COMPRAS_REALIZADAS_U12M   7311 non-null   float64\n",
      " 32  TIPO_CREDITO_USADO_ANT    7311 non-null   object \n",
      "dtypes: float64(26), object(7)\n",
      "memory usage: 2.2+ MB\n"
     ]
    }
   ],
   "source": [
    "df3=df1\n",
    "\n",
    "df3.info()"
   ]
  },
  {
   "cell_type": "code",
   "execution_count": 41,
   "metadata": {},
   "outputs": [],
   "source": [
    "tabla=variables_dummy(df3,\"ANTIGUEDAD_E\")\n",
    "tabla=variables_dummy(tabla,\"DESC_TIPO_VEHICULO\")\n",
    "tabla=variables_dummy(tabla,\"MARCA_AGRUPADA\")\n",
    "tabla=variables_dummy(tabla,\"RUBRO_ECON\")\n",
    "tabla=variables_dummy(tabla,\"REGION\")\n",
    "#tabla=variables_dummy(tabla,\"COMUNA_CRM\")\n",
    "tabla=variables_dummy(tabla,\"USADO_NUEVO\")\n",
    "tabla=variables_dummy(tabla,\"TIPO_CREDITO_USADO_ANT\")\n"
   ]
  },
  {
   "cell_type": "code",
   "execution_count": 42,
   "metadata": {},
   "outputs": [],
   "source": [
    "y=tabla[\"COMPRO_NUM\"]\n",
    "x=tabla.drop([\"COMPRO_NUM\"], axis=1)"
   ]
  },
  {
   "cell_type": "code",
   "execution_count": 43,
   "metadata": {},
   "outputs": [
    {
     "name": "stdout",
     "output_type": "stream",
     "text": [
      "<class 'pandas.core.frame.DataFrame'>\n",
      "Int64Index: 7311 entries, 15 to 212018\n",
      "Data columns (total 84 columns):\n",
      " #   Column                                      Non-Null Count  Dtype  \n",
      "---  ------                                      --------------  -----  \n",
      " 0   TRAMO_VENTA                                 7311 non-null   float64\n",
      " 1   NUM_TRABAJADORES                            7311 non-null   float64\n",
      " 2   TOTAL_UTILITARIOS                           7311 non-null   float64\n",
      " 3   UTILITARIOS_EXCLUSION                       7311 non-null   float64\n",
      " 4   RELEVANTE_BUSES                             7311 non-null   float64\n",
      " 5   RELEVANTE_CAMIONES                          7311 non-null   float64\n",
      " 6   RELEVANTE_RODADOS                           7311 non-null   float64\n",
      " 7   RELEVANTE_VANS                              7311 non-null   float64\n",
      " 8   RELEVANTE_CARGA                             7311 non-null   float64\n",
      " 9   RELEVANTE_PASAJERA                          7311 non-null   float64\n",
      " 10  RELEVANTE_PESADO                            7311 non-null   float64\n",
      " 11  RELEVANTE_CAMIONETA                         7311 non-null   float64\n",
      " 12  RELEVANTE_MEDIANO                           7311 non-null   float64\n",
      " 13  RELEVANTE_OTROS                             7311 non-null   float64\n",
      " 14  RELEVANTE_LIVIANO                           7311 non-null   float64\n",
      " 15  RELEVANTE_CAMIONETA_DCAB                    7311 non-null   float64\n",
      " 16  RELEVANTE_FORESTAL                          7311 non-null   float64\n",
      " 17  RELEVANTE_CAMABAJA                          7311 non-null   float64\n",
      " 18  FLOTA_NUEVA                                 7311 non-null   float64\n",
      " 19  ANTIGUEDAD_FLOTA                            7311 non-null   float64\n",
      " 20  CAMPANAS_U180D                              7311 non-null   float64\n",
      " 21  CAMPANAS_U180D_C                            7311 non-null   float64\n",
      " 22  SERVICIOS_PV                                7311 non-null   float64\n",
      " 23  NUM_OFERTAS_U12M                            7311 non-null   float64\n",
      " 24  COMPRAS_REALIZADAS_U12M                     7311 non-null   float64\n",
      " 25  ANTIGUEDAD_E_ENTRE 15 Y 25 A                7311 non-null   uint8  \n",
      " 26  ANTIGUEDAD_E_ENTRE 5 Y 15 AÑ                7311 non-null   uint8  \n",
      " 27  ANTIGUEDAD_E_MAYOR A 25 AÑOS                7311 non-null   uint8  \n",
      " 28  ANTIGUEDAD_E_MENOS DE 5 AÑOS                7311 non-null   uint8  \n",
      " 29  DESC_TIPO_VEHICULO_BUS                      7311 non-null   uint8  \n",
      " 30  DESC_TIPO_VEHICULO_CAMION                   7311 non-null   uint8  \n",
      " 31  DESC_TIPO_VEHICULO_CHASIS                   7311 non-null   uint8  \n",
      " 32  DESC_TIPO_VEHICULO_CHASIS CABINA            7311 non-null   uint8  \n",
      " 33  DESC_TIPO_VEHICULO_FURGON                   7311 non-null   uint8  \n",
      " 34  DESC_TIPO_VEHICULO_MINIBUS                  7311 non-null   uint8  \n",
      " 35  MARCA_AGRUPADA_MERCEDES-BENZ                7311 non-null   uint8  \n",
      " 36  MARCA_AGRUPADA_MITSUBISHI-FUSO              7311 non-null   uint8  \n",
      " 37  RUBRO_ECON_A                                7311 non-null   uint8  \n",
      " 38  RUBRO_ECON_B                                7311 non-null   uint8  \n",
      " 39  RUBRO_ECON_C                                7311 non-null   uint8  \n",
      " 40  RUBRO_ECON_E                                7311 non-null   uint8  \n",
      " 41  RUBRO_ECON_F                                7311 non-null   uint8  \n",
      " 42  RUBRO_ECON_G                                7311 non-null   uint8  \n",
      " 43  RUBRO_ECON_H                                7311 non-null   uint8  \n",
      " 44  RUBRO_ECON_I                                7311 non-null   uint8  \n",
      " 45  RUBRO_ECON_J                                7311 non-null   uint8  \n",
      " 46  RUBRO_ECON_K                                7311 non-null   uint8  \n",
      " 47  RUBRO_ECON_L                                7311 non-null   uint8  \n",
      " 48  RUBRO_ECON_M                                7311 non-null   uint8  \n",
      " 49  RUBRO_ECON_N                                7311 non-null   uint8  \n",
      " 50  RUBRO_ECON_O                                7311 non-null   uint8  \n",
      " 51  RUBRO_ECON_P                                7311 non-null   uint8  \n",
      " 52  RUBRO_ECON_Q                                7311 non-null   uint8  \n",
      " 53  RUBRO_ECON_R                                7311 non-null   uint8  \n",
      " 54  RUBRO_ECON_S                                7311 non-null   uint8  \n",
      " 55  RUBRO_ECON_U                                7311 non-null   uint8  \n",
      " 56  RUBRO_ECON_Z                                7311 non-null   uint8  \n",
      " 57  REGION_NA                                   7311 non-null   uint8  \n",
      " 58  REGION_ Antofagasta                         7311 non-null   uint8  \n",
      " 59  REGION_ Arica y Parinacota                  7311 non-null   uint8  \n",
      " 60  REGION_ Atacama                             7311 non-null   uint8  \n",
      " 61  REGION_ Aysén del Gral. C. Ibáñez del Camp  7311 non-null   uint8  \n",
      " 62  REGION_ Biobío                              7311 non-null   uint8  \n",
      " 63  REGION_ Coquimbo                            7311 non-null   uint8  \n",
      " 64  REGION_ La Araucanía                        7311 non-null   uint8  \n",
      " 65  REGION_ Lib. Gral. Bernardo O'Higgins       7311 non-null   uint8  \n",
      " 66  REGION_ Los Lagos                           7311 non-null   uint8  \n",
      " 67  REGION_ Los Ríos                            7311 non-null   uint8  \n",
      " 68  REGION_ Magallanes y Antártica Chilena      7311 non-null   uint8  \n",
      " 69  REGION_ Maule                               7311 non-null   uint8  \n",
      " 70  REGION_ Metropolitana de Santiago           7311 non-null   uint8  \n",
      " 71  REGION_ Tarapacá                            7311 non-null   uint8  \n",
      " 72  REGION_ Valparaíso                          7311 non-null   uint8  \n",
      " 73  REGION_ Ñuble                               7311 non-null   uint8  \n",
      " 74  USADO_NUEVO_Nuevo                           7311 non-null   uint8  \n",
      " 75  USADO_NUEVO_Usado                           7311 non-null   uint8  \n",
      " 76  TIPO_CREDITO_USADO_ANT_CHEQUES              7311 non-null   uint8  \n",
      " 77  TIPO_CREDITO_USADO_ANT_CONTADO              7311 non-null   uint8  \n",
      " 78  TIPO_CREDITO_USADO_ANT_CREDITO              7311 non-null   uint8  \n",
      " 79  TIPO_CREDITO_USADO_ANT_LEASING              7311 non-null   uint8  \n",
      " 80  TIPO_CREDITO_USADO_ANT_LETRAS               7311 non-null   uint8  \n",
      " 81  TIPO_CREDITO_USADO_ANT_MUTUOS               7311 non-null   uint8  \n",
      " 82  TIPO_CREDITO_USADO_ANT_NA                   7311 non-null   uint8  \n",
      " 83  TIPO_CREDITO_USADO_ANT_ORDEN DE COMPRA      7311 non-null   uint8  \n",
      "dtypes: float64(25), uint8(59)\n",
      "memory usage: 2.2 MB\n"
     ]
    }
   ],
   "source": [
    "x.info()"
   ]
  },
  {
   "cell_type": "markdown",
   "metadata": {},
   "source": [
    "# Inicio de modelamiento"
   ]
  },
  {
   "cell_type": "markdown",
   "metadata": {},
   "source": [
    "### Datos entrenamiento y testeo"
   ]
  },
  {
   "cell_type": "markdown",
   "metadata": {},
   "source": [
    "como esta desbalanceado, primero divido la muestra pero por estratos"
   ]
  },
  {
   "cell_type": "code",
   "execution_count": 44,
   "metadata": {},
   "outputs": [],
   "source": [
    "x_res,x_test,y_res,y_test=train_test_split(x,y,test_size=0.2,random_state=1010)"
   ]
  },
  {
   "cell_type": "markdown",
   "metadata": {},
   "source": [
    "Revisamos como quedan las separaciones"
   ]
  },
  {
   "cell_type": "code",
   "execution_count": 45,
   "metadata": {},
   "outputs": [
    {
     "data": {
      "text/plain": [
       "(0.14774281805745554, 0.16541353383458646, (5848,), (1463,))"
      ]
     },
     "execution_count": 45,
     "metadata": {},
     "output_type": "execute_result"
    }
   ],
   "source": [
    "y_res.mean(),y_test.mean(),y_res.shape,y_test.shape"
   ]
  },
  {
   "cell_type": "markdown",
   "metadata": {},
   "source": [
    "Tenemos un problema con datos desbalanceados, por lo que revisemos como se comporta este desbalance utilizando un modelo sde random forest como base inicial"
   ]
  },
  {
   "cell_type": "code",
   "execution_count": 46,
   "metadata": {},
   "outputs": [],
   "source": [
    "modelo_rfc = RandomForestClassifier().fit(x_res, y_res)"
   ]
  },
  {
   "cell_type": "code",
   "execution_count": 47,
   "metadata": {
    "scrolled": true
   },
   "outputs": [
    {
     "name": "stdout",
     "output_type": "stream",
     "text": [
      "Matriz de confusion:\n",
      "                   Prediccion falso  Prediccion verdadero\n",
      "Actual falsa                  1148                    73\n",
      "Actual verdadera               134                   108\n"
     ]
    },
    {
     "data": {
      "text/html": [
       "<div>\n",
       "<style scoped>\n",
       "    .dataframe tbody tr th:only-of-type {\n",
       "        vertical-align: middle;\n",
       "    }\n",
       "\n",
       "    .dataframe tbody tr th {\n",
       "        vertical-align: top;\n",
       "    }\n",
       "\n",
       "    .dataframe thead th {\n",
       "        text-align: right;\n",
       "    }\n",
       "</style>\n",
       "<table border=\"1\" class=\"dataframe\">\n",
       "  <thead>\n",
       "    <tr style=\"text-align: right;\">\n",
       "      <th></th>\n",
       "      <th>Entrenamiento</th>\n",
       "      <th>Testeo</th>\n",
       "    </tr>\n",
       "  </thead>\n",
       "  <tbody>\n",
       "    <tr>\n",
       "      <th>Accuracy</th>\n",
       "      <td>0.954</td>\n",
       "      <td>0.858</td>\n",
       "    </tr>\n",
       "    <tr>\n",
       "      <th>recall</th>\n",
       "      <td>0.821</td>\n",
       "      <td>0.446</td>\n",
       "    </tr>\n",
       "    <tr>\n",
       "      <th>roc</th>\n",
       "      <td>0.988</td>\n",
       "      <td>0.853</td>\n",
       "    </tr>\n",
       "    <tr>\n",
       "      <th>f1</th>\n",
       "      <td>0.842</td>\n",
       "      <td>0.510</td>\n",
       "    </tr>\n",
       "  </tbody>\n",
       "</table>\n",
       "</div>"
      ],
      "text/plain": [
       "          Entrenamiento  Testeo\n",
       "Accuracy          0.954   0.858\n",
       "recall            0.821   0.446\n",
       "roc               0.988   0.853\n",
       "f1                0.842   0.510"
      ]
     },
     "execution_count": 47,
     "metadata": {},
     "output_type": "execute_result"
    }
   ],
   "source": [
    "#evaluacion del modelo\n",
    "mediciones(x_res,y_res,x_test,y_test,modelo_rfc)   "
   ]
  },
  {
   "cell_type": "markdown",
   "metadata": {},
   "source": [
    "El recall es muy bajo y se ve afectado el f1, es necesario balancear los datos"
   ]
  },
  {
   "cell_type": "markdown",
   "metadata": {},
   "source": [
    "### Balanceo de datos de entrenamiento"
   ]
  },
  {
   "cell_type": "markdown",
   "metadata": {},
   "source": [
    "Tengo la opcion de bajar o subir la muestra, a modo de no perder informacion se sube"
   ]
  },
  {
   "cell_type": "code",
   "execution_count": 48,
   "metadata": {},
   "outputs": [
    {
     "name": "stderr",
     "output_type": "stream",
     "text": [
      "Using TensorFlow backend.\n"
     ]
    }
   ],
   "source": [
    "from imblearn.under_sampling import NearMiss\n",
    "from imblearn.over_sampling import SMOTE \n",
    "nm = SMOTE(random_state = 10101) \n",
    "#nm = NearMiss(random_state = 10101)"
   ]
  },
  {
   "cell_type": "code",
   "execution_count": 49,
   "metadata": {},
   "outputs": [],
   "source": [
    "x_train,y_train=nm.fit_resample(x_res,y_res)"
   ]
  },
  {
   "cell_type": "markdown",
   "metadata": {},
   "source": [
    "Reviso dimenciones nuevamente"
   ]
  },
  {
   "cell_type": "code",
   "execution_count": 50,
   "metadata": {},
   "outputs": [
    {
     "data": {
      "text/plain": [
       "((5848,), 0.14774281805745554, (9968,), 0.5)"
      ]
     },
     "execution_count": 50,
     "metadata": {},
     "output_type": "execute_result"
    }
   ],
   "source": [
    "y_res.shape, y_res.mean(), y_train.shape,y_train.mean()"
   ]
  },
  {
   "cell_type": "markdown",
   "metadata": {},
   "source": [
    "# Modelamiento con datos balanceados\n",
    "\n",
    "La estrategia en este caso es utilizar regresion logistica, en el caso de obtener un pobre ajuste, se utilitan varios modelos para probar"
   ]
  },
  {
   "cell_type": "markdown",
   "metadata": {},
   "source": [
    "## Regresion logistica como modelo base\n",
    "\n",
    "Utilizo regresion loistica y una busqueda por gridsearch para encontrar mejores hiperparametros"
   ]
  },
  {
   "cell_type": "code",
   "execution_count": 51,
   "metadata": {},
   "outputs": [],
   "source": [
    "from sklearn.linear_model import LogisticRegression\n",
    "from sklearn.model_selection import GridSearchCV\n",
    "\n",
    "\n",
    "grid={\"C\":np.logspace(-3,3,3), \"penalty\":[\"l2\"]}\n",
    "\n",
    "logreg=LogisticRegression()\n",
    "\n",
    "logreg_cv=GridSearchCV(logreg,grid,cv=5,scoring='f1',verbose=0)"
   ]
  },
  {
   "cell_type": "code",
   "execution_count": 52,
   "metadata": {
    "scrolled": true
   },
   "outputs": [
    {
     "data": {
      "text/plain": [
       "GridSearchCV(cv=5, error_score=nan,\n",
       "             estimator=LogisticRegression(C=1.0, class_weight=None, dual=False,\n",
       "                                          fit_intercept=True,\n",
       "                                          intercept_scaling=1, l1_ratio=None,\n",
       "                                          max_iter=100, multi_class='auto',\n",
       "                                          n_jobs=None, penalty='l2',\n",
       "                                          random_state=None, solver='lbfgs',\n",
       "                                          tol=0.0001, verbose=0,\n",
       "                                          warm_start=False),\n",
       "             iid='deprecated', n_jobs=None,\n",
       "             param_grid={'C': array([1.e-03, 1.e+00, 1.e+03]),\n",
       "                         'penalty': ['l2']},\n",
       "             pre_dispatch='2*n_jobs', refit=True, return_train_score=False,\n",
       "             scoring='f1', verbose=0)"
      ]
     },
     "execution_count": 52,
     "metadata": {},
     "output_type": "execute_result"
    }
   ],
   "source": [
    "logreg_cv.fit(x_train,y_train)"
   ]
  },
  {
   "cell_type": "code",
   "execution_count": 53,
   "metadata": {
    "scrolled": true
   },
   "outputs": [
    {
     "data": {
      "text/plain": [
       "{'C': 1000.0, 'penalty': 'l2'}"
      ]
     },
     "execution_count": 53,
     "metadata": {},
     "output_type": "execute_result"
    }
   ],
   "source": [
    "logreg_cv.best_params_"
   ]
  },
  {
   "cell_type": "code",
   "execution_count": 54,
   "metadata": {},
   "outputs": [
    {
     "data": {
      "text/plain": [
       "LogisticRegression(C=1000, class_weight=None, dual=False, fit_intercept=True,\n",
       "                   intercept_scaling=1, l1_ratio=None, max_iter=100,\n",
       "                   multi_class='auto', n_jobs=None, penalty='l2',\n",
       "                   random_state=None, solver='lbfgs', tol=0.0001, verbose=0,\n",
       "                   warm_start=False)"
      ]
     },
     "execution_count": 54,
     "metadata": {},
     "output_type": "execute_result"
    }
   ],
   "source": [
    "logreg=LogisticRegression(C=1000,penalty='l2')\n",
    "logreg.fit(x_train,y_train)"
   ]
  },
  {
   "cell_type": "code",
   "execution_count": 55,
   "metadata": {
    "scrolled": false
   },
   "outputs": [
    {
     "name": "stdout",
     "output_type": "stream",
     "text": [
      "Matriz de confusion:\n",
      "                   Prediccion falso  Prediccion verdadero\n",
      "Actual falsa                  1065                   156\n",
      "Actual verdadera                66                   176\n"
     ]
    },
    {
     "data": {
      "text/html": [
       "<div>\n",
       "<style scoped>\n",
       "    .dataframe tbody tr th:only-of-type {\n",
       "        vertical-align: middle;\n",
       "    }\n",
       "\n",
       "    .dataframe tbody tr th {\n",
       "        vertical-align: top;\n",
       "    }\n",
       "\n",
       "    .dataframe thead th {\n",
       "        text-align: right;\n",
       "    }\n",
       "</style>\n",
       "<table border=\"1\" class=\"dataframe\">\n",
       "  <thead>\n",
       "    <tr style=\"text-align: right;\">\n",
       "      <th></th>\n",
       "      <th>Entrenamiento</th>\n",
       "      <th>Testeo</th>\n",
       "    </tr>\n",
       "  </thead>\n",
       "  <tbody>\n",
       "    <tr>\n",
       "      <th>Accuracy</th>\n",
       "      <td>0.880</td>\n",
       "      <td>0.848</td>\n",
       "    </tr>\n",
       "    <tr>\n",
       "      <th>recall</th>\n",
       "      <td>0.900</td>\n",
       "      <td>0.727</td>\n",
       "    </tr>\n",
       "    <tr>\n",
       "      <th>roc</th>\n",
       "      <td>0.950</td>\n",
       "      <td>0.898</td>\n",
       "    </tr>\n",
       "    <tr>\n",
       "      <th>f1</th>\n",
       "      <td>0.883</td>\n",
       "      <td>0.613</td>\n",
       "    </tr>\n",
       "  </tbody>\n",
       "</table>\n",
       "</div>"
      ],
      "text/plain": [
       "          Entrenamiento  Testeo\n",
       "Accuracy          0.880   0.848\n",
       "recall            0.900   0.727\n",
       "roc               0.950   0.898\n",
       "f1                0.883   0.613"
      ]
     },
     "execution_count": 55,
     "metadata": {},
     "output_type": "execute_result"
    }
   ],
   "source": [
    "mediciones(x_train,y_train,x_test,y_test,logreg)   "
   ]
  },
  {
   "cell_type": "markdown",
   "metadata": {},
   "source": [
    "Se aprecia un claro bajo ajuste, veamos si aplicamos otros modelos podemos mejorar esto (al menos el recall y press deben estar sobre 50%)"
   ]
  },
  {
   "cell_type": "markdown",
   "metadata": {},
   "source": [
    "## Multi-modelos"
   ]
  },
  {
   "cell_type": "markdown",
   "metadata": {},
   "source": [
    "Para evita probar uno a uno los modelos, se seleccionan varios y luego se verifica los con mejor rendimiento para hacer una busqueda ampliada de los mejores con gridsearch"
   ]
  },
  {
   "cell_type": "code",
   "execution_count": 56,
   "metadata": {
    "scrolled": false
   },
   "outputs": [
    {
     "name": "stdout",
     "output_type": "stream",
     "text": [
      "\n",
      " modelo: LR\n",
      "          Testeo\n",
      "Accuracy   0.848\n",
      "recall     0.727\n",
      "f1 score: 0.613\n",
      "roc-auc: 0.8988652439065663\n",
      "[[1065  156]\n",
      " [  66  176]]\n",
      "\n",
      " modelo: SVC\n",
      "          Testeo\n",
      "Accuracy   0.276\n",
      "recall     0.933\n",
      "f1 score: 0.299\n",
      "[[ 178 1043]\n",
      " [  16  226]]\n",
      "\n",
      " modelo: RF\n",
      "          Testeo\n",
      "Accuracy   0.859\n",
      "recall     0.549\n",
      "f1 score: 0.563\n",
      "roc-auc: 0.8631608693592164\n",
      "[[1124   97]\n",
      " [ 109  133]]\n",
      "\n",
      " modelo: TREE\n",
      "          Testeo\n",
      "Accuracy   0.848\n",
      "recall     0.508\n",
      "f1 score: 0.525\n",
      "roc-auc: 0.7505753311538437\n",
      "[[1118  103]\n",
      " [ 119  123]]\n",
      "\n",
      " modelo: MLP\n",
      "          Testeo\n",
      "Accuracy   0.876\n",
      "recall     0.599\n",
      "f1 score: 0.617\n",
      "roc-auc: 0.8601082299429407\n",
      "[[1138   83]\n",
      " [  97  145]]\n",
      "\n",
      " modelo: GBOOST\n",
      "          Testeo\n",
      "Accuracy   0.670\n",
      "recall     0.921\n",
      "f1 score: 0.48\n",
      "roc-auc: 0.7765227661921875\n",
      "[[758 463]\n",
      " [ 19 223]]\n",
      "\n",
      " modelo: ADABOOST\n",
      "          Testeo\n",
      "Accuracy   0.813\n",
      "recall     0.785\n",
      "f1 score: 0.581\n",
      "roc-auc: 0.9042039785841439\n",
      "[[1000  221]\n",
      " [  52  190]]\n",
      "\n",
      " modelo: GRBOOST\n",
      "          Testeo\n",
      "Accuracy   0.853\n",
      "recall     0.702\n",
      "f1 score: 0.612\n",
      "roc-auc: 0.9028604111248739\n",
      "[[1078  143]\n",
      " [  72  170]]\n"
     ]
    }
   ],
   "source": [
    "from sklearn import svm\n",
    "from sklearn.linear_model import LogisticRegression\n",
    "from sklearn.ensemble import RandomForestClassifier,AdaBoostClassifier,VotingClassifier,StackingClassifier,GradientBoostingClassifier\n",
    "from sklearn.neural_network import MLPClassifier\n",
    "from sklearn.discriminant_analysis import LinearDiscriminantAnalysis\n",
    "from sklearn.neighbors import KNeighborsClassifier\n",
    "from sklearn.naive_bayes import GaussianNB\n",
    "from sklearn.tree import DecisionTreeClassifier          \n",
    "              \n",
    "\n",
    "modelos = [[\"LR\",\"SVC\",\"RF\",\"TREE\",\"MLP\",\"GBOOST\",\"ADABOOST\",\"GRBOOST\"],\n",
    "           [\n",
    "            LogisticRegression(C=1000,penalty='l2'),  \n",
    "            svm.SVC(max_iter=100),\n",
    "            RandomForestClassifier(),\n",
    "            DecisionTreeClassifier(),\n",
    "            MLPClassifier(),\n",
    "            GaussianNB(),\n",
    "            AdaBoostClassifier(),\n",
    "            GradientBoostingClassifier()]\n",
    "          ]\n",
    "warnings.filterwarnings(\"ignore\")\n",
    "\n",
    "resultados=[]\n",
    "predicion=[]\n",
    "error=[]\n",
    "precision=[]\n",
    "a=0\n",
    "for i in modelos[1]:\n",
    "    ajuste=i.fit(x_train,y_train)\n",
    "    resultados.append(ajuste)\n",
    "    predicion.append(ajuste.predict(x_test))\n",
    "    er = i.score(x_test,y_test)\n",
    "    error.append(er)\n",
    "    precision.append(ajuste.score(x_test , y_test))\n",
    "    print(\"\\n modelo:\",modelos[0][a])\n",
    "    print(mediciones2(x_train,y_train,x_test,y_test,ajuste))\n",
    "    print(\"f1 score:\",int(f1_score(y_test,ajuste.predict(x_test))*1000)/1000)\n",
    "    if modelos[0][a]!='SVC':\n",
    "        print(\"roc-auc:\", roc_auc_score(y_test,ajuste.predict_proba(x_test)[:,1]))\n",
    "    print(confusion_matrix(y_test,ajuste.predict(x_test)))\n",
    "    a=a+1"
   ]
  },
  {
   "cell_type": "markdown",
   "metadata": {},
   "source": [
    "Siguiente paso es usar gridsearch para buscar la mejor version de cada uno usando como referencia para los mejores en f1 (arbol de decision, random forest, mlp, adaboost)"
   ]
  },
  {
   "cell_type": "markdown",
   "metadata": {},
   "source": [
    "## Tree Clasificador Tunning"
   ]
  },
  {
   "cell_type": "code",
   "execution_count": 57,
   "metadata": {},
   "outputs": [
    {
     "name": "stdout",
     "output_type": "stream",
     "text": [
      "Fitting 3 folds for each of 182 candidates, totalling 546 fits\n"
     ]
    },
    {
     "name": "stderr",
     "output_type": "stream",
     "text": [
      "[Parallel(n_jobs=-1)]: Using backend LokyBackend with 8 concurrent workers.\n",
      "[Parallel(n_jobs=-1)]: Done   2 tasks      | elapsed:    1.9s\n",
      "[Parallel(n_jobs=-1)]: Done   9 tasks      | elapsed:    2.1s\n",
      "[Parallel(n_jobs=-1)]: Done  16 tasks      | elapsed:    2.2s\n",
      "[Parallel(n_jobs=-1)]: Done  25 tasks      | elapsed:    2.3s\n",
      "[Parallel(n_jobs=-1)]: Done  34 tasks      | elapsed:    2.5s\n",
      "[Parallel(n_jobs=-1)]: Done  45 tasks      | elapsed:    2.6s\n",
      "[Parallel(n_jobs=-1)]: Done  56 tasks      | elapsed:    2.7s\n",
      "[Parallel(n_jobs=-1)]: Batch computation too fast (0.1915s.) Setting batch_size=2.\n",
      "[Parallel(n_jobs=-1)]: Done  69 tasks      | elapsed:    2.9s\n",
      "[Parallel(n_jobs=-1)]: Done  93 tasks      | elapsed:    3.2s\n",
      "[Parallel(n_jobs=-1)]: Done 123 tasks      | elapsed:    3.5s\n",
      "[Parallel(n_jobs=-1)]: Done 153 tasks      | elapsed:    3.8s\n",
      "[Parallel(n_jobs=-1)]: Done 187 tasks      | elapsed:    4.2s\n",
      "[Parallel(n_jobs=-1)]: Done 221 tasks      | elapsed:    4.6s\n",
      "[Parallel(n_jobs=-1)]: Done 259 tasks      | elapsed:    5.2s\n",
      "[Parallel(n_jobs=-1)]: Done 297 tasks      | elapsed:    5.5s\n",
      "[Parallel(n_jobs=-1)]: Done 339 tasks      | elapsed:    5.9s\n",
      "[Parallel(n_jobs=-1)]: Done 381 tasks      | elapsed:    6.3s\n",
      "[Parallel(n_jobs=-1)]: Done 427 tasks      | elapsed:    6.8s\n",
      "[Parallel(n_jobs=-1)]: Done 473 tasks      | elapsed:    7.3s\n",
      "[Parallel(n_jobs=-1)]: Done 531 out of 546 | elapsed:    8.1s remaining:    0.1s\n",
      "[Parallel(n_jobs=-1)]: Done 546 out of 546 | elapsed:    8.2s finished\n"
     ]
    }
   ],
   "source": [
    "from sklearn.tree import DecisionTreeClassifier\n",
    "from sklearn.model_selection import GridSearchCV\n",
    "\n",
    "tree_params = {\"criterion\": [\"gini\", \"entropy\"], \"max_depth\": list(range(1,8,1)), \n",
    "              \"min_samples_leaf\": list(range(5,18,1))}\n",
    "\n",
    "tree_cv = GridSearchCV(DecisionTreeClassifier(), tree_params, cv=3,n_jobs=-1,verbose=10).fit(x_train,y_train)\n"
   ]
  },
  {
   "cell_type": "code",
   "execution_count": 58,
   "metadata": {},
   "outputs": [
    {
     "name": "stdout",
     "output_type": "stream",
     "text": [
      "Matriz de confusion:\n",
      "                   Prediccion falso  Prediccion verdadero\n",
      "Actual falsa                   977                   244\n",
      "Actual verdadera                61                   181\n"
     ]
    },
    {
     "data": {
      "text/html": [
       "<div>\n",
       "<style scoped>\n",
       "    .dataframe tbody tr th:only-of-type {\n",
       "        vertical-align: middle;\n",
       "    }\n",
       "\n",
       "    .dataframe tbody tr th {\n",
       "        vertical-align: top;\n",
       "    }\n",
       "\n",
       "    .dataframe thead th {\n",
       "        text-align: right;\n",
       "    }\n",
       "</style>\n",
       "<table border=\"1\" class=\"dataframe\">\n",
       "  <thead>\n",
       "    <tr style=\"text-align: right;\">\n",
       "      <th></th>\n",
       "      <th>Entrenamiento</th>\n",
       "      <th>Testeo</th>\n",
       "    </tr>\n",
       "  </thead>\n",
       "  <tbody>\n",
       "    <tr>\n",
       "      <th>Accuracy</th>\n",
       "      <td>0.852</td>\n",
       "      <td>0.791</td>\n",
       "    </tr>\n",
       "    <tr>\n",
       "      <th>recall</th>\n",
       "      <td>0.900</td>\n",
       "      <td>0.747</td>\n",
       "    </tr>\n",
       "    <tr>\n",
       "      <th>roc</th>\n",
       "      <td>0.932</td>\n",
       "      <td>0.889</td>\n",
       "    </tr>\n",
       "    <tr>\n",
       "      <th>f1</th>\n",
       "      <td>0.859</td>\n",
       "      <td>0.542</td>\n",
       "    </tr>\n",
       "  </tbody>\n",
       "</table>\n",
       "</div>"
      ],
      "text/plain": [
       "          Entrenamiento  Testeo\n",
       "Accuracy          0.852   0.791\n",
       "recall            0.900   0.747\n",
       "roc               0.932   0.889\n",
       "f1                0.859   0.542"
      ]
     },
     "execution_count": 58,
     "metadata": {},
     "output_type": "execute_result"
    }
   ],
   "source": [
    "mediciones(x_train,y_train,x_test,y_test,tree_cv)"
   ]
  },
  {
   "cell_type": "markdown",
   "metadata": {},
   "source": [
    "No mejoro mucho respecto a lo que ya estaba ajustado (claso sobre ajuste)"
   ]
  },
  {
   "cell_type": "markdown",
   "metadata": {},
   "source": [
    "## Random Forest Tunning"
   ]
  },
  {
   "cell_type": "code",
   "execution_count": 59,
   "metadata": {},
   "outputs": [
    {
     "name": "stdout",
     "output_type": "stream",
     "text": [
      "Fitting 3 folds for each of 9 candidates, totalling 27 fits\n"
     ]
    },
    {
     "name": "stderr",
     "output_type": "stream",
     "text": [
      "[Parallel(n_jobs=-1)]: Using backend LokyBackend with 8 concurrent workers.\n",
      "[Parallel(n_jobs=-1)]: Done   2 tasks      | elapsed:    0.3s\n",
      "[Parallel(n_jobs=-1)]: Done   9 tasks      | elapsed:    0.7s\n",
      "[Parallel(n_jobs=-1)]: Done  15 out of  27 | elapsed:    1.2s remaining:    0.9s\n",
      "[Parallel(n_jobs=-1)]: Done  18 out of  27 | elapsed:    1.5s remaining:    0.7s\n",
      "[Parallel(n_jobs=-1)]: Done  21 out of  27 | elapsed:    1.6s remaining:    0.4s\n",
      "[Parallel(n_jobs=-1)]: Done  24 out of  27 | elapsed:    1.9s remaining:    0.2s\n",
      "[Parallel(n_jobs=-1)]: Done  27 out of  27 | elapsed:    2.1s remaining:    0.0s\n",
      "[Parallel(n_jobs=-1)]: Done  27 out of  27 | elapsed:    2.1s finished\n"
     ]
    }
   ],
   "source": [
    "## from sklearn.ensemble import RandomForestClassifier\n",
    "from sklearn.model_selection import GridSearchCV\n",
    "\n",
    "parameters = {\n",
    "    'n_estimators'      : [25,30,50],\n",
    "    'max_depth'         : [8,10,15],\n",
    "    'random_state'      : [0]}\n",
    "\n",
    "rf_cv = GridSearchCV(RandomForestClassifier(), parameters, cv=3, n_jobs=-1,verbose=10).fit(x_train,y_train)"
   ]
  },
  {
   "cell_type": "code",
   "execution_count": 60,
   "metadata": {},
   "outputs": [
    {
     "data": {
      "text/plain": [
       "{'max_depth': 15, 'n_estimators': 50, 'random_state': 0}"
      ]
     },
     "execution_count": 60,
     "metadata": {},
     "output_type": "execute_result"
    }
   ],
   "source": [
    "rf_cv.best_params_"
   ]
  },
  {
   "cell_type": "code",
   "execution_count": 61,
   "metadata": {},
   "outputs": [
    {
     "name": "stdout",
     "output_type": "stream",
     "text": [
      "Matriz de confusion:\n",
      "                   Prediccion falso  Prediccion verdadero\n",
      "Actual falsa                  1102                   119\n",
      "Actual verdadera                88                   154\n"
     ]
    },
    {
     "data": {
      "text/html": [
       "<div>\n",
       "<style scoped>\n",
       "    .dataframe tbody tr th:only-of-type {\n",
       "        vertical-align: middle;\n",
       "    }\n",
       "\n",
       "    .dataframe tbody tr th {\n",
       "        vertical-align: top;\n",
       "    }\n",
       "\n",
       "    .dataframe thead th {\n",
       "        text-align: right;\n",
       "    }\n",
       "</style>\n",
       "<table border=\"1\" class=\"dataframe\">\n",
       "  <thead>\n",
       "    <tr style=\"text-align: right;\">\n",
       "      <th></th>\n",
       "      <th>Entrenamiento</th>\n",
       "      <th>Testeo</th>\n",
       "    </tr>\n",
       "  </thead>\n",
       "  <tbody>\n",
       "    <tr>\n",
       "      <th>Accuracy</th>\n",
       "      <td>0.952</td>\n",
       "      <td>0.858</td>\n",
       "    </tr>\n",
       "    <tr>\n",
       "      <th>recall</th>\n",
       "      <td>0.974</td>\n",
       "      <td>0.636</td>\n",
       "    </tr>\n",
       "    <tr>\n",
       "      <th>roc</th>\n",
       "      <td>0.986</td>\n",
       "      <td>0.882</td>\n",
       "    </tr>\n",
       "    <tr>\n",
       "      <th>f1</th>\n",
       "      <td>0.953</td>\n",
       "      <td>0.598</td>\n",
       "    </tr>\n",
       "  </tbody>\n",
       "</table>\n",
       "</div>"
      ],
      "text/plain": [
       "          Entrenamiento  Testeo\n",
       "Accuracy          0.952   0.858\n",
       "recall            0.974   0.636\n",
       "roc               0.986   0.882\n",
       "f1                0.953   0.598"
      ]
     },
     "execution_count": 61,
     "metadata": {},
     "output_type": "execute_result"
    }
   ],
   "source": [
    "mediciones(x_train,y_train,x_test,y_test,rf_cv)"
   ]
  },
  {
   "cell_type": "markdown",
   "metadata": {},
   "source": [
    "Los modelos que revisare en mayor profundidad son la rn, adaboost y randomforest"
   ]
  },
  {
   "cell_type": "markdown",
   "metadata": {},
   "source": [
    "## Adaboost con grid search"
   ]
  },
  {
   "cell_type": "code",
   "execution_count": 94,
   "metadata": {},
   "outputs": [],
   "source": [
    "from sklearn.ensemble import AdaBoostClassifier\n",
    "from sklearn.tree import DecisionTreeClassifier\n",
    "from sklearn.model_selection import GridSearchCV\n",
    "\n",
    "\n",
    "ada=AdaBoostClassifier()\n",
    "search_grid={'n_estimators':[500,1000,2000],'learning_rate':[.001,0.01,.1]}\n",
    "gs=GridSearchCV(estimator=ada,param_grid=search_grid,scoring='accuracy',n_jobs=-1,cv=5,verbose=10)\n",
    "\n",
    "\n",
    "#print(gs.best_estimator_)"
   ]
  },
  {
   "cell_type": "code",
   "execution_count": 95,
   "metadata": {
    "scrolled": false
   },
   "outputs": [
    {
     "name": "stdout",
     "output_type": "stream",
     "text": [
      "Fitting 5 folds for each of 9 candidates, totalling 45 fits\n"
     ]
    },
    {
     "name": "stderr",
     "output_type": "stream",
     "text": [
      "[Parallel(n_jobs=-1)]: Using backend LokyBackend with 8 concurrent workers.\n",
      "[Parallel(n_jobs=-1)]: Done   2 tasks      | elapsed:   19.7s\n",
      "[Parallel(n_jobs=-1)]: Done   9 tasks      | elapsed:   51.4s\n",
      "[Parallel(n_jobs=-1)]: Done  16 tasks      | elapsed:  1.5min\n",
      "[Parallel(n_jobs=-1)]: Done  25 tasks      | elapsed:  2.0min\n",
      "[Parallel(n_jobs=-1)]: Done  35 out of  45 | elapsed:  2.9min remaining:   49.8s\n",
      "[Parallel(n_jobs=-1)]: Done  40 out of  45 | elapsed:  3.3min remaining:   24.9s\n",
      "[Parallel(n_jobs=-1)]: Done  45 out of  45 | elapsed:  3.9min remaining:    0.0s\n",
      "[Parallel(n_jobs=-1)]: Done  45 out of  45 | elapsed:  3.9min finished\n"
     ]
    },
    {
     "data": {
      "text/plain": [
       "GridSearchCV(cv=5, error_score=nan,\n",
       "             estimator=AdaBoostClassifier(algorithm='SAMME.R',\n",
       "                                          base_estimator=None,\n",
       "                                          learning_rate=1.0, n_estimators=50,\n",
       "                                          random_state=None),\n",
       "             iid='deprecated', n_jobs=-1,\n",
       "             param_grid={'learning_rate': [0.001, 0.01, 0.1],\n",
       "                         'n_estimators': [500, 1000, 2000]},\n",
       "             pre_dispatch='2*n_jobs', refit=True, return_train_score=False,\n",
       "             scoring='accuracy', verbose=10)"
      ]
     },
     "execution_count": 95,
     "metadata": {},
     "output_type": "execute_result"
    }
   ],
   "source": [
    "gs.fit(x_train,y_train)"
   ]
  },
  {
   "cell_type": "code",
   "execution_count": 96,
   "metadata": {},
   "outputs": [
    {
     "data": {
      "text/plain": [
       "{'learning_rate': 0.1, 'n_estimators': 2000}"
      ]
     },
     "execution_count": 96,
     "metadata": {},
     "output_type": "execute_result"
    }
   ],
   "source": [
    "gs.best_params_"
   ]
  },
  {
   "cell_type": "code",
   "execution_count": 97,
   "metadata": {},
   "outputs": [
    {
     "name": "stdout",
     "output_type": "stream",
     "text": [
      "Matriz de confusion:\n",
      "                   Prediccion falso  Prediccion verdadero\n",
      "Actual falsa                  1076                   145\n",
      "Actual verdadera                67                   175\n"
     ]
    },
    {
     "data": {
      "text/html": [
       "<div>\n",
       "<style scoped>\n",
       "    .dataframe tbody tr th:only-of-type {\n",
       "        vertical-align: middle;\n",
       "    }\n",
       "\n",
       "    .dataframe tbody tr th {\n",
       "        vertical-align: top;\n",
       "    }\n",
       "\n",
       "    .dataframe thead th {\n",
       "        text-align: right;\n",
       "    }\n",
       "</style>\n",
       "<table border=\"1\" class=\"dataframe\">\n",
       "  <thead>\n",
       "    <tr style=\"text-align: right;\">\n",
       "      <th></th>\n",
       "      <th>Entrenamiento</th>\n",
       "      <th>Testeo</th>\n",
       "    </tr>\n",
       "  </thead>\n",
       "  <tbody>\n",
       "    <tr>\n",
       "      <th>Accuracy</th>\n",
       "      <td>0.894</td>\n",
       "      <td>0.855</td>\n",
       "    </tr>\n",
       "    <tr>\n",
       "      <th>recall</th>\n",
       "      <td>0.922</td>\n",
       "      <td>0.723</td>\n",
       "    </tr>\n",
       "    <tr>\n",
       "      <th>roc</th>\n",
       "      <td>0.957</td>\n",
       "      <td>0.907</td>\n",
       "    </tr>\n",
       "    <tr>\n",
       "      <th>f1</th>\n",
       "      <td>0.897</td>\n",
       "      <td>0.622</td>\n",
       "    </tr>\n",
       "  </tbody>\n",
       "</table>\n",
       "</div>"
      ],
      "text/plain": [
       "          Entrenamiento  Testeo\n",
       "Accuracy          0.894   0.855\n",
       "recall            0.922   0.723\n",
       "roc               0.957   0.907\n",
       "f1                0.897   0.622"
      ]
     },
     "execution_count": 97,
     "metadata": {},
     "output_type": "execute_result"
    }
   ],
   "source": [
    "mediciones(x_train,y_train,x_test,y_test,gs)"
   ]
  },
  {
   "cell_type": "markdown",
   "metadata": {},
   "source": [
    "Teniendo en cuenta los ajustes actuales es un buen ajuste pero el recall es muy bajo, veamos mas opciones"
   ]
  },
  {
   "cell_type": "markdown",
   "metadata": {},
   "source": [
    "## GradientBoostingClassifier"
   ]
  },
  {
   "cell_type": "code",
   "execution_count": 117,
   "metadata": {},
   "outputs": [],
   "source": [
    "from sklearn.model_selection import GridSearchCV\n",
    "from sklearn.neural_network import MLPClassifier\n",
    "\n",
    "grd=GradientBoostingClassifier()\n",
    "search_grid={'n_estimators':[500,1000,2000],'learning_rate':[.001,0.01,.1]}\n",
    "grd_cv=GridSearchCV(estimator=ada,param_grid=search_grid,scoring='accuracy',n_jobs=-1,cv=5,verbose=10)\n",
    "\n"
   ]
  },
  {
   "cell_type": "code",
   "execution_count": 118,
   "metadata": {},
   "outputs": [
    {
     "name": "stdout",
     "output_type": "stream",
     "text": [
      "Fitting 5 folds for each of 9 candidates, totalling 45 fits\n"
     ]
    },
    {
     "name": "stderr",
     "output_type": "stream",
     "text": [
      "[Parallel(n_jobs=-1)]: Using backend LokyBackend with 8 concurrent workers.\n",
      "[Parallel(n_jobs=-1)]: Done   2 tasks      | elapsed:   23.3s\n",
      "[Parallel(n_jobs=-1)]: Done   9 tasks      | elapsed:  1.1min\n",
      "[Parallel(n_jobs=-1)]: Done  16 tasks      | elapsed:  1.8min\n",
      "[Parallel(n_jobs=-1)]: Done  25 tasks      | elapsed:  2.5min\n",
      "[Parallel(n_jobs=-1)]: Done  35 out of  45 | elapsed:  3.5min remaining:  1.0min\n",
      "[Parallel(n_jobs=-1)]: Done  40 out of  45 | elapsed:  4.2min remaining:   31.3s\n",
      "[Parallel(n_jobs=-1)]: Done  45 out of  45 | elapsed:  5.1min remaining:    0.0s\n",
      "[Parallel(n_jobs=-1)]: Done  45 out of  45 | elapsed:  5.1min finished\n"
     ]
    },
    {
     "data": {
      "text/plain": [
       "GridSearchCV(cv=5, error_score=nan,\n",
       "             estimator=AdaBoostClassifier(algorithm='SAMME.R',\n",
       "                                          base_estimator=None,\n",
       "                                          learning_rate=1.0, n_estimators=50,\n",
       "                                          random_state=None),\n",
       "             iid='deprecated', n_jobs=-1,\n",
       "             param_grid={'learning_rate': [0.001, 0.01, 0.1],\n",
       "                         'n_estimators': [500, 1000, 2000]},\n",
       "             pre_dispatch='2*n_jobs', refit=True, return_train_score=False,\n",
       "             scoring='accuracy', verbose=10)"
      ]
     },
     "execution_count": 118,
     "metadata": {},
     "output_type": "execute_result"
    }
   ],
   "source": [
    "grd_cv.fit(x_train,y_train)"
   ]
  },
  {
   "cell_type": "code",
   "execution_count": 119,
   "metadata": {},
   "outputs": [
    {
     "data": {
      "text/plain": [
       "{'learning_rate': 0.1, 'n_estimators': 2000}"
      ]
     },
     "execution_count": 119,
     "metadata": {},
     "output_type": "execute_result"
    }
   ],
   "source": [
    "grd_cv.best_params_"
   ]
  },
  {
   "cell_type": "code",
   "execution_count": 120,
   "metadata": {},
   "outputs": [
    {
     "name": "stdout",
     "output_type": "stream",
     "text": [
      "Matriz de confusion:\n",
      "                   Prediccion falso  Prediccion verdadero\n",
      "Actual falsa                  1076                   145\n",
      "Actual verdadera                67                   175\n"
     ]
    },
    {
     "data": {
      "text/html": [
       "<div>\n",
       "<style scoped>\n",
       "    .dataframe tbody tr th:only-of-type {\n",
       "        vertical-align: middle;\n",
       "    }\n",
       "\n",
       "    .dataframe tbody tr th {\n",
       "        vertical-align: top;\n",
       "    }\n",
       "\n",
       "    .dataframe thead th {\n",
       "        text-align: right;\n",
       "    }\n",
       "</style>\n",
       "<table border=\"1\" class=\"dataframe\">\n",
       "  <thead>\n",
       "    <tr style=\"text-align: right;\">\n",
       "      <th></th>\n",
       "      <th>Entrenamiento</th>\n",
       "      <th>Testeo</th>\n",
       "    </tr>\n",
       "  </thead>\n",
       "  <tbody>\n",
       "    <tr>\n",
       "      <th>Accuracy</th>\n",
       "      <td>0.894</td>\n",
       "      <td>0.855</td>\n",
       "    </tr>\n",
       "    <tr>\n",
       "      <th>recall</th>\n",
       "      <td>0.922</td>\n",
       "      <td>0.723</td>\n",
       "    </tr>\n",
       "    <tr>\n",
       "      <th>roc</th>\n",
       "      <td>0.957</td>\n",
       "      <td>0.907</td>\n",
       "    </tr>\n",
       "    <tr>\n",
       "      <th>f1</th>\n",
       "      <td>0.897</td>\n",
       "      <td>0.622</td>\n",
       "    </tr>\n",
       "  </tbody>\n",
       "</table>\n",
       "</div>"
      ],
      "text/plain": [
       "          Entrenamiento  Testeo\n",
       "Accuracy          0.894   0.855\n",
       "recall            0.922   0.723\n",
       "roc               0.957   0.907\n",
       "f1                0.897   0.622"
      ]
     },
     "execution_count": 120,
     "metadata": {},
     "output_type": "execute_result"
    }
   ],
   "source": [
    "mediciones(x_train,y_train,x_test,y_test,grd_cv)"
   ]
  },
  {
   "cell_type": "markdown",
   "metadata": {},
   "source": [
    "Mejora el recall pero caemos en el accuracy, igualmente roc esta muy bueno"
   ]
  },
  {
   "cell_type": "markdown",
   "metadata": {},
   "source": [
    "Ya tengo la mejor version de estos 3 modelos, antes de escojer uno de ellos ¿juntemoslos todos y veamos si la union de todos es mejor que uno solo?"
   ]
  },
  {
   "cell_type": "code",
   "execution_count": 70,
   "metadata": {},
   "outputs": [
    {
     "name": "stderr",
     "output_type": "stream",
     "text": [
      "[Parallel(n_jobs=1)]: Using backend SequentialBackend with 1 concurrent workers.\n",
      "[Parallel(n_jobs=1)]: Done   1 out of   1 | elapsed:    2.3s remaining:    0.0s\n",
      "[Parallel(n_jobs=1)]: Done   2 out of   2 | elapsed:    4.7s remaining:    0.0s\n",
      "[Parallel(n_jobs=1)]: Done   3 out of   3 | elapsed:    6.2s remaining:    0.0s\n",
      "[Parallel(n_jobs=1)]: Done   4 out of   4 | elapsed:    8.4s remaining:    0.0s\n",
      "[Parallel(n_jobs=1)]: Done   5 out of   5 | elapsed:   10.5s remaining:    0.0s\n",
      "[Parallel(n_jobs=1)]: Done   5 out of   5 | elapsed:   10.5s finished\n",
      "[Parallel(n_jobs=1)]: Using backend SequentialBackend with 1 concurrent workers.\n",
      "[Parallel(n_jobs=1)]: Done   1 out of   1 | elapsed:    1.5s remaining:    0.0s\n",
      "[Parallel(n_jobs=1)]: Done   2 out of   2 | elapsed:    3.0s remaining:    0.0s\n",
      "[Parallel(n_jobs=1)]: Done   3 out of   3 | elapsed:    4.7s remaining:    0.0s\n",
      "[Parallel(n_jobs=1)]: Done   4 out of   4 | elapsed:    6.2s remaining:    0.0s\n",
      "[Parallel(n_jobs=1)]: Done   5 out of   5 | elapsed:    7.7s remaining:    0.0s\n",
      "[Parallel(n_jobs=1)]: Done   5 out of   5 | elapsed:    7.7s finished\n",
      "[Parallel(n_jobs=1)]: Using backend SequentialBackend with 1 concurrent workers.\n",
      "[Parallel(n_jobs=1)]: Done   1 out of   1 | elapsed:    0.4s remaining:    0.0s\n",
      "[Parallel(n_jobs=1)]: Done   2 out of   2 | elapsed:    1.0s remaining:    0.0s\n",
      "[Parallel(n_jobs=1)]: Done   3 out of   3 | elapsed:    1.4s remaining:    0.0s\n",
      "[Parallel(n_jobs=1)]: Done   4 out of   4 | elapsed:    1.8s remaining:    0.0s\n",
      "[Parallel(n_jobs=1)]: Done   5 out of   5 | elapsed:    2.2s remaining:    0.0s\n",
      "[Parallel(n_jobs=1)]: Done   5 out of   5 | elapsed:    2.2s finished\n"
     ]
    },
    {
     "data": {
      "text/plain": [
       "StackingClassifier(cv=None,\n",
       "                   estimators=[('ada',\n",
       "                                AdaBoostClassifier(algorithm='SAMME.R',\n",
       "                                                   base_estimator=DecisionTreeClassifier(ccp_alpha=0.0,\n",
       "                                                                                         class_weight=None,\n",
       "                                                                                         criterion='gini',\n",
       "                                                                                         max_depth=20,\n",
       "                                                                                         max_features=None,\n",
       "                                                                                         max_leaf_nodes=None,\n",
       "                                                                                         min_impurity_decrease=0.0,\n",
       "                                                                                         min_impurity_split=None,\n",
       "                                                                                         min_samples_leaf=1,\n",
       "                                                                                         min_samples_split=2,\n",
       "                                                                                         min_weight_fraction_leaf=0.0,\n",
       "                                                                                         presort='...\n",
       "                                                       random_state=0,\n",
       "                                                       verbose=0,\n",
       "                                                       warm_start=False))],\n",
       "                   final_estimator=LogisticRegression(C=1000, class_weight=None,\n",
       "                                                      dual=False,\n",
       "                                                      fit_intercept=True,\n",
       "                                                      intercept_scaling=1,\n",
       "                                                      l1_ratio=None,\n",
       "                                                      max_iter=100,\n",
       "                                                      multi_class='auto',\n",
       "                                                      n_jobs=None, penalty='l2',\n",
       "                                                      random_state=None,\n",
       "                                                      solver='lbfgs',\n",
       "                                                      tol=0.0001, verbose=0,\n",
       "                                                      warm_start=False),\n",
       "                   n_jobs=1, passthrough=True, stack_method='auto', verbose=10)"
      ]
     },
     "execution_count": 70,
     "metadata": {},
     "output_type": "execute_result"
    }
   ],
   "source": [
    "from sklearn.ensemble import StackingClassifier\n",
    "from sklearn.model_selection import GridSearchCV\n",
    "from sklearn.linear_model import LogisticRegression\n",
    "from sklearn.ensemble import AdaBoostClassifier\n",
    "from sklearn.tree import DecisionTreeClassifier\n",
    "from sklearn.neural_network import MLPClassifier\n",
    "\n",
    "modelos =[('ada',AdaBoostClassifier(base_estimator=DecisionTreeClassifier(max_depth=20))),\n",
    "('mlp',MLPClassifier(alpha=0.1,hidden_layer_sizes=14,random_state= 10101,solver='lbfgs')),\n",
    "('rfc',RandomForestClassifier(max_depth=15,n_estimators=50,random_state=0))]\n",
    "\n",
    "modelo_salida = LogisticRegression(C= 1000, penalty= 'l2')\n",
    "\n",
    "#voy a forzarlo a usar las variables predictoras con las predichas\n",
    "stack=StackingClassifier(estimators=modelos, final_estimator=modelo_salida,n_jobs=1,passthrough=True,verbose=10)\n",
    "\n",
    "stack.fit(x_train,y_train)"
   ]
  },
  {
   "cell_type": "code",
   "execution_count": 71,
   "metadata": {},
   "outputs": [
    {
     "name": "stdout",
     "output_type": "stream",
     "text": [
      "Matriz de confusion:\n",
      "                   Prediccion falso  Prediccion verdadero\n",
      "Actual falsa                  1117                   104\n",
      "Actual verdadera                99                   143\n"
     ]
    },
    {
     "data": {
      "text/html": [
       "<div>\n",
       "<style scoped>\n",
       "    .dataframe tbody tr th:only-of-type {\n",
       "        vertical-align: middle;\n",
       "    }\n",
       "\n",
       "    .dataframe tbody tr th {\n",
       "        vertical-align: top;\n",
       "    }\n",
       "\n",
       "    .dataframe thead th {\n",
       "        text-align: right;\n",
       "    }\n",
       "</style>\n",
       "<table border=\"1\" class=\"dataframe\">\n",
       "  <thead>\n",
       "    <tr style=\"text-align: right;\">\n",
       "      <th></th>\n",
       "      <th>Entrenamiento</th>\n",
       "      <th>Testeo</th>\n",
       "    </tr>\n",
       "  </thead>\n",
       "  <tbody>\n",
       "    <tr>\n",
       "      <th>Accuracy</th>\n",
       "      <td>0.962</td>\n",
       "      <td>0.861</td>\n",
       "    </tr>\n",
       "    <tr>\n",
       "      <th>recall</th>\n",
       "      <td>0.979</td>\n",
       "      <td>0.590</td>\n",
       "    </tr>\n",
       "    <tr>\n",
       "      <th>roc</th>\n",
       "      <td>0.993</td>\n",
       "      <td>0.888</td>\n",
       "    </tr>\n",
       "    <tr>\n",
       "      <th>f1</th>\n",
       "      <td>0.963</td>\n",
       "      <td>0.584</td>\n",
       "    </tr>\n",
       "  </tbody>\n",
       "</table>\n",
       "</div>"
      ],
      "text/plain": [
       "          Entrenamiento  Testeo\n",
       "Accuracy          0.962   0.861\n",
       "recall            0.979   0.590\n",
       "roc               0.993   0.888\n",
       "f1                0.963   0.584"
      ]
     },
     "execution_count": 71,
     "metadata": {},
     "output_type": "execute_result"
    }
   ],
   "source": [
    "mediciones(x_train,y_train,x_test,y_test,stack)"
   ]
  },
  {
   "cell_type": "code",
   "execution_count": 121,
   "metadata": {},
   "outputs": [
    {
     "data": {
      "image/png": "[encoded data removed]",
      "text/plain": [
       "<Figure size 1152x576 with 1 Axes>"
      ]
     },
     "metadata": {
      "needs_background": "light"
     },
     "output_type": "display_data"
    }
   ],
   "source": [
    "log_reg_pred = logreg_cv.predict_proba(x_test)[:,1]\n",
    "rf_pred = rf_cv.predict_proba(x_test)[:,1]\n",
    "ada_pred = gs.predict_proba(x_test)[:,1]\n",
    "grd_pred = grd_cv.predict_proba(x_test)[:,1]\n",
    "\n",
    "log_fpr, log_tpr, log_thresold = roc_curve(y_test, log_reg_pred)\n",
    "knear_fpr, knear_tpr, knear_threshold = roc_curve(y_test, rf_pred)\n",
    "svc_fpr, svc_tpr, svc_threshold = roc_curve(y_test, ada_pred)\n",
    "tree_fpr, tree_tpr, tree_threshold = roc_curve(y_test,rn_pred)\n",
    "\n",
    "\n",
    "plt.figure(figsize=(16,8))\n",
    "plt.title('Curva ROC \\n Top 4 Clasificadores', fontsize=18)\n",
    "plt.plot(log_fpr, log_tpr, label='Regresión logistica Score: {:.4f}'.format(roc_auc_score(y_test, log_reg_pred)))\n",
    "plt.plot(knear_fpr, knear_tpr, label='Random Forest Score: {:.4f}'.format(roc_auc_score(y_test, rf_pred)))\n",
    "plt.plot(svc_fpr, svc_tpr, label='AdaBoost: {:.4f}'.format(roc_auc_score(y_test, ada_pred)))\n",
    "plt.plot(tree_fpr, tree_tpr, label='Gradiab boost Score: {:.4f}'.format(roc_auc_score(y_test, grd_pred)))\n",
    "plt.plot([0, 1], [0, 1], 'k--')\n",
    "plt.axis([-0.01, 1, 0, 1])\n",
    "plt.xlabel('Falso Positivo', fontsize=16)\n",
    "plt.ylabel('Verdadero Positivo', fontsize=16)\n",
    "plt.annotate('Roc minimo 50% \\n (Este es el minimo score a obtener)', xy=(0.5, 0.5), xytext=(0.6, 0.3),\n",
    "                arrowprops=dict(facecolor='#6E726D', shrink=0.05),\n",
    "                )\n",
    "plt.legend()\n",
    "    \n",
    "plt.show()"
   ]
  },
  {
   "cell_type": "markdown",
   "metadata": {},
   "source": [
    "# Conclusión Buses"
   ]
  },
  {
   "cell_type": "markdown",
   "metadata": {},
   "source": [
    "En todos los modelos balaneados es posible apreciar un sobre ajuste de los valores, sin embargo es importante indicar que para el problema en cuestion es prioritario no desechar lead buenos e intentar desechar lead malos. por este motivo busco el mejor equilibrio entre recall y accuracy, evitando descuidar el presicion.\n",
    "\n",
    "Tal contexto lleva a dejar al modelo RF con el mejor comportamiento."
   ]
  },
  {
   "cell_type": "code",
   "execution_count": 122,
   "metadata": {},
   "outputs": [
    {
     "name": "stdout",
     "output_type": "stream",
     "text": [
      "Confusion matrix Random Forest:\n",
      " [[1076  145]\n",
      " [  67  175]]\n"
     ]
    },
    {
     "data": {
      "image/png": "[encoded data removed]",
      "text/plain": [
       "<Figure size 432x288 with 2 Axes>"
      ]
     },
     "metadata": {
      "needs_background": "light"
     },
     "output_type": "display_data"
    }
   ],
   "source": [
    "from sklearn.metrics import confusion_matrix\n",
    "from matplotlib import pyplot as plt\n",
    "\n",
    "conf_mat = confusion_matrix(y_true=y_test, y_pred=gs.predict(x_test))\n",
    "print('Confusion matrix Random Forest:\\n', conf_mat)\n",
    "\n",
    "labels = ['No compra', 'Si compra']\n",
    "fig = plt.figure()\n",
    "ax = fig.add_subplot(111)\n",
    "cax = ax.matshow(conf_mat, cmap=plt.cm.Blues)\n",
    "fig.colorbar(cax)\n",
    "ax.set_xticklabels([''] + labels)\n",
    "ax.set_yticklabels([''] + labels)\n",
    "plt.xlabel('Estimado')\n",
    "plt.ylabel('Real')\n",
    "plt.show()"
   ]
  },
  {
   "cell_type": "markdown",
   "metadata": {},
   "source": [
    "# Exportación del modelo"
   ]
  },
  {
   "cell_type": "code",
   "execution_count": 127,
   "metadata": {},
   "outputs": [],
   "source": [
    "import pickle\n",
    "\n",
    "filename = 'lead_score_buses_empresa_modelo.sav'\n",
    "\n",
    "pickle.dump(gs, open(filename, 'wb'))"
   ]
  },
  {
   "cell_type": "code",
   "execution_count": 124,
   "metadata": {},
   "outputs": [
    {
     "data": {
      "text/plain": [
       "GridSearchCV(cv=3, error_score=nan,\n",
       "             estimator=KNeighborsClassifier(algorithm='auto', leaf_size=30,\n",
       "                                            metric='minkowski',\n",
       "                                            metric_params=None, n_jobs=None,\n",
       "                                            n_neighbors=5, p=2,\n",
       "                                            weights='uniform'),\n",
       "             iid='deprecated', n_jobs=None,\n",
       "             param_grid={'n_neighbors': [5, 6, 7, 8, 9, 10, 11, 12, 13, 14, 15,\n",
       "                                         16, 17, 18, 19],\n",
       "                         'weights': ['uniform', 'distance']},\n",
       "             pre_dispatch='2*n_jobs', refit=True, return_train_score=False,\n",
       "             scoring='accuracy', verbose=0)"
      ]
     },
     "execution_count": 124,
     "metadata": {},
     "output_type": "execute_result"
    }
   ],
   "source": [
    "from sklearn.neighbors import KNeighborsClassifier\n",
    "\n",
    "\n",
    "k_range = list(range(5,20))\n",
    "weight_options = [\"uniform\", \"distance\"]\n",
    "\n",
    "param_grid = dict(n_neighbors = k_range, weights = weight_options)\n",
    "#print (param_grid)\n",
    "knn = KNeighborsClassifier()\n",
    "\n",
    "grid = GridSearchCV(knn, param_grid, cv = 3, scoring = 'accuracy')\n",
    "grid.fit(x_train,y_train)"
   ]
  },
  {
   "cell_type": "code",
   "execution_count": 125,
   "metadata": {
    "scrolled": true
   },
   "outputs": [
    {
     "name": "stdout",
     "output_type": "stream",
     "text": [
      "Matriz de confusion:\n",
      "                   Prediccion falso  Prediccion verdadero\n",
      "Actual falsa                  1108                   113\n",
      "Actual verdadera               138                   104\n"
     ]
    },
    {
     "data": {
      "text/html": [
       "<div>\n",
       "<style scoped>\n",
       "    .dataframe tbody tr th:only-of-type {\n",
       "        vertical-align: middle;\n",
       "    }\n",
       "\n",
       "    .dataframe tbody tr th {\n",
       "        vertical-align: top;\n",
       "    }\n",
       "\n",
       "    .dataframe thead th {\n",
       "        text-align: right;\n",
       "    }\n",
       "</style>\n",
       "<table border=\"1\" class=\"dataframe\">\n",
       "  <thead>\n",
       "    <tr style=\"text-align: right;\">\n",
       "      <th></th>\n",
       "      <th>Entrenamiento</th>\n",
       "      <th>Testeo</th>\n",
       "    </tr>\n",
       "  </thead>\n",
       "  <tbody>\n",
       "    <tr>\n",
       "      <th>Accuracy</th>\n",
       "      <td>0.964</td>\n",
       "      <td>0.828</td>\n",
       "    </tr>\n",
       "    <tr>\n",
       "      <th>recall</th>\n",
       "      <td>0.943</td>\n",
       "      <td>0.429</td>\n",
       "    </tr>\n",
       "    <tr>\n",
       "      <th>roc</th>\n",
       "      <td>0.996</td>\n",
       "      <td>0.756</td>\n",
       "    </tr>\n",
       "    <tr>\n",
       "      <th>f1</th>\n",
       "      <td>0.963</td>\n",
       "      <td>0.453</td>\n",
       "    </tr>\n",
       "  </tbody>\n",
       "</table>\n",
       "</div>"
      ],
      "text/plain": [
       "          Entrenamiento  Testeo\n",
       "Accuracy          0.964   0.828\n",
       "recall            0.943   0.429\n",
       "roc               0.996   0.756\n",
       "f1                0.963   0.453"
      ]
     },
     "execution_count": 125,
     "metadata": {},
     "output_type": "execute_result"
    }
   ],
   "source": [
    "mediciones(x_train,y_train,x_test,y_test,grid)"
   ]
  },
  {
   "cell_type": "markdown",
   "metadata": {},
   "source": [
    "Reviso importancia de cada variable"
   ]
  },
  {
   "cell_type": "code",
   "execution_count": 128,
   "metadata": {},
   "outputs": [
    {
     "name": "stdout",
     "output_type": "stream",
     "text": [
      "feature: TRAMO_VENTA, importance: 0.015\n",
      "feature: NUM_TRABAJADORES, importance: 0.0305\n",
      "feature: TOTAL_UTILITARIOS, importance: 0.034\n",
      "feature: UTILITARIOS_EXCLUSION, importance: 0.096\n",
      "feature: RELEVANTE_BUSES, importance: 0.029\n",
      "feature: RELEVANTE_CAMIONES, importance: 0.032\n",
      "feature: RELEVANTE_RODADOS, importance: 0.007\n",
      "feature: RELEVANTE_VANS, importance: 0.0275\n",
      "feature: RELEVANTE_CARGA, importance: 0.0045\n",
      "feature: RELEVANTE_PASAJERA, importance: 0.018\n",
      "feature: RELEVANTE_PESADO, importance: 0.013\n",
      "feature: RELEVANTE_CAMIONETA, importance: 0.004\n",
      "feature: RELEVANTE_MEDIANO, importance: 0.001\n",
      "feature: RELEVANTE_OTROS, importance: 0.0015\n",
      "feature: RELEVANTE_LIVIANO, importance: 0.004\n",
      "feature: RELEVANTE_CAMIONETA_DCAB, importance: 0.0005\n",
      "feature: RELEVANTE_FORESTAL, importance: 0.0\n",
      "feature: RELEVANTE_CAMABAJA, importance: 0.0015\n",
      "feature: FLOTA_NUEVA, importance: 0.002\n",
      "feature: ANTIGUEDAD_FLOTA, importance: 0.0155\n",
      "feature: CAMPANAS_U180D, importance: 0.009\n",
      "feature: CAMPANAS_U180D_C, importance: 0.006\n",
      "feature: SERVICIOS_PV, importance: 0.101\n",
      "feature: NUM_OFERTAS_U12M, importance: 0.09\n",
      "feature: COMPRAS_REALIZADAS_U12M, importance: 0.1285\n",
      "feature: ANTIGUEDAD_E_ENTRE 15 Y 25 A, importance: 0.0165\n",
      "feature: ANTIGUEDAD_E_ENTRE 5 Y 15 AÑ, importance: 0.004\n",
      "feature: ANTIGUEDAD_E_MAYOR A 25 AÑOS, importance: 0.0105\n",
      "feature: ANTIGUEDAD_E_MENOS DE 5 AÑOS, importance: 0.0\n",
      "feature: DESC_TIPO_VEHICULO_BUS, importance: 0.0\n",
      "feature: DESC_TIPO_VEHICULO_CAMION, importance: 0.0055\n",
      "feature: DESC_TIPO_VEHICULO_CHASIS, importance: 0.0\n",
      "feature: DESC_TIPO_VEHICULO_CHASIS CABINA, importance: 0.001\n",
      "feature: DESC_TIPO_VEHICULO_FURGON, importance: 0.0\n",
      "feature: DESC_TIPO_VEHICULO_MINIBUS, importance: 0.0\n",
      "feature: MARCA_AGRUPADA_MERCEDES-BENZ, importance: 0.0\n",
      "feature: MARCA_AGRUPADA_MITSUBISHI-FUSO, importance: 0.009\n",
      "feature: RUBRO_ECON_A, importance: 0.003\n",
      "feature: RUBRO_ECON_B, importance: 0.003\n",
      "feature: RUBRO_ECON_C, importance: 0.0\n",
      "feature: RUBRO_ECON_E, importance: 0.0005\n",
      "feature: RUBRO_ECON_F, importance: 0.003\n",
      "feature: RUBRO_ECON_G, importance: 0.0\n",
      "feature: RUBRO_ECON_H, importance: 0.0005\n",
      "feature: RUBRO_ECON_I, importance: 0.0005\n",
      "feature: RUBRO_ECON_J, importance: 0.0\n",
      "feature: RUBRO_ECON_K, importance: 0.0005\n",
      "feature: RUBRO_ECON_L, importance: 0.0\n",
      "feature: RUBRO_ECON_M, importance: 0.0005\n",
      "feature: RUBRO_ECON_N, importance: 0.0035\n",
      "feature: RUBRO_ECON_O, importance: 0.002\n",
      "feature: RUBRO_ECON_P, importance: 0.0\n",
      "feature: RUBRO_ECON_Q, importance: 0.0005\n",
      "feature: RUBRO_ECON_R, importance: 0.0\n",
      "feature: RUBRO_ECON_S, importance: 0.0\n",
      "feature: RUBRO_ECON_U, importance: 0.0\n",
      "feature: RUBRO_ECON_Z, importance: 0.0095\n",
      "feature: REGION_NA, importance: 0.005\n",
      "feature: REGION_ Antofagasta, importance: 0.0125\n",
      "feature: REGION_ Arica y Parinacota, importance: 0.0\n",
      "feature: REGION_ Atacama, importance: 0.0055\n",
      "feature: REGION_ Aysén del Gral. C. Ibáñez del Camp, importance: 0.0\n",
      "feature: REGION_ Biobío, importance: 0.0035\n",
      "feature: REGION_ Coquimbo, importance: 0.0065\n",
      "feature: REGION_ La Araucanía, importance: 0.003\n",
      "feature: REGION_ Lib. Gral. Bernardo O'Higgins, importance: 0.0045\n",
      "feature: REGION_ Los Lagos, importance: 0.0035\n",
      "feature: REGION_ Los Ríos, importance: 0.0055\n",
      "feature: REGION_ Magallanes y Antártica Chilena, importance: 0.003\n",
      "feature: REGION_ Maule, importance: 0.007\n",
      "feature: REGION_ Metropolitana de Santiago, importance: 0.0115\n",
      "feature: REGION_ Tarapacá, importance: 0.0055\n",
      "feature: REGION_ Valparaíso, importance: 0.0095\n",
      "feature: REGION_ Ñuble, importance: 0.0045\n",
      "feature: USADO_NUEVO_Nuevo, importance: 0.0\n",
      "feature: USADO_NUEVO_Usado, importance: 0.0005\n",
      "feature: TIPO_CREDITO_USADO_ANT_CHEQUES, importance: 0.0405\n",
      "feature: TIPO_CREDITO_USADO_ANT_CONTADO, importance: 0.0435\n",
      "feature: TIPO_CREDITO_USADO_ANT_CREDITO, importance: 0.0155\n",
      "feature: TIPO_CREDITO_USADO_ANT_LEASING, importance: 0.0045\n",
      "feature: TIPO_CREDITO_USADO_ANT_LETRAS, importance: 0.0125\n",
      "feature: TIPO_CREDITO_USADO_ANT_MUTUOS, importance: 0.0\n",
      "feature: TIPO_CREDITO_USADO_ANT_NA, importance: 0.035\n",
      "feature: TIPO_CREDITO_USADO_ANT_ORDEN DE COMPRA, importance: 0.013\n"
     ]
    }
   ],
   "source": [
    "for feat, importance in zip(x_train.columns, gs.best_estimator_.feature_importances_):\n",
    "    print ('feature: {f}, importance: {i}'.format(f=feat, i=importance))"
   ]
  },
  {
   "cell_type": "code",
   "execution_count": 152,
   "metadata": {},
   "outputs": [],
   "source": []
  },
  {
   "cell_type": "code",
   "execution_count": 153,
   "metadata": {},
   "outputs": [],
   "source": [
    "from itertools import accumulate\n",
    "importancia= pd.DataFrame(list(zip(x_train.columns, gs.best_estimator_.feature_importances_)),columns =['variable','importancia'])\n",
    "importancia2 = importancia.sort_values(by=['importancia'],ascending=0)\n",
    "importancia2[\"acumulado\"]=list(accumulate(importancia2[\"importancia\"]))"
   ]
  },
  {
   "cell_type": "code",
   "execution_count": 167,
   "metadata": {},
   "outputs": [],
   "source": [
    "listado=importancia2[importancia2['acumulado']<=0.95][\"variable\"]"
   ]
  },
  {
   "cell_type": "code",
   "execution_count": 168,
   "metadata": {},
   "outputs": [
    {
     "name": "stdout",
     "output_type": "stream",
     "text": [
      "Fitting 5 folds for each of 9 candidates, totalling 45 fits\n"
     ]
    },
    {
     "name": "stderr",
     "output_type": "stream",
     "text": [
      "[Parallel(n_jobs=-1)]: Using backend LokyBackend with 8 concurrent workers.\n",
      "[Parallel(n_jobs=-1)]: Done   2 tasks      | elapsed:    2.1s\n",
      "[Parallel(n_jobs=-1)]: Done   9 tasks      | elapsed:    6.1s\n",
      "[Parallel(n_jobs=-1)]: Done  16 tasks      | elapsed:   10.5s\n",
      "[Parallel(n_jobs=-1)]: Done  25 tasks      | elapsed:   15.3s\n",
      "[Parallel(n_jobs=-1)]: Done  35 out of  45 | elapsed:   22.2s remaining:    6.3s\n",
      "[Parallel(n_jobs=-1)]: Done  40 out of  45 | elapsed:   25.4s remaining:    3.1s\n",
      "[Parallel(n_jobs=-1)]: Done  45 out of  45 | elapsed:   29.9s remaining:    0.0s\n",
      "[Parallel(n_jobs=-1)]: Done  45 out of  45 | elapsed:   29.9s finished\n"
     ]
    },
    {
     "data": {
      "text/plain": [
       "GridSearchCV(cv=5, error_score=nan,\n",
       "             estimator=AdaBoostClassifier(algorithm='SAMME.R',\n",
       "                                          base_estimator=None,\n",
       "                                          learning_rate=1.0, n_estimators=50,\n",
       "                                          random_state=None),\n",
       "             iid='deprecated', n_jobs=-1,\n",
       "             param_grid={'learning_rate': [0.001, 0.01, 0.1],\n",
       "                         'n_estimators': [500, 1000, 2000]},\n",
       "             pre_dispatch='2*n_jobs', refit=True, return_train_score=False,\n",
       "             scoring='accuracy', verbose=10)"
      ]
     },
     "execution_count": 168,
     "metadata": {},
     "output_type": "execute_result"
    }
   ],
   "source": [
    "gs.fit(x_test[listado],y_test)"
   ]
  },
  {
   "cell_type": "code",
   "execution_count": 169,
   "metadata": {},
   "outputs": [
    {
     "name": "stdout",
     "output_type": "stream",
     "text": [
      "Matriz de confusion:\n",
      "                   Prediccion falso  Prediccion verdadero\n",
      "Actual falsa                  1190                    31\n",
      "Actual verdadera               104                   138\n"
     ]
    },
    {
     "data": {
      "text/html": [
       "<div>\n",
       "<style scoped>\n",
       "    .dataframe tbody tr th:only-of-type {\n",
       "        vertical-align: middle;\n",
       "    }\n",
       "\n",
       "    .dataframe tbody tr th {\n",
       "        vertical-align: top;\n",
       "    }\n",
       "\n",
       "    .dataframe thead th {\n",
       "        text-align: right;\n",
       "    }\n",
       "</style>\n",
       "<table border=\"1\" class=\"dataframe\">\n",
       "  <thead>\n",
       "    <tr style=\"text-align: right;\">\n",
       "      <th></th>\n",
       "      <th>Entrenamiento</th>\n",
       "      <th>Testeo</th>\n",
       "    </tr>\n",
       "  </thead>\n",
       "  <tbody>\n",
       "    <tr>\n",
       "      <th>Accuracy</th>\n",
       "      <td>0.719</td>\n",
       "      <td>0.907</td>\n",
       "    </tr>\n",
       "    <tr>\n",
       "      <th>recall</th>\n",
       "      <td>0.485</td>\n",
       "      <td>0.570</td>\n",
       "    </tr>\n",
       "    <tr>\n",
       "      <th>roc</th>\n",
       "      <td>0.887</td>\n",
       "      <td>0.937</td>\n",
       "    </tr>\n",
       "    <tr>\n",
       "      <th>f1</th>\n",
       "      <td>0.634</td>\n",
       "      <td>0.671</td>\n",
       "    </tr>\n",
       "  </tbody>\n",
       "</table>\n",
       "</div>"
      ],
      "text/plain": [
       "          Entrenamiento  Testeo\n",
       "Accuracy          0.719   0.907\n",
       "recall            0.485   0.570\n",
       "roc               0.887   0.937\n",
       "f1                0.634   0.671"
      ]
     },
     "execution_count": 169,
     "metadata": {},
     "output_type": "execute_result"
    }
   ],
   "source": [
    "mediciones(x_train[listado],y_train,x_test[listado],y_test,gs)"
   ]
  },
  {
   "cell_type": "code",
   "execution_count": null,
   "metadata": {},
   "outputs": [],
   "source": []
  }
 ],
 "metadata": {
  "kernelspec": {
   "display_name": "Python 3",
   "language": "python",
   "name": "python3"
  },
  "language_info": {
   "codemirror_mode": {
    "name": "ipython",
    "version": 3
   },
   "file_extension": ".py",
   "mimetype": "text/x-python",
   "name": "python",
   "nbconvert_exporter": "python",
   "pygments_lexer": "ipython3",
   "version": "3.7.2"
  }
 },
 "nbformat": 4,
 "nbformat_minor": 2
}
