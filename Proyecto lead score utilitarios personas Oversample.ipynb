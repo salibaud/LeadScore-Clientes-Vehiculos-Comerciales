{
 "cells": [
  {
   "cell_type": "markdown",
   "metadata": {},
   "source": [
    "# Lead Score utilitarios empresas"
   ]
  },
  {
   "cell_type": "code",
   "execution_count": 1,
   "metadata": {},
   "outputs": [],
   "source": [
    "#referencias:\n",
    "#https://www.kaggle.com/janiobachmann/credit-fraud-dealing-with-imbalanced-datasets\n",
    "#https://www.kaggle.com/tboyle10/methods-for-dealing-with-imbalanced-data\n",
    "#https://medium.com/thalus-ai/performance-metrics-for-classification-problems-in-machine-learning-part-i-b085d432082b\n",
    "\n",
    "\n",
    "#Area de Analytics - Comercial Kaufmann\n",
    "#creado por Sebastian Alibaud\n",
    "\n"
   ]
  },
  {
   "cell_type": "markdown",
   "metadata": {},
   "source": [
    "# CARGA DE PAQUETES"
   ]
  },
  {
   "cell_type": "code",
   "execution_count": 2,
   "metadata": {},
   "outputs": [],
   "source": [
    "# quitamos alertas porfavor!\n",
    "import warnings\n",
    "warnings.filterwarnings('ignore')"
   ]
  },
  {
   "cell_type": "code",
   "execution_count": 3,
   "metadata": {},
   "outputs": [],
   "source": [
    "# librerias clasicas\n",
    "import numpy as np\n",
    "import pandas as pd\n",
    "import matplotlib.pyplot as plt\n",
    "import seaborn as sns\n",
    "\n",
    "# ploteos\n",
    "from matplotlib.pyplot import xticks\n",
    "%matplotlib inline\n",
    "from sklearn.metrics import roc_curve,confusion_matrix,accuracy_score,recall_score\n",
    "from sklearn.metrics import f1_score,precision_score,roc_auc_score,average_precision_score\n",
    "\n",
    "\n",
    "#modelos\n",
    "from sklearn.model_selection import train_test_split\n",
    "from  sklearn.ensemble import RandomForestClassifier\n",
    "from sklearn.preprocessing import StandardScaler\n",
    "#from sklearn.svm import SVC\n",
    "#from sklearn.linear_model import RidgeClassifier,SGDClassifier,LogisticRegression\n",
    "from sklearn.metrics import confusion_matrix,accuracy_score,recall_score,f1_score,precision_score,roc_auc_score,average_precision_score\n",
    "#from sklearn.neighbors import NearestNeighbors\n",
    "import xgboost as xgb\n"
   ]
  },
  {
   "cell_type": "markdown",
   "metadata": {},
   "source": [
    "### Funciones utiles"
   ]
  },
  {
   "cell_type": "code",
   "execution_count": 4,
   "metadata": {},
   "outputs": [],
   "source": [
    "#funciones para medir\n",
    "\n",
    "def mediciones(x_train,y_train,x_test,y_test,model):\n",
    "    a = int(accuracy_score(y_train,model.predict(x_train))*1000)/1000\n",
    "    b = int(recall_score(y_train,model.predict(x_train))*1000)/1000\n",
    "    c = int(accuracy_score(y_test,model.predict(x_test))*1000)/1000\n",
    "    d = int(recall_score(y_test,model.predict(x_test))*1000)/1000\n",
    "    aa = int(roc_auc_score(y_train,model.predict_proba(x_train)[:,1])*1000)/1000\n",
    "    cc = int(roc_auc_score(y_test,model.predict_proba(x_test)[:,1])*1000)/1000\n",
    "    dd = int(f1_score(y_test,model.predict(x_test))*1000)/1000\n",
    "    ee = int(f1_score(y_train,model.predict(x_train))*1000)/1000\n",
    "    e = {'Entrenamiento':[a,b,aa,ee],\n",
    "         'Testeo':[c,d,cc,dd]}\n",
    "    f = pd.DataFrame(data=e,index=[\"Accuracy\",\"recall\",\"roc\",\"f1\"])\n",
    "    matrix=confusion_matrix(y_test,model.predict(x_test))\n",
    "    TP=matrix[1,1]\n",
    "    TN=matrix[0,0]\n",
    "    FP=matrix[0,1]\n",
    "    FN=matrix[1,0]\n",
    "    ma = {'Prediccion falso':[TN,FN],\n",
    "         'Prediccion verdadero':[FP,TP]}\n",
    "    i = pd.DataFrame(data=ma,index=[\"Actual falsa\",\"Actual verdadera\"])\n",
    "    print(\"Matriz de confusion:\\n\",i)\n",
    "    return f\n",
    "\n",
    "\n",
    "\n",
    "#print(\"the recall for this model is :\",cnf_matrix[1,1]/(cnf_matrix[1,1]+cnf_matrix[1,0]))\n",
    "#fig= plt.figure(figsize=(6,3))# to plot the graph\n",
    "#print(\"TP\",cnf_matrix[1,1,]) # no of fraud transaction which are predicted fraud\n",
    "#print(\"TN\",cnf_matrix[0,0]) # no. of normal transaction which are predited normal\n",
    "#print(\"FP\",cnf_matrix[0,1]) # no of normal transaction which are predicted fraud\n",
    "#print(\"FN\",cnf_matrix[1,0]) # no of fraud Transaction which are predicted normal\n",
    "\n",
    "\n",
    "def mediciones2(x_train,y_train,x_test,y_test,model):\n",
    "    #a = int(accuracy_score(y_train,model.predict(x_train))*1000)/1000\n",
    "    #b = int(recall_score(y_train,model.predict(x_train))*1000)/1000\n",
    "    c = int(accuracy_score(y_test,model.predict(x_test))*1000)/1000\n",
    "    d = int(recall_score(y_test,model.predict(x_test))*1000)/1000\n",
    "    #aa = int(roc_auc_score(y_train,model.predict_proba(x_train)[:,1])*1000)/1000\n",
    "    #cc = int(roc_auc_score(y_test,model.predict_proba(x_test)[:,1])*1000)/1000\n",
    "    e = {'Testeo':[c,d]}\n",
    "    f = pd.DataFrame(data=e,index=[\"Accuracy\",\"recall\"])\n",
    "    return f\n",
    "\n",
    "def roc_(x_train,y_train,x_test,y_test,model):\n",
    "    aa = int(roc_auc_score(y_train,model.predict_proba(x_train)[:,1])*1000)/1000\n",
    "    cc = int(roc_auc_score(y_test,model.predict_proba(x_test)[:,1])*1000)/1000\n",
    "    e = {'Entrenamiento':[a],\n",
    "         'Testeo':[c]}\n",
    "    f = pd.DataFrame(data=e,index=[\"roc-auc\"])\n",
    "    return f"
   ]
  },
  {
   "cell_type": "markdown",
   "metadata": {},
   "source": [
    "# Preparación de datos\n",
    "### LECTURA DE BASE BRUTA DESDE SAS\n",
    "\n",
    "\n",
    "La base de datos se obtiene desde el SAS guardado en la carpeta diaria de Customer analytics, esta base considera todas las ofertas realizadas en kaufmann a clientes que se encuentran en el perfil, se cruza con información de venta, rvm, post venta y datos del SII.\n",
    "\n",
    "\n",
    "Para el caso de puesta en prd, se consideran todas las empresas presentes en SII mas todos los clientes kaufman, mas todas las personas que están en rvm.\n",
    "\n",
    "\n",
    "* Periodo de información = 2018 y 2019.\n",
    "* Modelos: Utilitarios.\n",
    "* Tipo Cliente: Persona y empresa.\n",
    "\n",
    "Fuente sii:\n",
    "http://www.sii.cl/sobre_el_sii/nominapersonasjuridicas.html\n",
    "\n"
   ]
  },
  {
   "cell_type": "code",
   "execution_count": 5,
   "metadata": {},
   "outputs": [],
   "source": [
    "#----------------------#\n",
    "# carga de informacion #\n",
    "#----------------------#\n",
    "#lectura de datos\n",
    "df = pd.read_sas(r\"file:\\\\10.1.1.145\\datos\\ANALISIS\\CHILE\\IMPORTER_MARKETING_CUSTOMER_ANALYTICS\\DATOS\\LEAD_SCORE_UTILITARIOS_PREV1.sas7bdat\",\n",
    "                    format='sas7bdat',encoding='latin1')\n",
    "\n",
    "df = df[df['TIPO_CLIENTE']=='PERSONA']\n",
    "df=df.drop(['TIPO_CLIENTE','NUM_TRABAJADORES','TRAMO_VENTA','ANTIGUEDAD_E','RUBRO_ECON','RELEVANTE_CAMABAJA'], axis=1)"
   ]
  },
  {
   "cell_type": "code",
   "execution_count": 6,
   "metadata": {},
   "outputs": [
    {
     "data": {
      "text/plain": [
       "(19892, 28)"
      ]
     },
     "execution_count": 6,
     "metadata": {},
     "output_type": "execute_result"
    }
   ],
   "source": [
    "df=df.drop([\"CATEGORIA\"], axis=1)\n",
    "df.shape"
   ]
  },
  {
   "cell_type": "markdown",
   "metadata": {},
   "source": [
    "### LIMPIEZA DE DATOS GENERAL"
   ]
  },
  {
   "cell_type": "code",
   "execution_count": 7,
   "metadata": {},
   "outputs": [
    {
     "data": {
      "text/plain": [
       "TOTAL_UTILITARIOS           88.97\n",
       "UTILITARIOS_EXCLUSION       88.13\n",
       "RELEVANTE_BUSES             99.07\n",
       "RELEVANTE_CAMIONES          96.43\n",
       "RELEVANTE_RODADOS           99.60\n",
       "RELEVANTE_VANS              92.92\n",
       "RELEVANTE_CARGA             98.49\n",
       "RELEVANTE_PASAJERA          94.35\n",
       "RELEVANTE_PESADO            98.97\n",
       "RELEVANTE_CAMIONETA         98.92\n",
       "RELEVANTE_MEDIANO           98.91\n",
       "RELEVANTE_OTROS             92.06\n",
       "RELEVANTE_LIVIANO           99.52\n",
       "RELEVANTE_CAMIONETA_DCAB    99.85\n",
       "RELEVANTE_FORESTAL          99.98\n",
       "MARCA_AGRUPADA               0.00\n",
       "FLOTA_NUEVA                 88.97\n",
       "ANTIGUEDAD_FLOTA            88.97\n",
       "COMPRO_NUM                   0.00\n",
       "CAMPANAS_U180D              65.87\n",
       "CAMPANAS_U180D_C            66.48\n",
       "SERVICIOS_PV                 0.00\n",
       "REGION                       3.01\n",
       "USADO_NUEVO                  0.00\n",
       "DESC_TIPO_VEHICULO           0.78\n",
       "NUM_OFERTAS_U12M             0.00\n",
       "COMPRAS_REALIZADAS_U12M      0.00\n",
       "TIPO_CREDITO_USADO_ANT      94.38\n",
       "dtype: float64"
      ]
     },
     "execution_count": 7,
     "metadata": {},
     "output_type": "execute_result"
    }
   ],
   "source": [
    "#porcentaje de missing\n",
    "#round(100*(df.isnull().sum()/len(df.index)), 2)\n",
    "#porcentaje de missing\n",
    "round(100*(df.isnull().sum()/len(df.index)), 2)"
   ]
  },
  {
   "cell_type": "code",
   "execution_count": 8,
   "metadata": {
    "scrolled": false
   },
   "outputs": [
    {
     "data": {
      "text/plain": [
       "TOTAL_UTILITARIOS           88.97\n",
       "UTILITARIOS_EXCLUSION       88.13\n",
       "RELEVANTE_BUSES              0.00\n",
       "RELEVANTE_CAMIONES           0.00\n",
       "RELEVANTE_RODADOS            0.00\n",
       "RELEVANTE_VANS               0.00\n",
       "RELEVANTE_CARGA              0.00\n",
       "RELEVANTE_PASAJERA           0.00\n",
       "RELEVANTE_PESADO             0.00\n",
       "RELEVANTE_CAMIONETA          0.00\n",
       "RELEVANTE_MEDIANO            0.00\n",
       "RELEVANTE_OTROS              0.00\n",
       "RELEVANTE_LIVIANO            0.00\n",
       "RELEVANTE_CAMIONETA_DCAB     0.00\n",
       "RELEVANTE_FORESTAL           0.00\n",
       "MARCA_AGRUPADA               0.00\n",
       "FLOTA_NUEVA                 88.97\n",
       "ANTIGUEDAD_FLOTA            88.97\n",
       "COMPRO_NUM                   0.00\n",
       "CAMPANAS_U180D              65.87\n",
       "CAMPANAS_U180D_C            66.48\n",
       "SERVICIOS_PV                 0.00\n",
       "REGION                       3.01\n",
       "USADO_NUEVO                  0.00\n",
       "DESC_TIPO_VEHICULO           0.78\n",
       "NUM_OFERTAS_U12M             0.00\n",
       "COMPRAS_REALIZADAS_U12M      0.00\n",
       "TIPO_CREDITO_USADO_ANT      94.38\n",
       "dtype: float64"
      ]
     },
     "execution_count": 8,
     "metadata": {},
     "output_type": "execute_result"
    }
   ],
   "source": [
    "#no elimino estos datos porque vienen de rvm, miss significa que no tiene\n",
    "df['RELEVANTE_BUSES'] = df['RELEVANTE_BUSES'].replace(np.nan,0)\n",
    "df['RELEVANTE_CAMIONES'] = df['RELEVANTE_CAMIONES'].replace(np.nan,0)\n",
    "df['RELEVANTE_RODADOS'] = df['RELEVANTE_RODADOS'].replace(np.nan,0)\n",
    "df['RELEVANTE_VANS'] = df['RELEVANTE_VANS'].replace(np.nan,0)\n",
    "df['RELEVANTE_CARGA'] = df['RELEVANTE_CARGA'].replace(np.nan,0)\n",
    "df['RELEVANTE_PASAJERA'] = df['RELEVANTE_PASAJERA'].replace(np.nan,0)\n",
    "df['RELEVANTE_PESADO'] = df['RELEVANTE_PESADO'].replace(np.nan,0)\n",
    "df['RELEVANTE_CAMIONETA'] = df['RELEVANTE_CAMIONETA'].replace(np.nan,0)\n",
    "df['RELEVANTE_MEDIANO'] = df['RELEVANTE_MEDIANO'].replace(np.nan,0)\n",
    "df['RELEVANTE_OTROS'] = df['RELEVANTE_OTROS'].replace(np.nan,0)\n",
    "df['RELEVANTE_LIVIANO'] = df['RELEVANTE_LIVIANO'].replace(np.nan,0)\n",
    "df['RELEVANTE_CAMIONETA_DCAB'] = df['RELEVANTE_CAMIONETA_DCAB'].replace(np.nan,0)\n",
    "df['RELEVANTE_FORESTAL'] = df['RELEVANTE_FORESTAL'].replace(np.nan,0)\n",
    "#porcentaje de missing\n",
    "round(100*(df.isnull().sum()/len(df.index)), 2)"
   ]
  },
  {
   "cell_type": "code",
   "execution_count": 9,
   "metadata": {},
   "outputs": [
    {
     "name": "stdout",
     "output_type": "stream",
     "text": [
      "<class 'pandas.core.frame.DataFrame'>\n",
      "Int64Index: 19892 entries, 0 to 212231\n",
      "Data columns (total 28 columns):\n",
      " #   Column                    Non-Null Count  Dtype  \n",
      "---  ------                    --------------  -----  \n",
      " 0   TOTAL_UTILITARIOS         2195 non-null   float64\n",
      " 1   UTILITARIOS_EXCLUSION     2361 non-null   float64\n",
      " 2   RELEVANTE_BUSES           19892 non-null  float64\n",
      " 3   RELEVANTE_CAMIONES        19892 non-null  float64\n",
      " 4   RELEVANTE_RODADOS         19892 non-null  float64\n",
      " 5   RELEVANTE_VANS            19892 non-null  float64\n",
      " 6   RELEVANTE_CARGA           19892 non-null  float64\n",
      " 7   RELEVANTE_PASAJERA        19892 non-null  float64\n",
      " 8   RELEVANTE_PESADO          19892 non-null  float64\n",
      " 9   RELEVANTE_CAMIONETA       19892 non-null  float64\n",
      " 10  RELEVANTE_MEDIANO         19892 non-null  float64\n",
      " 11  RELEVANTE_OTROS           19892 non-null  float64\n",
      " 12  RELEVANTE_LIVIANO         19892 non-null  float64\n",
      " 13  RELEVANTE_CAMIONETA_DCAB  19892 non-null  float64\n",
      " 14  RELEVANTE_FORESTAL        19892 non-null  float64\n",
      " 15  MARCA_AGRUPADA            19892 non-null  object \n",
      " 16  FLOTA_NUEVA               2195 non-null   float64\n",
      " 17  ANTIGUEDAD_FLOTA          2195 non-null   float64\n",
      " 18  COMPRO_NUM                19892 non-null  float64\n",
      " 19  CAMPANAS_U180D            6790 non-null   float64\n",
      " 20  CAMPANAS_U180D_C          6668 non-null   float64\n",
      " 21  SERVICIOS_PV              19892 non-null  float64\n",
      " 22  REGION                    19294 non-null  object \n",
      " 23  USADO_NUEVO               19892 non-null  object \n",
      " 24  DESC_TIPO_VEHICULO        19736 non-null  object \n",
      " 25  NUM_OFERTAS_U12M          19892 non-null  float64\n",
      " 26  COMPRAS_REALIZADAS_U12M   19892 non-null  float64\n",
      " 27  TIPO_CREDITO_USADO_ANT    1118 non-null   object \n",
      "dtypes: float64(23), object(5)\n",
      "memory usage: 4.4+ MB\n"
     ]
    }
   ],
   "source": [
    "df.info()"
   ]
  },
  {
   "cell_type": "markdown",
   "metadata": {},
   "source": [
    "### LIMPIEZA DE DATOS POR COLUMNA \n",
    "\n",
    "#### columnas numericas"
   ]
  },
  {
   "cell_type": "code",
   "execution_count": 10,
   "metadata": {},
   "outputs": [
    {
     "data": {
      "text/html": [
       "<div>\n",
       "<style scoped>\n",
       "    .dataframe tbody tr th:only-of-type {\n",
       "        vertical-align: middle;\n",
       "    }\n",
       "\n",
       "    .dataframe tbody tr th {\n",
       "        vertical-align: top;\n",
       "    }\n",
       "\n",
       "    .dataframe thead th {\n",
       "        text-align: right;\n",
       "    }\n",
       "</style>\n",
       "<table border=\"1\" class=\"dataframe\">\n",
       "  <thead>\n",
       "    <tr style=\"text-align: right;\">\n",
       "      <th></th>\n",
       "      <th>TOTAL_UTILITARIOS</th>\n",
       "      <th>FLOTA_NUEVA</th>\n",
       "      <th>ANTIGUEDAD_FLOTA</th>\n",
       "      <th>CAMPANAS_U180D</th>\n",
       "      <th>CAMPANAS_U180D_C</th>\n",
       "      <th>NUM_OFERTAS_U12M</th>\n",
       "      <th>COMPRAS_REALIZADAS_U12M</th>\n",
       "    </tr>\n",
       "  </thead>\n",
       "  <tbody>\n",
       "    <tr>\n",
       "      <th>count</th>\n",
       "      <td>2195.000000</td>\n",
       "      <td>2195.000000</td>\n",
       "      <td>2195.000000</td>\n",
       "      <td>6790.000000</td>\n",
       "      <td>6668.000000</td>\n",
       "      <td>19892.000000</td>\n",
       "      <td>19892.000000</td>\n",
       "    </tr>\n",
       "    <tr>\n",
       "      <th>mean</th>\n",
       "      <td>1.568565</td>\n",
       "      <td>0.117540</td>\n",
       "      <td>5.771337</td>\n",
       "      <td>2.394993</td>\n",
       "      <td>1.971056</td>\n",
       "      <td>1.452142</td>\n",
       "      <td>0.026342</td>\n",
       "    </tr>\n",
       "    <tr>\n",
       "      <th>std</th>\n",
       "      <td>2.075208</td>\n",
       "      <td>0.322136</td>\n",
       "      <td>4.733600</td>\n",
       "      <td>2.116528</td>\n",
       "      <td>1.827552</td>\n",
       "      <td>7.262986</td>\n",
       "      <td>0.481010</td>\n",
       "    </tr>\n",
       "    <tr>\n",
       "      <th>min</th>\n",
       "      <td>1.000000</td>\n",
       "      <td>0.000000</td>\n",
       "      <td>0.000000</td>\n",
       "      <td>1.000000</td>\n",
       "      <td>1.000000</td>\n",
       "      <td>0.000000</td>\n",
       "      <td>0.000000</td>\n",
       "    </tr>\n",
       "    <tr>\n",
       "      <th>25%</th>\n",
       "      <td>1.000000</td>\n",
       "      <td>0.000000</td>\n",
       "      <td>1.000000</td>\n",
       "      <td>1.000000</td>\n",
       "      <td>1.000000</td>\n",
       "      <td>0.000000</td>\n",
       "      <td>0.000000</td>\n",
       "    </tr>\n",
       "    <tr>\n",
       "      <th>50%</th>\n",
       "      <td>1.000000</td>\n",
       "      <td>0.000000</td>\n",
       "      <td>5.000000</td>\n",
       "      <td>2.000000</td>\n",
       "      <td>1.000000</td>\n",
       "      <td>0.000000</td>\n",
       "      <td>0.000000</td>\n",
       "    </tr>\n",
       "    <tr>\n",
       "      <th>75%</th>\n",
       "      <td>1.000000</td>\n",
       "      <td>0.000000</td>\n",
       "      <td>9.000000</td>\n",
       "      <td>3.000000</td>\n",
       "      <td>2.000000</td>\n",
       "      <td>1.000000</td>\n",
       "      <td>0.000000</td>\n",
       "    </tr>\n",
       "    <tr>\n",
       "      <th>max</th>\n",
       "      <td>47.000000</td>\n",
       "      <td>1.000000</td>\n",
       "      <td>19.000000</td>\n",
       "      <td>22.000000</td>\n",
       "      <td>18.000000</td>\n",
       "      <td>132.000000</td>\n",
       "      <td>22.000000</td>\n",
       "    </tr>\n",
       "  </tbody>\n",
       "</table>\n",
       "</div>"
      ],
      "text/plain": [
       "       TOTAL_UTILITARIOS  FLOTA_NUEVA  ANTIGUEDAD_FLOTA  CAMPANAS_U180D  \\\n",
       "count        2195.000000  2195.000000       2195.000000     6790.000000   \n",
       "mean            1.568565     0.117540          5.771337        2.394993   \n",
       "std             2.075208     0.322136          4.733600        2.116528   \n",
       "min             1.000000     0.000000          0.000000        1.000000   \n",
       "25%             1.000000     0.000000          1.000000        1.000000   \n",
       "50%             1.000000     0.000000          5.000000        2.000000   \n",
       "75%             1.000000     0.000000          9.000000        3.000000   \n",
       "max            47.000000     1.000000         19.000000       22.000000   \n",
       "\n",
       "       CAMPANAS_U180D_C  NUM_OFERTAS_U12M  COMPRAS_REALIZADAS_U12M  \n",
       "count       6668.000000      19892.000000             19892.000000  \n",
       "mean           1.971056          1.452142                 0.026342  \n",
       "std            1.827552          7.262986                 0.481010  \n",
       "min            1.000000          0.000000                 0.000000  \n",
       "25%            1.000000          0.000000                 0.000000  \n",
       "50%            1.000000          0.000000                 0.000000  \n",
       "75%            2.000000          1.000000                 0.000000  \n",
       "max           18.000000        132.000000                22.000000  "
      ]
     },
     "execution_count": 10,
     "metadata": {},
     "output_type": "execute_result"
    }
   ],
   "source": [
    "#ahora tratare de revisar cada columna para imputar en caso de que se pueda imputar\n",
    "df[['TOTAL_UTILITARIOS','FLOTA_NUEVA','ANTIGUEDAD_FLOTA','CAMPANAS_U180D',\n",
    "   'CAMPANAS_U180D_C','NUM_OFERTAS_U12M','COMPRAS_REALIZADAS_U12M']].describe()"
   ]
  },
  {
   "cell_type": "code",
   "execution_count": 11,
   "metadata": {
    "scrolled": false
   },
   "outputs": [
    {
     "data": {
      "image/png": "[encoded data removed]",
      "text/plain": [
       "<Figure size 864x756 with 9 Axes>"
      ]
     },
     "metadata": {
      "needs_background": "light"
     },
     "output_type": "display_data"
    }
   ],
   "source": [
    "fig, axs = plt.subplots(3,3, figsize = (12,10.5))\n",
    "\n",
    "plt2 = sns.boxplot(df['TOTAL_UTILITARIOS'], ax = axs[1,0])\n",
    "plt2 = sns.boxplot(df['ANTIGUEDAD_FLOTA'], ax = axs[2,1])\n",
    "plt2 = sns.boxplot(df['CAMPANAS_U180D_C'], ax = axs[1,2])\n",
    "plt2 = sns.boxplot(df['NUM_OFERTAS_U12M'], ax = axs[2,2])\n",
    "plt2 = sns.boxplot(df['CAMPANAS_U180D'], ax = axs[0,2])\n",
    "plt2 = sns.boxplot(df['COMPRAS_REALIZADAS_U12M'], ax = axs[2,0])\n",
    "\n",
    "plt.show()"
   ]
  },
  {
   "cell_type": "markdown",
   "metadata": {},
   "source": [
    "ahi un exceso de variabilidad en algunas columnas"
   ]
  },
  {
   "cell_type": "code",
   "execution_count": 12,
   "metadata": {},
   "outputs": [],
   "source": [
    "#estas variables no pueden ser imputadas porque indican que no tienen vehiculos, candidatas a irse de la base!!\n",
    "df['TOTAL_UTILITARIOS'] = df['TOTAL_UTILITARIOS'].replace(np.nan,0)\n",
    "df['UTILITARIOS_EXCLUSION'] = df['UTILITARIOS_EXCLUSION'].replace(np.nan,0)\n",
    "df['RELEVANTE_CAMIONES'] = df['RELEVANTE_CAMIONES'].replace(np.nan,0)\n",
    "df['RELEVANTE_OTROS'] = df['RELEVANTE_OTROS'].replace(np.nan,0)"
   ]
  },
  {
   "cell_type": "markdown",
   "metadata": {},
   "source": [
    "### columnas categoricas"
   ]
  },
  {
   "cell_type": "code",
   "execution_count": 13,
   "metadata": {},
   "outputs": [
    {
     "data": {
      "text/html": [
       "<div>\n",
       "<style scoped>\n",
       "    .dataframe tbody tr th:only-of-type {\n",
       "        vertical-align: middle;\n",
       "    }\n",
       "\n",
       "    .dataframe tbody tr th {\n",
       "        vertical-align: top;\n",
       "    }\n",
       "\n",
       "    .dataframe thead th {\n",
       "        text-align: right;\n",
       "    }\n",
       "</style>\n",
       "<table border=\"1\" class=\"dataframe\">\n",
       "  <thead>\n",
       "    <tr style=\"text-align: right;\">\n",
       "      <th></th>\n",
       "      <th>MARCA_AGRUPADA</th>\n",
       "      <th>DESC_TIPO_VEHICULO</th>\n",
       "    </tr>\n",
       "  </thead>\n",
       "  <tbody>\n",
       "    <tr>\n",
       "      <th>count</th>\n",
       "      <td>19892</td>\n",
       "      <td>19736</td>\n",
       "    </tr>\n",
       "    <tr>\n",
       "      <th>unique</th>\n",
       "      <td>8</td>\n",
       "      <td>17</td>\n",
       "    </tr>\n",
       "    <tr>\n",
       "      <th>top</th>\n",
       "      <td>MERCEDES-BENZ</td>\n",
       "      <td>BUS</td>\n",
       "    </tr>\n",
       "    <tr>\n",
       "      <th>freq</th>\n",
       "      <td>12321</td>\n",
       "      <td>4794</td>\n",
       "    </tr>\n",
       "  </tbody>\n",
       "</table>\n",
       "</div>"
      ],
      "text/plain": [
       "       MARCA_AGRUPADA DESC_TIPO_VEHICULO\n",
       "count           19892              19736\n",
       "unique              8                 17\n",
       "top     MERCEDES-BENZ                BUS\n",
       "freq            12321               4794"
      ]
     },
     "execution_count": 13,
     "metadata": {},
     "output_type": "execute_result"
    }
   ],
   "source": [
    "df[['MARCA_AGRUPADA','DESC_TIPO_VEHICULO']].describe()"
   ]
  },
  {
   "cell_type": "code",
   "execution_count": 14,
   "metadata": {},
   "outputs": [
    {
     "data": {
      "text/html": [
       "<div>\n",
       "<style scoped>\n",
       "    .dataframe tbody tr th:only-of-type {\n",
       "        vertical-align: middle;\n",
       "    }\n",
       "\n",
       "    .dataframe tbody tr th {\n",
       "        vertical-align: top;\n",
       "    }\n",
       "\n",
       "    .dataframe thead th {\n",
       "        text-align: right;\n",
       "    }\n",
       "</style>\n",
       "<table border=\"1\" class=\"dataframe\">\n",
       "  <thead>\n",
       "    <tr style=\"text-align: right;\">\n",
       "      <th></th>\n",
       "      <th>COMPRO_NUM</th>\n",
       "    </tr>\n",
       "    <tr>\n",
       "      <th>MARCA_AGRUPADA</th>\n",
       "      <th></th>\n",
       "    </tr>\n",
       "  </thead>\n",
       "  <tbody>\n",
       "    <tr>\n",
       "      <th>POWERSYSTEMS</th>\n",
       "      <td>0.058824</td>\n",
       "    </tr>\n",
       "    <tr>\n",
       "      <th>MERCEDES-BENZ</th>\n",
       "      <td>0.020128</td>\n",
       "    </tr>\n",
       "    <tr>\n",
       "      <th>TREMAC</th>\n",
       "      <td>0.017361</td>\n",
       "    </tr>\n",
       "    <tr>\n",
       "      <th>MITSUBISHI-FUSO</th>\n",
       "      <td>0.003542</td>\n",
       "    </tr>\n",
       "    <tr>\n",
       "      <th>FREIGHTLINER</th>\n",
       "      <td>0.002404</td>\n",
       "    </tr>\n",
       "    <tr>\n",
       "      <th>GREAT DANE</th>\n",
       "      <td>0.000000</td>\n",
       "    </tr>\n",
       "    <tr>\n",
       "      <th>HEIL</th>\n",
       "      <td>0.000000</td>\n",
       "    </tr>\n",
       "    <tr>\n",
       "      <th>WESTERN STAR</th>\n",
       "      <td>0.000000</td>\n",
       "    </tr>\n",
       "  </tbody>\n",
       "</table>\n",
       "</div>"
      ],
      "text/plain": [
       "                 COMPRO_NUM\n",
       "MARCA_AGRUPADA             \n",
       "POWERSYSTEMS       0.058824\n",
       "MERCEDES-BENZ      0.020128\n",
       "TREMAC             0.017361\n",
       "MITSUBISHI-FUSO    0.003542\n",
       "FREIGHTLINER       0.002404\n",
       "GREAT DANE         0.000000\n",
       "HEIL               0.000000\n",
       "WESTERN STAR       0.000000"
      ]
     },
     "execution_count": 14,
     "metadata": {},
     "output_type": "execute_result"
    }
   ],
   "source": [
    "avr_mar=pd.DataFrame(df.groupby('MARCA_AGRUPADA')[\"COMPRO_NUM\"].mean())\n",
    "avr_mar=avr_mar.sort_values(\"COMPRO_NUM\",ascending=False)\n",
    "avr_mar.head(50)"
   ]
  },
  {
   "cell_type": "code",
   "execution_count": 15,
   "metadata": {},
   "outputs": [
    {
     "data": {
      "image/png": "[encoded data removed]",
      "text/plain": [
       "<Figure size 432x288 with 1 Axes>"
      ]
     },
     "metadata": {
      "needs_background": "light"
     },
     "output_type": "display_data"
    }
   ],
   "source": [
    "df['DESC_TIPO_VEHICULO'] = df['DESC_TIPO_VEHICULO'].replace(np.nan,'CAMION')\n",
    "plt1 = sns.countplot(df['DESC_TIPO_VEHICULO'])\n",
    "plt.show()"
   ]
  },
  {
   "cell_type": "code",
   "execution_count": 16,
   "metadata": {},
   "outputs": [
    {
     "data": {
      "text/html": [
       "<div>\n",
       "<style scoped>\n",
       "    .dataframe tbody tr th:only-of-type {\n",
       "        vertical-align: middle;\n",
       "    }\n",
       "\n",
       "    .dataframe tbody tr th {\n",
       "        vertical-align: top;\n",
       "    }\n",
       "\n",
       "    .dataframe thead th {\n",
       "        text-align: right;\n",
       "    }\n",
       "</style>\n",
       "<table border=\"1\" class=\"dataframe\">\n",
       "  <thead>\n",
       "    <tr style=\"text-align: right;\">\n",
       "      <th></th>\n",
       "      <th>FLOTA_NUEVA</th>\n",
       "      <th>ANTIGUEDAD_FLOTA</th>\n",
       "    </tr>\n",
       "  </thead>\n",
       "  <tbody>\n",
       "    <tr>\n",
       "      <th>count</th>\n",
       "      <td>2195.000000</td>\n",
       "      <td>2195.000000</td>\n",
       "    </tr>\n",
       "    <tr>\n",
       "      <th>mean</th>\n",
       "      <td>0.117540</td>\n",
       "      <td>5.771337</td>\n",
       "    </tr>\n",
       "    <tr>\n",
       "      <th>std</th>\n",
       "      <td>0.322136</td>\n",
       "      <td>4.733600</td>\n",
       "    </tr>\n",
       "    <tr>\n",
       "      <th>min</th>\n",
       "      <td>0.000000</td>\n",
       "      <td>0.000000</td>\n",
       "    </tr>\n",
       "    <tr>\n",
       "      <th>25%</th>\n",
       "      <td>0.000000</td>\n",
       "      <td>1.000000</td>\n",
       "    </tr>\n",
       "    <tr>\n",
       "      <th>50%</th>\n",
       "      <td>0.000000</td>\n",
       "      <td>5.000000</td>\n",
       "    </tr>\n",
       "    <tr>\n",
       "      <th>75%</th>\n",
       "      <td>0.000000</td>\n",
       "      <td>9.000000</td>\n",
       "    </tr>\n",
       "    <tr>\n",
       "      <th>max</th>\n",
       "      <td>1.000000</td>\n",
       "      <td>19.000000</td>\n",
       "    </tr>\n",
       "  </tbody>\n",
       "</table>\n",
       "</div>"
      ],
      "text/plain": [
       "       FLOTA_NUEVA  ANTIGUEDAD_FLOTA\n",
       "count  2195.000000       2195.000000\n",
       "mean      0.117540          5.771337\n",
       "std       0.322136          4.733600\n",
       "min       0.000000          0.000000\n",
       "25%       0.000000          1.000000\n",
       "50%       0.000000          5.000000\n",
       "75%       0.000000          9.000000\n",
       "max       1.000000         19.000000"
      ]
     },
     "execution_count": 16,
     "metadata": {},
     "output_type": "execute_result"
    }
   ],
   "source": [
    "df[['FLOTA_NUEVA','ANTIGUEDAD_FLOTA']].describe()"
   ]
  },
  {
   "cell_type": "code",
   "execution_count": 17,
   "metadata": {},
   "outputs": [],
   "source": [
    "# estos valores corresponden a flotas, si estan vacion significa que no tienen flota o bien no tienen flota nueva\n",
    "df['FLOTA_NUEVA'] = df['FLOTA_NUEVA'].replace(np.nan,0)\n",
    "\n",
    "#se debe trabajar en esto\n",
    "df['CAMPANAS_U180D'] = df['CAMPANAS_U180D'].replace(np.nan,0)\n",
    "df['CAMPANAS_U180D_C'] = df['CAMPANAS_U180D_C'].replace(np.nan,0)\n",
    "df['ANTIGUEDAD_FLOTA'] = df['ANTIGUEDAD_FLOTA'].replace(np.nan,0)"
   ]
  },
  {
   "cell_type": "code",
   "execution_count": 18,
   "metadata": {},
   "outputs": [
    {
     "data": {
      "image/png": "[encoded data removed]",
      "text/plain": [
       "<Figure size 432x288 with 1 Axes>"
      ]
     },
     "metadata": {
      "needs_background": "light"
     },
     "output_type": "display_data"
    },
    {
     "data": {
      "text/html": [
       "<div>\n",
       "<style scoped>\n",
       "    .dataframe tbody tr th:only-of-type {\n",
       "        vertical-align: middle;\n",
       "    }\n",
       "\n",
       "    .dataframe tbody tr th {\n",
       "        vertical-align: top;\n",
       "    }\n",
       "\n",
       "    .dataframe thead th {\n",
       "        text-align: right;\n",
       "    }\n",
       "</style>\n",
       "<table border=\"1\" class=\"dataframe\">\n",
       "  <thead>\n",
       "    <tr style=\"text-align: right;\">\n",
       "      <th></th>\n",
       "      <th>REGION</th>\n",
       "    </tr>\n",
       "  </thead>\n",
       "  <tbody>\n",
       "    <tr>\n",
       "      <th>count</th>\n",
       "      <td>19294</td>\n",
       "    </tr>\n",
       "    <tr>\n",
       "      <th>unique</th>\n",
       "      <td>16</td>\n",
       "    </tr>\n",
       "    <tr>\n",
       "      <th>top</th>\n",
       "      <td>Metropolitana de Santiago</td>\n",
       "    </tr>\n",
       "    <tr>\n",
       "      <th>freq</th>\n",
       "      <td>9955</td>\n",
       "    </tr>\n",
       "  </tbody>\n",
       "</table>\n",
       "</div>"
      ],
      "text/plain": [
       "                            REGION\n",
       "count                        19294\n",
       "unique                          16\n",
       "top      Metropolitana de Santiago\n",
       "freq                          9955"
      ]
     },
     "execution_count": 18,
     "metadata": {},
     "output_type": "execute_result"
    }
   ],
   "source": [
    "plt1 = sns.countplot(df['REGION'])\n",
    "plt.show(),\n",
    "df[['REGION']].describe()"
   ]
  },
  {
   "cell_type": "code",
   "execution_count": 19,
   "metadata": {},
   "outputs": [],
   "source": [
    "df['REGION'] = df['REGION'].replace(np.nan,'NA')"
   ]
  },
  {
   "cell_type": "code",
   "execution_count": 27,
   "metadata": {},
   "outputs": [],
   "source": [
    "#df[['COMUNA_CRM']].describe()"
   ]
  },
  {
   "cell_type": "code",
   "execution_count": 33,
   "metadata": {},
   "outputs": [],
   "source": [
    "#df['COMUNA_CRM'] = df['COMUNA_CRM'].replace(np.nan,'NA')"
   ]
  },
  {
   "cell_type": "code",
   "execution_count": 34,
   "metadata": {},
   "outputs": [
    {
     "data": {
      "text/html": [
       "<div>\n",
       "<style scoped>\n",
       "    .dataframe tbody tr th:only-of-type {\n",
       "        vertical-align: middle;\n",
       "    }\n",
       "\n",
       "    .dataframe tbody tr th {\n",
       "        vertical-align: top;\n",
       "    }\n",
       "\n",
       "    .dataframe thead th {\n",
       "        text-align: right;\n",
       "    }\n",
       "</style>\n",
       "<table border=\"1\" class=\"dataframe\">\n",
       "  <thead>\n",
       "    <tr style=\"text-align: right;\">\n",
       "      <th></th>\n",
       "      <th>DESC_TIPO_VEHICULO</th>\n",
       "    </tr>\n",
       "  </thead>\n",
       "  <tbody>\n",
       "    <tr>\n",
       "      <th>count</th>\n",
       "      <td>19892</td>\n",
       "    </tr>\n",
       "    <tr>\n",
       "      <th>unique</th>\n",
       "      <td>17</td>\n",
       "    </tr>\n",
       "    <tr>\n",
       "      <th>top</th>\n",
       "      <td>BUS</td>\n",
       "    </tr>\n",
       "    <tr>\n",
       "      <th>freq</th>\n",
       "      <td>4794</td>\n",
       "    </tr>\n",
       "  </tbody>\n",
       "</table>\n",
       "</div>"
      ],
      "text/plain": [
       "       DESC_TIPO_VEHICULO\n",
       "count               19892\n",
       "unique                 17\n",
       "top                   BUS\n",
       "freq                 4794"
      ]
     },
     "execution_count": 34,
     "metadata": {},
     "output_type": "execute_result"
    }
   ],
   "source": [
    "df[['DESC_TIPO_VEHICULO']].describe()"
   ]
  },
  {
   "cell_type": "code",
   "execution_count": 35,
   "metadata": {},
   "outputs": [],
   "source": [
    "df['DESC_TIPO_VEHICULO'] = df['DESC_TIPO_VEHICULO'].replace(np.nan,'NA')"
   ]
  },
  {
   "cell_type": "code",
   "execution_count": 36,
   "metadata": {},
   "outputs": [
    {
     "data": {
      "text/html": [
       "<div>\n",
       "<style scoped>\n",
       "    .dataframe tbody tr th:only-of-type {\n",
       "        vertical-align: middle;\n",
       "    }\n",
       "\n",
       "    .dataframe tbody tr th {\n",
       "        vertical-align: top;\n",
       "    }\n",
       "\n",
       "    .dataframe thead th {\n",
       "        text-align: right;\n",
       "    }\n",
       "</style>\n",
       "<table border=\"1\" class=\"dataframe\">\n",
       "  <thead>\n",
       "    <tr style=\"text-align: right;\">\n",
       "      <th></th>\n",
       "      <th>TIPO_CREDITO_USADO_ANT</th>\n",
       "    </tr>\n",
       "  </thead>\n",
       "  <tbody>\n",
       "    <tr>\n",
       "      <th>count</th>\n",
       "      <td>19892</td>\n",
       "    </tr>\n",
       "    <tr>\n",
       "      <th>unique</th>\n",
       "      <td>6</td>\n",
       "    </tr>\n",
       "    <tr>\n",
       "      <th>top</th>\n",
       "      <td>NA</td>\n",
       "    </tr>\n",
       "    <tr>\n",
       "      <th>freq</th>\n",
       "      <td>18774</td>\n",
       "    </tr>\n",
       "  </tbody>\n",
       "</table>\n",
       "</div>"
      ],
      "text/plain": [
       "       TIPO_CREDITO_USADO_ANT\n",
       "count                   19892\n",
       "unique                      6\n",
       "top                        NA\n",
       "freq                    18774"
      ]
     },
     "execution_count": 36,
     "metadata": {},
     "output_type": "execute_result"
    }
   ],
   "source": [
    "df[['TIPO_CREDITO_USADO_ANT']].describe()"
   ]
  },
  {
   "cell_type": "code",
   "execution_count": 37,
   "metadata": {},
   "outputs": [],
   "source": [
    "df['TIPO_CREDITO_USADO_ANT'] = df['TIPO_CREDITO_USADO_ANT'].replace(np.nan,'NA')"
   ]
  },
  {
   "cell_type": "code",
   "execution_count": 38,
   "metadata": {},
   "outputs": [
    {
     "name": "stdout",
     "output_type": "stream",
     "text": [
      "<class 'pandas.core.frame.DataFrame'>\n",
      "Int64Index: 19892 entries, 0 to 212231\n",
      "Data columns (total 28 columns):\n",
      " #   Column                    Non-Null Count  Dtype  \n",
      "---  ------                    --------------  -----  \n",
      " 0   TOTAL_UTILITARIOS         19892 non-null  float64\n",
      " 1   UTILITARIOS_EXCLUSION     19892 non-null  float64\n",
      " 2   RELEVANTE_BUSES           19892 non-null  float64\n",
      " 3   RELEVANTE_CAMIONES        19892 non-null  float64\n",
      " 4   RELEVANTE_RODADOS         19892 non-null  float64\n",
      " 5   RELEVANTE_VANS            19892 non-null  float64\n",
      " 6   RELEVANTE_CARGA           19892 non-null  float64\n",
      " 7   RELEVANTE_PASAJERA        19892 non-null  float64\n",
      " 8   RELEVANTE_PESADO          19892 non-null  float64\n",
      " 9   RELEVANTE_CAMIONETA       19892 non-null  float64\n",
      " 10  RELEVANTE_MEDIANO         19892 non-null  float64\n",
      " 11  RELEVANTE_OTROS           19892 non-null  float64\n",
      " 12  RELEVANTE_LIVIANO         19892 non-null  float64\n",
      " 13  RELEVANTE_CAMIONETA_DCAB  19892 non-null  float64\n",
      " 14  RELEVANTE_FORESTAL        19892 non-null  float64\n",
      " 15  MARCA_AGRUPADA            19892 non-null  object \n",
      " 16  FLOTA_NUEVA               19892 non-null  float64\n",
      " 17  ANTIGUEDAD_FLOTA          19892 non-null  float64\n",
      " 18  COMPRO_NUM                19892 non-null  float64\n",
      " 19  CAMPANAS_U180D            19892 non-null  float64\n",
      " 20  CAMPANAS_U180D_C          19892 non-null  float64\n",
      " 21  SERVICIOS_PV              19892 non-null  float64\n",
      " 22  REGION                    19892 non-null  object \n",
      " 23  USADO_NUEVO               19892 non-null  object \n",
      " 24  DESC_TIPO_VEHICULO        19892 non-null  object \n",
      " 25  NUM_OFERTAS_U12M          19892 non-null  float64\n",
      " 26  COMPRAS_REALIZADAS_U12M   19892 non-null  float64\n",
      " 27  TIPO_CREDITO_USADO_ANT    19892 non-null  object \n",
      "dtypes: float64(23), object(5)\n",
      "memory usage: 5.0+ MB\n"
     ]
    }
   ],
   "source": [
    "#cantidad de missing\n",
    "df.info()"
   ]
  },
  {
   "cell_type": "code",
   "execution_count": 39,
   "metadata": {},
   "outputs": [],
   "source": [
    "numericas = [['TOTAL_UTILITARIOS',\n",
    "'UTILITARIOS_EXCLUSION',\n",
    "'RELEVANTE_BUSES',\n",
    "'RELEVANTE_CAMIONES',\n",
    "'RELEVANTE_RODADOS',\n",
    "'RELEVANTE_VANS',\n",
    "'RELEVANTE_CARGA',\n",
    "'RELEVANTE_PASAJERA',\n",
    "'RELEVANTE_PESADO',\n",
    "'RELEVANTE_CAMIONETA',\n",
    "'RELEVANTE_MEDIANO',\n",
    "'RELEVANTE_OTROS',\n",
    "'RELEVANTE_LIVIANO',\n",
    "'RELEVANTE_CAMIONETA_DCAB',\n",
    "'RELEVANTE_FORESTAL',\n",
    "'FLOTA_NUEVA',\n",
    "'ANTIGUEDAD_FLOTA',\n",
    "'CAMPANAS_U180D',\n",
    "'CAMPANAS_U180D_C',\n",
    "'NUM_OFERTAS_U12M',\n",
    "'COMPRAS_REALIZADAS_U12M',\n",
    "'CAMPANAS_U180D_C',\n",
    "'NUM_OFERTAS_U12M',\n",
    "'COMPRAS_REALIZADAS_U12M']]\n",
    "\n",
    "df1=df\n",
    "\n",
    "for i in numericas:\n",
    "    df1[i]=(df[i]-df1[i].mean())/df1[i].std()"
   ]
  },
  {
   "cell_type": "code",
   "execution_count": 40,
   "metadata": {},
   "outputs": [
    {
     "name": "stdout",
     "output_type": "stream",
     "text": [
      "<class 'pandas.core.frame.DataFrame'>\n",
      "Int64Index: 19892 entries, 0 to 212231\n",
      "Data columns (total 28 columns):\n",
      " #   Column                    Non-Null Count  Dtype  \n",
      "---  ------                    --------------  -----  \n",
      " 0   TOTAL_UTILITARIOS         19892 non-null  float64\n",
      " 1   UTILITARIOS_EXCLUSION     19892 non-null  float64\n",
      " 2   RELEVANTE_BUSES           19892 non-null  float64\n",
      " 3   RELEVANTE_CAMIONES        19892 non-null  float64\n",
      " 4   RELEVANTE_RODADOS         19892 non-null  float64\n",
      " 5   RELEVANTE_VANS            19892 non-null  float64\n",
      " 6   RELEVANTE_CARGA           19892 non-null  float64\n",
      " 7   RELEVANTE_PASAJERA        19892 non-null  float64\n",
      " 8   RELEVANTE_PESADO          19892 non-null  float64\n",
      " 9   RELEVANTE_CAMIONETA       19892 non-null  float64\n",
      " 10  RELEVANTE_MEDIANO         19892 non-null  float64\n",
      " 11  RELEVANTE_OTROS           19892 non-null  float64\n",
      " 12  RELEVANTE_LIVIANO         19892 non-null  float64\n",
      " 13  RELEVANTE_CAMIONETA_DCAB  19892 non-null  float64\n",
      " 14  RELEVANTE_FORESTAL        19892 non-null  float64\n",
      " 15  MARCA_AGRUPADA            19892 non-null  object \n",
      " 16  FLOTA_NUEVA               19892 non-null  float64\n",
      " 17  ANTIGUEDAD_FLOTA          19892 non-null  float64\n",
      " 18  COMPRO_NUM                19892 non-null  float64\n",
      " 19  CAMPANAS_U180D            19892 non-null  float64\n",
      " 20  CAMPANAS_U180D_C          19892 non-null  float64\n",
      " 21  SERVICIOS_PV              19892 non-null  float64\n",
      " 22  REGION                    19892 non-null  object \n",
      " 23  USADO_NUEVO               19892 non-null  object \n",
      " 24  DESC_TIPO_VEHICULO        19892 non-null  object \n",
      " 25  NUM_OFERTAS_U12M          19892 non-null  float64\n",
      " 26  COMPRAS_REALIZADAS_U12M   19892 non-null  float64\n",
      " 27  TIPO_CREDITO_USADO_ANT    19892 non-null  object \n",
      "dtypes: float64(23), object(5)\n",
      "memory usage: 5.0+ MB\n"
     ]
    }
   ],
   "source": [
    "df1.info()"
   ]
  },
  {
   "cell_type": "markdown",
   "metadata": {},
   "source": [
    "## Exploración\n",
    "Practicamente todos los grupos tienen una baja conversion pero existen diferencias en promedio"
   ]
  },
  {
   "cell_type": "markdown",
   "metadata": {},
   "source": [
    "### Análisis por columna"
   ]
  },
  {
   "cell_type": "markdown",
   "metadata": {},
   "source": [
    " la variable COMPRO_NUM corresponde a una variable indicadora de si compra o no lo ofertado\n",
    "#(1) compra (0) no compra"
   ]
  },
  {
   "cell_type": "code",
   "execution_count": 41,
   "metadata": {},
   "outputs": [
    {
     "data": {
      "text/plain": [
       "1.4226824854212747"
      ]
     },
     "execution_count": 41,
     "metadata": {},
     "output_type": "execute_result"
    }
   ],
   "source": [
    "conversion = (sum(df1['COMPRO_NUM'])/len(df1['COMPRO_NUM'].index))*100\n",
    "conversion"
   ]
  },
  {
   "cell_type": "markdown",
   "metadata": {},
   "source": [
    "Una conversion tan baja requiere balance de la información"
   ]
  },
  {
   "cell_type": "markdown",
   "metadata": {},
   "source": [
    "### REGION"
   ]
  },
  {
   "cell_type": "code",
   "execution_count": 42,
   "metadata": {},
   "outputs": [
    {
     "data": {
      "image/png": "[encoded data removed]",
      "text/plain": [
       "<Figure size 432x288 with 1 Axes>"
      ]
     },
     "metadata": {
      "needs_background": "light"
     },
     "output_type": "display_data"
    },
    {
     "data": {
      "text/plain": [
       "REGION\n",
       "NA                                     0.003344\n",
       " Antofagasta                           0.010961\n",
       " Arica y Parinacota                    0.024476\n",
       " Atacama                               0.003984\n",
       " Aysén del Gral. C. Ibáñez del Camp    0.009174\n",
       " Biobío                                0.025305\n",
       " Coquimbo                              0.021912\n",
       " La Araucanía                          0.015842\n",
       " Lib. Gral. Bernardo O'Higgins         0.012085\n",
       " Los Lagos                             0.009063\n",
       " Los Ríos                              0.022556\n",
       " Magallanes y Antártica Chilena        0.005236\n",
       " Maule                                 0.019608\n",
       " Metropolitana de Santiago             0.013159\n",
       " Tarapacá                              0.028065\n",
       " Valparaíso                            0.010735\n",
       " Ñuble                                 0.018405\n",
       "Name: COMPRO_NUM, dtype: float64"
      ]
     },
     "execution_count": 42,
     "metadata": {},
     "output_type": "execute_result"
    }
   ],
   "source": [
    "# la variable la optimize desde sas\n",
    "sns.countplot(x = \"REGION\", hue = \"COMPRO_NUM\", data = df1)\n",
    "xticks(rotation = 90)\n",
    "plt.show(),\n",
    "df1.groupby('REGION')[\"COMPRO_NUM\"].mean() \n"
   ]
  },
  {
   "cell_type": "markdown",
   "metadata": {},
   "source": [
    "### Tipo credito usado anteriormente"
   ]
  },
  {
   "cell_type": "code",
   "execution_count": 43,
   "metadata": {},
   "outputs": [
    {
     "data": {
      "image/png": "[encoded data removed]",
      "text/plain": [
       "<Figure size 432x288 with 1 Axes>"
      ]
     },
     "metadata": {
      "needs_background": "light"
     },
     "output_type": "display_data"
    },
    {
     "data": {
      "text/plain": [
       "TIPO_CREDITO_USADO_ANT\n",
       "CHEQUES               0.223684\n",
       "CONTADO               0.255983\n",
       "LEASING FINANCIERO    0.045455\n",
       "LETRAS                0.153846\n",
       "NA                    0.000533\n",
       "ORDEN DE COMPRA       0.150000\n",
       "Name: COMPRO_NUM, dtype: float64"
      ]
     },
     "execution_count": 43,
     "metadata": {},
     "output_type": "execute_result"
    }
   ],
   "source": [
    "sns.countplot(x = \"TIPO_CREDITO_USADO_ANT\", hue = \"COMPRO_NUM\", data = df1)\n",
    "xticks(rotation = 90)\n",
    "plt.show(),\n",
    "df1.groupby('TIPO_CREDITO_USADO_ANT')[\"COMPRO_NUM\"].mean() "
   ]
  },
  {
   "cell_type": "markdown",
   "metadata": {},
   "source": [
    "Esto tiene poca logica, pero se usa, si el cliente compra antes, tengo el tipo de credito que ocupa, pero voy a agrupar"
   ]
  },
  {
   "cell_type": "code",
   "execution_count": 44,
   "metadata": {},
   "outputs": [],
   "source": [
    "df1['TIPO_CREDITO_USADO_ANT'] = df1['TIPO_CREDITO_USADO_ANT'].replace('PAGARE/O.COMPRA/CREDITO SIMPLE','CREDITO')\n",
    "df1['TIPO_CREDITO_USADO_ANT'] = df1['TIPO_CREDITO_USADO_ANT'].replace('LEASING FINANCIERO','LEASING')"
   ]
  },
  {
   "cell_type": "markdown",
   "metadata": {},
   "source": [
    "### Ofertas realizadas anteriormente"
   ]
  },
  {
   "cell_type": "code",
   "execution_count": 45,
   "metadata": {},
   "outputs": [
    {
     "data": {
      "text/plain": [
       "0.021453236839310115"
      ]
     },
     "execution_count": 45,
     "metadata": {},
     "output_type": "execute_result"
    },
    {
     "data": {
      "image/png": "[encoded data removed]",
      "text/plain": [
       "<Figure size 432x288 with 1 Axes>"
      ]
     },
     "metadata": {
      "needs_background": "light"
     },
     "output_type": "display_data"
    }
   ],
   "source": [
    "plt.hist(df1[\"NUM_OFERTAS_U12M\"],bins=50)\n",
    "plt.show\n",
    "\n",
    "df1['NUM_OFERTAS_U12M'].corr(df1[\"COMPRO_NUM\"])"
   ]
  },
  {
   "cell_type": "markdown",
   "metadata": {},
   "source": [
    "### Servicios PV"
   ]
  },
  {
   "cell_type": "code",
   "execution_count": 46,
   "metadata": {},
   "outputs": [
    {
     "data": {
      "image/png": "[encoded data removed]",
      "text/plain": [
       "<Figure size 432x288 with 1 Axes>"
      ]
     },
     "metadata": {
      "needs_background": "light"
     },
     "output_type": "display_data"
    },
    {
     "data": {
      "text/plain": [
       "SERVICIOS_PV\n",
       "0.0    0.012441\n",
       "1.0    0.029785\n",
       "Name: COMPRO_NUM, dtype: float64"
      ]
     },
     "execution_count": 46,
     "metadata": {},
     "output_type": "execute_result"
    }
   ],
   "source": [
    "sns.countplot(x = \"SERVICIOS_PV\", hue = \"COMPRO_NUM\", data = df1)\n",
    "xticks(rotation = 90)\n",
    "plt.show(),\n",
    "df1.groupby('SERVICIOS_PV')[\"COMPRO_NUM\"].mean() "
   ]
  },
  {
   "cell_type": "markdown",
   "metadata": {},
   "source": [
    "## Dummificacion de variables"
   ]
  },
  {
   "cell_type": "code",
   "execution_count": 47,
   "metadata": {},
   "outputs": [],
   "source": [
    "def variables_dummy(dataset,variable):\n",
    "    cat_dummies = pd.get_dummies(dataset[variable],prefix=variable)\n",
    "    #.iloc[:,1:]\n",
    "    data_new = dataset.join(cat_dummies)\n",
    "    dataset = data_new.drop([variable],axis=1)\n",
    "    return dataset"
   ]
  },
  {
   "cell_type": "code",
   "execution_count": 48,
   "metadata": {},
   "outputs": [
    {
     "name": "stdout",
     "output_type": "stream",
     "text": [
      "<class 'pandas.core.frame.DataFrame'>\n",
      "Int64Index: 19892 entries, 0 to 212231\n",
      "Data columns (total 28 columns):\n",
      " #   Column                    Non-Null Count  Dtype  \n",
      "---  ------                    --------------  -----  \n",
      " 0   TOTAL_UTILITARIOS         19892 non-null  float64\n",
      " 1   UTILITARIOS_EXCLUSION     19892 non-null  float64\n",
      " 2   RELEVANTE_BUSES           19892 non-null  float64\n",
      " 3   RELEVANTE_CAMIONES        19892 non-null  float64\n",
      " 4   RELEVANTE_RODADOS         19892 non-null  float64\n",
      " 5   RELEVANTE_VANS            19892 non-null  float64\n",
      " 6   RELEVANTE_CARGA           19892 non-null  float64\n",
      " 7   RELEVANTE_PASAJERA        19892 non-null  float64\n",
      " 8   RELEVANTE_PESADO          19892 non-null  float64\n",
      " 9   RELEVANTE_CAMIONETA       19892 non-null  float64\n",
      " 10  RELEVANTE_MEDIANO         19892 non-null  float64\n",
      " 11  RELEVANTE_OTROS           19892 non-null  float64\n",
      " 12  RELEVANTE_LIVIANO         19892 non-null  float64\n",
      " 13  RELEVANTE_CAMIONETA_DCAB  19892 non-null  float64\n",
      " 14  RELEVANTE_FORESTAL        19892 non-null  float64\n",
      " 15  MARCA_AGRUPADA            19892 non-null  object \n",
      " 16  FLOTA_NUEVA               19892 non-null  float64\n",
      " 17  ANTIGUEDAD_FLOTA          19892 non-null  float64\n",
      " 18  COMPRO_NUM                19892 non-null  float64\n",
      " 19  CAMPANAS_U180D            19892 non-null  float64\n",
      " 20  CAMPANAS_U180D_C          19892 non-null  float64\n",
      " 21  SERVICIOS_PV              19892 non-null  float64\n",
      " 22  REGION                    19892 non-null  object \n",
      " 23  USADO_NUEVO               19892 non-null  object \n",
      " 24  DESC_TIPO_VEHICULO        19892 non-null  object \n",
      " 25  NUM_OFERTAS_U12M          19892 non-null  float64\n",
      " 26  COMPRAS_REALIZADAS_U12M   19892 non-null  float64\n",
      " 27  TIPO_CREDITO_USADO_ANT    19892 non-null  object \n",
      "dtypes: float64(23), object(5)\n",
      "memory usage: 5.0+ MB\n"
     ]
    }
   ],
   "source": [
    "df3=df1\n",
    "\n",
    "df3.info()"
   ]
  },
  {
   "cell_type": "code",
   "execution_count": 54,
   "metadata": {},
   "outputs": [],
   "source": [
    "tabla=variables_dummy(df3,\"DESC_TIPO_VEHICULO\")\n",
    "tabla=variables_dummy(tabla,\"MARCA_AGRUPADA\")\n",
    "tabla=variables_dummy(tabla,\"REGION\")\n",
    "#tabla=variables_dummy(tabla,\"COMUNA_CRM\")\n",
    "tabla=variables_dummy(tabla,\"USADO_NUEVO\")\n",
    "tabla=variables_dummy(tabla,\"TIPO_CREDITO_USADO_ANT\")\n",
    "#tabla=tabla.drop([\"COMUNA_CRM\"], axis=1)"
   ]
  },
  {
   "cell_type": "code",
   "execution_count": 55,
   "metadata": {},
   "outputs": [],
   "source": [
    "y=tabla[\"COMPRO_NUM\"]\n",
    "x=tabla.drop([\"COMPRO_NUM\"], axis=1)"
   ]
  },
  {
   "cell_type": "code",
   "execution_count": 56,
   "metadata": {},
   "outputs": [
    {
     "name": "stdout",
     "output_type": "stream",
     "text": [
      "<class 'pandas.core.frame.DataFrame'>\n",
      "Int64Index: 19892 entries, 0 to 212231\n",
      "Data columns (total 72 columns):\n",
      " #   Column                                         Non-Null Count  Dtype  \n",
      "---  ------                                         --------------  -----  \n",
      " 0   TOTAL_UTILITARIOS                              19892 non-null  float64\n",
      " 1   UTILITARIOS_EXCLUSION                          19892 non-null  float64\n",
      " 2   RELEVANTE_BUSES                                19892 non-null  float64\n",
      " 3   RELEVANTE_CAMIONES                             19892 non-null  float64\n",
      " 4   RELEVANTE_RODADOS                              19892 non-null  float64\n",
      " 5   RELEVANTE_VANS                                 19892 non-null  float64\n",
      " 6   RELEVANTE_CARGA                                19892 non-null  float64\n",
      " 7   RELEVANTE_PASAJERA                             19892 non-null  float64\n",
      " 8   RELEVANTE_PESADO                               19892 non-null  float64\n",
      " 9   RELEVANTE_CAMIONETA                            19892 non-null  float64\n",
      " 10  RELEVANTE_MEDIANO                              19892 non-null  float64\n",
      " 11  RELEVANTE_OTROS                                19892 non-null  float64\n",
      " 12  RELEVANTE_LIVIANO                              19892 non-null  float64\n",
      " 13  RELEVANTE_CAMIONETA_DCAB                       19892 non-null  float64\n",
      " 14  RELEVANTE_FORESTAL                             19892 non-null  float64\n",
      " 15  FLOTA_NUEVA                                    19892 non-null  float64\n",
      " 16  ANTIGUEDAD_FLOTA                               19892 non-null  float64\n",
      " 17  CAMPANAS_U180D                                 19892 non-null  float64\n",
      " 18  CAMPANAS_U180D_C                               19892 non-null  float64\n",
      " 19  SERVICIOS_PV                                   19892 non-null  float64\n",
      " 20  NUM_OFERTAS_U12M                               19892 non-null  float64\n",
      " 21  COMPRAS_REALIZADAS_U12M                        19892 non-null  float64\n",
      " 22  DESC_TIPO_VEHICULO_AMBULANCIA                  19892 non-null  uint8  \n",
      " 23  DESC_TIPO_VEHICULO_BUS                         19892 non-null  uint8  \n",
      " 24  DESC_TIPO_VEHICULO_CAMION                      19892 non-null  uint8  \n",
      " 25  DESC_TIPO_VEHICULO_CAMIONETA                   19892 non-null  uint8  \n",
      " 26  DESC_TIPO_VEHICULO_CHASIS                      19892 non-null  uint8  \n",
      " 27  DESC_TIPO_VEHICULO_CHASIS CABINA               19892 non-null  uint8  \n",
      " 28  DESC_TIPO_VEHICULO_CHASIS CABINADO             19892 non-null  uint8  \n",
      " 29  DESC_TIPO_VEHICULO_FURGON                      19892 non-null  uint8  \n",
      " 30  DESC_TIPO_VEHICULO_GRUPO GENERADOR             19892 non-null  uint8  \n",
      " 31  DESC_TIPO_VEHICULO_MINIBUS                     19892 non-null  uint8  \n",
      " 32  DESC_TIPO_VEHICULO_MOTOR INDUSTRIAL            19892 non-null  uint8  \n",
      " 33  DESC_TIPO_VEHICULO_MOTOR MARINO                19892 non-null  uint8  \n",
      " 34  DESC_TIPO_VEHICULO_REMOLQUE                    19892 non-null  uint8  \n",
      " 35  DESC_TIPO_VEHICULO_SEMIREMOLQUE                19892 non-null  uint8  \n",
      " 36  DESC_TIPO_VEHICULO_STATION WAGON               19892 non-null  uint8  \n",
      " 37  DESC_TIPO_VEHICULO_TRACTOCAMION                19892 non-null  uint8  \n",
      " 38  DESC_TIPO_VEHICULO_TRACTOCAMION USO CARRETERO  19892 non-null  uint8  \n",
      " 39  MARCA_AGRUPADA_FREIGHTLINER                    19892 non-null  uint8  \n",
      " 40  MARCA_AGRUPADA_GREAT DANE                      19892 non-null  uint8  \n",
      " 41  MARCA_AGRUPADA_HEIL                            19892 non-null  uint8  \n",
      " 42  MARCA_AGRUPADA_MERCEDES-BENZ                   19892 non-null  uint8  \n",
      " 43  MARCA_AGRUPADA_MITSUBISHI-FUSO                 19892 non-null  uint8  \n",
      " 44  MARCA_AGRUPADA_POWERSYSTEMS                    19892 non-null  uint8  \n",
      " 45  MARCA_AGRUPADA_TREMAC                          19892 non-null  uint8  \n",
      " 46  MARCA_AGRUPADA_WESTERN STAR                    19892 non-null  uint8  \n",
      " 47  REGION_NA                                      19892 non-null  uint8  \n",
      " 48  REGION_ Antofagasta                            19892 non-null  uint8  \n",
      " 49  REGION_ Arica y Parinacota                     19892 non-null  uint8  \n",
      " 50  REGION_ Atacama                                19892 non-null  uint8  \n",
      " 51  REGION_ Aysén del Gral. C. Ibáñez del Camp     19892 non-null  uint8  \n",
      " 52  REGION_ Biobío                                 19892 non-null  uint8  \n",
      " 53  REGION_ Coquimbo                               19892 non-null  uint8  \n",
      " 54  REGION_ La Araucanía                           19892 non-null  uint8  \n",
      " 55  REGION_ Lib. Gral. Bernardo O'Higgins          19892 non-null  uint8  \n",
      " 56  REGION_ Los Lagos                              19892 non-null  uint8  \n",
      " 57  REGION_ Los Ríos                               19892 non-null  uint8  \n",
      " 58  REGION_ Magallanes y Antártica Chilena         19892 non-null  uint8  \n",
      " 59  REGION_ Maule                                  19892 non-null  uint8  \n",
      " 60  REGION_ Metropolitana de Santiago              19892 non-null  uint8  \n",
      " 61  REGION_ Tarapacá                               19892 non-null  uint8  \n",
      " 62  REGION_ Valparaíso                             19892 non-null  uint8  \n",
      " 63  REGION_ Ñuble                                  19892 non-null  uint8  \n",
      " 64  USADO_NUEVO_Nuevo                              19892 non-null  uint8  \n",
      " 65  USADO_NUEVO_Usado                              19892 non-null  uint8  \n",
      " 66  TIPO_CREDITO_USADO_ANT_CHEQUES                 19892 non-null  uint8  \n",
      " 67  TIPO_CREDITO_USADO_ANT_CONTADO                 19892 non-null  uint8  \n",
      " 68  TIPO_CREDITO_USADO_ANT_LEASING                 19892 non-null  uint8  \n",
      " 69  TIPO_CREDITO_USADO_ANT_LETRAS                  19892 non-null  uint8  \n",
      " 70  TIPO_CREDITO_USADO_ANT_NA                      19892 non-null  uint8  \n",
      " 71  TIPO_CREDITO_USADO_ANT_ORDEN DE COMPRA         19892 non-null  uint8  \n",
      "dtypes: float64(22), uint8(50)\n",
      "memory usage: 5.1 MB\n"
     ]
    }
   ],
   "source": [
    "x.info()"
   ]
  },
  {
   "cell_type": "markdown",
   "metadata": {},
   "source": [
    "# Inicio de modelamiento"
   ]
  },
  {
   "cell_type": "markdown",
   "metadata": {},
   "source": [
    "### Datos entrenamiento y testeo"
   ]
  },
  {
   "cell_type": "markdown",
   "metadata": {},
   "source": [
    "como esta desbalanceado, primero divido la muestra pero por estratos"
   ]
  },
  {
   "cell_type": "code",
   "execution_count": 57,
   "metadata": {},
   "outputs": [],
   "source": [
    "x_res,x_test,y_res,y_test=train_test_split(x,y,test_size=0.2,random_state=1010)"
   ]
  },
  {
   "cell_type": "markdown",
   "metadata": {},
   "source": [
    "Revisamos como quedan las separaciones"
   ]
  },
  {
   "cell_type": "code",
   "execution_count": 58,
   "metadata": {},
   "outputs": [
    {
     "data": {
      "text/plain": [
       "(0.01426506629799535, 0.014073887911535563, (15913,), (3979,))"
      ]
     },
     "execution_count": 58,
     "metadata": {},
     "output_type": "execute_result"
    }
   ],
   "source": [
    "y_res.mean(),y_test.mean(),y_res.shape,y_test.shape"
   ]
  },
  {
   "cell_type": "markdown",
   "metadata": {},
   "source": [
    "Tenemos un problema con datos desbalanceados, por lo que revisemos como se comporta este desbalance utilizando un modelo sde random forest como base inicial"
   ]
  },
  {
   "cell_type": "code",
   "execution_count": 59,
   "metadata": {},
   "outputs": [],
   "source": [
    "from  sklearn.ensemble import RandomForestClassifier\n",
    "modelo_rfc = RandomForestClassifier().fit(x_res, y_res)"
   ]
  },
  {
   "cell_type": "code",
   "execution_count": 60,
   "metadata": {
    "scrolled": true
   },
   "outputs": [
    {
     "name": "stdout",
     "output_type": "stream",
     "text": [
      "Matriz de confusion:\n",
      "                   Prediccion falso  Prediccion verdadero\n",
      "Actual falsa                  3906                    17\n",
      "Actual verdadera                47                     9\n"
     ]
    },
    {
     "data": {
      "text/html": [
       "<div>\n",
       "<style scoped>\n",
       "    .dataframe tbody tr th:only-of-type {\n",
       "        vertical-align: middle;\n",
       "    }\n",
       "\n",
       "    .dataframe tbody tr th {\n",
       "        vertical-align: top;\n",
       "    }\n",
       "\n",
       "    .dataframe thead th {\n",
       "        text-align: right;\n",
       "    }\n",
       "</style>\n",
       "<table border=\"1\" class=\"dataframe\">\n",
       "  <thead>\n",
       "    <tr style=\"text-align: right;\">\n",
       "      <th></th>\n",
       "      <th>Entrenamiento</th>\n",
       "      <th>Testeo</th>\n",
       "    </tr>\n",
       "  </thead>\n",
       "  <tbody>\n",
       "    <tr>\n",
       "      <th>Accuracy</th>\n",
       "      <td>0.993</td>\n",
       "      <td>0.983</td>\n",
       "    </tr>\n",
       "    <tr>\n",
       "      <th>recall</th>\n",
       "      <td>0.621</td>\n",
       "      <td>0.160</td>\n",
       "    </tr>\n",
       "    <tr>\n",
       "      <th>roc</th>\n",
       "      <td>0.997</td>\n",
       "      <td>0.934</td>\n",
       "    </tr>\n",
       "    <tr>\n",
       "      <th>f1</th>\n",
       "      <td>0.730</td>\n",
       "      <td>0.219</td>\n",
       "    </tr>\n",
       "  </tbody>\n",
       "</table>\n",
       "</div>"
      ],
      "text/plain": [
       "          Entrenamiento  Testeo\n",
       "Accuracy          0.993   0.983\n",
       "recall            0.621   0.160\n",
       "roc               0.997   0.934\n",
       "f1                0.730   0.219"
      ]
     },
     "execution_count": 60,
     "metadata": {},
     "output_type": "execute_result"
    }
   ],
   "source": [
    "#evaluacion del modelo\n",
    "mediciones(x_res,y_res,x_test,y_test,modelo_rfc)   "
   ]
  },
  {
   "cell_type": "markdown",
   "metadata": {},
   "source": [
    "El recall es muy bajo y se ve afectado el f1, es necesario balancear los datos"
   ]
  },
  {
   "cell_type": "markdown",
   "metadata": {},
   "source": [
    "### Balanceo de datos de entrenamiento"
   ]
  },
  {
   "cell_type": "markdown",
   "metadata": {},
   "source": [
    "Tengo la opcion de bajar o subir la muestra, a modo de no perder informacion se sube"
   ]
  },
  {
   "cell_type": "code",
   "execution_count": 61,
   "metadata": {},
   "outputs": [
    {
     "name": "stderr",
     "output_type": "stream",
     "text": [
      "Using TensorFlow backend.\n"
     ]
    }
   ],
   "source": [
    "from imblearn.under_sampling import NearMiss\n",
    "from imblearn.over_sampling import SMOTE \n",
    "nm = SMOTE(random_state = 10101) \n",
    "#nm = NearMiss(random_state = 10101)"
   ]
  },
  {
   "cell_type": "code",
   "execution_count": 62,
   "metadata": {},
   "outputs": [],
   "source": [
    "x_train,y_train=nm.fit_resample(x_res,y_res)"
   ]
  },
  {
   "cell_type": "markdown",
   "metadata": {},
   "source": [
    "Reviso dimenciones nuevamente"
   ]
  },
  {
   "cell_type": "code",
   "execution_count": 63,
   "metadata": {},
   "outputs": [
    {
     "data": {
      "text/plain": [
       "((15913,), 0.01426506629799535, (31372,), 0.5)"
      ]
     },
     "execution_count": 63,
     "metadata": {},
     "output_type": "execute_result"
    }
   ],
   "source": [
    "y_res.shape, y_res.mean(), y_train.shape,y_train.mean()"
   ]
  },
  {
   "cell_type": "markdown",
   "metadata": {},
   "source": [
    "# Modelamiento con datos balanceados\n",
    "\n",
    "La estrategia en este caso es utilizar regresion logistica, en el caso de obtener un pobre ajuste, se utilitan varios modelos para probar"
   ]
  },
  {
   "cell_type": "markdown",
   "metadata": {},
   "source": [
    "## Regresion logistica como modelo base\n",
    "\n",
    "Utilizo regresion loistica y una busqueda por gridsearch para encontrar mejores hiperparametros"
   ]
  },
  {
   "cell_type": "code",
   "execution_count": 64,
   "metadata": {},
   "outputs": [],
   "source": [
    "from sklearn.linear_model import LogisticRegression\n",
    "from sklearn.model_selection import GridSearchCV\n",
    "\n",
    "\n",
    "grid={\"C\":np.logspace(-3,3,3), \"penalty\":[\"l2\"]}\n",
    "\n",
    "logreg=LogisticRegression()\n",
    "\n",
    "logreg_cv=GridSearchCV(logreg,grid,cv=5,scoring='f1',verbose=0)"
   ]
  },
  {
   "cell_type": "code",
   "execution_count": 65,
   "metadata": {
    "scrolled": true
   },
   "outputs": [
    {
     "data": {
      "text/plain": [
       "GridSearchCV(cv=5, error_score=nan,\n",
       "             estimator=LogisticRegression(C=1.0, class_weight=None, dual=False,\n",
       "                                          fit_intercept=True,\n",
       "                                          intercept_scaling=1, l1_ratio=None,\n",
       "                                          max_iter=100, multi_class='auto',\n",
       "                                          n_jobs=None, penalty='l2',\n",
       "                                          random_state=None, solver='lbfgs',\n",
       "                                          tol=0.0001, verbose=0,\n",
       "                                          warm_start=False),\n",
       "             iid='deprecated', n_jobs=None,\n",
       "             param_grid={'C': array([1.e-03, 1.e+00, 1.e+03]),\n",
       "                         'penalty': ['l2']},\n",
       "             pre_dispatch='2*n_jobs', refit=True, return_train_score=False,\n",
       "             scoring='f1', verbose=0)"
      ]
     },
     "execution_count": 65,
     "metadata": {},
     "output_type": "execute_result"
    }
   ],
   "source": [
    "logreg_cv.fit(x_train,y_train)"
   ]
  },
  {
   "cell_type": "code",
   "execution_count": 66,
   "metadata": {
    "scrolled": true
   },
   "outputs": [
    {
     "data": {
      "text/plain": [
       "{'C': 1000.0, 'penalty': 'l2'}"
      ]
     },
     "execution_count": 66,
     "metadata": {},
     "output_type": "execute_result"
    }
   ],
   "source": [
    "logreg_cv.best_params_"
   ]
  },
  {
   "cell_type": "code",
   "execution_count": 67,
   "metadata": {},
   "outputs": [
    {
     "data": {
      "text/plain": [
       "LogisticRegression(C=1000, class_weight=None, dual=False, fit_intercept=True,\n",
       "                   intercept_scaling=1, l1_ratio=None, max_iter=100,\n",
       "                   multi_class='auto', n_jobs=None, penalty='l2',\n",
       "                   random_state=None, solver='lbfgs', tol=0.0001, verbose=0,\n",
       "                   warm_start=False)"
      ]
     },
     "execution_count": 67,
     "metadata": {},
     "output_type": "execute_result"
    }
   ],
   "source": [
    "logreg=LogisticRegression(C=1000,penalty='l2')\n",
    "logreg.fit(x_train,y_train)"
   ]
  },
  {
   "cell_type": "code",
   "execution_count": 68,
   "metadata": {
    "scrolled": false
   },
   "outputs": [
    {
     "name": "stdout",
     "output_type": "stream",
     "text": [
      "Matriz de confusion:\n",
      "                   Prediccion falso  Prediccion verdadero\n",
      "Actual falsa                  3781                   142\n",
      "Actual verdadera                10                    46\n"
     ]
    },
    {
     "data": {
      "text/html": [
       "<div>\n",
       "<style scoped>\n",
       "    .dataframe tbody tr th:only-of-type {\n",
       "        vertical-align: middle;\n",
       "    }\n",
       "\n",
       "    .dataframe tbody tr th {\n",
       "        vertical-align: top;\n",
       "    }\n",
       "\n",
       "    .dataframe thead th {\n",
       "        text-align: right;\n",
       "    }\n",
       "</style>\n",
       "<table border=\"1\" class=\"dataframe\">\n",
       "  <thead>\n",
       "    <tr style=\"text-align: right;\">\n",
       "      <th></th>\n",
       "      <th>Entrenamiento</th>\n",
       "      <th>Testeo</th>\n",
       "    </tr>\n",
       "  </thead>\n",
       "  <tbody>\n",
       "    <tr>\n",
       "      <th>Accuracy</th>\n",
       "      <td>0.981</td>\n",
       "      <td>0.961</td>\n",
       "    </tr>\n",
       "    <tr>\n",
       "      <th>recall</th>\n",
       "      <td>0.995</td>\n",
       "      <td>0.821</td>\n",
       "    </tr>\n",
       "    <tr>\n",
       "      <th>roc</th>\n",
       "      <td>0.995</td>\n",
       "      <td>0.944</td>\n",
       "    </tr>\n",
       "    <tr>\n",
       "      <th>f1</th>\n",
       "      <td>0.981</td>\n",
       "      <td>0.377</td>\n",
       "    </tr>\n",
       "  </tbody>\n",
       "</table>\n",
       "</div>"
      ],
      "text/plain": [
       "          Entrenamiento  Testeo\n",
       "Accuracy          0.981   0.961\n",
       "recall            0.995   0.821\n",
       "roc               0.995   0.944\n",
       "f1                0.981   0.377"
      ]
     },
     "execution_count": 68,
     "metadata": {},
     "output_type": "execute_result"
    }
   ],
   "source": [
    "mediciones(x_train,y_train,x_test,y_test,logreg)   "
   ]
  },
  {
   "cell_type": "markdown",
   "metadata": {},
   "source": [
    "Se aprecia un claro bajo ajuste, veamos si aplicamos otros modelos podemos mejorar esto (al menos el recall y press deben estar sobre 50%)"
   ]
  },
  {
   "cell_type": "markdown",
   "metadata": {},
   "source": [
    "## Multi-modelos"
   ]
  },
  {
   "cell_type": "markdown",
   "metadata": {},
   "source": [
    "Para evita probar uno a uno los modelos, se seleccionan varios y luego se verifica los con mejor rendimiento para hacer una busqueda ampliada de los mejores con gridsearch"
   ]
  },
  {
   "cell_type": "code",
   "execution_count": 69,
   "metadata": {
    "scrolled": false
   },
   "outputs": [
    {
     "name": "stdout",
     "output_type": "stream",
     "text": [
      "\n",
      " modelo: LR\n",
      "          Testeo\n",
      "Accuracy   0.959\n",
      "recall     0.875\n",
      "f1 score: 0.375\n",
      "roc-auc: 0.9524575761989731\n",
      "[[3767  156]\n",
      " [   7   49]]\n",
      "\n",
      " modelo: SVC\n",
      "          Testeo\n",
      "Accuracy   0.438\n",
      "recall     0.821\n",
      "f1 score: 0.039\n",
      "[[1700 2223]\n",
      " [  10   46]]\n",
      "\n",
      " modelo: RF\n",
      "          Testeo\n",
      "Accuracy   0.977\n",
      "recall     0.375\n",
      "f1 score: 0.315\n",
      "roc-auc: 0.9335944612359346\n",
      "[[3867   56]\n",
      " [  35   21]]\n",
      "\n",
      " modelo: TREE\n",
      "          Testeo\n",
      "Accuracy   0.978\n",
      "recall     0.285\n",
      "f1 score: 0.275\n",
      "roc-auc: 0.6820126725173882\n",
      "[[3879   44]\n",
      " [  40   16]]\n",
      "\n",
      " modelo: MLP\n",
      "          Testeo\n",
      "Accuracy   0.972\n",
      "recall     0.553\n",
      "f1 score: 0.362\n",
      "roc-auc: 0.9360798040857944\n",
      "[[3839   84]\n",
      " [  25   31]]\n",
      "\n",
      " modelo: GBOOST\n",
      "          Testeo\n",
      "Accuracy   0.279\n",
      "recall     0.964\n",
      "f1 score: 0.036\n",
      "roc-auc: 0.6305874695022032\n",
      "[[1060 2863]\n",
      " [   2   54]]\n",
      "\n",
      " modelo: ADABOOST\n",
      "          Testeo\n",
      "Accuracy   0.964\n",
      "recall     0.928\n",
      "f1 score: 0.421\n",
      "roc-auc: 0.9709201230836458\n",
      "[[3784  139]\n",
      " [   4   52]]\n",
      "\n",
      " modelo: GRBOOST\n",
      "          Testeo\n",
      "Accuracy   0.968\n",
      "recall     0.875\n",
      "f1 score: 0.435\n",
      "roc-auc: 0.9669189942099705\n",
      "[[3803  120]\n",
      " [   7   49]]\n"
     ]
    }
   ],
   "source": [
    "from sklearn import svm\n",
    "from sklearn.linear_model import LogisticRegression\n",
    "from sklearn.ensemble import RandomForestClassifier,AdaBoostClassifier,VotingClassifier,StackingClassifier,GradientBoostingClassifier\n",
    "from sklearn.neural_network import MLPClassifier\n",
    "from sklearn.discriminant_analysis import LinearDiscriminantAnalysis\n",
    "from sklearn.neighbors import KNeighborsClassifier\n",
    "from sklearn.naive_bayes import GaussianNB\n",
    "from sklearn.tree import DecisionTreeClassifier          \n",
    "              \n",
    "\n",
    "modelos = [[\"LR\",\"SVC\",\"RF\",\"TREE\",\"MLP\",\"GBOOST\",\"ADABOOST\",\"GRBOOST\"],\n",
    "           [\n",
    "            LogisticRegression(C=1,penalty='l2'),  \n",
    "            svm.SVC(max_iter=50),\n",
    "            RandomForestClassifier(),\n",
    "            DecisionTreeClassifier(),\n",
    "            MLPClassifier(),\n",
    "            GaussianNB(),\n",
    "            AdaBoostClassifier(),\n",
    "            GradientBoostingClassifier()]\n",
    "          ]\n",
    "warnings.filterwarnings(\"ignore\")\n",
    "\n",
    "resultados=[]\n",
    "predicion=[]\n",
    "error=[]\n",
    "precision=[]\n",
    "a=0\n",
    "for i in modelos[1]:\n",
    "    ajuste=i.fit(x_train,y_train)\n",
    "    resultados.append(ajuste)\n",
    "    predicion.append(ajuste.predict(x_test))\n",
    "    er = i.score(x_test,y_test)\n",
    "    error.append(er)\n",
    "    precision.append(ajuste.score(x_test , y_test))\n",
    "    print(\"\\n modelo:\",modelos[0][a])\n",
    "    print(mediciones2(x_train,y_train,x_test,y_test,ajuste))\n",
    "    print(\"f1 score:\",int(f1_score(y_test,ajuste.predict(x_test))*1000)/1000)\n",
    "    if modelos[0][a]!='SVC':\n",
    "        print(\"roc-auc:\", roc_auc_score(y_test,ajuste.predict_proba(x_test)[:,1]))\n",
    "    print(confusion_matrix(y_test,ajuste.predict(x_test)))\n",
    "    a=a+1"
   ]
  },
  {
   "cell_type": "markdown",
   "metadata": {},
   "source": [
    "Siguiente paso es usar gridsearch para buscar la mejor version de cada uno usando como referencia para los mejores en f1 (arbol de decision, random forest, mlp, adaboost)"
   ]
  },
  {
   "cell_type": "markdown",
   "metadata": {},
   "source": [
    "## Tree Clasificador Tunning"
   ]
  },
  {
   "cell_type": "code",
   "execution_count": 70,
   "metadata": {},
   "outputs": [
    {
     "name": "stdout",
     "output_type": "stream",
     "text": [
      "Fitting 3 folds for each of 182 candidates, totalling 546 fits\n"
     ]
    },
    {
     "name": "stderr",
     "output_type": "stream",
     "text": [
      "[Parallel(n_jobs=-1)]: Using backend LokyBackend with 8 concurrent workers.\n",
      "[Parallel(n_jobs=-1)]: Done   2 tasks      | elapsed:    2.5s\n",
      "[Parallel(n_jobs=-1)]: Done   9 tasks      | elapsed:    2.8s\n",
      "[Parallel(n_jobs=-1)]: Done  16 tasks      | elapsed:    3.0s\n",
      "[Parallel(n_jobs=-1)]: Done  25 tasks      | elapsed:    3.3s\n",
      "[Parallel(n_jobs=-1)]: Done  34 tasks      | elapsed:    3.5s\n",
      "[Parallel(n_jobs=-1)]: Done  45 tasks      | elapsed:    3.8s\n",
      "[Parallel(n_jobs=-1)]: Done  56 tasks      | elapsed:    4.1s\n",
      "[Parallel(n_jobs=-1)]: Done  69 tasks      | elapsed:    4.5s\n",
      "[Parallel(n_jobs=-1)]: Done  82 tasks      | elapsed:    4.8s\n",
      "[Parallel(n_jobs=-1)]: Done  97 tasks      | elapsed:    5.2s\n",
      "[Parallel(n_jobs=-1)]: Done 112 tasks      | elapsed:    5.5s\n",
      "[Parallel(n_jobs=-1)]: Done 129 tasks      | elapsed:    5.9s\n",
      "[Parallel(n_jobs=-1)]: Done 146 tasks      | elapsed:    6.4s\n",
      "[Parallel(n_jobs=-1)]: Done 165 tasks      | elapsed:    6.8s\n",
      "[Parallel(n_jobs=-1)]: Done 184 tasks      | elapsed:    7.3s\n",
      "[Parallel(n_jobs=-1)]: Done 205 tasks      | elapsed:    7.8s\n",
      "[Parallel(n_jobs=-1)]: Done 226 tasks      | elapsed:    8.3s\n",
      "[Parallel(n_jobs=-1)]: Done 249 tasks      | elapsed:    8.8s\n",
      "[Parallel(n_jobs=-1)]: Done 272 tasks      | elapsed:    9.4s\n",
      "[Parallel(n_jobs=-1)]: Done 297 tasks      | elapsed:    9.8s\n",
      "[Parallel(n_jobs=-1)]: Done 322 tasks      | elapsed:   10.3s\n",
      "[Parallel(n_jobs=-1)]: Done 349 tasks      | elapsed:   10.8s\n",
      "[Parallel(n_jobs=-1)]: Done 376 tasks      | elapsed:   11.4s\n",
      "[Parallel(n_jobs=-1)]: Done 405 tasks      | elapsed:   12.0s\n",
      "[Parallel(n_jobs=-1)]: Done 434 tasks      | elapsed:   12.7s\n",
      "[Parallel(n_jobs=-1)]: Done 465 tasks      | elapsed:   13.4s\n",
      "[Parallel(n_jobs=-1)]: Done 496 tasks      | elapsed:   14.2s\n",
      "[Parallel(n_jobs=-1)]: Done 529 tasks      | elapsed:   15.0s\n",
      "[Parallel(n_jobs=-1)]: Done 546 out of 546 | elapsed:   15.4s finished\n"
     ]
    }
   ],
   "source": [
    "from sklearn.tree import DecisionTreeClassifier\n",
    "from sklearn.model_selection import GridSearchCV\n",
    "\n",
    "tree_params = {\"criterion\": [\"gini\", \"entropy\"], \"max_depth\": list(range(1,8,1)), \n",
    "              \"min_samples_leaf\": list(range(5,18,1))}\n",
    "\n",
    "tree_cv = GridSearchCV(DecisionTreeClassifier(), tree_params, cv=3,n_jobs=-1,verbose=10).fit(x_train,y_train)\n"
   ]
  },
  {
   "cell_type": "code",
   "execution_count": 71,
   "metadata": {},
   "outputs": [
    {
     "name": "stdout",
     "output_type": "stream",
     "text": [
      "Matriz de confusion:\n",
      "                   Prediccion falso  Prediccion verdadero\n",
      "Actual falsa                  3808                   115\n",
      "Actual verdadera                13                    43\n"
     ]
    },
    {
     "data": {
      "text/html": [
       "<div>\n",
       "<style scoped>\n",
       "    .dataframe tbody tr th:only-of-type {\n",
       "        vertical-align: middle;\n",
       "    }\n",
       "\n",
       "    .dataframe tbody tr th {\n",
       "        vertical-align: top;\n",
       "    }\n",
       "\n",
       "    .dataframe thead th {\n",
       "        text-align: right;\n",
       "    }\n",
       "</style>\n",
       "<table border=\"1\" class=\"dataframe\">\n",
       "  <thead>\n",
       "    <tr style=\"text-align: right;\">\n",
       "      <th></th>\n",
       "      <th>Entrenamiento</th>\n",
       "      <th>Testeo</th>\n",
       "    </tr>\n",
       "  </thead>\n",
       "  <tbody>\n",
       "    <tr>\n",
       "      <th>Accuracy</th>\n",
       "      <td>0.981</td>\n",
       "      <td>0.967</td>\n",
       "    </tr>\n",
       "    <tr>\n",
       "      <th>recall</th>\n",
       "      <td>0.990</td>\n",
       "      <td>0.767</td>\n",
       "    </tr>\n",
       "    <tr>\n",
       "      <th>roc</th>\n",
       "      <td>0.989</td>\n",
       "      <td>0.922</td>\n",
       "    </tr>\n",
       "    <tr>\n",
       "      <th>f1</th>\n",
       "      <td>0.981</td>\n",
       "      <td>0.401</td>\n",
       "    </tr>\n",
       "  </tbody>\n",
       "</table>\n",
       "</div>"
      ],
      "text/plain": [
       "          Entrenamiento  Testeo\n",
       "Accuracy          0.981   0.967\n",
       "recall            0.990   0.767\n",
       "roc               0.989   0.922\n",
       "f1                0.981   0.401"
      ]
     },
     "execution_count": 71,
     "metadata": {},
     "output_type": "execute_result"
    }
   ],
   "source": [
    "mediciones(x_train,y_train,x_test,y_test,tree_cv)"
   ]
  },
  {
   "cell_type": "markdown",
   "metadata": {},
   "source": [
    "No mejoro mucho respecto a lo que ya estaba ajustado (claso sobre ajuste)"
   ]
  },
  {
   "cell_type": "markdown",
   "metadata": {},
   "source": [
    "## Random Forest Tunning"
   ]
  },
  {
   "cell_type": "code",
   "execution_count": 72,
   "metadata": {},
   "outputs": [
    {
     "name": "stdout",
     "output_type": "stream",
     "text": [
      "Fitting 3 folds for each of 9 candidates, totalling 27 fits\n"
     ]
    },
    {
     "name": "stderr",
     "output_type": "stream",
     "text": [
      "[Parallel(n_jobs=-1)]: Using backend LokyBackend with 8 concurrent workers.\n",
      "[Parallel(n_jobs=-1)]: Done   2 tasks      | elapsed:    0.6s\n",
      "[Parallel(n_jobs=-1)]: Done   9 tasks      | elapsed:    1.4s\n",
      "[Parallel(n_jobs=-1)]: Done  15 out of  27 | elapsed:    2.2s remaining:    1.8s\n",
      "[Parallel(n_jobs=-1)]: Done  18 out of  27 | elapsed:    3.0s remaining:    1.5s\n",
      "[Parallel(n_jobs=-1)]: Done  21 out of  27 | elapsed:    3.3s remaining:    0.9s\n",
      "[Parallel(n_jobs=-1)]: Done  24 out of  27 | elapsed:    4.0s remaining:    0.4s\n",
      "[Parallel(n_jobs=-1)]: Done  27 out of  27 | elapsed:    4.5s remaining:    0.0s\n",
      "[Parallel(n_jobs=-1)]: Done  27 out of  27 | elapsed:    4.5s finished\n"
     ]
    }
   ],
   "source": [
    "## from sklearn.ensemble import RandomForestClassifier\n",
    "from sklearn.model_selection import GridSearchCV\n",
    "\n",
    "parameters = {\n",
    "    'n_estimators'      : [25,30,50],\n",
    "    'max_depth'         : [8,10,15],\n",
    "    'random_state'      : [0]}\n",
    "\n",
    "rf_cv = GridSearchCV(RandomForestClassifier(), parameters, cv=3, n_jobs=-1,verbose=10).fit(x_train,y_train)"
   ]
  },
  {
   "cell_type": "code",
   "execution_count": 73,
   "metadata": {},
   "outputs": [
    {
     "data": {
      "text/plain": [
       "{'max_depth': 15, 'n_estimators': 25, 'random_state': 0}"
      ]
     },
     "execution_count": 73,
     "metadata": {},
     "output_type": "execute_result"
    }
   ],
   "source": [
    "rf_cv.best_params_"
   ]
  },
  {
   "cell_type": "code",
   "execution_count": 74,
   "metadata": {},
   "outputs": [
    {
     "name": "stdout",
     "output_type": "stream",
     "text": [
      "Matriz de confusion:\n",
      "                   Prediccion falso  Prediccion verdadero\n",
      "Actual falsa                  3820                   103\n",
      "Actual verdadera                11                    45\n"
     ]
    },
    {
     "data": {
      "text/html": [
       "<div>\n",
       "<style scoped>\n",
       "    .dataframe tbody tr th:only-of-type {\n",
       "        vertical-align: middle;\n",
       "    }\n",
       "\n",
       "    .dataframe tbody tr th {\n",
       "        vertical-align: top;\n",
       "    }\n",
       "\n",
       "    .dataframe thead th {\n",
       "        text-align: right;\n",
       "    }\n",
       "</style>\n",
       "<table border=\"1\" class=\"dataframe\">\n",
       "  <thead>\n",
       "    <tr style=\"text-align: right;\">\n",
       "      <th></th>\n",
       "      <th>Entrenamiento</th>\n",
       "      <th>Testeo</th>\n",
       "    </tr>\n",
       "  </thead>\n",
       "  <tbody>\n",
       "    <tr>\n",
       "      <th>Accuracy</th>\n",
       "      <td>0.985</td>\n",
       "      <td>0.971</td>\n",
       "    </tr>\n",
       "    <tr>\n",
       "      <th>recall</th>\n",
       "      <td>0.992</td>\n",
       "      <td>0.803</td>\n",
       "    </tr>\n",
       "    <tr>\n",
       "      <th>roc</th>\n",
       "      <td>0.997</td>\n",
       "      <td>0.968</td>\n",
       "    </tr>\n",
       "    <tr>\n",
       "      <th>f1</th>\n",
       "      <td>0.985</td>\n",
       "      <td>0.441</td>\n",
       "    </tr>\n",
       "  </tbody>\n",
       "</table>\n",
       "</div>"
      ],
      "text/plain": [
       "          Entrenamiento  Testeo\n",
       "Accuracy          0.985   0.971\n",
       "recall            0.992   0.803\n",
       "roc               0.997   0.968\n",
       "f1                0.985   0.441"
      ]
     },
     "execution_count": 74,
     "metadata": {},
     "output_type": "execute_result"
    }
   ],
   "source": [
    "mediciones(x_train,y_train,x_test,y_test,rf_cv)"
   ]
  },
  {
   "cell_type": "markdown",
   "metadata": {},
   "source": [
    "Los modelos que revisare en mayor profundidad son la rn, adaboost y randomforest"
   ]
  },
  {
   "cell_type": "markdown",
   "metadata": {},
   "source": [
    "## Adaboost con grid search"
   ]
  },
  {
   "cell_type": "code",
   "execution_count": 75,
   "metadata": {},
   "outputs": [],
   "source": [
    "from sklearn.ensemble import AdaBoostClassifier\n",
    "from sklearn.tree import DecisionTreeClassifier\n",
    "from sklearn.model_selection import GridSearchCV\n",
    "\n",
    "params = {'base_estimator__max_depth':[10,13,15]}\n",
    "\n",
    "gs = GridSearchCV(AdaBoostClassifier(base_estimator=DecisionTreeClassifier()), params,cv=3,verbose=10,n_jobs=-1)\n",
    "\n",
    "#print(gs.best_estimator_)"
   ]
  },
  {
   "cell_type": "code",
   "execution_count": 76,
   "metadata": {
    "scrolled": false
   },
   "outputs": [
    {
     "name": "stdout",
     "output_type": "stream",
     "text": [
      "Fitting 3 folds for each of 3 candidates, totalling 9 fits\n"
     ]
    },
    {
     "name": "stderr",
     "output_type": "stream",
     "text": [
      "[Parallel(n_jobs=-1)]: Using backend LokyBackend with 8 concurrent workers.\n",
      "[Parallel(n_jobs=-1)]: Done   2 out of   9 | elapsed:    7.4s remaining:   26.1s\n",
      "[Parallel(n_jobs=-1)]: Done   3 out of   9 | elapsed:    7.4s remaining:   14.9s\n",
      "[Parallel(n_jobs=-1)]: Done   4 out of   9 | elapsed:    7.5s remaining:    9.4s\n",
      "[Parallel(n_jobs=-1)]: Done   5 out of   9 | elapsed:    7.9s remaining:    6.3s\n",
      "[Parallel(n_jobs=-1)]: Done   6 out of   9 | elapsed:    8.3s remaining:    4.1s\n",
      "[Parallel(n_jobs=-1)]: Done   7 out of   9 | elapsed:    8.3s remaining:    2.3s\n",
      "[Parallel(n_jobs=-1)]: Done   9 out of   9 | elapsed:   11.0s remaining:    0.0s\n",
      "[Parallel(n_jobs=-1)]: Done   9 out of   9 | elapsed:   11.0s finished\n"
     ]
    },
    {
     "data": {
      "text/plain": [
       "GridSearchCV(cv=3, error_score=nan,\n",
       "             estimator=AdaBoostClassifier(algorithm='SAMME.R',\n",
       "                                          base_estimator=DecisionTreeClassifier(ccp_alpha=0.0,\n",
       "                                                                                class_weight=None,\n",
       "                                                                                criterion='gini',\n",
       "                                                                                max_depth=None,\n",
       "                                                                                max_features=None,\n",
       "                                                                                max_leaf_nodes=None,\n",
       "                                                                                min_impurity_decrease=0.0,\n",
       "                                                                                min_impurity_split=None,\n",
       "                                                                                min_samples_leaf=1,\n",
       "                                                                                min_samples_split=2,\n",
       "                                                                                min_weight_fraction_leaf=0.0,\n",
       "                                                                                presort='deprecated',\n",
       "                                                                                random_state=None,\n",
       "                                                                                splitter='best'),\n",
       "                                          learning_rate=1.0, n_estimators=50,\n",
       "                                          random_state=None),\n",
       "             iid='deprecated', n_jobs=-1,\n",
       "             param_grid={'base_estimator__max_depth': [10, 13, 15]},\n",
       "             pre_dispatch='2*n_jobs', refit=True, return_train_score=False,\n",
       "             scoring=None, verbose=10)"
      ]
     },
     "execution_count": 76,
     "metadata": {},
     "output_type": "execute_result"
    }
   ],
   "source": [
    "gs.fit(x_train,y_train)"
   ]
  },
  {
   "cell_type": "code",
   "execution_count": 77,
   "metadata": {},
   "outputs": [
    {
     "data": {
      "text/plain": [
       "{'base_estimator__max_depth': 13}"
      ]
     },
     "execution_count": 77,
     "metadata": {},
     "output_type": "execute_result"
    }
   ],
   "source": [
    "gs.best_params_"
   ]
  },
  {
   "cell_type": "code",
   "execution_count": 78,
   "metadata": {},
   "outputs": [
    {
     "name": "stdout",
     "output_type": "stream",
     "text": [
      "Matriz de confusion:\n",
      "                   Prediccion falso  Prediccion verdadero\n",
      "Actual falsa                  3877                    46\n",
      "Actual verdadera                36                    20\n"
     ]
    },
    {
     "data": {
      "text/html": [
       "<div>\n",
       "<style scoped>\n",
       "    .dataframe tbody tr th:only-of-type {\n",
       "        vertical-align: middle;\n",
       "    }\n",
       "\n",
       "    .dataframe tbody tr th {\n",
       "        vertical-align: top;\n",
       "    }\n",
       "\n",
       "    .dataframe thead th {\n",
       "        text-align: right;\n",
       "    }\n",
       "</style>\n",
       "<table border=\"1\" class=\"dataframe\">\n",
       "  <thead>\n",
       "    <tr style=\"text-align: right;\">\n",
       "      <th></th>\n",
       "      <th>Entrenamiento</th>\n",
       "      <th>Testeo</th>\n",
       "    </tr>\n",
       "  </thead>\n",
       "  <tbody>\n",
       "    <tr>\n",
       "      <th>Accuracy</th>\n",
       "      <td>0.995</td>\n",
       "      <td>0.979</td>\n",
       "    </tr>\n",
       "    <tr>\n",
       "      <th>recall</th>\n",
       "      <td>0.996</td>\n",
       "      <td>0.357</td>\n",
       "    </tr>\n",
       "    <tr>\n",
       "      <th>roc</th>\n",
       "      <td>0.999</td>\n",
       "      <td>0.896</td>\n",
       "    </tr>\n",
       "    <tr>\n",
       "      <th>f1</th>\n",
       "      <td>0.995</td>\n",
       "      <td>0.327</td>\n",
       "    </tr>\n",
       "  </tbody>\n",
       "</table>\n",
       "</div>"
      ],
      "text/plain": [
       "          Entrenamiento  Testeo\n",
       "Accuracy          0.995   0.979\n",
       "recall            0.996   0.357\n",
       "roc               0.999   0.896\n",
       "f1                0.995   0.327"
      ]
     },
     "execution_count": 78,
     "metadata": {},
     "output_type": "execute_result"
    }
   ],
   "source": [
    "mediciones(x_train,y_train,x_test,y_test,gs)"
   ]
  },
  {
   "cell_type": "markdown",
   "metadata": {},
   "source": [
    "Teniendo en cuenta los ajustes actuales es un buen ajuste pero el recall es muy bajo, veamos mas opciones"
   ]
  },
  {
   "cell_type": "markdown",
   "metadata": {},
   "source": [
    "## Clasificador por Multi-Layer-Perc.  (RN)"
   ]
  },
  {
   "cell_type": "code",
   "execution_count": 79,
   "metadata": {},
   "outputs": [],
   "source": [
    "from sklearn.model_selection import GridSearchCV\n",
    "from sklearn.neural_network import MLPClassifier\n",
    "\n",
    "parameters = {'solver': ['lbfgs'], 'alpha': 10.0 ** -np.arange(1, 10), 'hidden_layer_sizes':np.arange(10, 15), 'random_state':[10101]}\n",
    "mlp_cv = GridSearchCV(MLPClassifier(), parameters, n_jobs=-1,verbose=10,cv=3,scoring='f1')\n"
   ]
  },
  {
   "cell_type": "code",
   "execution_count": 80,
   "metadata": {},
   "outputs": [
    {
     "name": "stdout",
     "output_type": "stream",
     "text": [
      "Fitting 3 folds for each of 45 candidates, totalling 135 fits\n"
     ]
    },
    {
     "name": "stderr",
     "output_type": "stream",
     "text": [
      "[Parallel(n_jobs=-1)]: Using backend LokyBackend with 8 concurrent workers.\n",
      "[Parallel(n_jobs=-1)]: Done   2 tasks      | elapsed:    0.6s\n",
      "[Parallel(n_jobs=-1)]: Done   9 tasks      | elapsed:   13.5s\n",
      "[Parallel(n_jobs=-1)]: Done  16 tasks      | elapsed:   27.9s\n",
      "[Parallel(n_jobs=-1)]: Done  25 tasks      | elapsed:   43.3s\n",
      "[Parallel(n_jobs=-1)]: Done  34 tasks      | elapsed:   52.9s\n",
      "[Parallel(n_jobs=-1)]: Done  45 tasks      | elapsed:  1.2min\n",
      "[Parallel(n_jobs=-1)]: Done  56 tasks      | elapsed:  1.5min\n",
      "[Parallel(n_jobs=-1)]: Done  69 tasks      | elapsed:  1.7min\n",
      "[Parallel(n_jobs=-1)]: Done  82 tasks      | elapsed:  2.1min\n",
      "[Parallel(n_jobs=-1)]: Done  97 tasks      | elapsed:  2.4min\n",
      "[Parallel(n_jobs=-1)]: Done 112 tasks      | elapsed:  2.9min\n",
      "[Parallel(n_jobs=-1)]: Done 135 out of 135 | elapsed:  3.4min finished\n"
     ]
    },
    {
     "data": {
      "text/plain": [
       "GridSearchCV(cv=3, error_score=nan,\n",
       "             estimator=MLPClassifier(activation='relu', alpha=0.0001,\n",
       "                                     batch_size='auto', beta_1=0.9,\n",
       "                                     beta_2=0.999, early_stopping=False,\n",
       "                                     epsilon=1e-08, hidden_layer_sizes=(100,),\n",
       "                                     learning_rate='constant',\n",
       "                                     learning_rate_init=0.001, max_fun=15000,\n",
       "                                     max_iter=200, momentum=0.9,\n",
       "                                     n_iter_no_change=10,\n",
       "                                     nesterovs_momentum=True, power_t=0.5,\n",
       "                                     random_state...\n",
       "                                     solver='adam', tol=0.0001,\n",
       "                                     validation_fraction=0.1, verbose=False,\n",
       "                                     warm_start=False),\n",
       "             iid='deprecated', n_jobs=-1,\n",
       "             param_grid={'alpha': array([1.e-01, 1.e-02, 1.e-03, 1.e-04, 1.e-05, 1.e-06, 1.e-07, 1.e-08,\n",
       "       1.e-09]),\n",
       "                         'hidden_layer_sizes': array([10, 11, 12, 13, 14]),\n",
       "                         'random_state': [10101], 'solver': ['lbfgs']},\n",
       "             pre_dispatch='2*n_jobs', refit=True, return_train_score=False,\n",
       "             scoring='f1', verbose=10)"
      ]
     },
     "execution_count": 80,
     "metadata": {},
     "output_type": "execute_result"
    }
   ],
   "source": [
    "mlp_cv.fit(x_train,y_train)"
   ]
  },
  {
   "cell_type": "code",
   "execution_count": 81,
   "metadata": {},
   "outputs": [
    {
     "data": {
      "text/plain": [
       "{'alpha': 1e-05,\n",
       " 'hidden_layer_sizes': 14,\n",
       " 'random_state': 10101,\n",
       " 'solver': 'lbfgs'}"
      ]
     },
     "execution_count": 81,
     "metadata": {},
     "output_type": "execute_result"
    }
   ],
   "source": [
    "mlp_cv.best_params_"
   ]
  },
  {
   "cell_type": "code",
   "execution_count": 82,
   "metadata": {},
   "outputs": [
    {
     "name": "stdout",
     "output_type": "stream",
     "text": [
      "Matriz de confusion:\n",
      "                   Prediccion falso  Prediccion verdadero\n",
      "Actual falsa                  3827                    96\n",
      "Actual verdadera                14                    42\n"
     ]
    },
    {
     "data": {
      "text/html": [
       "<div>\n",
       "<style scoped>\n",
       "    .dataframe tbody tr th:only-of-type {\n",
       "        vertical-align: middle;\n",
       "    }\n",
       "\n",
       "    .dataframe tbody tr th {\n",
       "        vertical-align: top;\n",
       "    }\n",
       "\n",
       "    .dataframe thead th {\n",
       "        text-align: right;\n",
       "    }\n",
       "</style>\n",
       "<table border=\"1\" class=\"dataframe\">\n",
       "  <thead>\n",
       "    <tr style=\"text-align: right;\">\n",
       "      <th></th>\n",
       "      <th>Entrenamiento</th>\n",
       "      <th>Testeo</th>\n",
       "    </tr>\n",
       "  </thead>\n",
       "  <tbody>\n",
       "    <tr>\n",
       "      <th>Accuracy</th>\n",
       "      <td>0.987</td>\n",
       "      <td>0.972</td>\n",
       "    </tr>\n",
       "    <tr>\n",
       "      <th>recall</th>\n",
       "      <td>0.996</td>\n",
       "      <td>0.750</td>\n",
       "    </tr>\n",
       "    <tr>\n",
       "      <th>roc</th>\n",
       "      <td>0.997</td>\n",
       "      <td>0.945</td>\n",
       "    </tr>\n",
       "    <tr>\n",
       "      <th>f1</th>\n",
       "      <td>0.987</td>\n",
       "      <td>0.432</td>\n",
       "    </tr>\n",
       "  </tbody>\n",
       "</table>\n",
       "</div>"
      ],
      "text/plain": [
       "          Entrenamiento  Testeo\n",
       "Accuracy          0.987   0.972\n",
       "recall            0.996   0.750\n",
       "roc               0.997   0.945\n",
       "f1                0.987   0.432"
      ]
     },
     "execution_count": 82,
     "metadata": {},
     "output_type": "execute_result"
    }
   ],
   "source": [
    "mediciones(x_train,y_train,x_test,y_test,mlp_cv)"
   ]
  },
  {
   "cell_type": "markdown",
   "metadata": {},
   "source": [
    "Mejora el recall pero caemos en el accuracy, igualmente roc esta muy bueno"
   ]
  },
  {
   "cell_type": "markdown",
   "metadata": {},
   "source": [
    "Ya tengo la mejor version de estos 3 modelos, antes de escojer uno de ellos ¿juntemoslos todos y veamos si la union de todos es mejor que uno solo?"
   ]
  },
  {
   "cell_type": "code",
   "execution_count": 83,
   "metadata": {},
   "outputs": [
    {
     "data": {
      "image/png": "[encoded data removed]",
      "text/plain": [
       "<Figure size 1152x576 with 1 Axes>"
      ]
     },
     "metadata": {
      "needs_background": "light"
     },
     "output_type": "display_data"
    }
   ],
   "source": [
    "log_reg_pred = logreg_cv.predict_proba(x_test)[:,1]\n",
    "rf_pred = rf_cv.predict_proba(x_test)[:,1]\n",
    "ada_pred = gs.predict_proba(x_test)[:,1]\n",
    "rn_pred = mlp_cv.predict_proba(x_test)[:,1]\n",
    "\n",
    "log_fpr, log_tpr, log_thresold = roc_curve(y_test, log_reg_pred)\n",
    "knear_fpr, knear_tpr, knear_threshold = roc_curve(y_test, rf_pred)\n",
    "svc_fpr, svc_tpr, svc_threshold = roc_curve(y_test, ada_pred)\n",
    "tree_fpr, tree_tpr, tree_threshold = roc_curve(y_test,rn_pred)\n",
    "\n",
    "\n",
    "plt.figure(figsize=(16,8))\n",
    "plt.title('Curva ROC \\n Top 4 Clasificadores', fontsize=18)\n",
    "plt.plot(log_fpr, log_tpr, label='Regresión logistica Score: {:.4f}'.format(roc_auc_score(y_test, log_reg_pred)))\n",
    "plt.plot(knear_fpr, knear_tpr, label='Random Forest Score: {:.4f}'.format(roc_auc_score(y_test, rf_pred)))\n",
    "plt.plot(svc_fpr, svc_tpr, label='AdaBoost: {:.4f}'.format(roc_auc_score(y_test, ada_pred)))\n",
    "plt.plot(tree_fpr, tree_tpr, label='Red neuronal Score: {:.4f}'.format(roc_auc_score(y_test, rn_pred)))\n",
    "plt.plot([0, 1], [0, 1], 'k--')\n",
    "plt.axis([-0.01, 1, 0, 1])\n",
    "plt.xlabel('Falso Positivo', fontsize=16)\n",
    "plt.ylabel('Verdadero Positivo', fontsize=16)\n",
    "plt.annotate('Roc minimo 50% \\n (Este es el minimo score a obtener)', xy=(0.5, 0.5), xytext=(0.6, 0.3),\n",
    "                arrowprops=dict(facecolor='#6E726D', shrink=0.05),\n",
    "                )\n",
    "plt.legend()\n",
    "    \n",
    "plt.show()"
   ]
  },
  {
   "cell_type": "markdown",
   "metadata": {},
   "source": [
    "# Conclusión 22-05-2020"
   ]
  },
  {
   "cell_type": "markdown",
   "metadata": {},
   "source": [
    "Todos los modelos se comportan bastante bien en el porceso de ajuste, sin embargo destacan random forest y regresion logistica como modelos con mejor performance respecto a nuestros objetivos.\n",
    "\n",
    "De estos ultimos si se toma en consideracion los indicadores de recall y f1 existe una ventaja por random forest."
   ]
  },
  {
   "cell_type": "code",
   "execution_count": 84,
   "metadata": {},
   "outputs": [
    {
     "name": "stdout",
     "output_type": "stream",
     "text": [
      "Confusion matrix Random Forest:\n",
      " [[3820  103]\n",
      " [  11   45]]\n"
     ]
    },
    {
     "data": {
      "image/png": "[encoded data removed]",
      "text/plain": [
       "<Figure size 432x288 with 2 Axes>"
      ]
     },
     "metadata": {
      "needs_background": "light"
     },
     "output_type": "display_data"
    }
   ],
   "source": [
    "from sklearn.metrics import confusion_matrix\n",
    "from matplotlib import pyplot as plt\n",
    "\n",
    "conf_mat = confusion_matrix(y_true=y_test, y_pred=rf_cv.predict(x_test))\n",
    "print('Confusion matrix Random Forest:\\n', conf_mat)\n",
    "\n",
    "labels = ['No compra', 'Si compra']\n",
    "fig = plt.figure()\n",
    "ax = fig.add_subplot(111)\n",
    "cax = ax.matshow(conf_mat, cmap=plt.cm.Blues)\n",
    "fig.colorbar(cax)\n",
    "ax.set_xticklabels([''] + labels)\n",
    "ax.set_yticklabels([''] + labels)\n",
    "plt.xlabel('Estimado')\n",
    "plt.ylabel('Real')\n",
    "plt.show()"
   ]
  },
  {
   "cell_type": "markdown",
   "metadata": {},
   "source": [
    "# Exportación del modelo"
   ]
  },
  {
   "cell_type": "code",
   "execution_count": 85,
   "metadata": {},
   "outputs": [],
   "source": [
    "import pickle\n",
    "\n",
    "filename = 'lead_score_utilitario_persona_modelo.sav'\n",
    "\n",
    "pickle.dump(rf_cv, open(filename, 'wb'))"
   ]
  },
  {
   "cell_type": "code",
   "execution_count": 86,
   "metadata": {},
   "outputs": [
    {
     "data": {
      "text/plain": [
       "array([2.31730264e-03, 1.19576957e-02, 2.18423784e-03, 1.29580656e-03,\n",
       "       6.64091021e-05, 2.09779484e-03, 9.02137663e-04, 4.71231914e-03,\n",
       "       2.67670035e-04, 2.56049402e-05, 2.24247827e-05, 1.16089617e-03,\n",
       "       1.02691191e-04, 0.00000000e+00, 0.00000000e+00, 7.78484099e-04,\n",
       "       2.87351947e-03, 2.42525282e-02, 2.07173247e-02, 6.40149973e-03,\n",
       "       1.05136972e-01, 6.86086565e-03, 0.00000000e+00, 1.21752737e-02,\n",
       "       2.22969359e-03, 5.15037711e-03, 5.68026031e-07, 6.76779433e-03,\n",
       "       0.00000000e+00, 1.44460495e-03, 2.38506083e-04, 3.35418436e-03,\n",
       "       1.04092557e-05, 0.00000000e+00, 5.37167854e-05, 4.85501223e-04,\n",
       "       4.69370713e-04, 5.72773432e-03, 0.00000000e+00, 9.01059725e-04,\n",
       "       0.00000000e+00, 0.00000000e+00, 8.79912670e-03, 2.62649898e-02,\n",
       "       1.36858907e-04, 4.76657980e-04, 0.00000000e+00, 1.01625369e-03,\n",
       "       4.27656333e-03, 4.38721001e-04, 3.85821531e-04, 9.96059587e-05,\n",
       "       4.95730438e-04, 1.31087482e-03, 8.19689767e-04, 8.54639317e-04,\n",
       "       1.12771951e-03, 1.16164764e-04, 4.26955808e-04, 2.18330283e-03,\n",
       "       6.38303387e-03, 3.40331556e-03, 1.46817664e-03, 4.05448065e-04,\n",
       "       1.84036645e-04, 1.61456575e-04, 1.84196983e-03, 2.03689893e-01,\n",
       "       7.37223307e-04, 1.20741871e-03, 4.97636560e-01, 5.08812815e-04])"
      ]
     },
     "execution_count": 86,
     "metadata": {},
     "output_type": "execute_result"
    }
   ],
   "source": [
    "rf_cv.best_estimator_.feature_importances_"
   ]
  },
  {
   "cell_type": "code",
   "execution_count": 93,
   "metadata": {},
   "outputs": [
    {
     "name": "stdout",
     "output_type": "stream",
     "text": [
      "feature: TOTAL_UTILITARIOS, importance: 0.002317302638628099\n",
      "feature: UTILITARIOS_EXCLUSION, importance: 0.011957695681148139\n",
      "feature: RELEVANTE_BUSES, importance: 0.002184237835822349\n",
      "feature: RELEVANTE_CAMIONES, importance: 0.001295806563048055\n",
      "feature: RELEVANTE_RODADOS, importance: 6.640910209367036e-05\n",
      "feature: RELEVANTE_VANS, importance: 0.0020977948445665274\n",
      "feature: RELEVANTE_CARGA, importance: 0.0009021376632385344\n",
      "feature: RELEVANTE_PASAJERA, importance: 0.004712319136345207\n",
      "feature: RELEVANTE_PESADO, importance: 0.00026767003483123096\n",
      "feature: RELEVANTE_CAMIONETA, importance: 2.5604940198725096e-05\n",
      "feature: RELEVANTE_MEDIANO, importance: 2.2424782749914494e-05\n",
      "feature: RELEVANTE_OTROS, importance: 0.0011608961730437933\n",
      "feature: RELEVANTE_LIVIANO, importance: 0.00010269119143049324\n",
      "feature: RELEVANTE_CAMIONETA_DCAB, importance: 0.0\n",
      "feature: RELEVANTE_FORESTAL, importance: 0.0\n",
      "feature: FLOTA_NUEVA, importance: 0.0007784840992784808\n",
      "feature: ANTIGUEDAD_FLOTA, importance: 0.002873519469032571\n",
      "feature: CAMPANAS_U180D, importance: 0.02425252817251967\n",
      "feature: CAMPANAS_U180D_C, importance: 0.020717324707869116\n",
      "feature: SERVICIOS_PV, importance: 0.006401499725181397\n",
      "feature: NUM_OFERTAS_U12M, importance: 0.10513697175265947\n",
      "feature: COMPRAS_REALIZADAS_U12M, importance: 0.006860865647921077\n",
      "feature: DESC_TIPO_VEHICULO_AMBULANCIA, importance: 0.0\n",
      "feature: DESC_TIPO_VEHICULO_BUS, importance: 0.012175273713405375\n",
      "feature: DESC_TIPO_VEHICULO_CAMION, importance: 0.002229693586960868\n",
      "feature: DESC_TIPO_VEHICULO_CAMIONETA, importance: 0.005150377114025499\n",
      "feature: DESC_TIPO_VEHICULO_CHASIS, importance: 5.680260314815079e-07\n",
      "feature: DESC_TIPO_VEHICULO_CHASIS CABINA, importance: 0.006767794331706991\n",
      "feature: DESC_TIPO_VEHICULO_CHASIS CABINADO, importance: 0.0\n",
      "feature: DESC_TIPO_VEHICULO_FURGON, importance: 0.0014446049498094047\n",
      "feature: DESC_TIPO_VEHICULO_GRUPO GENERADOR, importance: 0.00023850608257771307\n",
      "feature: DESC_TIPO_VEHICULO_MINIBUS, importance: 0.0033541843620820072\n",
      "feature: DESC_TIPO_VEHICULO_MOTOR INDUSTRIAL, importance: 1.0409255728825272e-05\n",
      "feature: DESC_TIPO_VEHICULO_MOTOR MARINO, importance: 0.0\n",
      "feature: DESC_TIPO_VEHICULO_REMOLQUE, importance: 5.3716785402886105e-05\n",
      "feature: DESC_TIPO_VEHICULO_SEMIREMOLQUE, importance: 0.0004855012227570581\n",
      "feature: DESC_TIPO_VEHICULO_STATION WAGON, importance: 0.00046937071257623325\n",
      "feature: DESC_TIPO_VEHICULO_TRACTOCAMION, importance: 0.005727734319379683\n",
      "feature: DESC_TIPO_VEHICULO_TRACTOCAMION USO CARRETERO, importance: 0.0\n",
      "feature: MARCA_AGRUPADA_FREIGHTLINER, importance: 0.0009010597245945878\n",
      "feature: MARCA_AGRUPADA_GREAT DANE, importance: 0.0\n",
      "feature: MARCA_AGRUPADA_HEIL, importance: 0.0\n",
      "feature: MARCA_AGRUPADA_MERCEDES-BENZ, importance: 0.008799126702734339\n",
      "feature: MARCA_AGRUPADA_MITSUBISHI-FUSO, importance: 0.026264989810365992\n",
      "feature: MARCA_AGRUPADA_POWERSYSTEMS, importance: 0.00013685890721720602\n",
      "feature: MARCA_AGRUPADA_TREMAC, importance: 0.00047665797954300174\n",
      "feature: MARCA_AGRUPADA_WESTERN STAR, importance: 0.0\n",
      "feature: REGION_NA, importance: 0.0010162536933077501\n",
      "feature: REGION_ Antofagasta, importance: 0.00427656332648466\n",
      "feature: REGION_ Arica y Parinacota, importance: 0.00043872100117738815\n",
      "feature: REGION_ Atacama, importance: 0.00038582153140340376\n",
      "feature: REGION_ Aysén del Gral. C. Ibáñez del Camp, importance: 9.96059587053219e-05\n",
      "feature: REGION_ Biobío, importance: 0.0004957304375583074\n",
      "feature: REGION_ Coquimbo, importance: 0.0013108748151952547\n",
      "feature: REGION_ La Araucanía, importance: 0.0008196897666049829\n",
      "feature: REGION_ Lib. Gral. Bernardo O'Higgins, importance: 0.0008546393166486325\n",
      "feature: REGION_ Los Lagos, importance: 0.0011277195075915351\n",
      "feature: REGION_ Los Ríos, importance: 0.00011616476445215415\n",
      "feature: REGION_ Magallanes y Antártica Chilena, importance: 0.00042695580830776075\n",
      "feature: REGION_ Maule, importance: 0.002183302828975324\n",
      "feature: REGION_ Metropolitana de Santiago, importance: 0.0063830338675106785\n",
      "feature: REGION_ Tarapacá, importance: 0.0034033155612988096\n",
      "feature: REGION_ Valparaíso, importance: 0.0014681766449255189\n",
      "feature: REGION_ Ñuble, importance: 0.0004054480645850711\n",
      "feature: USADO_NUEVO_Nuevo, importance: 0.00018403664507350194\n",
      "feature: USADO_NUEVO_Usado, importance: 0.00016145657485687725\n",
      "feature: TIPO_CREDITO_USADO_ANT_CHEQUES, importance: 0.0018419698274135857\n",
      "feature: TIPO_CREDITO_USADO_ANT_CONTADO, importance: 0.2036898932180925\n",
      "feature: TIPO_CREDITO_USADO_ANT_LEASING, importance: 0.0007372233071515199\n",
      "feature: TIPO_CREDITO_USADO_ANT_LETRAS, importance: 0.0012074187111833997\n",
      "feature: TIPO_CREDITO_USADO_ANT_NA, importance: 0.49763656025772657\n",
      "feature: TIPO_CREDITO_USADO_ANT_ORDEN DE COMPRA, importance: 0.0005088128152636866\n"
     ]
    }
   ],
   "source": [
    "for feat, importance in zip(x_train.columns, rf_cv.best_estimator_.feature_importances_):\n",
    "    print ('feature: {f}, importance: {i}'.format(f=feat, i=importance))"
   ]
  },
  {
   "cell_type": "code",
   "execution_count": null,
   "metadata": {},
   "outputs": [],
   "source": []
  }
 ],
 "metadata": {
  "kernelspec": {
   "display_name": "Python 3",
   "language": "python",
   "name": "python3"
  },
  "language_info": {
   "codemirror_mode": {
    "name": "ipython",
    "version": 3
   },
   "file_extension": ".py",
   "mimetype": "text/x-python",
   "name": "python",
   "nbconvert_exporter": "python",
   "pygments_lexer": "ipython3",
   "version": "3.7.2"
  }
 },
 "nbformat": 4,
 "nbformat_minor": 2
}
