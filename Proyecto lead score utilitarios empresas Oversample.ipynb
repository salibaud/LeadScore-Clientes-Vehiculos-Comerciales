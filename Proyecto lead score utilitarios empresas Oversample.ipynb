{
 "cells": [
  {
   "cell_type": "markdown",
   "metadata": {},
   "source": [
    "# Lead Score utilitarios empresas"
   ]
  },
  {
   "cell_type": "code",
   "execution_count": 1,
   "metadata": {},
   "outputs": [],
   "source": [
    "#referencias:\n",
    "#https://www.kaggle.com/janiobachmann/credit-fraud-dealing-with-imbalanced-datasets\n",
    "#https://www.kaggle.com/tboyle10/methods-for-dealing-with-imbalanced-data\n",
    "#https://medium.com/thalus-ai/performance-metrics-for-classification-problems-in-machine-learning-part-i-b085d432082b\n",
    "\n",
    "\n",
    "#Area de Analytics - Comercial Kaufmann\n",
    "#creado por Sebastian Alibaud\n",
    "\n"
   ]
  },
  {
   "cell_type": "markdown",
   "metadata": {},
   "source": [
    "# CARGA DE PAQUETES"
   ]
  },
  {
   "cell_type": "code",
   "execution_count": 2,
   "metadata": {},
   "outputs": [],
   "source": [
    "# quitamos alertas porfavor!\n",
    "import warnings\n",
    "warnings.filterwarnings('ignore')"
   ]
  },
  {
   "cell_type": "code",
   "execution_count": 3,
   "metadata": {},
   "outputs": [],
   "source": [
    "# librerias clasicas\n",
    "import numpy as np\n",
    "import pandas as pd\n",
    "import matplotlib.pyplot as plt\n",
    "import seaborn as sns\n",
    "\n",
    "# ploteos\n",
    "from matplotlib.pyplot import xticks\n",
    "%matplotlib inline\n",
    "from sklearn.metrics import roc_curve,confusion_matrix,accuracy_score,recall_score\n",
    "from sklearn.metrics import f1_score,precision_score,roc_auc_score,average_precision_score\n",
    "\n",
    "\n",
    "#modelos\n",
    "from sklearn.model_selection import train_test_split\n",
    "from  sklearn.ensemble import RandomForestClassifier\n",
    "from sklearn.preprocessing import StandardScaler\n",
    "#from sklearn.svm import SVC\n",
    "#from sklearn.linear_model import RidgeClassifier,SGDClassifier,LogisticRegression\n",
    "from sklearn.metrics import confusion_matrix,accuracy_score,recall_score,f1_score,precision_score,roc_auc_score,average_precision_score\n",
    "#from sklearn.neighbors import NearestNeighbors\n",
    "import xgboost as xgb\n"
   ]
  },
  {
   "cell_type": "markdown",
   "metadata": {},
   "source": [
    "### Funciones utiles"
   ]
  },
  {
   "cell_type": "code",
   "execution_count": 4,
   "metadata": {},
   "outputs": [],
   "source": [
    "#funciones para medir\n",
    "\n",
    "def mediciones(x_train,y_train,x_test,y_test,model):\n",
    "    a = int(accuracy_score(y_train,model.predict(x_train))*1000)/1000\n",
    "    b = int(recall_score(y_train,model.predict(x_train))*1000)/1000\n",
    "    c = int(accuracy_score(y_test,model.predict(x_test))*1000)/1000\n",
    "    d = int(recall_score(y_test,model.predict(x_test))*1000)/1000\n",
    "    aa = int(roc_auc_score(y_train,model.predict_proba(x_train)[:,1])*1000)/1000\n",
    "    cc = int(roc_auc_score(y_test,model.predict_proba(x_test)[:,1])*1000)/1000\n",
    "    dd = int(f1_score(y_test,model.predict(x_test))*1000)/1000\n",
    "    ee = int(f1_score(y_train,model.predict(x_train))*1000)/1000\n",
    "    e = {'Entrenamiento':[a,b,aa,ee],\n",
    "         'Testeo':[c,d,cc,dd]}\n",
    "    f = pd.DataFrame(data=e,index=[\"Accuracy\",\"recall\",\"roc\",\"f1\"])\n",
    "    matrix=confusion_matrix(y_test,model.predict(x_test))\n",
    "    TP=matrix[1,1]\n",
    "    TN=matrix[0,0]\n",
    "    FP=matrix[0,1]\n",
    "    FN=matrix[1,0]\n",
    "    ma = {'Prediccion falso':[TN,FN],\n",
    "         'Prediccion verdadero':[FP,TP]}\n",
    "    i = pd.DataFrame(data=ma,index=[\"Actual falsa\",\"Actual verdadera\"])\n",
    "    print(\"Matriz de confusion:\\n\",i)\n",
    "    return f\n",
    "\n",
    "\n",
    "\n",
    "#print(\"the recall for this model is :\",cnf_matrix[1,1]/(cnf_matrix[1,1]+cnf_matrix[1,0]))\n",
    "#fig= plt.figure(figsize=(6,3))# to plot the graph\n",
    "#print(\"TP\",cnf_matrix[1,1,]) # no of fraud transaction which are predicted fraud\n",
    "#print(\"TN\",cnf_matrix[0,0]) # no. of normal transaction which are predited normal\n",
    "#print(\"FP\",cnf_matrix[0,1]) # no of normal transaction which are predicted fraud\n",
    "#print(\"FN\",cnf_matrix[1,0]) # no of fraud Transaction which are predicted normal\n",
    "\n",
    "\n",
    "def mediciones2(x_train,y_train,x_test,y_test,model):\n",
    "    #a = int(accuracy_score(y_train,model.predict(x_train))*1000)/1000\n",
    "    #b = int(recall_score(y_train,model.predict(x_train))*1000)/1000\n",
    "    c = int(accuracy_score(y_test,model.predict(x_test))*1000)/1000\n",
    "    d = int(recall_score(y_test,model.predict(x_test))*1000)/1000\n",
    "    #aa = int(roc_auc_score(y_train,model.predict_proba(x_train)[:,1])*1000)/1000\n",
    "    #cc = int(roc_auc_score(y_test,model.predict_proba(x_test)[:,1])*1000)/1000\n",
    "    e = {'Testeo':[c,d]}\n",
    "    f = pd.DataFrame(data=e,index=[\"Accuracy\",\"recall\"])\n",
    "    return f\n",
    "\n",
    "def roc_(x_train,y_train,x_test,y_test,model):\n",
    "    aa = int(roc_auc_score(y_train,model.predict_proba(x_train)[:,1])*1000)/1000\n",
    "    cc = int(roc_auc_score(y_test,model.predict_proba(x_test)[:,1])*1000)/1000\n",
    "    e = {'Entrenamiento':[a],\n",
    "         'Testeo':[c]}\n",
    "    f = pd.DataFrame(data=e,index=[\"roc-auc\"])\n",
    "    return f"
   ]
  },
  {
   "cell_type": "markdown",
   "metadata": {},
   "source": [
    "# Preparación de datos\n",
    "### LECTURA DE BASE BRUTA DESDE SAS\n",
    "\n",
    "\n",
    "La base de datos se obtiene desde el SAS guardado en la carpeta diaria de Customer analytics, esta base considera todas las ofertas realizadas en kaufmann a clientes que se encuentran en el perfil, se cruza con información de venta, rvm, post venta y datos del SII.\n",
    "\n",
    "\n",
    "Para el caso de puesta en prd, se consideran todas las empresas presentes en SII mas todos los clientes kaufman, mas todas las personas que están en rvm.\n",
    "\n",
    "\n",
    "* Periodo de información = 2018 y 2019.\n",
    "* Modelos: Utilitarios.\n",
    "* Tipo Cliente: Persona y empresa.\n",
    "\n",
    "Fuente sii:\n",
    "http://www.sii.cl/sobre_el_sii/nominapersonasjuridicas.html\n",
    "\n"
   ]
  },
  {
   "cell_type": "code",
   "execution_count": 5,
   "metadata": {},
   "outputs": [],
   "source": [
    "#----------------------#\n",
    "# carga de informacion #\n",
    "#----------------------#\n",
    "#lectura de datos\n",
    "df = pd.read_sas(r\"file:\\\\10.1.1.145\\datos\\ANALISIS\\CHILE\\IMPORTER_MARKETING_CUSTOMER_ANALYTICS\\DATOS\\LEAD_SCORE_UTILITARIOS_PREV1.sas7bdat\",\n",
    "                    format='sas7bdat',encoding='latin1')\n",
    "\n",
    "df = df[df['TIPO_CLIENTE']!='PERSONA']\n",
    "df=df.drop(['TIPO_CLIENTE'], axis=1)"
   ]
  },
  {
   "cell_type": "code",
   "execution_count": 6,
   "metadata": {},
   "outputs": [
    {
     "data": {
      "text/plain": [
       "(192339, 34)"
      ]
     },
     "execution_count": 6,
     "metadata": {},
     "output_type": "execute_result"
    }
   ],
   "source": [
    "df=df.drop([\"CATEGORIA\"], axis=1)\n",
    "df.shape"
   ]
  },
  {
   "cell_type": "markdown",
   "metadata": {},
   "source": [
    "### LIMPIEZA DE DATOS GENERAL"
   ]
  },
  {
   "cell_type": "code",
   "execution_count": 7,
   "metadata": {},
   "outputs": [
    {
     "data": {
      "text/plain": [
       "RUBRO_ECON                   0.00\n",
       "ANTIGUEDAD_E                 0.00\n",
       "TRAMO_VENTA                 24.52\n",
       "NUM_TRABAJADORES            24.52\n",
       "TOTAL_UTILITARIOS           45.97\n",
       "UTILITARIOS_EXCLUSION       55.24\n",
       "RELEVANTE_BUSES             92.85\n",
       "RELEVANTE_CAMIONES          61.63\n",
       "RELEVANTE_RODADOS           83.13\n",
       "RELEVANTE_VANS              73.48\n",
       "RELEVANTE_CARGA             82.73\n",
       "RELEVANTE_PASAJERA          84.05\n",
       "RELEVANTE_PESADO            69.17\n",
       "RELEVANTE_CAMIONETA         91.75\n",
       "RELEVANTE_MEDIANO           82.98\n",
       "RELEVANTE_OTROS             63.51\n",
       "RELEVANTE_LIVIANO           92.79\n",
       "RELEVANTE_CAMIONETA_DCAB    97.39\n",
       "RELEVANTE_FORESTAL          96.81\n",
       "RELEVANTE_CAMABAJA          95.63\n",
       "MARCA_AGRUPADA               0.00\n",
       "FLOTA_NUEVA                 45.97\n",
       "ANTIGUEDAD_FLOTA            45.97\n",
       "COMPRO_NUM                   0.00\n",
       "CAMPANAS_U180D              72.32\n",
       "CAMPANAS_U180D_C            72.87\n",
       "SERVICIOS_PV                 0.00\n",
       "REGION                       1.44\n",
       "COMUNA_CRM                   0.11\n",
       "USADO_NUEVO                  0.00\n",
       "DESC_TIPO_VEHICULO           2.08\n",
       "NUM_OFERTAS_U12M             0.00\n",
       "COMPRAS_REALIZADAS_U12M      0.00\n",
       "TIPO_CREDITO_USADO_ANT      49.31\n",
       "dtype: float64"
      ]
     },
     "execution_count": 7,
     "metadata": {},
     "output_type": "execute_result"
    }
   ],
   "source": [
    "#porcentaje de missing\n",
    "#round(100*(df.isnull().sum()/len(df.index)), 2)\n",
    "#porcentaje de missing\n",
    "round(100*(df.isnull().sum()/len(df.index)), 2)"
   ]
  },
  {
   "cell_type": "code",
   "execution_count": 8,
   "metadata": {
    "scrolled": false
   },
   "outputs": [
    {
     "data": {
      "text/plain": [
       "RUBRO_ECON                   0.00\n",
       "ANTIGUEDAD_E                 0.00\n",
       "TRAMO_VENTA                 24.52\n",
       "NUM_TRABAJADORES            24.52\n",
       "TOTAL_UTILITARIOS           45.97\n",
       "UTILITARIOS_EXCLUSION       55.24\n",
       "RELEVANTE_BUSES              0.00\n",
       "RELEVANTE_CAMIONES           0.00\n",
       "RELEVANTE_RODADOS            0.00\n",
       "RELEVANTE_VANS               0.00\n",
       "RELEVANTE_CARGA              0.00\n",
       "RELEVANTE_PASAJERA           0.00\n",
       "RELEVANTE_PESADO             0.00\n",
       "RELEVANTE_CAMIONETA          0.00\n",
       "RELEVANTE_MEDIANO            0.00\n",
       "RELEVANTE_OTROS              0.00\n",
       "RELEVANTE_LIVIANO            0.00\n",
       "RELEVANTE_CAMIONETA_DCAB     0.00\n",
       "RELEVANTE_FORESTAL           0.00\n",
       "RELEVANTE_CAMABAJA           0.00\n",
       "MARCA_AGRUPADA               0.00\n",
       "FLOTA_NUEVA                 45.97\n",
       "ANTIGUEDAD_FLOTA            45.97\n",
       "COMPRO_NUM                   0.00\n",
       "CAMPANAS_U180D              72.32\n",
       "CAMPANAS_U180D_C            72.87\n",
       "SERVICIOS_PV                 0.00\n",
       "REGION                       1.44\n",
       "COMUNA_CRM                   0.11\n",
       "USADO_NUEVO                  0.00\n",
       "DESC_TIPO_VEHICULO           2.08\n",
       "NUM_OFERTAS_U12M             0.00\n",
       "COMPRAS_REALIZADAS_U12M      0.00\n",
       "TIPO_CREDITO_USADO_ANT      49.31\n",
       "dtype: float64"
      ]
     },
     "execution_count": 8,
     "metadata": {},
     "output_type": "execute_result"
    }
   ],
   "source": [
    "#no elimino estos datos porque vienen de rvm, miss significa que no tiene\n",
    "df['RELEVANTE_BUSES'] = df['RELEVANTE_BUSES'].replace(np.nan,0)\n",
    "df['RELEVANTE_CAMIONES'] = df['RELEVANTE_CAMIONES'].replace(np.nan,0)\n",
    "df['RELEVANTE_RODADOS'] = df['RELEVANTE_RODADOS'].replace(np.nan,0)\n",
    "df['RELEVANTE_VANS'] = df['RELEVANTE_VANS'].replace(np.nan,0)\n",
    "df['RELEVANTE_CARGA'] = df['RELEVANTE_CARGA'].replace(np.nan,0)\n",
    "df['RELEVANTE_PASAJERA'] = df['RELEVANTE_PASAJERA'].replace(np.nan,0)\n",
    "df['RELEVANTE_PESADO'] = df['RELEVANTE_PESADO'].replace(np.nan,0)\n",
    "df['RELEVANTE_CAMIONETA'] = df['RELEVANTE_CAMIONETA'].replace(np.nan,0)\n",
    "df['RELEVANTE_MEDIANO'] = df['RELEVANTE_MEDIANO'].replace(np.nan,0)\n",
    "df['RELEVANTE_OTROS'] = df['RELEVANTE_OTROS'].replace(np.nan,0)\n",
    "df['RELEVANTE_LIVIANO'] = df['RELEVANTE_LIVIANO'].replace(np.nan,0)\n",
    "df['RELEVANTE_CAMIONETA_DCAB'] = df['RELEVANTE_CAMIONETA_DCAB'].replace(np.nan,0)\n",
    "df['RELEVANTE_FORESTAL'] = df['RELEVANTE_FORESTAL'].replace(np.nan,0)\n",
    "df['RELEVANTE_CAMABAJA'] = df['RELEVANTE_CAMABAJA'].replace(np.nan,0)\n",
    "#porcentaje de missing\n",
    "round(100*(df.isnull().sum()/len(df.index)), 2)"
   ]
  },
  {
   "cell_type": "code",
   "execution_count": 9,
   "metadata": {},
   "outputs": [
    {
     "name": "stdout",
     "output_type": "stream",
     "text": [
      "<class 'pandas.core.frame.DataFrame'>\n",
      "Int64Index: 192339 entries, 15 to 212228\n",
      "Data columns (total 34 columns):\n",
      " #   Column                    Non-Null Count   Dtype  \n",
      "---  ------                    --------------   -----  \n",
      " 0   RUBRO_ECON                192339 non-null  object \n",
      " 1   ANTIGUEDAD_E              192339 non-null  object \n",
      " 2   TRAMO_VENTA               145170 non-null  float64\n",
      " 3   NUM_TRABAJADORES          145170 non-null  float64\n",
      " 4   TOTAL_UTILITARIOS         103919 non-null  float64\n",
      " 5   UTILITARIOS_EXCLUSION     86093 non-null   float64\n",
      " 6   RELEVANTE_BUSES           192339 non-null  float64\n",
      " 7   RELEVANTE_CAMIONES        192339 non-null  float64\n",
      " 8   RELEVANTE_RODADOS         192339 non-null  float64\n",
      " 9   RELEVANTE_VANS            192339 non-null  float64\n",
      " 10  RELEVANTE_CARGA           192339 non-null  float64\n",
      " 11  RELEVANTE_PASAJERA        192339 non-null  float64\n",
      " 12  RELEVANTE_PESADO          192339 non-null  float64\n",
      " 13  RELEVANTE_CAMIONETA       192339 non-null  float64\n",
      " 14  RELEVANTE_MEDIANO         192339 non-null  float64\n",
      " 15  RELEVANTE_OTROS           192339 non-null  float64\n",
      " 16  RELEVANTE_LIVIANO         192339 non-null  float64\n",
      " 17  RELEVANTE_CAMIONETA_DCAB  192339 non-null  float64\n",
      " 18  RELEVANTE_FORESTAL        192339 non-null  float64\n",
      " 19  RELEVANTE_CAMABAJA        192339 non-null  float64\n",
      " 20  MARCA_AGRUPADA            192339 non-null  object \n",
      " 21  FLOTA_NUEVA               103919 non-null  float64\n",
      " 22  ANTIGUEDAD_FLOTA          103919 non-null  float64\n",
      " 23  COMPRO_NUM                192339 non-null  float64\n",
      " 24  CAMPANAS_U180D            53245 non-null   float64\n",
      " 25  CAMPANAS_U180D_C          52188 non-null   float64\n",
      " 26  SERVICIOS_PV              192339 non-null  float64\n",
      " 27  REGION                    189565 non-null  object \n",
      " 28  COMUNA_CRM                192122 non-null  object \n",
      " 29  USADO_NUEVO               192339 non-null  object \n",
      " 30  DESC_TIPO_VEHICULO        188342 non-null  object \n",
      " 31  NUM_OFERTAS_U12M          192339 non-null  float64\n",
      " 32  COMPRAS_REALIZADAS_U12M   192339 non-null  float64\n",
      " 33  TIPO_CREDITO_USADO_ANT    97493 non-null   object \n",
      "dtypes: float64(26), object(8)\n",
      "memory usage: 51.4+ MB\n"
     ]
    }
   ],
   "source": [
    "df.info()"
   ]
  },
  {
   "cell_type": "markdown",
   "metadata": {},
   "source": [
    "### LIMPIEZA DE DATOS POR COLUMNA \n",
    "\n",
    "#### columnas numericas"
   ]
  },
  {
   "cell_type": "code",
   "execution_count": 10,
   "metadata": {},
   "outputs": [
    {
     "data": {
      "text/html": [
       "<div>\n",
       "<style scoped>\n",
       "    .dataframe tbody tr th:only-of-type {\n",
       "        vertical-align: middle;\n",
       "    }\n",
       "\n",
       "    .dataframe tbody tr th {\n",
       "        vertical-align: top;\n",
       "    }\n",
       "\n",
       "    .dataframe thead th {\n",
       "        text-align: right;\n",
       "    }\n",
       "</style>\n",
       "<table border=\"1\" class=\"dataframe\">\n",
       "  <thead>\n",
       "    <tr style=\"text-align: right;\">\n",
       "      <th></th>\n",
       "      <th>TRAMO_VENTA</th>\n",
       "      <th>NUM_TRABAJADORES</th>\n",
       "      <th>TOTAL_UTILITARIOS</th>\n",
       "      <th>FLOTA_NUEVA</th>\n",
       "      <th>ANTIGUEDAD_FLOTA</th>\n",
       "      <th>CAMPANAS_U180D</th>\n",
       "      <th>CAMPANAS_U180D_C</th>\n",
       "      <th>NUM_OFERTAS_U12M</th>\n",
       "      <th>COMPRAS_REALIZADAS_U12M</th>\n",
       "    </tr>\n",
       "  </thead>\n",
       "  <tbody>\n",
       "    <tr>\n",
       "      <th>count</th>\n",
       "      <td>145170.000000</td>\n",
       "      <td>145170.000000</td>\n",
       "      <td>103919.000000</td>\n",
       "      <td>103919.000000</td>\n",
       "      <td>103919.000000</td>\n",
       "      <td>53245.000000</td>\n",
       "      <td>52188.000000</td>\n",
       "      <td>192339.000000</td>\n",
       "      <td>192339.000000</td>\n",
       "    </tr>\n",
       "    <tr>\n",
       "      <th>mean</th>\n",
       "      <td>8.869925</td>\n",
       "      <td>428.692905</td>\n",
       "      <td>31.770696</td>\n",
       "      <td>0.344884</td>\n",
       "      <td>3.667669</td>\n",
       "      <td>4.974120</td>\n",
       "      <td>4.801219</td>\n",
       "      <td>110.531962</td>\n",
       "      <td>11.202975</td>\n",
       "    </tr>\n",
       "    <tr>\n",
       "      <th>std</th>\n",
       "      <td>3.238153</td>\n",
       "      <td>1108.468219</td>\n",
       "      <td>123.189120</td>\n",
       "      <td>0.475333</td>\n",
       "      <td>3.098070</td>\n",
       "      <td>6.761888</td>\n",
       "      <td>6.628909</td>\n",
       "      <td>397.730563</td>\n",
       "      <td>42.458414</td>\n",
       "    </tr>\n",
       "    <tr>\n",
       "      <th>min</th>\n",
       "      <td>1.000000</td>\n",
       "      <td>0.000000</td>\n",
       "      <td>1.000000</td>\n",
       "      <td>0.000000</td>\n",
       "      <td>0.000000</td>\n",
       "      <td>1.000000</td>\n",
       "      <td>1.000000</td>\n",
       "      <td>0.000000</td>\n",
       "      <td>0.000000</td>\n",
       "    </tr>\n",
       "    <tr>\n",
       "      <th>25%</th>\n",
       "      <td>7.000000</td>\n",
       "      <td>9.000000</td>\n",
       "      <td>1.000000</td>\n",
       "      <td>0.000000</td>\n",
       "      <td>1.000000</td>\n",
       "      <td>1.000000</td>\n",
       "      <td>1.000000</td>\n",
       "      <td>1.000000</td>\n",
       "      <td>0.000000</td>\n",
       "    </tr>\n",
       "    <tr>\n",
       "      <th>50%</th>\n",
       "      <td>9.000000</td>\n",
       "      <td>53.000000</td>\n",
       "      <td>3.000000</td>\n",
       "      <td>0.000000</td>\n",
       "      <td>3.000000</td>\n",
       "      <td>3.000000</td>\n",
       "      <td>3.000000</td>\n",
       "      <td>5.000000</td>\n",
       "      <td>0.000000</td>\n",
       "    </tr>\n",
       "    <tr>\n",
       "      <th>75%</th>\n",
       "      <td>11.000000</td>\n",
       "      <td>343.000000</td>\n",
       "      <td>12.000000</td>\n",
       "      <td>1.000000</td>\n",
       "      <td>5.437500</td>\n",
       "      <td>6.000000</td>\n",
       "      <td>5.000000</td>\n",
       "      <td>24.000000</td>\n",
       "      <td>2.000000</td>\n",
       "    </tr>\n",
       "    <tr>\n",
       "      <th>max</th>\n",
       "      <td>13.000000</td>\n",
       "      <td>35189.000000</td>\n",
       "      <td>4462.000000</td>\n",
       "      <td>1.000000</td>\n",
       "      <td>19.000000</td>\n",
       "      <td>82.000000</td>\n",
       "      <td>81.000000</td>\n",
       "      <td>2528.000000</td>\n",
       "      <td>375.000000</td>\n",
       "    </tr>\n",
       "  </tbody>\n",
       "</table>\n",
       "</div>"
      ],
      "text/plain": [
       "         TRAMO_VENTA  NUM_TRABAJADORES  TOTAL_UTILITARIOS    FLOTA_NUEVA  \\\n",
       "count  145170.000000     145170.000000      103919.000000  103919.000000   \n",
       "mean        8.869925        428.692905          31.770696       0.344884   \n",
       "std         3.238153       1108.468219         123.189120       0.475333   \n",
       "min         1.000000          0.000000           1.000000       0.000000   \n",
       "25%         7.000000          9.000000           1.000000       0.000000   \n",
       "50%         9.000000         53.000000           3.000000       0.000000   \n",
       "75%        11.000000        343.000000          12.000000       1.000000   \n",
       "max        13.000000      35189.000000        4462.000000       1.000000   \n",
       "\n",
       "       ANTIGUEDAD_FLOTA  CAMPANAS_U180D  CAMPANAS_U180D_C  NUM_OFERTAS_U12M  \\\n",
       "count     103919.000000    53245.000000      52188.000000     192339.000000   \n",
       "mean           3.667669        4.974120          4.801219        110.531962   \n",
       "std            3.098070        6.761888          6.628909        397.730563   \n",
       "min            0.000000        1.000000          1.000000          0.000000   \n",
       "25%            1.000000        1.000000          1.000000          1.000000   \n",
       "50%            3.000000        3.000000          3.000000          5.000000   \n",
       "75%            5.437500        6.000000          5.000000         24.000000   \n",
       "max           19.000000       82.000000         81.000000       2528.000000   \n",
       "\n",
       "       COMPRAS_REALIZADAS_U12M  \n",
       "count            192339.000000  \n",
       "mean                 11.202975  \n",
       "std                  42.458414  \n",
       "min                   0.000000  \n",
       "25%                   0.000000  \n",
       "50%                   0.000000  \n",
       "75%                   2.000000  \n",
       "max                 375.000000  "
      ]
     },
     "execution_count": 10,
     "metadata": {},
     "output_type": "execute_result"
    }
   ],
   "source": [
    "#ahora tratare de revisar cada columna para imputar en caso de que se pueda imputar\n",
    "df[['TRAMO_VENTA','NUM_TRABAJADORES','TOTAL_UTILITARIOS','FLOTA_NUEVA','ANTIGUEDAD_FLOTA','CAMPANAS_U180D',\n",
    "   'CAMPANAS_U180D_C','NUM_OFERTAS_U12M','COMPRAS_REALIZADAS_U12M']].describe()"
   ]
  },
  {
   "cell_type": "code",
   "execution_count": 11,
   "metadata": {
    "scrolled": false
   },
   "outputs": [
    {
     "data": {
      "image/png": "[encoded data removed]",
      "text/plain": [
       "<Figure size 864x756 with 9 Axes>"
      ]
     },
     "metadata": {
      "needs_background": "light"
     },
     "output_type": "display_data"
    }
   ],
   "source": [
    "fig, axs = plt.subplots(3,3, figsize = (12,10.5))\n",
    "plt2 = sns.boxplot(df['TRAMO_VENTA'], ax = axs[0,0])\n",
    "plt2 = sns.boxplot(df['NUM_TRABAJADORES'], ax = axs[0,1])\n",
    "plt2 = sns.boxplot(df['TOTAL_UTILITARIOS'], ax = axs[1,0])\n",
    "plt2 = sns.boxplot(df['ANTIGUEDAD_FLOTA'], ax = axs[2,1])\n",
    "plt2 = sns.boxplot(df['CAMPANAS_U180D_C'], ax = axs[1,2])\n",
    "plt2 = sns.boxplot(df['NUM_OFERTAS_U12M'], ax = axs[2,2])\n",
    "plt2 = sns.boxplot(df['CAMPANAS_U180D'], ax = axs[0,2])\n",
    "plt2 = sns.boxplot(df['COMPRAS_REALIZADAS_U12M'], ax = axs[2,0])\n",
    "\n",
    "plt.show()"
   ]
  },
  {
   "cell_type": "markdown",
   "metadata": {},
   "source": [
    "ahi un exceso de variabilidad en algunas columnas"
   ]
  },
  {
   "cell_type": "code",
   "execution_count": 12,
   "metadata": {},
   "outputs": [],
   "source": [
    "#estas variables no pueden ser imputadas porque indican que no tienen vehiculos, candidatas a irse de la base!!\n",
    "df['TOTAL_UTILITARIOS'] = df['TOTAL_UTILITARIOS'].replace(np.nan,0)\n",
    "df['UTILITARIOS_EXCLUSION'] = df['UTILITARIOS_EXCLUSION'].replace(np.nan,0)\n",
    "df['RELEVANTE_CAMIONES'] = df['RELEVANTE_CAMIONES'].replace(np.nan,0)\n",
    "df['RELEVANTE_OTROS'] = df['RELEVANTE_OTROS'].replace(np.nan,0)\n",
    "\n",
    "\n",
    "\n",
    "df['TRAMO_VENTA'] = df['TRAMO_VENTA'].replace(np.nan, np.mean(df['TRAMO_VENTA']))\n",
    "df['NUM_TRABAJADORES'] = df['NUM_TRABAJADORES'].replace(np.nan, np.mean(df['NUM_TRABAJADORES']))\n"
   ]
  },
  {
   "cell_type": "markdown",
   "metadata": {},
   "source": [
    "### columnas categoricas"
   ]
  },
  {
   "cell_type": "code",
   "execution_count": 13,
   "metadata": {},
   "outputs": [
    {
     "data": {
      "text/html": [
       "<div>\n",
       "<style scoped>\n",
       "    .dataframe tbody tr th:only-of-type {\n",
       "        vertical-align: middle;\n",
       "    }\n",
       "\n",
       "    .dataframe tbody tr th {\n",
       "        vertical-align: top;\n",
       "    }\n",
       "\n",
       "    .dataframe thead th {\n",
       "        text-align: right;\n",
       "    }\n",
       "</style>\n",
       "<table border=\"1\" class=\"dataframe\">\n",
       "  <thead>\n",
       "    <tr style=\"text-align: right;\">\n",
       "      <th></th>\n",
       "      <th>MARCA_AGRUPADA</th>\n",
       "      <th>DESC_TIPO_VEHICULO</th>\n",
       "    </tr>\n",
       "  </thead>\n",
       "  <tbody>\n",
       "    <tr>\n",
       "      <th>count</th>\n",
       "      <td>192339</td>\n",
       "      <td>188342</td>\n",
       "    </tr>\n",
       "    <tr>\n",
       "      <th>unique</th>\n",
       "      <td>8</td>\n",
       "      <td>23</td>\n",
       "    </tr>\n",
       "    <tr>\n",
       "      <th>top</th>\n",
       "      <td>MERCEDES-BENZ</td>\n",
       "      <td>CAMION</td>\n",
       "    </tr>\n",
       "    <tr>\n",
       "      <th>freq</th>\n",
       "      <td>124753</td>\n",
       "      <td>42771</td>\n",
       "    </tr>\n",
       "  </tbody>\n",
       "</table>\n",
       "</div>"
      ],
      "text/plain": [
       "       MARCA_AGRUPADA DESC_TIPO_VEHICULO\n",
       "count          192339             188342\n",
       "unique              8                 23\n",
       "top     MERCEDES-BENZ             CAMION\n",
       "freq           124753              42771"
      ]
     },
     "execution_count": 13,
     "metadata": {},
     "output_type": "execute_result"
    }
   ],
   "source": [
    "df[['MARCA_AGRUPADA','DESC_TIPO_VEHICULO']].describe()"
   ]
  },
  {
   "cell_type": "code",
   "execution_count": 14,
   "metadata": {},
   "outputs": [
    {
     "data": {
      "text/html": [
       "<div>\n",
       "<style scoped>\n",
       "    .dataframe tbody tr th:only-of-type {\n",
       "        vertical-align: middle;\n",
       "    }\n",
       "\n",
       "    .dataframe tbody tr th {\n",
       "        vertical-align: top;\n",
       "    }\n",
       "\n",
       "    .dataframe thead th {\n",
       "        text-align: right;\n",
       "    }\n",
       "</style>\n",
       "<table border=\"1\" class=\"dataframe\">\n",
       "  <thead>\n",
       "    <tr style=\"text-align: right;\">\n",
       "      <th></th>\n",
       "      <th>COMPRO_NUM</th>\n",
       "    </tr>\n",
       "    <tr>\n",
       "      <th>MARCA_AGRUPADA</th>\n",
       "      <th></th>\n",
       "    </tr>\n",
       "  </thead>\n",
       "  <tbody>\n",
       "    <tr>\n",
       "      <th>POWERSYSTEMS</th>\n",
       "      <td>0.247619</td>\n",
       "    </tr>\n",
       "    <tr>\n",
       "      <th>GREAT DANE</th>\n",
       "      <td>0.201613</td>\n",
       "    </tr>\n",
       "    <tr>\n",
       "      <th>TREMAC</th>\n",
       "      <td>0.118848</td>\n",
       "    </tr>\n",
       "    <tr>\n",
       "      <th>HEIL</th>\n",
       "      <td>0.088608</td>\n",
       "    </tr>\n",
       "    <tr>\n",
       "      <th>MERCEDES-BENZ</th>\n",
       "      <td>0.086234</td>\n",
       "    </tr>\n",
       "    <tr>\n",
       "      <th>FREIGHTLINER</th>\n",
       "      <td>0.059949</td>\n",
       "    </tr>\n",
       "    <tr>\n",
       "      <th>MITSUBISHI-FUSO</th>\n",
       "      <td>0.058760</td>\n",
       "    </tr>\n",
       "    <tr>\n",
       "      <th>WESTERN STAR</th>\n",
       "      <td>0.047619</td>\n",
       "    </tr>\n",
       "  </tbody>\n",
       "</table>\n",
       "</div>"
      ],
      "text/plain": [
       "                 COMPRO_NUM\n",
       "MARCA_AGRUPADA             \n",
       "POWERSYSTEMS       0.247619\n",
       "GREAT DANE         0.201613\n",
       "TREMAC             0.118848\n",
       "HEIL               0.088608\n",
       "MERCEDES-BENZ      0.086234\n",
       "FREIGHTLINER       0.059949\n",
       "MITSUBISHI-FUSO    0.058760\n",
       "WESTERN STAR       0.047619"
      ]
     },
     "execution_count": 14,
     "metadata": {},
     "output_type": "execute_result"
    }
   ],
   "source": [
    "avr_mar=pd.DataFrame(df.groupby('MARCA_AGRUPADA')[\"COMPRO_NUM\"].mean())\n",
    "avr_mar=avr_mar.sort_values(\"COMPRO_NUM\",ascending=False)\n",
    "avr_mar.head(50)"
   ]
  },
  {
   "cell_type": "code",
   "execution_count": 15,
   "metadata": {},
   "outputs": [
    {
     "data": {
      "image/png": "[encoded data removed]",
      "text/plain": [
       "<Figure size 432x288 with 1 Axes>"
      ]
     },
     "metadata": {
      "needs_background": "light"
     },
     "output_type": "display_data"
    }
   ],
   "source": [
    "df['DESC_TIPO_VEHICULO'] = df['DESC_TIPO_VEHICULO'].replace(np.nan,'CAMION')\n",
    "plt1 = sns.countplot(df['DESC_TIPO_VEHICULO'])\n",
    "plt.show()"
   ]
  },
  {
   "cell_type": "code",
   "execution_count": 16,
   "metadata": {},
   "outputs": [
    {
     "data": {
      "text/html": [
       "<div>\n",
       "<style scoped>\n",
       "    .dataframe tbody tr th:only-of-type {\n",
       "        vertical-align: middle;\n",
       "    }\n",
       "\n",
       "    .dataframe tbody tr th {\n",
       "        vertical-align: top;\n",
       "    }\n",
       "\n",
       "    .dataframe thead th {\n",
       "        text-align: right;\n",
       "    }\n",
       "</style>\n",
       "<table border=\"1\" class=\"dataframe\">\n",
       "  <thead>\n",
       "    <tr style=\"text-align: right;\">\n",
       "      <th></th>\n",
       "      <th>FLOTA_NUEVA</th>\n",
       "      <th>ANTIGUEDAD_FLOTA</th>\n",
       "    </tr>\n",
       "  </thead>\n",
       "  <tbody>\n",
       "    <tr>\n",
       "      <th>count</th>\n",
       "      <td>103919.000000</td>\n",
       "      <td>103919.000000</td>\n",
       "    </tr>\n",
       "    <tr>\n",
       "      <th>mean</th>\n",
       "      <td>0.344884</td>\n",
       "      <td>3.667669</td>\n",
       "    </tr>\n",
       "    <tr>\n",
       "      <th>std</th>\n",
       "      <td>0.475333</td>\n",
       "      <td>3.098070</td>\n",
       "    </tr>\n",
       "    <tr>\n",
       "      <th>min</th>\n",
       "      <td>0.000000</td>\n",
       "      <td>0.000000</td>\n",
       "    </tr>\n",
       "    <tr>\n",
       "      <th>25%</th>\n",
       "      <td>0.000000</td>\n",
       "      <td>1.000000</td>\n",
       "    </tr>\n",
       "    <tr>\n",
       "      <th>50%</th>\n",
       "      <td>0.000000</td>\n",
       "      <td>3.000000</td>\n",
       "    </tr>\n",
       "    <tr>\n",
       "      <th>75%</th>\n",
       "      <td>1.000000</td>\n",
       "      <td>5.437500</td>\n",
       "    </tr>\n",
       "    <tr>\n",
       "      <th>max</th>\n",
       "      <td>1.000000</td>\n",
       "      <td>19.000000</td>\n",
       "    </tr>\n",
       "  </tbody>\n",
       "</table>\n",
       "</div>"
      ],
      "text/plain": [
       "         FLOTA_NUEVA  ANTIGUEDAD_FLOTA\n",
       "count  103919.000000     103919.000000\n",
       "mean        0.344884          3.667669\n",
       "std         0.475333          3.098070\n",
       "min         0.000000          0.000000\n",
       "25%         0.000000          1.000000\n",
       "50%         0.000000          3.000000\n",
       "75%         1.000000          5.437500\n",
       "max         1.000000         19.000000"
      ]
     },
     "execution_count": 16,
     "metadata": {},
     "output_type": "execute_result"
    }
   ],
   "source": [
    "df[['FLOTA_NUEVA','ANTIGUEDAD_FLOTA']].describe()"
   ]
  },
  {
   "cell_type": "code",
   "execution_count": 17,
   "metadata": {},
   "outputs": [],
   "source": [
    "# estos valores corresponden a flotas, si estan vacion significa que no tienen flota o bien no tienen flota nueva\n",
    "df['FLOTA_NUEVA'] = df['FLOTA_NUEVA'].replace(np.nan,0)\n",
    "\n",
    "#se debe trabajar en esto\n",
    "df['CAMPANAS_U180D'] = df['CAMPANAS_U180D'].replace(np.nan,0)\n",
    "df['CAMPANAS_U180D_C'] = df['CAMPANAS_U180D_C'].replace(np.nan,0)\n",
    "df['ANTIGUEDAD_FLOTA'] = df['ANTIGUEDAD_FLOTA'].replace(np.nan,0)"
   ]
  },
  {
   "cell_type": "code",
   "execution_count": 18,
   "metadata": {},
   "outputs": [
    {
     "data": {
      "image/png": "[encoded data removed]",
      "text/plain": [
       "<Figure size 432x288 with 1 Axes>"
      ]
     },
     "metadata": {
      "needs_background": "light"
     },
     "output_type": "display_data"
    },
    {
     "data": {
      "text/html": [
       "<div>\n",
       "<style scoped>\n",
       "    .dataframe tbody tr th:only-of-type {\n",
       "        vertical-align: middle;\n",
       "    }\n",
       "\n",
       "    .dataframe tbody tr th {\n",
       "        vertical-align: top;\n",
       "    }\n",
       "\n",
       "    .dataframe thead th {\n",
       "        text-align: right;\n",
       "    }\n",
       "</style>\n",
       "<table border=\"1\" class=\"dataframe\">\n",
       "  <thead>\n",
       "    <tr style=\"text-align: right;\">\n",
       "      <th></th>\n",
       "      <th>REGION</th>\n",
       "    </tr>\n",
       "  </thead>\n",
       "  <tbody>\n",
       "    <tr>\n",
       "      <th>count</th>\n",
       "      <td>189565</td>\n",
       "    </tr>\n",
       "    <tr>\n",
       "      <th>unique</th>\n",
       "      <td>16</td>\n",
       "    </tr>\n",
       "    <tr>\n",
       "      <th>top</th>\n",
       "      <td>Metropolitana de Santiago</td>\n",
       "    </tr>\n",
       "    <tr>\n",
       "      <th>freq</th>\n",
       "      <td>89948</td>\n",
       "    </tr>\n",
       "  </tbody>\n",
       "</table>\n",
       "</div>"
      ],
      "text/plain": [
       "                            REGION\n",
       "count                       189565\n",
       "unique                          16\n",
       "top      Metropolitana de Santiago\n",
       "freq                         89948"
      ]
     },
     "execution_count": 18,
     "metadata": {},
     "output_type": "execute_result"
    }
   ],
   "source": [
    "plt1 = sns.countplot(df['REGION'])\n",
    "plt.show(),\n",
    "df[['REGION']].describe()"
   ]
  },
  {
   "cell_type": "code",
   "execution_count": 19,
   "metadata": {},
   "outputs": [],
   "source": [
    "df['REGION'] = df['REGION'].replace(np.nan,'NA')"
   ]
  },
  {
   "cell_type": "code",
   "execution_count": 20,
   "metadata": {},
   "outputs": [
    {
     "data": {
      "text/html": [
       "<div>\n",
       "<style scoped>\n",
       "    .dataframe tbody tr th:only-of-type {\n",
       "        vertical-align: middle;\n",
       "    }\n",
       "\n",
       "    .dataframe tbody tr th {\n",
       "        vertical-align: top;\n",
       "    }\n",
       "\n",
       "    .dataframe thead th {\n",
       "        text-align: right;\n",
       "    }\n",
       "</style>\n",
       "<table border=\"1\" class=\"dataframe\">\n",
       "  <thead>\n",
       "    <tr style=\"text-align: right;\">\n",
       "      <th></th>\n",
       "      <th>COMUNA_CRM</th>\n",
       "    </tr>\n",
       "  </thead>\n",
       "  <tbody>\n",
       "    <tr>\n",
       "      <th>count</th>\n",
       "      <td>192122</td>\n",
       "    </tr>\n",
       "    <tr>\n",
       "      <th>unique</th>\n",
       "      <td>360</td>\n",
       "    </tr>\n",
       "    <tr>\n",
       "      <th>top</th>\n",
       "      <td>SANTIAGO</td>\n",
       "    </tr>\n",
       "    <tr>\n",
       "      <th>freq</th>\n",
       "      <td>13173</td>\n",
       "    </tr>\n",
       "  </tbody>\n",
       "</table>\n",
       "</div>"
      ],
      "text/plain": [
       "       COMUNA_CRM\n",
       "count      192122\n",
       "unique        360\n",
       "top      SANTIAGO\n",
       "freq        13173"
      ]
     },
     "execution_count": 20,
     "metadata": {},
     "output_type": "execute_result"
    }
   ],
   "source": [
    "df[['COMUNA_CRM']].describe()"
   ]
  },
  {
   "cell_type": "code",
   "execution_count": 21,
   "metadata": {},
   "outputs": [],
   "source": [
    "df['COMUNA_CRM'] = df['COMUNA_CRM'].replace(np.nan,'NA')"
   ]
  },
  {
   "cell_type": "code",
   "execution_count": 22,
   "metadata": {},
   "outputs": [
    {
     "data": {
      "text/html": [
       "<div>\n",
       "<style scoped>\n",
       "    .dataframe tbody tr th:only-of-type {\n",
       "        vertical-align: middle;\n",
       "    }\n",
       "\n",
       "    .dataframe tbody tr th {\n",
       "        vertical-align: top;\n",
       "    }\n",
       "\n",
       "    .dataframe thead th {\n",
       "        text-align: right;\n",
       "    }\n",
       "</style>\n",
       "<table border=\"1\" class=\"dataframe\">\n",
       "  <thead>\n",
       "    <tr style=\"text-align: right;\">\n",
       "      <th></th>\n",
       "      <th>DESC_TIPO_VEHICULO</th>\n",
       "    </tr>\n",
       "  </thead>\n",
       "  <tbody>\n",
       "    <tr>\n",
       "      <th>count</th>\n",
       "      <td>192339</td>\n",
       "    </tr>\n",
       "    <tr>\n",
       "      <th>unique</th>\n",
       "      <td>23</td>\n",
       "    </tr>\n",
       "    <tr>\n",
       "      <th>top</th>\n",
       "      <td>CAMION</td>\n",
       "    </tr>\n",
       "    <tr>\n",
       "      <th>freq</th>\n",
       "      <td>46768</td>\n",
       "    </tr>\n",
       "  </tbody>\n",
       "</table>\n",
       "</div>"
      ],
      "text/plain": [
       "       DESC_TIPO_VEHICULO\n",
       "count              192339\n",
       "unique                 23\n",
       "top                CAMION\n",
       "freq                46768"
      ]
     },
     "execution_count": 22,
     "metadata": {},
     "output_type": "execute_result"
    }
   ],
   "source": [
    "df[['DESC_TIPO_VEHICULO']].describe()"
   ]
  },
  {
   "cell_type": "code",
   "execution_count": 23,
   "metadata": {},
   "outputs": [],
   "source": [
    "df['DESC_TIPO_VEHICULO'] = df['DESC_TIPO_VEHICULO'].replace(np.nan,'NA')"
   ]
  },
  {
   "cell_type": "code",
   "execution_count": 24,
   "metadata": {},
   "outputs": [
    {
     "data": {
      "text/html": [
       "<div>\n",
       "<style scoped>\n",
       "    .dataframe tbody tr th:only-of-type {\n",
       "        vertical-align: middle;\n",
       "    }\n",
       "\n",
       "    .dataframe tbody tr th {\n",
       "        vertical-align: top;\n",
       "    }\n",
       "\n",
       "    .dataframe thead th {\n",
       "        text-align: right;\n",
       "    }\n",
       "</style>\n",
       "<table border=\"1\" class=\"dataframe\">\n",
       "  <thead>\n",
       "    <tr style=\"text-align: right;\">\n",
       "      <th></th>\n",
       "      <th>TIPO_CREDITO_USADO_ANT</th>\n",
       "    </tr>\n",
       "  </thead>\n",
       "  <tbody>\n",
       "    <tr>\n",
       "      <th>count</th>\n",
       "      <td>97493</td>\n",
       "    </tr>\n",
       "    <tr>\n",
       "      <th>unique</th>\n",
       "      <td>7</td>\n",
       "    </tr>\n",
       "    <tr>\n",
       "      <th>top</th>\n",
       "      <td>CONTADO</td>\n",
       "    </tr>\n",
       "    <tr>\n",
       "      <th>freq</th>\n",
       "      <td>61598</td>\n",
       "    </tr>\n",
       "  </tbody>\n",
       "</table>\n",
       "</div>"
      ],
      "text/plain": [
       "       TIPO_CREDITO_USADO_ANT\n",
       "count                   97493\n",
       "unique                      7\n",
       "top                   CONTADO\n",
       "freq                    61598"
      ]
     },
     "execution_count": 24,
     "metadata": {},
     "output_type": "execute_result"
    }
   ],
   "source": [
    "df[['TIPO_CREDITO_USADO_ANT']].describe()"
   ]
  },
  {
   "cell_type": "code",
   "execution_count": 25,
   "metadata": {},
   "outputs": [],
   "source": [
    "df['TIPO_CREDITO_USADO_ANT'] = df['TIPO_CREDITO_USADO_ANT'].replace(np.nan,'NA')"
   ]
  },
  {
   "cell_type": "code",
   "execution_count": 26,
   "metadata": {},
   "outputs": [
    {
     "name": "stdout",
     "output_type": "stream",
     "text": [
      "<class 'pandas.core.frame.DataFrame'>\n",
      "Int64Index: 192339 entries, 15 to 212228\n",
      "Data columns (total 34 columns):\n",
      " #   Column                    Non-Null Count   Dtype  \n",
      "---  ------                    --------------   -----  \n",
      " 0   RUBRO_ECON                192339 non-null  object \n",
      " 1   ANTIGUEDAD_E              192339 non-null  object \n",
      " 2   TRAMO_VENTA               192339 non-null  float64\n",
      " 3   NUM_TRABAJADORES          192339 non-null  float64\n",
      " 4   TOTAL_UTILITARIOS         192339 non-null  float64\n",
      " 5   UTILITARIOS_EXCLUSION     192339 non-null  float64\n",
      " 6   RELEVANTE_BUSES           192339 non-null  float64\n",
      " 7   RELEVANTE_CAMIONES        192339 non-null  float64\n",
      " 8   RELEVANTE_RODADOS         192339 non-null  float64\n",
      " 9   RELEVANTE_VANS            192339 non-null  float64\n",
      " 10  RELEVANTE_CARGA           192339 non-null  float64\n",
      " 11  RELEVANTE_PASAJERA        192339 non-null  float64\n",
      " 12  RELEVANTE_PESADO          192339 non-null  float64\n",
      " 13  RELEVANTE_CAMIONETA       192339 non-null  float64\n",
      " 14  RELEVANTE_MEDIANO         192339 non-null  float64\n",
      " 15  RELEVANTE_OTROS           192339 non-null  float64\n",
      " 16  RELEVANTE_LIVIANO         192339 non-null  float64\n",
      " 17  RELEVANTE_CAMIONETA_DCAB  192339 non-null  float64\n",
      " 18  RELEVANTE_FORESTAL        192339 non-null  float64\n",
      " 19  RELEVANTE_CAMABAJA        192339 non-null  float64\n",
      " 20  MARCA_AGRUPADA            192339 non-null  object \n",
      " 21  FLOTA_NUEVA               192339 non-null  float64\n",
      " 22  ANTIGUEDAD_FLOTA          192339 non-null  float64\n",
      " 23  COMPRO_NUM                192339 non-null  float64\n",
      " 24  CAMPANAS_U180D            192339 non-null  float64\n",
      " 25  CAMPANAS_U180D_C          192339 non-null  float64\n",
      " 26  SERVICIOS_PV              192339 non-null  float64\n",
      " 27  REGION                    192339 non-null  object \n",
      " 28  COMUNA_CRM                192339 non-null  object \n",
      " 29  USADO_NUEVO               192339 non-null  object \n",
      " 30  DESC_TIPO_VEHICULO        192339 non-null  object \n",
      " 31  NUM_OFERTAS_U12M          192339 non-null  float64\n",
      " 32  COMPRAS_REALIZADAS_U12M   192339 non-null  float64\n",
      " 33  TIPO_CREDITO_USADO_ANT    192339 non-null  object \n",
      "dtypes: float64(26), object(8)\n",
      "memory usage: 56.4+ MB\n"
     ]
    }
   ],
   "source": [
    "#cantidad de missing\n",
    "df.info()"
   ]
  },
  {
   "cell_type": "code",
   "execution_count": 27,
   "metadata": {},
   "outputs": [],
   "source": [
    "numericas = [['NUM_TRABAJADORES',\n",
    "'TOTAL_UTILITARIOS',\n",
    "'UTILITARIOS_EXCLUSION',\n",
    "'RELEVANTE_BUSES',\n",
    "'RELEVANTE_CAMIONES',\n",
    "'RELEVANTE_RODADOS',\n",
    "'RELEVANTE_VANS',\n",
    "'RELEVANTE_CARGA',\n",
    "'RELEVANTE_PASAJERA',\n",
    "'RELEVANTE_PESADO',\n",
    "'RELEVANTE_CAMIONETA',\n",
    "'RELEVANTE_MEDIANO',\n",
    "'RELEVANTE_OTROS',\n",
    "'RELEVANTE_LIVIANO',\n",
    "'RELEVANTE_CAMIONETA_DCAB',\n",
    "'RELEVANTE_FORESTAL',\n",
    "'RELEVANTE_CAMABAJA',\n",
    "'FLOTA_NUEVA',\n",
    "'ANTIGUEDAD_FLOTA',\n",
    "'CAMPANAS_U180D',\n",
    "'CAMPANAS_U180D_C',\n",
    "'NUM_OFERTAS_U12M',\n",
    "'COMPRAS_REALIZADAS_U12M',\n",
    "'CAMPANAS_U180D_C',\n",
    "'NUM_OFERTAS_U12M',\n",
    "'COMPRAS_REALIZADAS_U12M']]\n",
    "\n",
    "df1=df\n",
    "\n",
    "for i in numericas:\n",
    "    df1[i]=(df[i]-df1[i].mean())/df1[i].std()"
   ]
  },
  {
   "cell_type": "code",
   "execution_count": 28,
   "metadata": {},
   "outputs": [
    {
     "name": "stdout",
     "output_type": "stream",
     "text": [
      "<class 'pandas.core.frame.DataFrame'>\n",
      "Int64Index: 192339 entries, 15 to 212228\n",
      "Data columns (total 34 columns):\n",
      " #   Column                    Non-Null Count   Dtype  \n",
      "---  ------                    --------------   -----  \n",
      " 0   RUBRO_ECON                192339 non-null  object \n",
      " 1   ANTIGUEDAD_E              192339 non-null  object \n",
      " 2   TRAMO_VENTA               192339 non-null  float64\n",
      " 3   NUM_TRABAJADORES          192339 non-null  float64\n",
      " 4   TOTAL_UTILITARIOS         192339 non-null  float64\n",
      " 5   UTILITARIOS_EXCLUSION     192339 non-null  float64\n",
      " 6   RELEVANTE_BUSES           192339 non-null  float64\n",
      " 7   RELEVANTE_CAMIONES        192339 non-null  float64\n",
      " 8   RELEVANTE_RODADOS         192339 non-null  float64\n",
      " 9   RELEVANTE_VANS            192339 non-null  float64\n",
      " 10  RELEVANTE_CARGA           192339 non-null  float64\n",
      " 11  RELEVANTE_PASAJERA        192339 non-null  float64\n",
      " 12  RELEVANTE_PESADO          192339 non-null  float64\n",
      " 13  RELEVANTE_CAMIONETA       192339 non-null  float64\n",
      " 14  RELEVANTE_MEDIANO         192339 non-null  float64\n",
      " 15  RELEVANTE_OTROS           192339 non-null  float64\n",
      " 16  RELEVANTE_LIVIANO         192339 non-null  float64\n",
      " 17  RELEVANTE_CAMIONETA_DCAB  192339 non-null  float64\n",
      " 18  RELEVANTE_FORESTAL        192339 non-null  float64\n",
      " 19  RELEVANTE_CAMABAJA        192339 non-null  float64\n",
      " 20  MARCA_AGRUPADA            192339 non-null  object \n",
      " 21  FLOTA_NUEVA               192339 non-null  float64\n",
      " 22  ANTIGUEDAD_FLOTA          192339 non-null  float64\n",
      " 23  COMPRO_NUM                192339 non-null  float64\n",
      " 24  CAMPANAS_U180D            192339 non-null  float64\n",
      " 25  CAMPANAS_U180D_C          192339 non-null  float64\n",
      " 26  SERVICIOS_PV              192339 non-null  float64\n",
      " 27  REGION                    192339 non-null  object \n",
      " 28  COMUNA_CRM                192339 non-null  object \n",
      " 29  USADO_NUEVO               192339 non-null  object \n",
      " 30  DESC_TIPO_VEHICULO        192339 non-null  object \n",
      " 31  NUM_OFERTAS_U12M          192339 non-null  float64\n",
      " 32  COMPRAS_REALIZADAS_U12M   192339 non-null  float64\n",
      " 33  TIPO_CREDITO_USADO_ANT    192339 non-null  object \n",
      "dtypes: float64(26), object(8)\n",
      "memory usage: 56.4+ MB\n"
     ]
    }
   ],
   "source": [
    "df1.info()"
   ]
  },
  {
   "cell_type": "markdown",
   "metadata": {},
   "source": [
    "## Exploración\n",
    "Practicamente todos los grupos tienen una baja conversion pero existen diferencias en promedio"
   ]
  },
  {
   "cell_type": "markdown",
   "metadata": {},
   "source": [
    "### Análisis por columna"
   ]
  },
  {
   "cell_type": "markdown",
   "metadata": {},
   "source": [
    " la variable COMPRO_NUM corresponde a una variable indicadora de si compra o no lo ofertado\n",
    "#(1) compra (0) no compra"
   ]
  },
  {
   "cell_type": "code",
   "execution_count": 29,
   "metadata": {},
   "outputs": [
    {
     "data": {
      "text/plain": [
       "8.362838529887334"
      ]
     },
     "execution_count": 29,
     "metadata": {},
     "output_type": "execute_result"
    }
   ],
   "source": [
    "conversion = (sum(df1['COMPRO_NUM'])/len(df1['COMPRO_NUM'].index))*100\n",
    "conversion"
   ]
  },
  {
   "cell_type": "markdown",
   "metadata": {},
   "source": [
    "Una conversion tan baja requiere balance de la información"
   ]
  },
  {
   "cell_type": "markdown",
   "metadata": {},
   "source": [
    "#### RUBRO_ECON"
   ]
  },
  {
   "cell_type": "code",
   "execution_count": 30,
   "metadata": {},
   "outputs": [
    {
     "data": {
      "image/png": "[encoded data removed]",
      "text/plain": [
       "<Figure size 432x288 with 1 Axes>"
      ]
     },
     "metadata": {
      "needs_background": "light"
     },
     "output_type": "display_data"
    }
   ],
   "source": [
    "sns.countplot(x = \"RUBRO_ECON\", hue = \"COMPRO_NUM\", data = df1)\n",
    "xticks(rotation = 90)\n",
    "plt.show()"
   ]
  },
  {
   "cell_type": "code",
   "execution_count": 31,
   "metadata": {},
   "outputs": [
    {
     "data": {
      "text/plain": [
       "RUBRO_ECON\n",
       "A    0.091067\n",
       "B    0.068701\n",
       "C    0.071625\n",
       "D    0.041176\n",
       "E    0.078802\n",
       "F    0.070027\n",
       "G    0.095094\n",
       "H    0.092615\n",
       "I    0.059952\n",
       "J    0.080645\n",
       "K    0.091922\n",
       "L    0.098921\n",
       "M    0.099929\n",
       "N    0.099849\n",
       "O    0.088918\n",
       "P    0.096296\n",
       "Q    0.047782\n",
       "R    0.088435\n",
       "S    0.105769\n",
       "U    0.051282\n",
       "Z    0.070162\n",
       "Name: COMPRO_NUM, dtype: float64"
      ]
     },
     "execution_count": 31,
     "metadata": {},
     "output_type": "execute_result"
    }
   ],
   "source": [
    "df1.groupby('RUBRO_ECON')[\"COMPRO_NUM\"].mean() "
   ]
  },
  {
   "cell_type": "markdown",
   "metadata": {},
   "source": [
    "#### ANTIGUEDAD_E"
   ]
  },
  {
   "cell_type": "code",
   "execution_count": 32,
   "metadata": {},
   "outputs": [
    {
     "data": {
      "image/png": "[encoded data removed]",
      "text/plain": [
       "<Figure size 432x288 with 1 Axes>"
      ]
     },
     "metadata": {
      "needs_background": "light"
     },
     "output_type": "display_data"
    },
    {
     "data": {
      "text/plain": [
       "ANTIGUEDAD_E\n",
       "ENTRE 15 Y 25 A    0.101700\n",
       "ENTRE 5 Y 15 AÑ    0.090487\n",
       "MAYOR A 25 AÑOS    0.060186\n",
       "MENOS DE 5 AÑOS    0.078015\n",
       "Name: COMPRO_NUM, dtype: float64"
      ]
     },
     "execution_count": 32,
     "metadata": {},
     "output_type": "execute_result"
    }
   ],
   "source": [
    "# la variable la optimize desde sas\n",
    "sns.countplot(x = \"ANTIGUEDAD_E\", hue = \"COMPRO_NUM\", data = df1)\n",
    "xticks(rotation = 90)\n",
    "plt.show(),\n",
    "df1.groupby('ANTIGUEDAD_E')[\"COMPRO_NUM\"].mean() \n"
   ]
  },
  {
   "cell_type": "markdown",
   "metadata": {},
   "source": [
    "#### TRAMO_VENTA"
   ]
  },
  {
   "cell_type": "code",
   "execution_count": 33,
   "metadata": {},
   "outputs": [
    {
     "data": {
      "text/plain": [
       "TRAMO_VENTA\n",
       "1.000000     0.084560\n",
       "2.000000     0.042763\n",
       "3.000000     0.053214\n",
       "4.000000     0.054480\n",
       "5.000000     0.070317\n",
       "6.000000     0.075308\n",
       "7.000000     0.078561\n",
       "8.000000     0.086603\n",
       "8.869925     0.072378\n",
       "9.000000     0.093779\n",
       "10.000000    0.109253\n",
       "11.000000    0.142973\n",
       "12.000000    0.103328\n",
       "13.000000    0.062666\n",
       "Name: COMPRO_NUM, dtype: float64"
      ]
     },
     "execution_count": 33,
     "metadata": {},
     "output_type": "execute_result"
    }
   ],
   "source": [
    "df1.groupby('TRAMO_VENTA')[\"COMPRO_NUM\"].mean() "
   ]
  },
  {
   "cell_type": "code",
   "execution_count": 34,
   "metadata": {
    "scrolled": true
   },
   "outputs": [
    {
     "data": {
      "text/plain": [
       "<function matplotlib.pyplot.show(*args, **kw)>"
      ]
     },
     "execution_count": 34,
     "metadata": {},
     "output_type": "execute_result"
    },
    {
     "data": {
      "image/png": "[encoded data removed]",
      "text/plain": [
       "<Figure size 432x288 with 1 Axes>"
      ]
     },
     "metadata": {
      "needs_background": "light"
     },
     "output_type": "display_data"
    }
   ],
   "source": [
    "plt.hist(df1[\"TRAMO_VENTA\"])\n",
    "plt.show"
   ]
  },
  {
   "cell_type": "markdown",
   "metadata": {},
   "source": [
    "### Numero de trabajadores"
   ]
  },
  {
   "cell_type": "code",
   "execution_count": 35,
   "metadata": {},
   "outputs": [
    {
     "data": {
      "text/plain": [
       "<function matplotlib.pyplot.show(*args, **kw)>"
      ]
     },
     "execution_count": 35,
     "metadata": {},
     "output_type": "execute_result"
    },
    {
     "data": {
      "image/png": "[encoded data removed]",
      "text/plain": [
       "<Figure size 432x288 with 1 Axes>"
      ]
     },
     "metadata": {
      "needs_background": "light"
     },
     "output_type": "display_data"
    }
   ],
   "source": [
    "plt.hist(df1[\"NUM_TRABAJADORES\"],bins=200)\n",
    "plt.show\n",
    "\n"
   ]
  },
  {
   "cell_type": "markdown",
   "metadata": {},
   "source": [
    "Existen aoutliers es esta variable"
   ]
  },
  {
   "cell_type": "markdown",
   "metadata": {},
   "source": [
    "### REGION"
   ]
  },
  {
   "cell_type": "code",
   "execution_count": 36,
   "metadata": {},
   "outputs": [
    {
     "data": {
      "image/png": "[encoded data removed]",
      "text/plain": [
       "<Figure size 432x288 with 1 Axes>"
      ]
     },
     "metadata": {
      "needs_background": "light"
     },
     "output_type": "display_data"
    },
    {
     "data": {
      "text/plain": [
       "REGION\n",
       "NA                                     0.066691\n",
       " Antofagasta                           0.068725\n",
       " Arica y Parinacota                    0.061055\n",
       " Atacama                               0.063304\n",
       " Aysén del Gral. C. Ibáñez del Camp    0.034161\n",
       " Biobío                                0.108378\n",
       " Coquimbo                              0.076196\n",
       " La Araucanía                          0.117875\n",
       " Lib. Gral. Bernardo O'Higgins         0.068511\n",
       " Los Lagos                             0.098146\n",
       " Los Ríos                              0.117587\n",
       " Magallanes y Antártica Chilena        0.097961\n",
       " Maule                                 0.099250\n",
       " Metropolitana de Santiago             0.078201\n",
       " Tarapacá                              0.097575\n",
       " Valparaíso                            0.069920\n",
       " Ñuble                                 0.103322\n",
       "Name: COMPRO_NUM, dtype: float64"
      ]
     },
     "execution_count": 36,
     "metadata": {},
     "output_type": "execute_result"
    }
   ],
   "source": [
    "# la variable la optimize desde sas\n",
    "sns.countplot(x = \"REGION\", hue = \"COMPRO_NUM\", data = df1)\n",
    "xticks(rotation = 90)\n",
    "plt.show(),\n",
    "df1.groupby('REGION')[\"COMPRO_NUM\"].mean() \n"
   ]
  },
  {
   "cell_type": "markdown",
   "metadata": {},
   "source": [
    "### Tipo credito usado anteriormente"
   ]
  },
  {
   "cell_type": "code",
   "execution_count": 37,
   "metadata": {},
   "outputs": [
    {
     "data": {
      "image/png": "[encoded data removed]",
      "text/plain": [
       "<Figure size 432x288 with 1 Axes>"
      ]
     },
     "metadata": {
      "needs_background": "light"
     },
     "output_type": "display_data"
    },
    {
     "data": {
      "text/plain": [
       "TIPO_CREDITO_USADO_ANT\n",
       "CHEQUES                           0.177838\n",
       "CONTADO                           0.160281\n",
       "LEASING FINANCIERO                0.122730\n",
       "LETRAS                            0.153651\n",
       "MUTUOS                            0.155556\n",
       "NA                                0.002657\n",
       "ORDEN DE COMPRA                   0.190073\n",
       "PAGARE/O.COMPRA/CREDITO SIMPLE    0.121955\n",
       "Name: COMPRO_NUM, dtype: float64"
      ]
     },
     "execution_count": 37,
     "metadata": {},
     "output_type": "execute_result"
    }
   ],
   "source": [
    "sns.countplot(x = \"TIPO_CREDITO_USADO_ANT\", hue = \"COMPRO_NUM\", data = df1)\n",
    "xticks(rotation = 90)\n",
    "plt.show(),\n",
    "df1.groupby('TIPO_CREDITO_USADO_ANT')[\"COMPRO_NUM\"].mean() "
   ]
  },
  {
   "cell_type": "markdown",
   "metadata": {},
   "source": [
    "Esto tiene poca logica, pero se usa, si el cliente compra antes, tengo el tipo de credito que ocupa, pero voy a agrupar"
   ]
  },
  {
   "cell_type": "code",
   "execution_count": 38,
   "metadata": {},
   "outputs": [],
   "source": [
    "df1['TIPO_CREDITO_USADO_ANT'] = df1['TIPO_CREDITO_USADO_ANT'].replace('PAGARE/O.COMPRA/CREDITO SIMPLE','CREDITO')\n",
    "df1['TIPO_CREDITO_USADO_ANT'] = df1['TIPO_CREDITO_USADO_ANT'].replace('LEASING FINANCIERO','LEASING')"
   ]
  },
  {
   "cell_type": "markdown",
   "metadata": {},
   "source": [
    "### Ofertas realizadas anteriormente"
   ]
  },
  {
   "cell_type": "code",
   "execution_count": 39,
   "metadata": {},
   "outputs": [
    {
     "data": {
      "text/plain": [
       "-0.05842219640622282"
      ]
     },
     "execution_count": 39,
     "metadata": {},
     "output_type": "execute_result"
    },
    {
     "data": {
      "image/png": "[encoded data removed]",
      "text/plain": [
       "<Figure size 432x288 with 1 Axes>"
      ]
     },
     "metadata": {
      "needs_background": "light"
     },
     "output_type": "display_data"
    }
   ],
   "source": [
    "plt.hist(df1[\"NUM_OFERTAS_U12M\"],bins=50)\n",
    "plt.show\n",
    "\n",
    "df1['NUM_OFERTAS_U12M'].corr(df1[\"COMPRO_NUM\"])"
   ]
  },
  {
   "cell_type": "markdown",
   "metadata": {},
   "source": [
    "### Servicios PV"
   ]
  },
  {
   "cell_type": "code",
   "execution_count": 40,
   "metadata": {},
   "outputs": [
    {
     "data": {
      "image/png": "[encoded data removed]",
      "text/plain": [
       "<Figure size 432x288 with 1 Axes>"
      ]
     },
     "metadata": {
      "needs_background": "light"
     },
     "output_type": "display_data"
    },
    {
     "data": {
      "text/plain": [
       "SERVICIOS_PV\n",
       "0.0    0.071403\n",
       "1.0    0.096921\n",
       "Name: COMPRO_NUM, dtype: float64"
      ]
     },
     "execution_count": 40,
     "metadata": {},
     "output_type": "execute_result"
    }
   ],
   "source": [
    "sns.countplot(x = \"SERVICIOS_PV\", hue = \"COMPRO_NUM\", data = df1)\n",
    "xticks(rotation = 90)\n",
    "plt.show(),\n",
    "df1.groupby('SERVICIOS_PV')[\"COMPRO_NUM\"].mean() "
   ]
  },
  {
   "cell_type": "markdown",
   "metadata": {},
   "source": [
    "## Dummificacion de variables"
   ]
  },
  {
   "cell_type": "code",
   "execution_count": 41,
   "metadata": {},
   "outputs": [],
   "source": [
    "def variables_dummy(dataset,variable):\n",
    "    cat_dummies = pd.get_dummies(dataset[variable],prefix=variable)\n",
    "    #.iloc[:,1:]\n",
    "    data_new = dataset.join(cat_dummies)\n",
    "    dataset = data_new.drop([variable],axis=1)\n",
    "    return dataset"
   ]
  },
  {
   "cell_type": "code",
   "execution_count": 42,
   "metadata": {},
   "outputs": [
    {
     "name": "stdout",
     "output_type": "stream",
     "text": [
      "<class 'pandas.core.frame.DataFrame'>\n",
      "Int64Index: 192339 entries, 15 to 212228\n",
      "Data columns (total 34 columns):\n",
      " #   Column                    Non-Null Count   Dtype  \n",
      "---  ------                    --------------   -----  \n",
      " 0   RUBRO_ECON                192339 non-null  object \n",
      " 1   ANTIGUEDAD_E              192339 non-null  object \n",
      " 2   TRAMO_VENTA               192339 non-null  float64\n",
      " 3   NUM_TRABAJADORES          192339 non-null  float64\n",
      " 4   TOTAL_UTILITARIOS         192339 non-null  float64\n",
      " 5   UTILITARIOS_EXCLUSION     192339 non-null  float64\n",
      " 6   RELEVANTE_BUSES           192339 non-null  float64\n",
      " 7   RELEVANTE_CAMIONES        192339 non-null  float64\n",
      " 8   RELEVANTE_RODADOS         192339 non-null  float64\n",
      " 9   RELEVANTE_VANS            192339 non-null  float64\n",
      " 10  RELEVANTE_CARGA           192339 non-null  float64\n",
      " 11  RELEVANTE_PASAJERA        192339 non-null  float64\n",
      " 12  RELEVANTE_PESADO          192339 non-null  float64\n",
      " 13  RELEVANTE_CAMIONETA       192339 non-null  float64\n",
      " 14  RELEVANTE_MEDIANO         192339 non-null  float64\n",
      " 15  RELEVANTE_OTROS           192339 non-null  float64\n",
      " 16  RELEVANTE_LIVIANO         192339 non-null  float64\n",
      " 17  RELEVANTE_CAMIONETA_DCAB  192339 non-null  float64\n",
      " 18  RELEVANTE_FORESTAL        192339 non-null  float64\n",
      " 19  RELEVANTE_CAMABAJA        192339 non-null  float64\n",
      " 20  MARCA_AGRUPADA            192339 non-null  object \n",
      " 21  FLOTA_NUEVA               192339 non-null  float64\n",
      " 22  ANTIGUEDAD_FLOTA          192339 non-null  float64\n",
      " 23  COMPRO_NUM                192339 non-null  float64\n",
      " 24  CAMPANAS_U180D            192339 non-null  float64\n",
      " 25  CAMPANAS_U180D_C          192339 non-null  float64\n",
      " 26  SERVICIOS_PV              192339 non-null  float64\n",
      " 27  REGION                    192339 non-null  object \n",
      " 28  COMUNA_CRM                192339 non-null  object \n",
      " 29  USADO_NUEVO               192339 non-null  object \n",
      " 30  DESC_TIPO_VEHICULO        192339 non-null  object \n",
      " 31  NUM_OFERTAS_U12M          192339 non-null  float64\n",
      " 32  COMPRAS_REALIZADAS_U12M   192339 non-null  float64\n",
      " 33  TIPO_CREDITO_USADO_ANT    192339 non-null  object \n",
      "dtypes: float64(26), object(8)\n",
      "memory usage: 56.4+ MB\n"
     ]
    }
   ],
   "source": [
    "df3=df1\n",
    "\n",
    "df3.info()"
   ]
  },
  {
   "cell_type": "code",
   "execution_count": 43,
   "metadata": {},
   "outputs": [],
   "source": [
    "tabla=variables_dummy(df3,\"ANTIGUEDAD_E\")\n",
    "tabla=variables_dummy(tabla,\"DESC_TIPO_VEHICULO\")\n",
    "tabla=variables_dummy(tabla,\"MARCA_AGRUPADA\")\n",
    "tabla=variables_dummy(tabla,\"RUBRO_ECON\")\n",
    "tabla=variables_dummy(tabla,\"REGION\")\n",
    "#tabla=variables_dummy(tabla,\"COMUNA_CRM\")\n",
    "tabla=variables_dummy(tabla,\"USADO_NUEVO\")\n",
    "tabla=variables_dummy(tabla,\"TIPO_CREDITO_USADO_ANT\")\n",
    "\n",
    "tabla=tabla.drop([\"COMUNA_CRM\"], axis=1)"
   ]
  },
  {
   "cell_type": "code",
   "execution_count": 44,
   "metadata": {},
   "outputs": [],
   "source": [
    "y=tabla[\"COMPRO_NUM\"]\n",
    "x=tabla.drop([\"COMPRO_NUM\"], axis=1)"
   ]
  },
  {
   "cell_type": "markdown",
   "metadata": {},
   "source": [
    "# Inicio de modelamiento"
   ]
  },
  {
   "cell_type": "markdown",
   "metadata": {},
   "source": [
    "### Datos entrenamiento y testeo"
   ]
  },
  {
   "cell_type": "markdown",
   "metadata": {},
   "source": [
    "como esta desbalanceado, primero divido la muestra pero por estratos"
   ]
  },
  {
   "cell_type": "code",
   "execution_count": 45,
   "metadata": {},
   "outputs": [],
   "source": [
    "x_res,x_test,y_res,y_test=train_test_split(x,y,test_size=0.2,random_state=1010)"
   ]
  },
  {
   "cell_type": "markdown",
   "metadata": {},
   "source": [
    "Revisamos como quedan las separaciones"
   ]
  },
  {
   "cell_type": "code",
   "execution_count": 46,
   "metadata": {},
   "outputs": [
    {
     "data": {
      "text/plain": [
       "(0.08353750869234619, 0.08399188936258709, (153871,), (38468,))"
      ]
     },
     "execution_count": 46,
     "metadata": {},
     "output_type": "execute_result"
    }
   ],
   "source": [
    "y_res.mean(),y_test.mean(),y_res.shape,y_test.shape"
   ]
  },
  {
   "cell_type": "markdown",
   "metadata": {},
   "source": [
    "Tenemos un problema con datos desbalanceados, por lo que revisemos como se comporta este desbalance utilizando un modelo sde random forest como base inicial"
   ]
  },
  {
   "cell_type": "code",
   "execution_count": 47,
   "metadata": {},
   "outputs": [],
   "source": [
    "modelo_rfc = RandomForestClassifier().fit(x_res, y_res)"
   ]
  },
  {
   "cell_type": "code",
   "execution_count": 48,
   "metadata": {
    "scrolled": true
   },
   "outputs": [
    {
     "name": "stdout",
     "output_type": "stream",
     "text": [
      "Matriz de confusion:\n",
      "                   Prediccion falso  Prediccion verdadero\n",
      "Actual falsa                 33880                  1357\n",
      "Actual verdadera              2667                   564\n"
     ]
    },
    {
     "data": {
      "text/html": [
       "<div>\n",
       "<style scoped>\n",
       "    .dataframe tbody tr th:only-of-type {\n",
       "        vertical-align: middle;\n",
       "    }\n",
       "\n",
       "    .dataframe tbody tr th {\n",
       "        vertical-align: top;\n",
       "    }\n",
       "\n",
       "    .dataframe thead th {\n",
       "        text-align: right;\n",
       "    }\n",
       "</style>\n",
       "<table border=\"1\" class=\"dataframe\">\n",
       "  <thead>\n",
       "    <tr style=\"text-align: right;\">\n",
       "      <th></th>\n",
       "      <th>Entrenamiento</th>\n",
       "      <th>Testeo</th>\n",
       "    </tr>\n",
       "  </thead>\n",
       "  <tbody>\n",
       "    <tr>\n",
       "      <th>Accuracy</th>\n",
       "      <td>0.973</td>\n",
       "      <td>0.895</td>\n",
       "    </tr>\n",
       "    <tr>\n",
       "      <th>recall</th>\n",
       "      <td>0.747</td>\n",
       "      <td>0.174</td>\n",
       "    </tr>\n",
       "    <tr>\n",
       "      <th>roc</th>\n",
       "      <td>0.993</td>\n",
       "      <td>0.820</td>\n",
       "    </tr>\n",
       "    <tr>\n",
       "      <th>f1</th>\n",
       "      <td>0.824</td>\n",
       "      <td>0.218</td>\n",
       "    </tr>\n",
       "  </tbody>\n",
       "</table>\n",
       "</div>"
      ],
      "text/plain": [
       "          Entrenamiento  Testeo\n",
       "Accuracy          0.973   0.895\n",
       "recall            0.747   0.174\n",
       "roc               0.993   0.820\n",
       "f1                0.824   0.218"
      ]
     },
     "execution_count": 48,
     "metadata": {},
     "output_type": "execute_result"
    }
   ],
   "source": [
    "#evaluacion del modelo\n",
    "mediciones(x_res,y_res,x_test,y_test,modelo_rfc)   "
   ]
  },
  {
   "cell_type": "markdown",
   "metadata": {},
   "source": [
    "El recall es muy bajo y se ve afectado el f1, es necesario balancear los datos"
   ]
  },
  {
   "cell_type": "markdown",
   "metadata": {},
   "source": [
    "### Balanceo de datos de entrenamiento"
   ]
  },
  {
   "cell_type": "markdown",
   "metadata": {},
   "source": [
    "Tengo la opcion de bajar o subir la muestra, a modo de no perder informacion se sube"
   ]
  },
  {
   "cell_type": "code",
   "execution_count": 49,
   "metadata": {},
   "outputs": [
    {
     "name": "stderr",
     "output_type": "stream",
     "text": [
      "Using TensorFlow backend.\n"
     ]
    }
   ],
   "source": [
    "from imblearn.under_sampling import NearMiss\n",
    "from imblearn.over_sampling import SMOTE \n",
    "nm = SMOTE(random_state = 10101) \n",
    "#nm = NearMiss(random_state = 10101)"
   ]
  },
  {
   "cell_type": "code",
   "execution_count": 50,
   "metadata": {},
   "outputs": [],
   "source": [
    "x_train,y_train=nm.fit_resample(x_res,y_res)"
   ]
  },
  {
   "cell_type": "markdown",
   "metadata": {},
   "source": [
    "Reviso dimenciones nuevamente"
   ]
  },
  {
   "cell_type": "code",
   "execution_count": 51,
   "metadata": {},
   "outputs": [
    {
     "data": {
      "text/plain": [
       "((153871,), 0.08353750869234619, (282034,), 0.5)"
      ]
     },
     "execution_count": 51,
     "metadata": {},
     "output_type": "execute_result"
    }
   ],
   "source": [
    "y_res.shape, y_res.mean(), y_train.shape,y_train.mean()"
   ]
  },
  {
   "cell_type": "markdown",
   "metadata": {},
   "source": [
    "paso de 151 mil datos de entrenamiento a 280, mediante resample"
   ]
  },
  {
   "cell_type": "markdown",
   "metadata": {},
   "source": [
    "# Modelamiento con datos balanceados\n",
    "\n",
    "La estrategia en este caso es utilizar regresion logistica, en el caso de obtener un pobre ajuste, se utilitan varios modelos para probar"
   ]
  },
  {
   "cell_type": "markdown",
   "metadata": {},
   "source": [
    "## Regresion logistica como modelo base\n",
    "\n",
    "Utilizo regresion loistica y una busqueda por gridsearch para encontrar mejores hiperparametros"
   ]
  },
  {
   "cell_type": "code",
   "execution_count": 1,
   "metadata": {},
   "outputs": [
    {
     "ename": "NameError",
     "evalue": "name 'np' is not defined",
     "output_type": "error",
     "traceback": [
      "\u001b[1;31m---------------------------------------------------------------------------\u001b[0m",
      "\u001b[1;31mNameError\u001b[0m                                 Traceback (most recent call last)",
      "\u001b[1;32m<ipython-input-1-b7d8c27fe888>\u001b[0m in \u001b[0;36m<module>\u001b[1;34m\u001b[0m\n\u001b[0;32m      3\u001b[0m \u001b[1;33m\u001b[0m\u001b[0m\n\u001b[0;32m      4\u001b[0m \u001b[1;33m\u001b[0m\u001b[0m\n\u001b[1;32m----> 5\u001b[1;33m \u001b[0mgrid\u001b[0m\u001b[1;33m=\u001b[0m\u001b[1;33m{\u001b[0m\u001b[1;34m\"C\"\u001b[0m\u001b[1;33m:\u001b[0m\u001b[0mnp\u001b[0m\u001b[1;33m.\u001b[0m\u001b[0mlogspace\u001b[0m\u001b[1;33m(\u001b[0m\u001b[1;33m-\u001b[0m\u001b[1;36m3\u001b[0m\u001b[1;33m,\u001b[0m\u001b[1;36m3\u001b[0m\u001b[1;33m,\u001b[0m\u001b[1;36m3\u001b[0m\u001b[1;33m)\u001b[0m\u001b[1;33m,\u001b[0m \u001b[1;34m\"penalty\"\u001b[0m\u001b[1;33m:\u001b[0m\u001b[1;33m[\u001b[0m\u001b[1;34m\"l2\"\u001b[0m\u001b[1;33m]\u001b[0m\u001b[1;33m}\u001b[0m\u001b[1;33m\u001b[0m\u001b[1;33m\u001b[0m\u001b[0m\n\u001b[0m\u001b[0;32m      6\u001b[0m \u001b[1;33m\u001b[0m\u001b[0m\n\u001b[0;32m      7\u001b[0m \u001b[0mlogreg\u001b[0m\u001b[1;33m=\u001b[0m\u001b[0mLogisticRegression\u001b[0m\u001b[1;33m(\u001b[0m\u001b[1;33m)\u001b[0m\u001b[1;33m\u001b[0m\u001b[1;33m\u001b[0m\u001b[0m\n",
      "\u001b[1;31mNameError\u001b[0m: name 'np' is not defined"
     ]
    }
   ],
   "source": [
    "from sklearn.linear_model import LogisticRegression\n",
    "from sklearn.model_selection import GridSearchCV\n",
    "\n",
    "\n",
    "grid={\"C\":np.logspace(-3,3,3), \"penalty\":[\"l2\"]}\n",
    "\n",
    "logreg=LogisticRegression()\n",
    "\n",
    "logreg_cv=GridSearchCV(logreg,grid,cv=5,scoring='accuracy',verbose=0)"
   ]
  },
  {
   "cell_type": "code",
   "execution_count": 53,
   "metadata": {
    "scrolled": true
   },
   "outputs": [
    {
     "data": {
      "text/plain": [
       "GridSearchCV(cv=5, error_score=nan,\n",
       "             estimator=LogisticRegression(C=1.0, class_weight=None, dual=False,\n",
       "                                          fit_intercept=True,\n",
       "                                          intercept_scaling=1, l1_ratio=None,\n",
       "                                          max_iter=100, multi_class='auto',\n",
       "                                          n_jobs=None, penalty='l2',\n",
       "                                          random_state=None, solver='lbfgs',\n",
       "                                          tol=0.0001, verbose=0,\n",
       "                                          warm_start=False),\n",
       "             iid='deprecated', n_jobs=None,\n",
       "             param_grid={'C': array([1.e-03, 1.e+00, 1.e+03]),\n",
       "                         'penalty': ['l2']},\n",
       "             pre_dispatch='2*n_jobs', refit=True, return_train_score=False,\n",
       "             scoring='f1', verbose=0)"
      ]
     },
     "execution_count": 53,
     "metadata": {},
     "output_type": "execute_result"
    }
   ],
   "source": [
    "logreg_cv.fit(x_train,y_train)"
   ]
  },
  {
   "cell_type": "code",
   "execution_count": 54,
   "metadata": {
    "scrolled": true
   },
   "outputs": [
    {
     "data": {
      "text/plain": [
       "{'C': 1.0, 'penalty': 'l2'}"
      ]
     },
     "execution_count": 54,
     "metadata": {},
     "output_type": "execute_result"
    }
   ],
   "source": [
    "logreg_cv.best_params_"
   ]
  },
  {
   "cell_type": "code",
   "execution_count": 57,
   "metadata": {},
   "outputs": [
    {
     "data": {
      "text/plain": [
       "LogisticRegression(C=1, class_weight=None, dual=False, fit_intercept=True,\n",
       "                   intercept_scaling=1, l1_ratio=None, max_iter=100,\n",
       "                   multi_class='auto', n_jobs=None, penalty='l2',\n",
       "                   random_state=None, solver='lbfgs', tol=0.0001, verbose=0,\n",
       "                   warm_start=False)"
      ]
     },
     "execution_count": 57,
     "metadata": {},
     "output_type": "execute_result"
    }
   ],
   "source": [
    "logreg=LogisticRegression(C=1,penalty='l2')\n",
    "logreg.fit(x_train,y_train)"
   ]
  },
  {
   "cell_type": "code",
   "execution_count": 58,
   "metadata": {
    "scrolled": false
   },
   "outputs": [
    {
     "name": "stdout",
     "output_type": "stream",
     "text": [
      "Matriz de confusion:\n",
      "                   Prediccion falso  Prediccion verdadero\n",
      "Actual falsa                 29359                  5878\n",
      "Actual verdadera              1525                  1706\n"
     ]
    },
    {
     "data": {
      "text/html": [
       "<div>\n",
       "<style scoped>\n",
       "    .dataframe tbody tr th:only-of-type {\n",
       "        vertical-align: middle;\n",
       "    }\n",
       "\n",
       "    .dataframe tbody tr th {\n",
       "        vertical-align: top;\n",
       "    }\n",
       "\n",
       "    .dataframe thead th {\n",
       "        text-align: right;\n",
       "    }\n",
       "</style>\n",
       "<table border=\"1\" class=\"dataframe\">\n",
       "  <thead>\n",
       "    <tr style=\"text-align: right;\">\n",
       "      <th></th>\n",
       "      <th>Entrenamiento</th>\n",
       "      <th>Testeo</th>\n",
       "    </tr>\n",
       "  </thead>\n",
       "  <tbody>\n",
       "    <tr>\n",
       "      <th>Accuracy</th>\n",
       "      <td>0.842</td>\n",
       "      <td>0.807</td>\n",
       "    </tr>\n",
       "    <tr>\n",
       "      <th>recall</th>\n",
       "      <td>0.851</td>\n",
       "      <td>0.528</td>\n",
       "    </tr>\n",
       "    <tr>\n",
       "      <th>roc</th>\n",
       "      <td>0.936</td>\n",
       "      <td>0.824</td>\n",
       "    </tr>\n",
       "    <tr>\n",
       "      <th>f1</th>\n",
       "      <td>0.844</td>\n",
       "      <td>0.315</td>\n",
       "    </tr>\n",
       "  </tbody>\n",
       "</table>\n",
       "</div>"
      ],
      "text/plain": [
       "          Entrenamiento  Testeo\n",
       "Accuracy          0.842   0.807\n",
       "recall            0.851   0.528\n",
       "roc               0.936   0.824\n",
       "f1                0.844   0.315"
      ]
     },
     "execution_count": 58,
     "metadata": {},
     "output_type": "execute_result"
    }
   ],
   "source": [
    "mediciones(x_train,y_train,x_test,y_test,logreg)   "
   ]
  },
  {
   "cell_type": "markdown",
   "metadata": {},
   "source": [
    "Se aprecia un claro bajo ajuste, veamos si aplicamos otros modelos podemos mejorar esto (al menos el recall y press deben estar sobre 50%)"
   ]
  },
  {
   "cell_type": "markdown",
   "metadata": {},
   "source": [
    "## Multi-modelos"
   ]
  },
  {
   "cell_type": "markdown",
   "metadata": {},
   "source": [
    "Para evita probar uno a uno los modelos, se seleccionan varios y luego se verifica los con mejor rendimiento para hacer una busqueda ampliada de los mejores con gridsearch"
   ]
  },
  {
   "cell_type": "code",
   "execution_count": 60,
   "metadata": {
    "scrolled": false
   },
   "outputs": [
    {
     "name": "stdout",
     "output_type": "stream",
     "text": [
      "\n",
      " modelo: LR\n",
      "          Testeo\n",
      "Accuracy   0.780\n",
      "recall     0.622\n",
      "f1 score: 0.322\n",
      "roc-auc: 0.8273713698163087\n",
      "[[28009  7228]\n",
      " [ 1220  2011]]\n",
      "\n",
      " modelo: SVC\n",
      "          Testeo\n",
      "Accuracy   0.681\n",
      "recall     0.422\n",
      "f1 score: 0.182\n",
      "[[24839 10398]\n",
      " [ 1865  1366]]\n",
      "\n",
      " modelo: RF\n",
      "          Testeo\n",
      "Accuracy   0.884\n",
      "recall     0.275\n",
      "f1 score: 0.286\n",
      "roc-auc: 0.8269351276193206\n",
      "[[33141  2096]\n",
      " [ 2341   890]]\n",
      "\n",
      " modelo: TREE\n",
      "          Testeo\n",
      "Accuracy   0.889\n",
      "recall     0.313\n",
      "f1 score: 0.323\n",
      "roc-auc: 0.651897338890539\n",
      "[[33215  2022]\n",
      " [ 2219  1012]]\n",
      "\n",
      " modelo: MLP\n",
      "          Testeo\n",
      "Accuracy   0.859\n",
      "recall     0.371\n",
      "f1 score: 0.307\n",
      "roc-auc: 0.8227142374393028\n",
      "[[31863  3374]\n",
      " [ 2030  1201]]\n",
      "\n",
      " modelo: GBOOST\n",
      "          Testeo\n",
      "Accuracy   0.618\n",
      "recall     0.936\n",
      "f1 score: 0.291\n",
      "roc-auc: 0.7681546261615657\n",
      "[[20768 14469]\n",
      " [  206  3025]]\n",
      "\n",
      " modelo: ADABOOST\n",
      "          Testeo\n",
      "Accuracy   0.693\n",
      "recall     0.801\n",
      "f1 score: 0.305\n",
      "roc-auc: 0.8217063345223373\n",
      "[[24091 11146]\n",
      " [  641  2590]]\n",
      "\n",
      " modelo: GRBOOST\n",
      "          Testeo\n",
      "Accuracy   0.722\n",
      "recall     0.790\n",
      "f1 score: 0.323\n",
      "roc-auc: 0.8370433221663447\n",
      "[[25244  9993]\n",
      " [  677  2554]]\n"
     ]
    }
   ],
   "source": [
    "from sklearn import svm\n",
    "from sklearn.linear_model import LogisticRegression\n",
    "from sklearn.ensemble import RandomForestClassifier,AdaBoostClassifier,VotingClassifier,StackingClassifier,GradientBoostingClassifier\n",
    "from sklearn.neural_network import MLPClassifier\n",
    "from sklearn.discriminant_analysis import LinearDiscriminantAnalysis\n",
    "from sklearn.neighbors import KNeighborsClassifier\n",
    "from sklearn.naive_bayes import GaussianNB\n",
    "from sklearn.tree import DecisionTreeClassifier          \n",
    "              \n",
    "\n",
    "modelos = [[\"LR\",\"SVC\",\"RF\",\"TREE\",\"MLP\",\"GBOOST\",\"ADABOOST\",\"GRBOOST\"],\n",
    "           [\n",
    "            LogisticRegression(C=1,penalty='l2'),  \n",
    "            svm.SVC(max_iter=50),\n",
    "            RandomForestClassifier(),\n",
    "            DecisionTreeClassifier(),\n",
    "            MLPClassifier(),\n",
    "            GaussianNB(),\n",
    "            AdaBoostClassifier(),\n",
    "            GradientBoostingClassifier()]\n",
    "          ]\n",
    "warnings.filterwarnings(\"ignore\")\n",
    "\n",
    "resultados=[]\n",
    "predicion=[]\n",
    "error=[]\n",
    "precision=[]\n",
    "a=0\n",
    "for i in modelos[1]:\n",
    "    ajuste=i.fit(x_train,y_train)\n",
    "    resultados.append(ajuste)\n",
    "    predicion.append(ajuste.predict(x_test))\n",
    "    er = i.score(x_test,y_test)\n",
    "    error.append(er)\n",
    "    precision.append(ajuste.score(x_test , y_test))\n",
    "    print(\"\\n modelo:\",modelos[0][a])\n",
    "    print(mediciones2(x_train,y_train,x_test,y_test,ajuste))\n",
    "    print(\"f1 score:\",int(f1_score(y_test,ajuste.predict(x_test))*1000)/1000)\n",
    "    if modelos[0][a]!='SVC':\n",
    "        print(\"roc-auc:\", roc_auc_score(y_test,ajuste.predict_proba(x_test)[:,1]))\n",
    "    print(confusion_matrix(y_test,ajuste.predict(x_test)))\n",
    "    a=a+1"
   ]
  },
  {
   "cell_type": "markdown",
   "metadata": {},
   "source": [
    "Siguiente paso es usar gridsearch para buscar la mejor version de cada uno usando como referencia para los mejores en f1 (arbol de decision, random forest, mlp, adaboost)"
   ]
  },
  {
   "cell_type": "markdown",
   "metadata": {},
   "source": [
    "## Tree Clasificador Tunning"
   ]
  },
  {
   "cell_type": "code",
   "execution_count": 65,
   "metadata": {},
   "outputs": [
    {
     "name": "stdout",
     "output_type": "stream",
     "text": [
      "Fitting 3 folds for each of 182 candidates, totalling 546 fits\n"
     ]
    },
    {
     "name": "stderr",
     "output_type": "stream",
     "text": [
      "[Parallel(n_jobs=-1)]: Using backend LokyBackend with 8 concurrent workers.\n",
      "[Parallel(n_jobs=-1)]: Done   2 tasks      | elapsed:    2.1s\n",
      "[Parallel(n_jobs=-1)]: Done   9 tasks      | elapsed:    4.2s\n",
      "[Parallel(n_jobs=-1)]: Done  16 tasks      | elapsed:    5.1s\n",
      "[Parallel(n_jobs=-1)]: Done  25 tasks      | elapsed:    9.0s\n",
      "[Parallel(n_jobs=-1)]: Done  34 tasks      | elapsed:   11.8s\n",
      "[Parallel(n_jobs=-1)]: Done  45 tasks      | elapsed:   16.7s\n",
      "[Parallel(n_jobs=-1)]: Done  56 tasks      | elapsed:   21.4s\n",
      "[Parallel(n_jobs=-1)]: Done  69 tasks      | elapsed:   25.7s\n",
      "[Parallel(n_jobs=-1)]: Done  82 tasks      | elapsed:   31.5s\n",
      "[Parallel(n_jobs=-1)]: Done  97 tasks      | elapsed:   38.8s\n",
      "[Parallel(n_jobs=-1)]: Done 112 tasks      | elapsed:   46.1s\n",
      "[Parallel(n_jobs=-1)]: Done 129 tasks      | elapsed:   55.3s\n",
      "[Parallel(n_jobs=-1)]: Done 146 tasks      | elapsed:  1.1min\n",
      "[Parallel(n_jobs=-1)]: Done 165 tasks      | elapsed:  1.3min\n",
      "[Parallel(n_jobs=-1)]: Done 184 tasks      | elapsed:  1.5min\n",
      "[Parallel(n_jobs=-1)]: Done 205 tasks      | elapsed:  1.8min\n",
      "[Parallel(n_jobs=-1)]: Done 226 tasks      | elapsed:  2.0min\n",
      "[Parallel(n_jobs=-1)]: Done 249 tasks      | elapsed:  2.3min\n",
      "[Parallel(n_jobs=-1)]: Done 272 tasks      | elapsed:  2.6min\n",
      "[Parallel(n_jobs=-1)]: Done 297 tasks      | elapsed:  2.8min\n",
      "[Parallel(n_jobs=-1)]: Done 322 tasks      | elapsed:  2.9min\n",
      "[Parallel(n_jobs=-1)]: Done 349 tasks      | elapsed:  3.1min\n",
      "[Parallel(n_jobs=-1)]: Done 376 tasks      | elapsed:  3.3min\n",
      "[Parallel(n_jobs=-1)]: Done 405 tasks      | elapsed:  3.5min\n",
      "[Parallel(n_jobs=-1)]: Done 434 tasks      | elapsed:  3.8min\n",
      "[Parallel(n_jobs=-1)]: Done 465 tasks      | elapsed:  4.2min\n",
      "[Parallel(n_jobs=-1)]: Done 496 tasks      | elapsed:  4.6min\n",
      "[Parallel(n_jobs=-1)]: Done 529 tasks      | elapsed:  5.1min\n",
      "[Parallel(n_jobs=-1)]: Done 546 out of 546 | elapsed:  5.3min finished\n"
     ]
    }
   ],
   "source": [
    "from sklearn.tree import DecisionTreeClassifier\n",
    "from sklearn.model_selection import GridSearchCV\n",
    "\n",
    "tree_params = {\"criterion\": [\"gini\", \"entropy\"], \"max_depth\": list(range(1,8,1)), \n",
    "              \"min_samples_leaf\": list(range(5,18,1))}\n",
    "\n",
    "tree_cv = GridSearchCV(DecisionTreeClassifier(), tree_params, cv=3,n_jobs=-1,verbose=10).fit(x_train,y_train)\n"
   ]
  },
  {
   "cell_type": "code",
   "execution_count": 66,
   "metadata": {},
   "outputs": [
    {
     "name": "stdout",
     "output_type": "stream",
     "text": [
      "Matriz de confusion:\n",
      "                   Prediccion falso  Prediccion verdadero\n",
      "Actual falsa                 22218                 13019\n",
      "Actual verdadera               338                  2893\n"
     ]
    },
    {
     "data": {
      "text/html": [
       "<div>\n",
       "<style scoped>\n",
       "    .dataframe tbody tr th:only-of-type {\n",
       "        vertical-align: middle;\n",
       "    }\n",
       "\n",
       "    .dataframe tbody tr th {\n",
       "        vertical-align: top;\n",
       "    }\n",
       "\n",
       "    .dataframe thead th {\n",
       "        text-align: right;\n",
       "    }\n",
       "</style>\n",
       "<table border=\"1\" class=\"dataframe\">\n",
       "  <thead>\n",
       "    <tr style=\"text-align: right;\">\n",
       "      <th></th>\n",
       "      <th>Entrenamiento</th>\n",
       "      <th>Testeo</th>\n",
       "    </tr>\n",
       "  </thead>\n",
       "  <tbody>\n",
       "    <tr>\n",
       "      <th>Accuracy</th>\n",
       "      <td>0.797</td>\n",
       "      <td>0.652</td>\n",
       "    </tr>\n",
       "    <tr>\n",
       "      <th>recall</th>\n",
       "      <td>0.963</td>\n",
       "      <td>0.895</td>\n",
       "    </tr>\n",
       "    <tr>\n",
       "      <th>roc</th>\n",
       "      <td>0.867</td>\n",
       "      <td>0.818</td>\n",
       "    </tr>\n",
       "    <tr>\n",
       "      <th>f1</th>\n",
       "      <td>0.826</td>\n",
       "      <td>0.302</td>\n",
       "    </tr>\n",
       "  </tbody>\n",
       "</table>\n",
       "</div>"
      ],
      "text/plain": [
       "          Entrenamiento  Testeo\n",
       "Accuracy          0.797   0.652\n",
       "recall            0.963   0.895\n",
       "roc               0.867   0.818\n",
       "f1                0.826   0.302"
      ]
     },
     "execution_count": 66,
     "metadata": {},
     "output_type": "execute_result"
    }
   ],
   "source": [
    "mediciones(x_train,y_train,x_test,y_test,tree_cv)"
   ]
  },
  {
   "cell_type": "markdown",
   "metadata": {},
   "source": [
    "No mejoro mucho respecto a lo que ya estaba ajustado (claso sobre ajuste)"
   ]
  },
  {
   "cell_type": "markdown",
   "metadata": {},
   "source": [
    "## Random Forest Tunning"
   ]
  },
  {
   "cell_type": "code",
   "execution_count": 67,
   "metadata": {},
   "outputs": [
    {
     "name": "stdout",
     "output_type": "stream",
     "text": [
      "Fitting 3 folds for each of 9 candidates, totalling 27 fits\n"
     ]
    },
    {
     "name": "stderr",
     "output_type": "stream",
     "text": [
      "[Parallel(n_jobs=-1)]: Using backend LokyBackend with 8 concurrent workers.\n",
      "[Parallel(n_jobs=-1)]: Done   2 tasks      | elapsed:   21.7s\n",
      "[Parallel(n_jobs=-1)]: Done   9 tasks      | elapsed:   46.3s\n",
      "[Parallel(n_jobs=-1)]: Done  15 out of  27 | elapsed:  1.1min remaining:   54.1s\n",
      "[Parallel(n_jobs=-1)]: Done  18 out of  27 | elapsed:  1.5min remaining:   44.9s\n",
      "[Parallel(n_jobs=-1)]: Done  21 out of  27 | elapsed:  1.6min remaining:   27.5s\n",
      "[Parallel(n_jobs=-1)]: Done  24 out of  27 | elapsed:  1.8min remaining:   13.5s\n",
      "[Parallel(n_jobs=-1)]: Done  27 out of  27 | elapsed:  2.0min remaining:    0.0s\n",
      "[Parallel(n_jobs=-1)]: Done  27 out of  27 | elapsed:  2.0min finished\n"
     ]
    }
   ],
   "source": [
    "## from sklearn.ensemble import RandomForestClassifier\n",
    "from sklearn.model_selection import GridSearchCV\n",
    "\n",
    "parameters = {\n",
    "    'n_estimators'      : [25,30,50],\n",
    "    'max_depth'         : [8,10,15],\n",
    "    'random_state'      : [0]}\n",
    "\n",
    "rf_cv = GridSearchCV(RandomForestClassifier(), parameters, cv=3, n_jobs=-1,verbose=10).fit(x_train,y_train)"
   ]
  },
  {
   "cell_type": "code",
   "execution_count": 68,
   "metadata": {},
   "outputs": [
    {
     "data": {
      "text/plain": [
       "{'max_depth': 15, 'n_estimators': 50, 'random_state': 0}"
      ]
     },
     "execution_count": 68,
     "metadata": {},
     "output_type": "execute_result"
    }
   ],
   "source": [
    "rf_cv.best_params_"
   ]
  },
  {
   "cell_type": "code",
   "execution_count": 69,
   "metadata": {},
   "outputs": [
    {
     "name": "stdout",
     "output_type": "stream",
     "text": [
      "Matriz de confusion:\n",
      "                   Prediccion falso  Prediccion verdadero\n",
      "Actual falsa                 26820                  8417\n",
      "Actual verdadera               892                  2339\n"
     ]
    },
    {
     "data": {
      "text/html": [
       "<div>\n",
       "<style scoped>\n",
       "    .dataframe tbody tr th:only-of-type {\n",
       "        vertical-align: middle;\n",
       "    }\n",
       "\n",
       "    .dataframe tbody tr th {\n",
       "        vertical-align: top;\n",
       "    }\n",
       "\n",
       "    .dataframe thead th {\n",
       "        text-align: right;\n",
       "    }\n",
       "</style>\n",
       "<table border=\"1\" class=\"dataframe\">\n",
       "  <thead>\n",
       "    <tr style=\"text-align: right;\">\n",
       "      <th></th>\n",
       "      <th>Entrenamiento</th>\n",
       "      <th>Testeo</th>\n",
       "    </tr>\n",
       "  </thead>\n",
       "  <tbody>\n",
       "    <tr>\n",
       "      <th>Accuracy</th>\n",
       "      <td>0.879</td>\n",
       "      <td>0.758</td>\n",
       "    </tr>\n",
       "    <tr>\n",
       "      <th>recall</th>\n",
       "      <td>0.982</td>\n",
       "      <td>0.723</td>\n",
       "    </tr>\n",
       "    <tr>\n",
       "      <th>roc</th>\n",
       "      <td>0.968</td>\n",
       "      <td>0.844</td>\n",
       "    </tr>\n",
       "    <tr>\n",
       "      <th>f1</th>\n",
       "      <td>0.890</td>\n",
       "      <td>0.334</td>\n",
       "    </tr>\n",
       "  </tbody>\n",
       "</table>\n",
       "</div>"
      ],
      "text/plain": [
       "          Entrenamiento  Testeo\n",
       "Accuracy          0.879   0.758\n",
       "recall            0.982   0.723\n",
       "roc               0.968   0.844\n",
       "f1                0.890   0.334"
      ]
     },
     "execution_count": 69,
     "metadata": {},
     "output_type": "execute_result"
    }
   ],
   "source": [
    "mediciones(x_train,y_train,x_test,y_test,rf_cv)"
   ]
  },
  {
   "cell_type": "markdown",
   "metadata": {},
   "source": [
    "Los modelos que revisare en mayor profundidad son la rn, adaboost y randomforest"
   ]
  },
  {
   "cell_type": "markdown",
   "metadata": {},
   "source": [
    "## Adaboost con grid search"
   ]
  },
  {
   "cell_type": "code",
   "execution_count": 70,
   "metadata": {},
   "outputs": [],
   "source": [
    "from sklearn.ensemble import AdaBoostClassifier\n",
    "from sklearn.tree import DecisionTreeClassifier\n",
    "from sklearn.model_selection import GridSearchCV\n",
    "\n",
    "params = {'base_estimator__max_depth':[10,13,15]}\n",
    "\n",
    "gs = GridSearchCV(AdaBoostClassifier(base_estimator=DecisionTreeClassifier()), params,cv=3,verbose=10,n_jobs=-1)\n",
    "\n",
    "#print(gs.best_estimator_)"
   ]
  },
  {
   "cell_type": "code",
   "execution_count": 71,
   "metadata": {
    "scrolled": false
   },
   "outputs": [
    {
     "name": "stdout",
     "output_type": "stream",
     "text": [
      "Fitting 3 folds for each of 3 candidates, totalling 9 fits\n"
     ]
    },
    {
     "name": "stderr",
     "output_type": "stream",
     "text": [
      "[Parallel(n_jobs=-1)]: Using backend LokyBackend with 8 concurrent workers.\n",
      "[Parallel(n_jobs=-1)]: Done   2 out of   9 | elapsed:  9.3min remaining: 32.4min\n",
      "[Parallel(n_jobs=-1)]: Done   3 out of   9 | elapsed:  9.3min remaining: 18.7min\n",
      "[Parallel(n_jobs=-1)]: Done   4 out of   9 | elapsed: 10.7min remaining: 13.4min\n",
      "[Parallel(n_jobs=-1)]: Done   5 out of   9 | elapsed: 10.8min remaining:  8.6min\n",
      "[Parallel(n_jobs=-1)]: Done   6 out of   9 | elapsed: 10.8min remaining:  5.4min\n",
      "[Parallel(n_jobs=-1)]: Done   7 out of   9 | elapsed: 10.9min remaining:  3.1min\n",
      "[Parallel(n_jobs=-1)]: Done   9 out of   9 | elapsed: 13.4min remaining:    0.0s\n",
      "[Parallel(n_jobs=-1)]: Done   9 out of   9 | elapsed: 13.4min finished\n"
     ]
    },
    {
     "data": {
      "text/plain": [
       "GridSearchCV(cv=3, error_score=nan,\n",
       "             estimator=AdaBoostClassifier(algorithm='SAMME.R',\n",
       "                                          base_estimator=DecisionTreeClassifier(ccp_alpha=0.0,\n",
       "                                                                                class_weight=None,\n",
       "                                                                                criterion='gini',\n",
       "                                                                                max_depth=None,\n",
       "                                                                                max_features=None,\n",
       "                                                                                max_leaf_nodes=None,\n",
       "                                                                                min_impurity_decrease=0.0,\n",
       "                                                                                min_impurity_split=None,\n",
       "                                                                                min_samples_leaf=1,\n",
       "                                                                                min_samples_split=2,\n",
       "                                                                                min_weight_fraction_leaf=0.0,\n",
       "                                                                                presort='deprecated',\n",
       "                                                                                random_state=None,\n",
       "                                                                                splitter='best'),\n",
       "                                          learning_rate=1.0, n_estimators=50,\n",
       "                                          random_state=None),\n",
       "             iid='deprecated', n_jobs=-1,\n",
       "             param_grid={'base_estimator__max_depth': [10, 13, 15]},\n",
       "             pre_dispatch='2*n_jobs', refit=True, return_train_score=False,\n",
       "             scoring=None, verbose=10)"
      ]
     },
     "execution_count": 71,
     "metadata": {},
     "output_type": "execute_result"
    }
   ],
   "source": [
    "gs.fit(x_train,y_train)"
   ]
  },
  {
   "cell_type": "code",
   "execution_count": 72,
   "metadata": {},
   "outputs": [
    {
     "data": {
      "text/plain": [
       "{'base_estimator__max_depth': 15}"
      ]
     },
     "execution_count": 72,
     "metadata": {},
     "output_type": "execute_result"
    }
   ],
   "source": [
    "gs.best_params_"
   ]
  },
  {
   "cell_type": "code",
   "execution_count": 73,
   "metadata": {},
   "outputs": [
    {
     "name": "stdout",
     "output_type": "stream",
     "text": [
      "Matriz de confusion:\n",
      "                   Prediccion falso  Prediccion verdadero\n",
      "Actual falsa                 33281                  1956\n",
      "Actual verdadera              2216                  1015\n"
     ]
    },
    {
     "data": {
      "text/html": [
       "<div>\n",
       "<style scoped>\n",
       "    .dataframe tbody tr th:only-of-type {\n",
       "        vertical-align: middle;\n",
       "    }\n",
       "\n",
       "    .dataframe tbody tr th {\n",
       "        vertical-align: top;\n",
       "    }\n",
       "\n",
       "    .dataframe thead th {\n",
       "        text-align: right;\n",
       "    }\n",
       "</style>\n",
       "<table border=\"1\" class=\"dataframe\">\n",
       "  <thead>\n",
       "    <tr style=\"text-align: right;\">\n",
       "      <th></th>\n",
       "      <th>Entrenamiento</th>\n",
       "      <th>Testeo</th>\n",
       "    </tr>\n",
       "  </thead>\n",
       "  <tbody>\n",
       "    <tr>\n",
       "      <th>Accuracy</th>\n",
       "      <td>0.983</td>\n",
       "      <td>0.891</td>\n",
       "    </tr>\n",
       "    <tr>\n",
       "      <th>recall</th>\n",
       "      <td>0.984</td>\n",
       "      <td>0.314</td>\n",
       "    </tr>\n",
       "    <tr>\n",
       "      <th>roc</th>\n",
       "      <td>0.999</td>\n",
       "      <td>0.797</td>\n",
       "    </tr>\n",
       "    <tr>\n",
       "      <th>f1</th>\n",
       "      <td>0.983</td>\n",
       "      <td>0.327</td>\n",
       "    </tr>\n",
       "  </tbody>\n",
       "</table>\n",
       "</div>"
      ],
      "text/plain": [
       "          Entrenamiento  Testeo\n",
       "Accuracy          0.983   0.891\n",
       "recall            0.984   0.314\n",
       "roc               0.999   0.797\n",
       "f1                0.983   0.327"
      ]
     },
     "execution_count": 73,
     "metadata": {},
     "output_type": "execute_result"
    }
   ],
   "source": [
    "mediciones(x_train,y_train,x_test,y_test,gs)"
   ]
  },
  {
   "cell_type": "markdown",
   "metadata": {},
   "source": [
    "Teniendo en cuenta los ajustes actuales es un buen ajuste pero el recall es muy bajo, veamos mas opciones"
   ]
  },
  {
   "cell_type": "markdown",
   "metadata": {},
   "source": [
    "## Clasificador por Multi-Layer-Perc.  (RN)"
   ]
  },
  {
   "cell_type": "code",
   "execution_count": 74,
   "metadata": {},
   "outputs": [],
   "source": [
    "from sklearn.model_selection import GridSearchCV\n",
    "from sklearn.neural_network import MLPClassifier\n",
    "\n",
    "parameters = {'solver': ['lbfgs'], 'alpha': 10.0 ** -np.arange(1, 10), 'hidden_layer_sizes':np.arange(10, 15), 'random_state':[10101]}\n",
    "mlp_cv = GridSearchCV(MLPClassifier(), parameters, n_jobs=-1,verbose=10,cv=3,scoring='f1')\n"
   ]
  },
  {
   "cell_type": "code",
   "execution_count": 75,
   "metadata": {},
   "outputs": [
    {
     "name": "stdout",
     "output_type": "stream",
     "text": [
      "Fitting 3 folds for each of 45 candidates, totalling 135 fits\n"
     ]
    },
    {
     "name": "stderr",
     "output_type": "stream",
     "text": [
      "[Parallel(n_jobs=-1)]: Using backend LokyBackend with 8 concurrent workers.\n",
      "[Parallel(n_jobs=-1)]: Done   2 tasks      | elapsed:    7.3s\n",
      "[Parallel(n_jobs=-1)]: Done   9 tasks      | elapsed:  1.4min\n",
      "[Parallel(n_jobs=-1)]: Done  16 tasks      | elapsed:  2.4min\n",
      "[Parallel(n_jobs=-1)]: Done  25 tasks      | elapsed:  4.8min\n",
      "[Parallel(n_jobs=-1)]: Done  34 tasks      | elapsed:  6.8min\n",
      "[Parallel(n_jobs=-1)]: Done  45 tasks      | elapsed:  8.3min\n",
      "[Parallel(n_jobs=-1)]: Done  56 tasks      | elapsed: 11.2min\n",
      "[Parallel(n_jobs=-1)]: Done  69 tasks      | elapsed: 13.2min\n",
      "[Parallel(n_jobs=-1)]: Done  82 tasks      | elapsed: 16.0min\n",
      "[Parallel(n_jobs=-1)]: Done  97 tasks      | elapsed: 19.4min\n",
      "[Parallel(n_jobs=-1)]: Done 112 tasks      | elapsed: 22.8min\n",
      "[Parallel(n_jobs=-1)]: Done 135 out of 135 | elapsed: 27.4min finished\n"
     ]
    },
    {
     "data": {
      "text/plain": [
       "GridSearchCV(cv=3, error_score=nan,\n",
       "             estimator=MLPClassifier(activation='relu', alpha=0.0001,\n",
       "                                     batch_size='auto', beta_1=0.9,\n",
       "                                     beta_2=0.999, early_stopping=False,\n",
       "                                     epsilon=1e-08, hidden_layer_sizes=(100,),\n",
       "                                     learning_rate='constant',\n",
       "                                     learning_rate_init=0.001, max_fun=15000,\n",
       "                                     max_iter=200, momentum=0.9,\n",
       "                                     n_iter_no_change=10,\n",
       "                                     nesterovs_momentum=True, power_t=0.5,\n",
       "                                     random_state...\n",
       "                                     solver='adam', tol=0.0001,\n",
       "                                     validation_fraction=0.1, verbose=False,\n",
       "                                     warm_start=False),\n",
       "             iid='deprecated', n_jobs=-1,\n",
       "             param_grid={'alpha': array([1.e-01, 1.e-02, 1.e-03, 1.e-04, 1.e-05, 1.e-06, 1.e-07, 1.e-08,\n",
       "       1.e-09]),\n",
       "                         'hidden_layer_sizes': array([10, 11, 12, 13, 14]),\n",
       "                         'random_state': [10101], 'solver': ['lbfgs']},\n",
       "             pre_dispatch='2*n_jobs', refit=True, return_train_score=False,\n",
       "             scoring='f1', verbose=10)"
      ]
     },
     "execution_count": 75,
     "metadata": {},
     "output_type": "execute_result"
    }
   ],
   "source": [
    "mlp_cv.fit(x_train,y_train)"
   ]
  },
  {
   "cell_type": "code",
   "execution_count": 76,
   "metadata": {},
   "outputs": [
    {
     "data": {
      "text/plain": [
       "{'alpha': 1e-09,\n",
       " 'hidden_layer_sizes': 12,\n",
       " 'random_state': 10101,\n",
       " 'solver': 'lbfgs'}"
      ]
     },
     "execution_count": 76,
     "metadata": {},
     "output_type": "execute_result"
    }
   ],
   "source": [
    "mlp_cv.best_params_"
   ]
  },
  {
   "cell_type": "code",
   "execution_count": 77,
   "metadata": {},
   "outputs": [
    {
     "name": "stdout",
     "output_type": "stream",
     "text": [
      "Matriz de confusion:\n",
      "                   Prediccion falso  Prediccion verdadero\n",
      "Actual falsa                 29569                  5668\n",
      "Actual verdadera              1535                  1696\n"
     ]
    },
    {
     "data": {
      "text/html": [
       "<div>\n",
       "<style scoped>\n",
       "    .dataframe tbody tr th:only-of-type {\n",
       "        vertical-align: middle;\n",
       "    }\n",
       "\n",
       "    .dataframe tbody tr th {\n",
       "        vertical-align: top;\n",
       "    }\n",
       "\n",
       "    .dataframe thead th {\n",
       "        text-align: right;\n",
       "    }\n",
       "</style>\n",
       "<table border=\"1\" class=\"dataframe\">\n",
       "  <thead>\n",
       "    <tr style=\"text-align: right;\">\n",
       "      <th></th>\n",
       "      <th>Entrenamiento</th>\n",
       "      <th>Testeo</th>\n",
       "    </tr>\n",
       "  </thead>\n",
       "  <tbody>\n",
       "    <tr>\n",
       "      <th>Accuracy</th>\n",
       "      <td>0.849</td>\n",
       "      <td>0.812</td>\n",
       "    </tr>\n",
       "    <tr>\n",
       "      <th>recall</th>\n",
       "      <td>0.857</td>\n",
       "      <td>0.524</td>\n",
       "    </tr>\n",
       "    <tr>\n",
       "      <th>roc</th>\n",
       "      <td>0.941</td>\n",
       "      <td>0.826</td>\n",
       "    </tr>\n",
       "    <tr>\n",
       "      <th>f1</th>\n",
       "      <td>0.850</td>\n",
       "      <td>0.320</td>\n",
       "    </tr>\n",
       "  </tbody>\n",
       "</table>\n",
       "</div>"
      ],
      "text/plain": [
       "          Entrenamiento  Testeo\n",
       "Accuracy          0.849   0.812\n",
       "recall            0.857   0.524\n",
       "roc               0.941   0.826\n",
       "f1                0.850   0.320"
      ]
     },
     "execution_count": 77,
     "metadata": {},
     "output_type": "execute_result"
    }
   ],
   "source": [
    "mediciones(x_train,y_train,x_test,y_test,mlp_cv)"
   ]
  },
  {
   "cell_type": "markdown",
   "metadata": {},
   "source": [
    "Mejora el recall pero caemos en el accuracy, igualmente roc esta muy bueno"
   ]
  },
  {
   "cell_type": "markdown",
   "metadata": {},
   "source": [
    "Ya tengo la mejor version de estos 3 modelos, antes de escojer uno de ellos ¿juntemoslos todos y veamos si la union de todos es mejor que uno solo?"
   ]
  },
  {
   "cell_type": "code",
   "execution_count": 93,
   "metadata": {},
   "outputs": [
    {
     "name": "stderr",
     "output_type": "stream",
     "text": [
      "[Parallel(n_jobs=1)]: Using backend SequentialBackend with 1 concurrent workers.\n",
      "[Parallel(n_jobs=1)]: Done   1 out of   1 | elapsed:  3.9min remaining:    0.0s\n",
      "[Parallel(n_jobs=1)]: Done   2 out of   2 | elapsed:  7.5min remaining:    0.0s\n",
      "[Parallel(n_jobs=1)]: Done   3 out of   3 | elapsed: 11.1min remaining:    0.0s\n",
      "[Parallel(n_jobs=1)]: Done   4 out of   4 | elapsed: 14.7min remaining:    0.0s\n",
      "[Parallel(n_jobs=1)]: Done   5 out of   5 | elapsed: 18.2min remaining:    0.0s\n",
      "[Parallel(n_jobs=1)]: Done   5 out of   5 | elapsed: 18.2min finished\n",
      "[Parallel(n_jobs=1)]: Using backend SequentialBackend with 1 concurrent workers.\n",
      "[Parallel(n_jobs=1)]: Done   1 out of   1 | elapsed:   50.9s remaining:    0.0s\n",
      "[Parallel(n_jobs=1)]: Done   2 out of   2 | elapsed:  1.7min remaining:    0.0s\n",
      "[Parallel(n_jobs=1)]: Done   3 out of   3 | elapsed:  2.5min remaining:    0.0s\n",
      "[Parallel(n_jobs=1)]: Done   4 out of   4 | elapsed:  3.4min remaining:    0.0s\n",
      "[Parallel(n_jobs=1)]: Done   5 out of   5 | elapsed:  4.3min remaining:    0.0s\n",
      "[Parallel(n_jobs=1)]: Done   5 out of   5 | elapsed:  4.3min finished\n",
      "[Parallel(n_jobs=1)]: Using backend SequentialBackend with 1 concurrent workers.\n",
      "[Parallel(n_jobs=1)]: Done   1 out of   1 | elapsed:   19.4s remaining:    0.0s\n",
      "[Parallel(n_jobs=1)]: Done   2 out of   2 | elapsed:   39.3s remaining:    0.0s\n",
      "[Parallel(n_jobs=1)]: Done   3 out of   3 | elapsed:   59.0s remaining:    0.0s\n",
      "[Parallel(n_jobs=1)]: Done   4 out of   4 | elapsed:  1.3min remaining:    0.0s\n",
      "[Parallel(n_jobs=1)]: Done   5 out of   5 | elapsed:  1.6min remaining:    0.0s\n",
      "[Parallel(n_jobs=1)]: Done   5 out of   5 | elapsed:  1.6min finished\n"
     ]
    },
    {
     "data": {
      "text/plain": [
       "StackingClassifier(cv=None,\n",
       "                   estimators=[('ada',\n",
       "                                AdaBoostClassifier(algorithm='SAMME.R',\n",
       "                                                   base_estimator=DecisionTreeClassifier(ccp_alpha=0.0,\n",
       "                                                                                         class_weight=None,\n",
       "                                                                                         criterion='gini',\n",
       "                                                                                         max_depth=20,\n",
       "                                                                                         max_features=None,\n",
       "                                                                                         max_leaf_nodes=None,\n",
       "                                                                                         min_impurity_decrease=0.0,\n",
       "                                                                                         min_impurity_split=None,\n",
       "                                                                                         min_samples_leaf=1,\n",
       "                                                                                         min_samples_split=2,\n",
       "                                                                                         min_weight_fraction_leaf=0.0,\n",
       "                                                                                         presort='...\n",
       "                                                       random_state=0,\n",
       "                                                       verbose=0,\n",
       "                                                       warm_start=False))],\n",
       "                   final_estimator=LogisticRegression(C=100.0,\n",
       "                                                      class_weight=None,\n",
       "                                                      dual=False,\n",
       "                                                      fit_intercept=True,\n",
       "                                                      intercept_scaling=1,\n",
       "                                                      l1_ratio=None,\n",
       "                                                      max_iter=100,\n",
       "                                                      multi_class='auto',\n",
       "                                                      n_jobs=None, penalty='l2',\n",
       "                                                      random_state=None,\n",
       "                                                      solver='lbfgs',\n",
       "                                                      tol=0.0001, verbose=0,\n",
       "                                                      warm_start=False),\n",
       "                   n_jobs=1, passthrough=True, stack_method='auto', verbose=10)"
      ]
     },
     "execution_count": 93,
     "metadata": {},
     "output_type": "execute_result"
    }
   ],
   "source": [
    "from sklearn.ensemble import StackingClassifier\n",
    "from sklearn.model_selection import GridSearchCV\n",
    "from sklearn.linear_model import LogisticRegression\n",
    "from sklearn.ensemble import AdaBoostClassifier\n",
    "from sklearn.tree import DecisionTreeClassifier\n",
    "from sklearn.neural_network import MLPClassifier\n",
    "\n",
    "modelos =[('ada',AdaBoostClassifier(base_estimator=DecisionTreeClassifier(max_depth=20))),\n",
    "('mlp',MLPClassifier(alpha=0.1,hidden_layer_sizes=14,random_state= 10101,solver='lbfgs')),\n",
    "('rfc',RandomForestClassifier(max_depth=15,n_estimators=50,random_state=0))]\n",
    "\n",
    "modelo_salida = LogisticRegression(C= 1000, penalty= 'l2')\n",
    "\n",
    "#voy a forzarlo a usar las variables predictoras con las predichas\n",
    "stack=StackingClassifier(estimators=modelos, final_estimator=modelo_salida,n_jobs=1,passthrough=True,verbose=10)\n",
    "\n",
    "stack.fit(x_train,y_train)"
   ]
  },
  {
   "cell_type": "code",
   "execution_count": 94,
   "metadata": {},
   "outputs": [
    {
     "name": "stdout",
     "output_type": "stream",
     "text": [
      "Matriz de confusion:\n",
      "                   Prediccion falso  Prediccion verdadero\n",
      "Actual falsa                 16598                  1030\n",
      "Actual verdadera              1065                   541\n"
     ]
    },
    {
     "data": {
      "text/html": [
       "<div>\n",
       "<style scoped>\n",
       "    .dataframe tbody tr th:only-of-type {\n",
       "        vertical-align: middle;\n",
       "    }\n",
       "\n",
       "    .dataframe tbody tr th {\n",
       "        vertical-align: top;\n",
       "    }\n",
       "\n",
       "    .dataframe thead th {\n",
       "        text-align: right;\n",
       "    }\n",
       "</style>\n",
       "<table border=\"1\" class=\"dataframe\">\n",
       "  <thead>\n",
       "    <tr style=\"text-align: right;\">\n",
       "      <th></th>\n",
       "      <th>Entrenamiento</th>\n",
       "      <th>Testeo</th>\n",
       "    </tr>\n",
       "  </thead>\n",
       "  <tbody>\n",
       "    <tr>\n",
       "      <th>Accuracy</th>\n",
       "      <td>0.976</td>\n",
       "      <td>0.891</td>\n",
       "    </tr>\n",
       "    <tr>\n",
       "      <th>recall</th>\n",
       "      <td>0.982</td>\n",
       "      <td>0.336</td>\n",
       "    </tr>\n",
       "    <tr>\n",
       "      <th>roc</th>\n",
       "      <td>0.998</td>\n",
       "      <td>0.851</td>\n",
       "    </tr>\n",
       "    <tr>\n",
       "      <th>f1</th>\n",
       "      <td>0.976</td>\n",
       "      <td>0.340</td>\n",
       "    </tr>\n",
       "  </tbody>\n",
       "</table>\n",
       "</div>"
      ],
      "text/plain": [
       "          Entrenamiento  Testeo\n",
       "Accuracy          0.976   0.891\n",
       "recall            0.982   0.336\n",
       "roc               0.998   0.851\n",
       "f1                0.976   0.340"
      ]
     },
     "execution_count": 94,
     "metadata": {},
     "output_type": "execute_result"
    }
   ],
   "source": [
    "mediciones(x_train,y_train,x_test,y_test,stack)"
   ]
  },
  {
   "cell_type": "code",
   "execution_count": 78,
   "metadata": {},
   "outputs": [
    {
     "data": {
      "image/png": "[encoded data removed]",
      "text/plain": [
       "<Figure size 1152x576 with 1 Axes>"
      ]
     },
     "metadata": {
      "needs_background": "light"
     },
     "output_type": "display_data"
    }
   ],
   "source": [
    "log_reg_pred = logreg_cv.predict_proba(x_test)[:,1]\n",
    "rf_pred = rf_cv.predict_proba(x_test)[:,1]\n",
    "ada_pred = gs.predict_proba(x_test)[:,1]\n",
    "rn_pred = mlp_cv.predict_proba(x_test)[:,1]\n",
    "\n",
    "log_fpr, log_tpr, log_thresold = roc_curve(y_test, log_reg_pred)\n",
    "knear_fpr, knear_tpr, knear_threshold = roc_curve(y_test, rf_pred)\n",
    "svc_fpr, svc_tpr, svc_threshold = roc_curve(y_test, ada_pred)\n",
    "tree_fpr, tree_tpr, tree_threshold = roc_curve(y_test,rn_pred)\n",
    "\n",
    "\n",
    "plt.figure(figsize=(16,8))\n",
    "plt.title('Curva ROC \\n Top 4 Clasificadores', fontsize=18)\n",
    "plt.plot(log_fpr, log_tpr, label='Regresión logistica Score: {:.4f}'.format(roc_auc_score(y_test, log_reg_pred)))\n",
    "plt.plot(knear_fpr, knear_tpr, label='Random Forest Score: {:.4f}'.format(roc_auc_score(y_test, rf_pred)))\n",
    "plt.plot(svc_fpr, svc_tpr, label='AdaBoost: {:.4f}'.format(roc_auc_score(y_test, ada_pred)))\n",
    "plt.plot(tree_fpr, tree_tpr, label='Red neuronal Score: {:.4f}'.format(roc_auc_score(y_test, rn_pred)))\n",
    "plt.plot([0, 1], [0, 1], 'k--')\n",
    "plt.axis([-0.01, 1, 0, 1])\n",
    "plt.xlabel('Falso Positivo', fontsize=16)\n",
    "plt.ylabel('Verdadero Positivo', fontsize=16)\n",
    "plt.annotate('Roc minimo 50% \\n (Este es el minimo score a obtener)', xy=(0.5, 0.5), xytext=(0.6, 0.3),\n",
    "                arrowprops=dict(facecolor='#6E726D', shrink=0.05),\n",
    "                )\n",
    "plt.legend()\n",
    "    \n",
    "plt.show()"
   ]
  },
  {
   "cell_type": "markdown",
   "metadata": {},
   "source": [
    "# Conclusión"
   ]
  },
  {
   "cell_type": "markdown",
   "metadata": {},
   "source": [
    "En todos los modelos balaneados es posible apreciar un sobre ajuste de los valores, sin embargo es importante indicar que para el problema en cuestion es prioritario no desechar lead buenos e intentar desechar lead malos. por este motivo busco el mejor equilibrio entre recall y accuracy, evitando descuidar el presicion.\n",
    "\n",
    "Tal contexto lleva a dejar al modelo RF con el mejor comportamiento."
   ]
  },
  {
   "cell_type": "code",
   "execution_count": 79,
   "metadata": {},
   "outputs": [
    {
     "name": "stdout",
     "output_type": "stream",
     "text": [
      "Confusion matrix Random Forest:\n",
      " [[26820  8417]\n",
      " [  892  2339]]\n"
     ]
    },
    {
     "data": {
      "image/png": "[encoded data removed]",
      "text/plain": [
       "<Figure size 432x288 with 2 Axes>"
      ]
     },
     "metadata": {
      "needs_background": "light"
     },
     "output_type": "display_data"
    }
   ],
   "source": [
    "from sklearn.metrics import confusion_matrix\n",
    "from matplotlib import pyplot as plt\n",
    "\n",
    "conf_mat = confusion_matrix(y_true=y_test, y_pred=rf_cv.predict(x_test))\n",
    "print('Confusion matrix Random Forest:\\n', conf_mat)\n",
    "\n",
    "labels = ['No compra', 'Si compra']\n",
    "fig = plt.figure()\n",
    "ax = fig.add_subplot(111)\n",
    "cax = ax.matshow(conf_mat, cmap=plt.cm.Blues)\n",
    "fig.colorbar(cax)\n",
    "ax.set_xticklabels([''] + labels)\n",
    "ax.set_yticklabels([''] + labels)\n",
    "plt.xlabel('Estimado')\n",
    "plt.ylabel('Real')\n",
    "plt.show()"
   ]
  },
  {
   "cell_type": "markdown",
   "metadata": {},
   "source": [
    "# Exportación del modelo"
   ]
  },
  {
   "cell_type": "code",
   "execution_count": 80,
   "metadata": {},
   "outputs": [],
   "source": [
    "import pickle\n",
    "\n",
    "filename = 'lead_score_utilitario_empresa_modelo.sav'\n",
    "\n",
    "pickle.dump(rf_cv, open(filename, 'wb'))"
   ]
  },
  {
   "cell_type": "code",
   "execution_count": null,
   "metadata": {},
   "outputs": [],
   "source": []
  }
 ],
 "metadata": {
  "kernelspec": {
   "display_name": "Python 3",
   "language": "python",
   "name": "python3"
  },
  "language_info": {
   "codemirror_mode": {
    "name": "ipython",
    "version": 3
   },
   "file_extension": ".py",
   "mimetype": "text/x-python",
   "name": "python",
   "nbconvert_exporter": "python",
   "pygments_lexer": "ipython3",
   "version": "3.7.2"
  }
 },
 "nbformat": 4,
 "nbformat_minor": 2
}
