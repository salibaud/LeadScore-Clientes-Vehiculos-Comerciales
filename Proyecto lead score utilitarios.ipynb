{
 "cells": [
  {
   "cell_type": "markdown",
   "metadata": {},
   "source": [
    "# CARGA DE PAQUETES"
   ]
  },
  {
   "cell_type": "code",
   "execution_count": 1,
   "metadata": {},
   "outputs": [],
   "source": [
    "# quitamos alertas porfavor!\n",
    "import warnings\n",
    "warnings.filterwarnings('ignore')"
   ]
  },
  {
   "cell_type": "code",
   "execution_count": 38,
   "metadata": {},
   "outputs": [],
   "source": [
    "# librerias clasicas\n",
    "import numpy as np\n",
    "import pandas as pd\n",
    "import matplotlib.pyplot as plt\n",
    "import seaborn as sns\n",
    "\n",
    "# ploteos\n",
    "from matplotlib.pyplot import xticks\n",
    "%matplotlib inline\n",
    "\n",
    "#modelos\n",
    "from sklearn.model_selection import train_test_split\n",
    "from  sklearn.ensemble import RandomForestClassifier\n",
    "from sklearn.preprocessing import StandardScaler\n",
    "#from sklearn.svm import SVC\n",
    "#from sklearn.linear_model import RidgeClassifier,SGDClassifier,LogisticRegression\n",
    "from sklearn.metrics import confusion_matrix,accuracy_score,recall_score,f1_score,precision_score,roc_auc_score,average_precision_score\n",
    "#from sklearn.neighbors import NearestNeighbors\n",
    "import xgboost as xgb\n"
   ]
  },
  {
   "cell_type": "markdown",
   "metadata": {},
   "source": [
    "### Funciones utiles"
   ]
  },
  {
   "cell_type": "code",
   "execution_count": 3,
   "metadata": {},
   "outputs": [],
   "source": [
    "#funciones para medir\n",
    "\n",
    "def mediciones(x_train,y_train,x_test,y_test,model):\n",
    "    a = int(accuracy_score(y_train,model.predict(x_train))*1000)/1000\n",
    "    b = int(recall_score(y_train,model.predict(x_train))*1000)/1000\n",
    "    c = int(accuracy_score(y_test,model.predict(x_test))*1000)/1000\n",
    "    d = int(recall_score(y_test,model.predict(x_test))*1000)/1000\n",
    "    aa = int(roc_auc_score(y_train,model.predict_proba(x_train)[:,1])*1000)/1000\n",
    "    cc = int(roc_auc_score(y_test,model.predict_proba(x_test)[:,1])*1000)/1000\n",
    "    e = {'Entrenamiento':[a,b,aa],\n",
    "         'Testeo':[c,d,cc]}\n",
    "    f = pd.DataFrame(data=e,index=[\"Accuracy\",\"recall\",\"roc\"])\n",
    "    return f\n",
    "\n",
    "def mediciones2(x_train,y_train,x_test,y_test,model):\n",
    "    #a = int(accuracy_score(y_train,model.predict(x_train))*1000)/1000\n",
    "    #b = int(recall_score(y_train,model.predict(x_train))*1000)/1000\n",
    "    c = int(accuracy_score(y_test,model.predict(x_test))*1000)/1000\n",
    "    d = int(recall_score(y_test,model.predict(x_test))*1000)/1000\n",
    "    #aa = int(roc_auc_score(y_train,model.predict_proba(x_train)[:,1])*1000)/1000\n",
    "    #cc = int(roc_auc_score(y_test,model.predict_proba(x_test)[:,1])*1000)/1000\n",
    "    e = {'Testeo':[c,d]}\n",
    "    f = pd.DataFrame(data=e,index=[\"Accuracy\",\"recall\"])\n",
    "    return f\n",
    "\n",
    "def roc_(x_train,y_train,x_test,y_test,model):\n",
    "    aa = int(roc_auc_score(y_train,model.predict_proba(x_train)[:,1])*1000)/1000\n",
    "    cc = int(roc_auc_score(y_test,model.predict_proba(x_test)[:,1])*1000)/1000\n",
    "    e = {'Entrenamiento':[a],\n",
    "         'Testeo':[c]}\n",
    "    f = pd.DataFrame(data=e,index=[\"roc-auc\"])\n",
    "    return f\n",
    "\n",
    "#mediciones(x_train,y_train,x_test,y_test,log),roc_(x_train,y_train,x_test,y_test,log)"
   ]
  },
  {
   "cell_type": "markdown",
   "metadata": {},
   "source": [
    "# Preparación de datos\n",
    "### LECTURA DE BASE BRUTA DESDE SAS\n",
    "\n",
    "\n",
    "La base de datos se obtiene desde el SAS guardado en la carpeta diaria de Customer analytics, esta base considera todas las ofertas realizadas en kaufmann a clientes que se encuentran en el perfil, se cruza con información de venta, rvm, post venta y datos del SII.\n",
    "\n",
    "\n",
    "Para el caso de puesta en prd, se consideran todas las empresas presentes en SII mas todos los clientes kaufman, mas todas las personas que están en rvm.\n",
    "\n",
    "\n",
    "* Periodo de información = 2018 y 2019.\n",
    "* Modelos: Utilitarios.\n",
    "* Tipo Cliente: Persona y empresa.\n",
    "\n",
    "Fuente sii:\n",
    "http://www.sii.cl/sobre_el_sii/nominapersonasjuridicas.html\n",
    "\n"
   ]
  },
  {
   "cell_type": "code",
   "execution_count": 10,
   "metadata": {},
   "outputs": [
    {
     "data": {
      "text/html": [
       "<div>\n",
       "<style scoped>\n",
       "    .dataframe tbody tr th:only-of-type {\n",
       "        vertical-align: middle;\n",
       "    }\n",
       "\n",
       "    .dataframe tbody tr th {\n",
       "        vertical-align: top;\n",
       "    }\n",
       "\n",
       "    .dataframe thead th {\n",
       "        text-align: right;\n",
       "    }\n",
       "</style>\n",
       "<table border=\"1\" class=\"dataframe\">\n",
       "  <thead>\n",
       "    <tr style=\"text-align: right;\">\n",
       "      <th></th>\n",
       "      <th>TIPO_CLIENTE</th>\n",
       "      <th>RUBRO_ECON</th>\n",
       "      <th>ANTIGUEDAD_E</th>\n",
       "      <th>TRAMO_VENTA</th>\n",
       "      <th>NUM_TRABAJADORES</th>\n",
       "      <th>TOTAL_UTILITARIOS</th>\n",
       "      <th>UTILITARIOS_EXCLUSION</th>\n",
       "      <th>RELEVANTE_BUSES</th>\n",
       "      <th>RELEVANTE_CAMIONES</th>\n",
       "      <th>RELEVANTE_RODADOS</th>\n",
       "      <th>...</th>\n",
       "      <th>CAMPANAS_U180D</th>\n",
       "      <th>CAMPANAS_U180D_C</th>\n",
       "      <th>SERVICIOS_PV</th>\n",
       "      <th>REGION</th>\n",
       "      <th>COMUNA_CRM</th>\n",
       "      <th>USADO_NUEVO</th>\n",
       "      <th>DESC_TIPO_VEHICULO</th>\n",
       "      <th>NUM_OFERTAS_U12M</th>\n",
       "      <th>COMPRAS_REALIZADAS_U12M</th>\n",
       "      <th>TIPO_CREDITO_USADO_ANT</th>\n",
       "    </tr>\n",
       "  </thead>\n",
       "  <tbody>\n",
       "    <tr>\n",
       "      <th>0</th>\n",
       "      <td>PERSONA</td>\n",
       "      <td>Z</td>\n",
       "      <td>MENOS DE 5 AÑOS</td>\n",
       "      <td>NaN</td>\n",
       "      <td>NaN</td>\n",
       "      <td>NaN</td>\n",
       "      <td>NaN</td>\n",
       "      <td>NaN</td>\n",
       "      <td>NaN</td>\n",
       "      <td>NaN</td>\n",
       "      <td>...</td>\n",
       "      <td>NaN</td>\n",
       "      <td>NaN</td>\n",
       "      <td>0.0</td>\n",
       "      <td>NaN</td>\n",
       "      <td>LIMA</td>\n",
       "      <td>Usado</td>\n",
       "      <td>FURGON</td>\n",
       "      <td>0.0</td>\n",
       "      <td>0.0</td>\n",
       "      <td>NaN</td>\n",
       "    </tr>\n",
       "    <tr>\n",
       "      <th>1</th>\n",
       "      <td>PERSONA</td>\n",
       "      <td>Z</td>\n",
       "      <td>MENOS DE 5 AÑOS</td>\n",
       "      <td>NaN</td>\n",
       "      <td>NaN</td>\n",
       "      <td>NaN</td>\n",
       "      <td>NaN</td>\n",
       "      <td>NaN</td>\n",
       "      <td>NaN</td>\n",
       "      <td>NaN</td>\n",
       "      <td>...</td>\n",
       "      <td>NaN</td>\n",
       "      <td>NaN</td>\n",
       "      <td>0.0</td>\n",
       "      <td>NaN</td>\n",
       "      <td>LIMA</td>\n",
       "      <td>Usado</td>\n",
       "      <td>FURGON</td>\n",
       "      <td>1.0</td>\n",
       "      <td>0.0</td>\n",
       "      <td>NaN</td>\n",
       "    </tr>\n",
       "    <tr>\n",
       "      <th>2</th>\n",
       "      <td>PERSONA</td>\n",
       "      <td>Z</td>\n",
       "      <td>MENOS DE 5 AÑOS</td>\n",
       "      <td>NaN</td>\n",
       "      <td>NaN</td>\n",
       "      <td>NaN</td>\n",
       "      <td>NaN</td>\n",
       "      <td>NaN</td>\n",
       "      <td>NaN</td>\n",
       "      <td>NaN</td>\n",
       "      <td>...</td>\n",
       "      <td>NaN</td>\n",
       "      <td>NaN</td>\n",
       "      <td>0.0</td>\n",
       "      <td>Arica y Parinacota</td>\n",
       "      <td>ARICA</td>\n",
       "      <td>Usado</td>\n",
       "      <td>FURGON</td>\n",
       "      <td>2.0</td>\n",
       "      <td>19.0</td>\n",
       "      <td>CONTADO</td>\n",
       "    </tr>\n",
       "    <tr>\n",
       "      <th>3</th>\n",
       "      <td>PERSONA</td>\n",
       "      <td>Z</td>\n",
       "      <td>MENOS DE 5 AÑOS</td>\n",
       "      <td>NaN</td>\n",
       "      <td>NaN</td>\n",
       "      <td>NaN</td>\n",
       "      <td>NaN</td>\n",
       "      <td>NaN</td>\n",
       "      <td>NaN</td>\n",
       "      <td>NaN</td>\n",
       "      <td>...</td>\n",
       "      <td>NaN</td>\n",
       "      <td>NaN</td>\n",
       "      <td>0.0</td>\n",
       "      <td>Arica y Parinacota</td>\n",
       "      <td>ARICA</td>\n",
       "      <td>Usado</td>\n",
       "      <td>FURGON</td>\n",
       "      <td>2.0</td>\n",
       "      <td>19.0</td>\n",
       "      <td>CONTADO</td>\n",
       "    </tr>\n",
       "    <tr>\n",
       "      <th>4</th>\n",
       "      <td>PERSONA</td>\n",
       "      <td>Z</td>\n",
       "      <td>MENOS DE 5 AÑOS</td>\n",
       "      <td>NaN</td>\n",
       "      <td>NaN</td>\n",
       "      <td>NaN</td>\n",
       "      <td>NaN</td>\n",
       "      <td>NaN</td>\n",
       "      <td>NaN</td>\n",
       "      <td>NaN</td>\n",
       "      <td>...</td>\n",
       "      <td>NaN</td>\n",
       "      <td>NaN</td>\n",
       "      <td>0.0</td>\n",
       "      <td>Arica y Parinacota</td>\n",
       "      <td>ARICA</td>\n",
       "      <td>Usado</td>\n",
       "      <td>CAMION</td>\n",
       "      <td>7.0</td>\n",
       "      <td>21.0</td>\n",
       "      <td>CONTADO</td>\n",
       "    </tr>\n",
       "  </tbody>\n",
       "</table>\n",
       "<p>5 rows × 36 columns</p>\n",
       "</div>"
      ],
      "text/plain": [
       "  TIPO_CLIENTE RUBRO_ECON     ANTIGUEDAD_E  TRAMO_VENTA  NUM_TRABAJADORES  \\\n",
       "0      PERSONA          Z  MENOS DE 5 AÑOS          NaN               NaN   \n",
       "1      PERSONA          Z  MENOS DE 5 AÑOS          NaN               NaN   \n",
       "2      PERSONA          Z  MENOS DE 5 AÑOS          NaN               NaN   \n",
       "3      PERSONA          Z  MENOS DE 5 AÑOS          NaN               NaN   \n",
       "4      PERSONA          Z  MENOS DE 5 AÑOS          NaN               NaN   \n",
       "\n",
       "   TOTAL_UTILITARIOS  UTILITARIOS_EXCLUSION  RELEVANTE_BUSES  \\\n",
       "0                NaN                    NaN              NaN   \n",
       "1                NaN                    NaN              NaN   \n",
       "2                NaN                    NaN              NaN   \n",
       "3                NaN                    NaN              NaN   \n",
       "4                NaN                    NaN              NaN   \n",
       "\n",
       "   RELEVANTE_CAMIONES  RELEVANTE_RODADOS  ...  CAMPANAS_U180D  \\\n",
       "0                 NaN                NaN  ...             NaN   \n",
       "1                 NaN                NaN  ...             NaN   \n",
       "2                 NaN                NaN  ...             NaN   \n",
       "3                 NaN                NaN  ...             NaN   \n",
       "4                 NaN                NaN  ...             NaN   \n",
       "\n",
       "   CAMPANAS_U180D_C  SERVICIOS_PV               REGION  COMUNA_CRM  \\\n",
       "0               NaN           0.0                  NaN        LIMA   \n",
       "1               NaN           0.0                  NaN        LIMA   \n",
       "2               NaN           0.0   Arica y Parinacota       ARICA   \n",
       "3               NaN           0.0   Arica y Parinacota       ARICA   \n",
       "4               NaN           0.0   Arica y Parinacota       ARICA   \n",
       "\n",
       "   USADO_NUEVO  DESC_TIPO_VEHICULO  NUM_OFERTAS_U12M  COMPRAS_REALIZADAS_U12M  \\\n",
       "0        Usado              FURGON               0.0                      0.0   \n",
       "1        Usado              FURGON               1.0                      0.0   \n",
       "2        Usado              FURGON               2.0                     19.0   \n",
       "3        Usado              FURGON               2.0                     19.0   \n",
       "4        Usado              CAMION               7.0                     21.0   \n",
       "\n",
       "   TIPO_CREDITO_USADO_ANT  \n",
       "0                     NaN  \n",
       "1                     NaN  \n",
       "2                 CONTADO  \n",
       "3                 CONTADO  \n",
       "4                 CONTADO  \n",
       "\n",
       "[5 rows x 36 columns]"
      ]
     },
     "execution_count": 10,
     "metadata": {},
     "output_type": "execute_result"
    }
   ],
   "source": [
    "#----------------------#\n",
    "# carga de informacion #\n",
    "#----------------------#\n",
    "#lectura de datos\n",
    "df = pd.read_sas(r\"file:\\\\10.1.1.145\\datos\\ANALISIS\\CHILE\\IMPORTER_MARKETING_CUSTOMER_ANALYTICS\\DATOS\\LEAD_SCORE_UTILITARIOS_PREV1.sas7bdat\",\n",
    "                    format='sas7bdat',encoding='latin1')\n",
    "df.head()"
   ]
  },
  {
   "cell_type": "code",
   "execution_count": 11,
   "metadata": {},
   "outputs": [
    {
     "data": {
      "text/plain": [
       "(212232, 35)"
      ]
     },
     "execution_count": 11,
     "metadata": {},
     "output_type": "execute_result"
    }
   ],
   "source": [
    "df=df.drop([\"CATEGORIA\"], axis=1)\n",
    "df.shape"
   ]
  },
  {
   "cell_type": "markdown",
   "metadata": {},
   "source": [
    "### LIMPIEZA DE DATOS GENERAL"
   ]
  },
  {
   "cell_type": "code",
   "execution_count": 12,
   "metadata": {},
   "outputs": [
    {
     "data": {
      "text/plain": [
       "TIPO_CLIENTE                 0.00\n",
       "RUBRO_ECON                   0.00\n",
       "ANTIGUEDAD_E                 0.00\n",
       "TRAMO_VENTA                 31.33\n",
       "NUM_TRABAJADORES            31.33\n",
       "TOTAL_UTILITARIOS           50.00\n",
       "UTILITARIOS_EXCLUSION       58.32\n",
       "RELEVANTE_BUSES             93.43\n",
       "RELEVANTE_CAMIONES          64.89\n",
       "RELEVANTE_RODADOS           84.67\n",
       "RELEVANTE_VANS              75.30\n",
       "RELEVANTE_CARGA             84.21\n",
       "RELEVANTE_PASAJERA          85.01\n",
       "RELEVANTE_PESADO            71.97\n",
       "RELEVANTE_CAMIONETA         92.42\n",
       "RELEVANTE_MEDIANO           84.48\n",
       "RELEVANTE_OTROS             66.18\n",
       "RELEVANTE_LIVIANO           93.42\n",
       "RELEVANTE_CAMIONETA_DCAB    97.62\n",
       "RELEVANTE_FORESTAL          97.11\n",
       "RELEVANTE_CAMABAJA          96.04\n",
       "MARCA_AGRUPADA               0.00\n",
       "FLOTA_NUEVA                 50.00\n",
       "ANTIGUEDAD_FLOTA            50.00\n",
       "COMPRO_NUM                   0.00\n",
       "CAMPANAS_U180D              71.71\n",
       "CAMPANAS_U180D_C            72.27\n",
       "SERVICIOS_PV                 0.00\n",
       "REGION                       1.59\n",
       "COMUNA_CRM                   0.14\n",
       "USADO_NUEVO                  0.00\n",
       "DESC_TIPO_VEHICULO           1.96\n",
       "NUM_OFERTAS_U12M             0.00\n",
       "COMPRAS_REALIZADAS_U12M      0.00\n",
       "TIPO_CREDITO_USADO_ANT      53.54\n",
       "dtype: float64"
      ]
     },
     "execution_count": 12,
     "metadata": {},
     "output_type": "execute_result"
    }
   ],
   "source": [
    "#porcentaje de missing\n",
    "#round(100*(df.isnull().sum()/len(df.index)), 2)\n",
    "#porcentaje de missing\n",
    "round(100*(df.isnull().sum()/len(df.index)), 2)"
   ]
  },
  {
   "cell_type": "code",
   "execution_count": 13,
   "metadata": {
    "scrolled": false
   },
   "outputs": [
    {
     "data": {
      "text/plain": [
       "TIPO_CLIENTE                 0.00\n",
       "RUBRO_ECON                   0.00\n",
       "ANTIGUEDAD_E                 0.00\n",
       "TRAMO_VENTA                 31.33\n",
       "NUM_TRABAJADORES            31.33\n",
       "TOTAL_UTILITARIOS           50.00\n",
       "UTILITARIOS_EXCLUSION       58.32\n",
       "RELEVANTE_BUSES              0.00\n",
       "RELEVANTE_CAMIONES           0.00\n",
       "RELEVANTE_RODADOS            0.00\n",
       "RELEVANTE_VANS               0.00\n",
       "RELEVANTE_CARGA              0.00\n",
       "RELEVANTE_PASAJERA           0.00\n",
       "RELEVANTE_PESADO             0.00\n",
       "RELEVANTE_CAMIONETA          0.00\n",
       "RELEVANTE_MEDIANO            0.00\n",
       "RELEVANTE_OTROS              0.00\n",
       "RELEVANTE_LIVIANO            0.00\n",
       "RELEVANTE_CAMIONETA_DCAB     0.00\n",
       "RELEVANTE_FORESTAL           0.00\n",
       "RELEVANTE_CAMABAJA           0.00\n",
       "MARCA_AGRUPADA               0.00\n",
       "FLOTA_NUEVA                 50.00\n",
       "ANTIGUEDAD_FLOTA            50.00\n",
       "COMPRO_NUM                   0.00\n",
       "CAMPANAS_U180D              71.71\n",
       "CAMPANAS_U180D_C            72.27\n",
       "SERVICIOS_PV                 0.00\n",
       "REGION                       1.59\n",
       "COMUNA_CRM                   0.14\n",
       "USADO_NUEVO                  0.00\n",
       "DESC_TIPO_VEHICULO           1.96\n",
       "NUM_OFERTAS_U12M             0.00\n",
       "COMPRAS_REALIZADAS_U12M      0.00\n",
       "TIPO_CREDITO_USADO_ANT      53.54\n",
       "dtype: float64"
      ]
     },
     "execution_count": 13,
     "metadata": {},
     "output_type": "execute_result"
    }
   ],
   "source": [
    "#no elimino estos datos porque vienen de rvm, miss significa que no tiene\n",
    "df['RELEVANTE_BUSES'] = df['RELEVANTE_BUSES'].replace(np.nan,0)\n",
    "df['RELEVANTE_CAMIONES'] = df['RELEVANTE_CAMIONES'].replace(np.nan,0)\n",
    "df['RELEVANTE_RODADOS'] = df['RELEVANTE_RODADOS'].replace(np.nan,0)\n",
    "df['RELEVANTE_VANS'] = df['RELEVANTE_VANS'].replace(np.nan,0)\n",
    "df['RELEVANTE_CARGA'] = df['RELEVANTE_CARGA'].replace(np.nan,0)\n",
    "df['RELEVANTE_PASAJERA'] = df['RELEVANTE_PASAJERA'].replace(np.nan,0)\n",
    "df['RELEVANTE_PESADO'] = df['RELEVANTE_PESADO'].replace(np.nan,0)\n",
    "df['RELEVANTE_CAMIONETA'] = df['RELEVANTE_CAMIONETA'].replace(np.nan,0)\n",
    "df['RELEVANTE_MEDIANO'] = df['RELEVANTE_MEDIANO'].replace(np.nan,0)\n",
    "df['RELEVANTE_OTROS'] = df['RELEVANTE_OTROS'].replace(np.nan,0)\n",
    "df['RELEVANTE_LIVIANO'] = df['RELEVANTE_LIVIANO'].replace(np.nan,0)\n",
    "df['RELEVANTE_CAMIONETA_DCAB'] = df['RELEVANTE_CAMIONETA_DCAB'].replace(np.nan,0)\n",
    "df['RELEVANTE_FORESTAL'] = df['RELEVANTE_FORESTAL'].replace(np.nan,0)\n",
    "df['RELEVANTE_CAMABAJA'] = df['RELEVANTE_CAMABAJA'].replace(np.nan,0)\n",
    "#porcentaje de missing\n",
    "round(100*(df.isnull().sum()/len(df.index)), 2)"
   ]
  },
  {
   "cell_type": "code",
   "execution_count": 14,
   "metadata": {},
   "outputs": [
    {
     "name": "stdout",
     "output_type": "stream",
     "text": [
      "<class 'pandas.core.frame.DataFrame'>\n",
      "RangeIndex: 212232 entries, 0 to 212231\n",
      "Data columns (total 35 columns):\n",
      " #   Column                    Non-Null Count   Dtype  \n",
      "---  ------                    --------------   -----  \n",
      " 0   TIPO_CLIENTE              212232 non-null  object \n",
      " 1   RUBRO_ECON                212232 non-null  object \n",
      " 2   ANTIGUEDAD_E              212232 non-null  object \n",
      " 3   TRAMO_VENTA               145739 non-null  float64\n",
      " 4   NUM_TRABAJADORES          145739 non-null  float64\n",
      " 5   TOTAL_UTILITARIOS         106114 non-null  float64\n",
      " 6   UTILITARIOS_EXCLUSION     88454 non-null   float64\n",
      " 7   RELEVANTE_BUSES           212232 non-null  float64\n",
      " 8   RELEVANTE_CAMIONES        212232 non-null  float64\n",
      " 9   RELEVANTE_RODADOS         212232 non-null  float64\n",
      " 10  RELEVANTE_VANS            212232 non-null  float64\n",
      " 11  RELEVANTE_CARGA           212232 non-null  float64\n",
      " 12  RELEVANTE_PASAJERA        212232 non-null  float64\n",
      " 13  RELEVANTE_PESADO          212232 non-null  float64\n",
      " 14  RELEVANTE_CAMIONETA       212232 non-null  float64\n",
      " 15  RELEVANTE_MEDIANO         212232 non-null  float64\n",
      " 16  RELEVANTE_OTROS           212232 non-null  float64\n",
      " 17  RELEVANTE_LIVIANO         212232 non-null  float64\n",
      " 18  RELEVANTE_CAMIONETA_DCAB  212232 non-null  float64\n",
      " 19  RELEVANTE_FORESTAL        212232 non-null  float64\n",
      " 20  RELEVANTE_CAMABAJA        212232 non-null  float64\n",
      " 21  MARCA_AGRUPADA            212232 non-null  object \n",
      " 22  FLOTA_NUEVA               106114 non-null  float64\n",
      " 23  ANTIGUEDAD_FLOTA          106114 non-null  float64\n",
      " 24  COMPRO_NUM                212232 non-null  float64\n",
      " 25  CAMPANAS_U180D            60036 non-null   float64\n",
      " 26  CAMPANAS_U180D_C          58857 non-null   float64\n",
      " 27  SERVICIOS_PV              212232 non-null  float64\n",
      " 28  REGION                    208860 non-null  object \n",
      " 29  COMUNA_CRM                211927 non-null  object \n",
      " 30  USADO_NUEVO               212232 non-null  object \n",
      " 31  DESC_TIPO_VEHICULO        208079 non-null  object \n",
      " 32  NUM_OFERTAS_U12M          212232 non-null  float64\n",
      " 33  COMPRAS_REALIZADAS_U12M   212232 non-null  float64\n",
      " 34  TIPO_CREDITO_USADO_ANT    98611 non-null   object \n",
      "dtypes: float64(26), object(9)\n",
      "memory usage: 56.7+ MB\n"
     ]
    }
   ],
   "source": [
    "df.info()"
   ]
  },
  {
   "cell_type": "markdown",
   "metadata": {},
   "source": [
    "### LIMPIEZA DE DATOS POR COLUMNA \n",
    "\n",
    "#### columnas numericas"
   ]
  },
  {
   "cell_type": "code",
   "execution_count": 15,
   "metadata": {},
   "outputs": [
    {
     "data": {
      "text/html": [
       "<div>\n",
       "<style scoped>\n",
       "    .dataframe tbody tr th:only-of-type {\n",
       "        vertical-align: middle;\n",
       "    }\n",
       "\n",
       "    .dataframe tbody tr th {\n",
       "        vertical-align: top;\n",
       "    }\n",
       "\n",
       "    .dataframe thead th {\n",
       "        text-align: right;\n",
       "    }\n",
       "</style>\n",
       "<table border=\"1\" class=\"dataframe\">\n",
       "  <thead>\n",
       "    <tr style=\"text-align: right;\">\n",
       "      <th></th>\n",
       "      <th>TRAMO_VENTA</th>\n",
       "      <th>NUM_TRABAJADORES</th>\n",
       "      <th>TOTAL_UTILITARIOS</th>\n",
       "      <th>FLOTA_NUEVA</th>\n",
       "      <th>ANTIGUEDAD_FLOTA</th>\n",
       "      <th>CAMPANAS_U180D</th>\n",
       "      <th>CAMPANAS_U180D_C</th>\n",
       "      <th>NUM_OFERTAS_U12M</th>\n",
       "      <th>COMPRAS_REALIZADAS_U12M</th>\n",
       "    </tr>\n",
       "  </thead>\n",
       "  <tbody>\n",
       "    <tr>\n",
       "      <th>count</th>\n",
       "      <td>145739.000000</td>\n",
       "      <td>145739.000000</td>\n",
       "      <td>106114.000000</td>\n",
       "      <td>106114.000000</td>\n",
       "      <td>106114.000000</td>\n",
       "      <td>60036.000000</td>\n",
       "      <td>58857.000000</td>\n",
       "      <td>212232.000000</td>\n",
       "      <td>212232.000000</td>\n",
       "    </tr>\n",
       "    <tr>\n",
       "      <th>mean</th>\n",
       "      <td>8.862954</td>\n",
       "      <td>427.316353</td>\n",
       "      <td>31.145956</td>\n",
       "      <td>0.340181</td>\n",
       "      <td>3.711184</td>\n",
       "      <td>4.682357</td>\n",
       "      <td>4.480521</td>\n",
       "      <td>100.307649</td>\n",
       "      <td>10.155363</td>\n",
       "    </tr>\n",
       "    <tr>\n",
       "      <th>std</th>\n",
       "      <td>3.240047</td>\n",
       "      <td>1106.554819</td>\n",
       "      <td>121.984477</td>\n",
       "      <td>0.473772</td>\n",
       "      <td>3.154748</td>\n",
       "      <td>6.459497</td>\n",
       "      <td>6.336126</td>\n",
       "      <td>379.970697</td>\n",
       "      <td>40.550910</td>\n",
       "    </tr>\n",
       "    <tr>\n",
       "      <th>min</th>\n",
       "      <td>1.000000</td>\n",
       "      <td>0.000000</td>\n",
       "      <td>1.000000</td>\n",
       "      <td>0.000000</td>\n",
       "      <td>0.000000</td>\n",
       "      <td>1.000000</td>\n",
       "      <td>1.000000</td>\n",
       "      <td>0.000000</td>\n",
       "      <td>0.000000</td>\n",
       "    </tr>\n",
       "    <tr>\n",
       "      <th>25%</th>\n",
       "      <td>7.000000</td>\n",
       "      <td>9.000000</td>\n",
       "      <td>1.000000</td>\n",
       "      <td>0.000000</td>\n",
       "      <td>1.000000</td>\n",
       "      <td>1.000000</td>\n",
       "      <td>1.000000</td>\n",
       "      <td>0.000000</td>\n",
       "      <td>0.000000</td>\n",
       "    </tr>\n",
       "    <tr>\n",
       "      <th>50%</th>\n",
       "      <td>9.000000</td>\n",
       "      <td>53.000000</td>\n",
       "      <td>3.000000</td>\n",
       "      <td>0.000000</td>\n",
       "      <td>3.000000</td>\n",
       "      <td>3.000000</td>\n",
       "      <td>2.000000</td>\n",
       "      <td>4.000000</td>\n",
       "      <td>0.000000</td>\n",
       "    </tr>\n",
       "    <tr>\n",
       "      <th>75%</th>\n",
       "      <td>11.000000</td>\n",
       "      <td>340.000000</td>\n",
       "      <td>12.000000</td>\n",
       "      <td>1.000000</td>\n",
       "      <td>5.500000</td>\n",
       "      <td>5.000000</td>\n",
       "      <td>5.000000</td>\n",
       "      <td>20.000000</td>\n",
       "      <td>1.000000</td>\n",
       "    </tr>\n",
       "    <tr>\n",
       "      <th>max</th>\n",
       "      <td>13.000000</td>\n",
       "      <td>35189.000000</td>\n",
       "      <td>4462.000000</td>\n",
       "      <td>1.000000</td>\n",
       "      <td>19.000000</td>\n",
       "      <td>82.000000</td>\n",
       "      <td>81.000000</td>\n",
       "      <td>2528.000000</td>\n",
       "      <td>375.000000</td>\n",
       "    </tr>\n",
       "  </tbody>\n",
       "</table>\n",
       "</div>"
      ],
      "text/plain": [
       "         TRAMO_VENTA  NUM_TRABAJADORES  TOTAL_UTILITARIOS    FLOTA_NUEVA  \\\n",
       "count  145739.000000     145739.000000      106114.000000  106114.000000   \n",
       "mean        8.862954        427.316353          31.145956       0.340181   \n",
       "std         3.240047       1106.554819         121.984477       0.473772   \n",
       "min         1.000000          0.000000           1.000000       0.000000   \n",
       "25%         7.000000          9.000000           1.000000       0.000000   \n",
       "50%         9.000000         53.000000           3.000000       0.000000   \n",
       "75%        11.000000        340.000000          12.000000       1.000000   \n",
       "max        13.000000      35189.000000        4462.000000       1.000000   \n",
       "\n",
       "       ANTIGUEDAD_FLOTA  CAMPANAS_U180D  CAMPANAS_U180D_C  NUM_OFERTAS_U12M  \\\n",
       "count     106114.000000    60036.000000      58857.000000     212232.000000   \n",
       "mean           3.711184        4.682357          4.480521        100.307649   \n",
       "std            3.154748        6.459497          6.336126        379.970697   \n",
       "min            0.000000        1.000000          1.000000          0.000000   \n",
       "25%            1.000000        1.000000          1.000000          0.000000   \n",
       "50%            3.000000        3.000000          2.000000          4.000000   \n",
       "75%            5.500000        5.000000          5.000000         20.000000   \n",
       "max           19.000000       82.000000         81.000000       2528.000000   \n",
       "\n",
       "       COMPRAS_REALIZADAS_U12M  \n",
       "count            212232.000000  \n",
       "mean                 10.155363  \n",
       "std                  40.550910  \n",
       "min                   0.000000  \n",
       "25%                   0.000000  \n",
       "50%                   0.000000  \n",
       "75%                   1.000000  \n",
       "max                 375.000000  "
      ]
     },
     "execution_count": 15,
     "metadata": {},
     "output_type": "execute_result"
    }
   ],
   "source": [
    "#ahora tratare de revisar cada columna para imputar en caso de que se pueda imputar\n",
    "df[['TRAMO_VENTA','NUM_TRABAJADORES','TOTAL_UTILITARIOS','FLOTA_NUEVA','ANTIGUEDAD_FLOTA','CAMPANAS_U180D',\n",
    "   'CAMPANAS_U180D_C','NUM_OFERTAS_U12M','COMPRAS_REALIZADAS_U12M']].describe()"
   ]
  },
  {
   "cell_type": "code",
   "execution_count": 16,
   "metadata": {
    "scrolled": false
   },
   "outputs": [
    {
     "data": {
      "image/png": "[encoded data removed]",
      "text/plain": [
       "<Figure size 864x756 with 9 Axes>"
      ]
     },
     "metadata": {
      "needs_background": "light"
     },
     "output_type": "display_data"
    }
   ],
   "source": [
    "fig, axs = plt.subplots(3,3, figsize = (12,10.5))\n",
    "plt2 = sns.boxplot(df['TRAMO_VENTA'], ax = axs[0,0])\n",
    "plt2 = sns.boxplot(df['NUM_TRABAJADORES'], ax = axs[0,1])\n",
    "plt2 = sns.boxplot(df['TOTAL_UTILITARIOS'], ax = axs[1,0])\n",
    "plt2 = sns.boxplot(df['ANTIGUEDAD_FLOTA'], ax = axs[2,1])\n",
    "plt2 = sns.boxplot(df['CAMPANAS_U180D_C'], ax = axs[1,2])\n",
    "plt2 = sns.boxplot(df['NUM_OFERTAS_U12M'], ax = axs[2,2])\n",
    "plt2 = sns.boxplot(df['CAMPANAS_U180D'], ax = axs[0,2])\n",
    "plt2 = sns.boxplot(df['COMPRAS_REALIZADAS_U12M'], ax = axs[2,0])\n",
    "\n",
    "plt.show()"
   ]
  },
  {
   "cell_type": "markdown",
   "metadata": {},
   "source": [
    "ahi un exceso de variabilidad en algunas columnas"
   ]
  },
  {
   "cell_type": "code",
   "execution_count": 17,
   "metadata": {},
   "outputs": [],
   "source": [
    "#estas variables no pueden ser imputadas porque indican que no tienen vehiculos, candidatas a irse de la base!!\n",
    "df['TOTAL_UTILITARIOS'] = df['TOTAL_UTILITARIOS'].replace(np.nan,0)\n",
    "df['UTILITARIOS_EXCLUSION'] = df['UTILITARIOS_EXCLUSION'].replace(np.nan,0)\n",
    "df['RELEVANTE_CAMIONES'] = df['RELEVANTE_CAMIONES'].replace(np.nan,0)\n",
    "df['RELEVANTE_OTROS'] = df['RELEVANTE_OTROS'].replace(np.nan,0)\n",
    "\n",
    "\n",
    "\n",
    "df['TRAMO_VENTA'] = df['TRAMO_VENTA'].replace(np.nan, np.mean(df['TRAMO_VENTA']))\n",
    "df['NUM_TRABAJADORES'] = df['NUM_TRABAJADORES'].replace(np.nan, np.mean(df['NUM_TRABAJADORES']))\n"
   ]
  },
  {
   "cell_type": "markdown",
   "metadata": {},
   "source": [
    "### columnas categoricas"
   ]
  },
  {
   "cell_type": "code",
   "execution_count": 18,
   "metadata": {},
   "outputs": [
    {
     "data": {
      "text/html": [
       "<div>\n",
       "<style scoped>\n",
       "    .dataframe tbody tr th:only-of-type {\n",
       "        vertical-align: middle;\n",
       "    }\n",
       "\n",
       "    .dataframe tbody tr th {\n",
       "        vertical-align: top;\n",
       "    }\n",
       "\n",
       "    .dataframe thead th {\n",
       "        text-align: right;\n",
       "    }\n",
       "</style>\n",
       "<table border=\"1\" class=\"dataframe\">\n",
       "  <thead>\n",
       "    <tr style=\"text-align: right;\">\n",
       "      <th></th>\n",
       "      <th>MARCA_AGRUPADA</th>\n",
       "      <th>DESC_TIPO_VEHICULO</th>\n",
       "    </tr>\n",
       "  </thead>\n",
       "  <tbody>\n",
       "    <tr>\n",
       "      <th>count</th>\n",
       "      <td>212232</td>\n",
       "      <td>208079</td>\n",
       "    </tr>\n",
       "    <tr>\n",
       "      <th>unique</th>\n",
       "      <td>8</td>\n",
       "      <td>23</td>\n",
       "    </tr>\n",
       "    <tr>\n",
       "      <th>top</th>\n",
       "      <td>MERCEDES-BENZ</td>\n",
       "      <td>CAMION</td>\n",
       "    </tr>\n",
       "    <tr>\n",
       "      <th>freq</th>\n",
       "      <td>137074</td>\n",
       "      <td>45942</td>\n",
       "    </tr>\n",
       "  </tbody>\n",
       "</table>\n",
       "</div>"
      ],
      "text/plain": [
       "       MARCA_AGRUPADA DESC_TIPO_VEHICULO\n",
       "count          212232             208079\n",
       "unique              8                 23\n",
       "top     MERCEDES-BENZ             CAMION\n",
       "freq           137074              45942"
      ]
     },
     "execution_count": 18,
     "metadata": {},
     "output_type": "execute_result"
    }
   ],
   "source": [
    "df[['MARCA_AGRUPADA','DESC_TIPO_VEHICULO']].describe()"
   ]
  },
  {
   "cell_type": "code",
   "execution_count": 19,
   "metadata": {},
   "outputs": [
    {
     "data": {
      "text/html": [
       "<div>\n",
       "<style scoped>\n",
       "    .dataframe tbody tr th:only-of-type {\n",
       "        vertical-align: middle;\n",
       "    }\n",
       "\n",
       "    .dataframe tbody tr th {\n",
       "        vertical-align: top;\n",
       "    }\n",
       "\n",
       "    .dataframe thead th {\n",
       "        text-align: right;\n",
       "    }\n",
       "</style>\n",
       "<table border=\"1\" class=\"dataframe\">\n",
       "  <thead>\n",
       "    <tr style=\"text-align: right;\">\n",
       "      <th></th>\n",
       "      <th>COMPRO_NUM</th>\n",
       "    </tr>\n",
       "    <tr>\n",
       "      <th>MARCA_AGRUPADA</th>\n",
       "      <th></th>\n",
       "    </tr>\n",
       "  </thead>\n",
       "  <tbody>\n",
       "    <tr>\n",
       "      <th>POWERSYSTEMS</th>\n",
       "      <td>0.243228</td>\n",
       "    </tr>\n",
       "    <tr>\n",
       "      <th>GREAT DANE</th>\n",
       "      <td>0.199203</td>\n",
       "    </tr>\n",
       "    <tr>\n",
       "      <th>TREMAC</th>\n",
       "      <td>0.116083</td>\n",
       "    </tr>\n",
       "    <tr>\n",
       "      <th>HEIL</th>\n",
       "      <td>0.088328</td>\n",
       "    </tr>\n",
       "    <tr>\n",
       "      <th>MERCEDES-BENZ</th>\n",
       "      <td>0.080292</td>\n",
       "    </tr>\n",
       "    <tr>\n",
       "      <th>FREIGHTLINER</th>\n",
       "      <td>0.058504</td>\n",
       "    </tr>\n",
       "    <tr>\n",
       "      <th>MITSUBISHI-FUSO</th>\n",
       "      <td>0.050209</td>\n",
       "    </tr>\n",
       "    <tr>\n",
       "      <th>WESTERN STAR</th>\n",
       "      <td>0.044444</td>\n",
       "    </tr>\n",
       "  </tbody>\n",
       "</table>\n",
       "</div>"
      ],
      "text/plain": [
       "                 COMPRO_NUM\n",
       "MARCA_AGRUPADA             \n",
       "POWERSYSTEMS       0.243228\n",
       "GREAT DANE         0.199203\n",
       "TREMAC             0.116083\n",
       "HEIL               0.088328\n",
       "MERCEDES-BENZ      0.080292\n",
       "FREIGHTLINER       0.058504\n",
       "MITSUBISHI-FUSO    0.050209\n",
       "WESTERN STAR       0.044444"
      ]
     },
     "execution_count": 19,
     "metadata": {},
     "output_type": "execute_result"
    }
   ],
   "source": [
    "avr_mar=pd.DataFrame(df.groupby('MARCA_AGRUPADA')[\"COMPRO_NUM\"].mean())\n",
    "avr_mar=avr_mar.sort_values(\"COMPRO_NUM\",ascending=False)\n",
    "avr_mar.head(50)"
   ]
  },
  {
   "cell_type": "code",
   "execution_count": 20,
   "metadata": {},
   "outputs": [
    {
     "data": {
      "image/png": "[encoded data removed]",
      "text/plain": [
       "<Figure size 432x288 with 1 Axes>"
      ]
     },
     "metadata": {
      "needs_background": "light"
     },
     "output_type": "display_data"
    }
   ],
   "source": [
    "df['DESC_TIPO_VEHICULO'] = df['DESC_TIPO_VEHICULO'].replace(np.nan,'CAMION')\n",
    "plt1 = sns.countplot(df['DESC_TIPO_VEHICULO'])\n",
    "plt.show()"
   ]
  },
  {
   "cell_type": "code",
   "execution_count": 21,
   "metadata": {},
   "outputs": [
    {
     "data": {
      "text/html": [
       "<div>\n",
       "<style scoped>\n",
       "    .dataframe tbody tr th:only-of-type {\n",
       "        vertical-align: middle;\n",
       "    }\n",
       "\n",
       "    .dataframe tbody tr th {\n",
       "        vertical-align: top;\n",
       "    }\n",
       "\n",
       "    .dataframe thead th {\n",
       "        text-align: right;\n",
       "    }\n",
       "</style>\n",
       "<table border=\"1\" class=\"dataframe\">\n",
       "  <thead>\n",
       "    <tr style=\"text-align: right;\">\n",
       "      <th></th>\n",
       "      <th>FLOTA_NUEVA</th>\n",
       "      <th>ANTIGUEDAD_FLOTA</th>\n",
       "    </tr>\n",
       "  </thead>\n",
       "  <tbody>\n",
       "    <tr>\n",
       "      <th>count</th>\n",
       "      <td>106114.000000</td>\n",
       "      <td>106114.000000</td>\n",
       "    </tr>\n",
       "    <tr>\n",
       "      <th>mean</th>\n",
       "      <td>0.340181</td>\n",
       "      <td>3.711184</td>\n",
       "    </tr>\n",
       "    <tr>\n",
       "      <th>std</th>\n",
       "      <td>0.473772</td>\n",
       "      <td>3.154748</td>\n",
       "    </tr>\n",
       "    <tr>\n",
       "      <th>min</th>\n",
       "      <td>0.000000</td>\n",
       "      <td>0.000000</td>\n",
       "    </tr>\n",
       "    <tr>\n",
       "      <th>25%</th>\n",
       "      <td>0.000000</td>\n",
       "      <td>1.000000</td>\n",
       "    </tr>\n",
       "    <tr>\n",
       "      <th>50%</th>\n",
       "      <td>0.000000</td>\n",
       "      <td>3.000000</td>\n",
       "    </tr>\n",
       "    <tr>\n",
       "      <th>75%</th>\n",
       "      <td>1.000000</td>\n",
       "      <td>5.500000</td>\n",
       "    </tr>\n",
       "    <tr>\n",
       "      <th>max</th>\n",
       "      <td>1.000000</td>\n",
       "      <td>19.000000</td>\n",
       "    </tr>\n",
       "  </tbody>\n",
       "</table>\n",
       "</div>"
      ],
      "text/plain": [
       "         FLOTA_NUEVA  ANTIGUEDAD_FLOTA\n",
       "count  106114.000000     106114.000000\n",
       "mean        0.340181          3.711184\n",
       "std         0.473772          3.154748\n",
       "min         0.000000          0.000000\n",
       "25%         0.000000          1.000000\n",
       "50%         0.000000          3.000000\n",
       "75%         1.000000          5.500000\n",
       "max         1.000000         19.000000"
      ]
     },
     "execution_count": 21,
     "metadata": {},
     "output_type": "execute_result"
    }
   ],
   "source": [
    "df[['FLOTA_NUEVA','ANTIGUEDAD_FLOTA']].describe()"
   ]
  },
  {
   "cell_type": "code",
   "execution_count": 22,
   "metadata": {},
   "outputs": [],
   "source": [
    "# estos valores corresponden a flotas, si estan vacion significa que no tienen flota o bien no tienen flota nueva\n",
    "df['FLOTA_NUEVA'] = df['FLOTA_NUEVA'].replace(np.nan,0)\n",
    "\n",
    "#se debe trabajar en esto\n",
    "df['CAMPANAS_U180D'] = df['CAMPANAS_U180D'].replace(np.nan,0)\n",
    "df['CAMPANAS_U180D_C'] = df['CAMPANAS_U180D_C'].replace(np.nan,0)\n",
    "df['ANTIGUEDAD_FLOTA'] = df['ANTIGUEDAD_FLOTA'].replace(np.nan,0)"
   ]
  },
  {
   "cell_type": "code",
   "execution_count": 23,
   "metadata": {},
   "outputs": [
    {
     "data": {
      "image/png": "[encoded data removed]",
      "text/plain": [
       "<Figure size 432x288 with 1 Axes>"
      ]
     },
     "metadata": {
      "needs_background": "light"
     },
     "output_type": "display_data"
    },
    {
     "data": {
      "text/html": [
       "<div>\n",
       "<style scoped>\n",
       "    .dataframe tbody tr th:only-of-type {\n",
       "        vertical-align: middle;\n",
       "    }\n",
       "\n",
       "    .dataframe tbody tr th {\n",
       "        vertical-align: top;\n",
       "    }\n",
       "\n",
       "    .dataframe thead th {\n",
       "        text-align: right;\n",
       "    }\n",
       "</style>\n",
       "<table border=\"1\" class=\"dataframe\">\n",
       "  <thead>\n",
       "    <tr style=\"text-align: right;\">\n",
       "      <th></th>\n",
       "      <th>REGION</th>\n",
       "    </tr>\n",
       "  </thead>\n",
       "  <tbody>\n",
       "    <tr>\n",
       "      <th>count</th>\n",
       "      <td>208860</td>\n",
       "    </tr>\n",
       "    <tr>\n",
       "      <th>unique</th>\n",
       "      <td>16</td>\n",
       "    </tr>\n",
       "    <tr>\n",
       "      <th>top</th>\n",
       "      <td>Metropolitana de Santiago</td>\n",
       "    </tr>\n",
       "    <tr>\n",
       "      <th>freq</th>\n",
       "      <td>99903</td>\n",
       "    </tr>\n",
       "  </tbody>\n",
       "</table>\n",
       "</div>"
      ],
      "text/plain": [
       "                            REGION\n",
       "count                       208860\n",
       "unique                          16\n",
       "top      Metropolitana de Santiago\n",
       "freq                         99903"
      ]
     },
     "execution_count": 23,
     "metadata": {},
     "output_type": "execute_result"
    }
   ],
   "source": [
    "plt1 = sns.countplot(df['REGION'])\n",
    "plt.show(),\n",
    "df[['REGION']].describe()"
   ]
  },
  {
   "cell_type": "code",
   "execution_count": 24,
   "metadata": {},
   "outputs": [],
   "source": [
    "df['REGION'] = df['REGION'].replace(np.nan,'NA')"
   ]
  },
  {
   "cell_type": "code",
   "execution_count": 25,
   "metadata": {},
   "outputs": [
    {
     "data": {
      "text/html": [
       "<div>\n",
       "<style scoped>\n",
       "    .dataframe tbody tr th:only-of-type {\n",
       "        vertical-align: middle;\n",
       "    }\n",
       "\n",
       "    .dataframe tbody tr th {\n",
       "        vertical-align: top;\n",
       "    }\n",
       "\n",
       "    .dataframe thead th {\n",
       "        text-align: right;\n",
       "    }\n",
       "</style>\n",
       "<table border=\"1\" class=\"dataframe\">\n",
       "  <thead>\n",
       "    <tr style=\"text-align: right;\">\n",
       "      <th></th>\n",
       "      <th>COMUNA_CRM</th>\n",
       "    </tr>\n",
       "  </thead>\n",
       "  <tbody>\n",
       "    <tr>\n",
       "      <th>count</th>\n",
       "      <td>211927</td>\n",
       "    </tr>\n",
       "    <tr>\n",
       "      <th>unique</th>\n",
       "      <td>362</td>\n",
       "    </tr>\n",
       "    <tr>\n",
       "      <th>top</th>\n",
       "      <td>SANTIAGO</td>\n",
       "    </tr>\n",
       "    <tr>\n",
       "      <th>freq</th>\n",
       "      <td>14222</td>\n",
       "    </tr>\n",
       "  </tbody>\n",
       "</table>\n",
       "</div>"
      ],
      "text/plain": [
       "       COMUNA_CRM\n",
       "count      211927\n",
       "unique        362\n",
       "top      SANTIAGO\n",
       "freq        14222"
      ]
     },
     "execution_count": 25,
     "metadata": {},
     "output_type": "execute_result"
    }
   ],
   "source": [
    "df[['COMUNA_CRM']].describe()"
   ]
  },
  {
   "cell_type": "code",
   "execution_count": 26,
   "metadata": {},
   "outputs": [],
   "source": [
    "df['COMUNA_CRM'] = df['COMUNA_CRM'].replace(np.nan,'NA')"
   ]
  },
  {
   "cell_type": "code",
   "execution_count": 27,
   "metadata": {},
   "outputs": [
    {
     "data": {
      "text/html": [
       "<div>\n",
       "<style scoped>\n",
       "    .dataframe tbody tr th:only-of-type {\n",
       "        vertical-align: middle;\n",
       "    }\n",
       "\n",
       "    .dataframe tbody tr th {\n",
       "        vertical-align: top;\n",
       "    }\n",
       "\n",
       "    .dataframe thead th {\n",
       "        text-align: right;\n",
       "    }\n",
       "</style>\n",
       "<table border=\"1\" class=\"dataframe\">\n",
       "  <thead>\n",
       "    <tr style=\"text-align: right;\">\n",
       "      <th></th>\n",
       "      <th>DESC_TIPO_VEHICULO</th>\n",
       "    </tr>\n",
       "  </thead>\n",
       "  <tbody>\n",
       "    <tr>\n",
       "      <th>count</th>\n",
       "      <td>212232</td>\n",
       "    </tr>\n",
       "    <tr>\n",
       "      <th>unique</th>\n",
       "      <td>23</td>\n",
       "    </tr>\n",
       "    <tr>\n",
       "      <th>top</th>\n",
       "      <td>CAMION</td>\n",
       "    </tr>\n",
       "    <tr>\n",
       "      <th>freq</th>\n",
       "      <td>50095</td>\n",
       "    </tr>\n",
       "  </tbody>\n",
       "</table>\n",
       "</div>"
      ],
      "text/plain": [
       "       DESC_TIPO_VEHICULO\n",
       "count              212232\n",
       "unique                 23\n",
       "top                CAMION\n",
       "freq                50095"
      ]
     },
     "execution_count": 27,
     "metadata": {},
     "output_type": "execute_result"
    }
   ],
   "source": [
    "df[['DESC_TIPO_VEHICULO']].describe()"
   ]
  },
  {
   "cell_type": "code",
   "execution_count": 28,
   "metadata": {},
   "outputs": [],
   "source": [
    "df['DESC_TIPO_VEHICULO'] = df['DESC_TIPO_VEHICULO'].replace(np.nan,'NA')"
   ]
  },
  {
   "cell_type": "code",
   "execution_count": 29,
   "metadata": {},
   "outputs": [
    {
     "data": {
      "text/html": [
       "<div>\n",
       "<style scoped>\n",
       "    .dataframe tbody tr th:only-of-type {\n",
       "        vertical-align: middle;\n",
       "    }\n",
       "\n",
       "    .dataframe tbody tr th {\n",
       "        vertical-align: top;\n",
       "    }\n",
       "\n",
       "    .dataframe thead th {\n",
       "        text-align: right;\n",
       "    }\n",
       "</style>\n",
       "<table border=\"1\" class=\"dataframe\">\n",
       "  <thead>\n",
       "    <tr style=\"text-align: right;\">\n",
       "      <th></th>\n",
       "      <th>TIPO_CREDITO_USADO_ANT</th>\n",
       "    </tr>\n",
       "  </thead>\n",
       "  <tbody>\n",
       "    <tr>\n",
       "      <th>count</th>\n",
       "      <td>98611</td>\n",
       "    </tr>\n",
       "    <tr>\n",
       "      <th>unique</th>\n",
       "      <td>7</td>\n",
       "    </tr>\n",
       "    <tr>\n",
       "      <th>top</th>\n",
       "      <td>CONTADO</td>\n",
       "    </tr>\n",
       "    <tr>\n",
       "      <th>freq</th>\n",
       "      <td>62559</td>\n",
       "    </tr>\n",
       "  </tbody>\n",
       "</table>\n",
       "</div>"
      ],
      "text/plain": [
       "       TIPO_CREDITO_USADO_ANT\n",
       "count                   98611\n",
       "unique                      7\n",
       "top                   CONTADO\n",
       "freq                    62559"
      ]
     },
     "execution_count": 29,
     "metadata": {},
     "output_type": "execute_result"
    }
   ],
   "source": [
    "df[['TIPO_CREDITO_USADO_ANT']].describe()"
   ]
  },
  {
   "cell_type": "code",
   "execution_count": 30,
   "metadata": {},
   "outputs": [],
   "source": [
    "df['TIPO_CREDITO_USADO_ANT'] = df['TIPO_CREDITO_USADO_ANT'].replace(np.nan,'NA')"
   ]
  },
  {
   "cell_type": "code",
   "execution_count": 31,
   "metadata": {},
   "outputs": [
    {
     "name": "stdout",
     "output_type": "stream",
     "text": [
      "<class 'pandas.core.frame.DataFrame'>\n",
      "RangeIndex: 212232 entries, 0 to 212231\n",
      "Data columns (total 35 columns):\n",
      " #   Column                    Non-Null Count   Dtype  \n",
      "---  ------                    --------------   -----  \n",
      " 0   TIPO_CLIENTE              212232 non-null  object \n",
      " 1   RUBRO_ECON                212232 non-null  object \n",
      " 2   ANTIGUEDAD_E              212232 non-null  object \n",
      " 3   TRAMO_VENTA               212232 non-null  float64\n",
      " 4   NUM_TRABAJADORES          212232 non-null  float64\n",
      " 5   TOTAL_UTILITARIOS         212232 non-null  float64\n",
      " 6   UTILITARIOS_EXCLUSION     212232 non-null  float64\n",
      " 7   RELEVANTE_BUSES           212232 non-null  float64\n",
      " 8   RELEVANTE_CAMIONES        212232 non-null  float64\n",
      " 9   RELEVANTE_RODADOS         212232 non-null  float64\n",
      " 10  RELEVANTE_VANS            212232 non-null  float64\n",
      " 11  RELEVANTE_CARGA           212232 non-null  float64\n",
      " 12  RELEVANTE_PASAJERA        212232 non-null  float64\n",
      " 13  RELEVANTE_PESADO          212232 non-null  float64\n",
      " 14  RELEVANTE_CAMIONETA       212232 non-null  float64\n",
      " 15  RELEVANTE_MEDIANO         212232 non-null  float64\n",
      " 16  RELEVANTE_OTROS           212232 non-null  float64\n",
      " 17  RELEVANTE_LIVIANO         212232 non-null  float64\n",
      " 18  RELEVANTE_CAMIONETA_DCAB  212232 non-null  float64\n",
      " 19  RELEVANTE_FORESTAL        212232 non-null  float64\n",
      " 20  RELEVANTE_CAMABAJA        212232 non-null  float64\n",
      " 21  MARCA_AGRUPADA            212232 non-null  object \n",
      " 22  FLOTA_NUEVA               212232 non-null  float64\n",
      " 23  ANTIGUEDAD_FLOTA          212232 non-null  float64\n",
      " 24  COMPRO_NUM                212232 non-null  float64\n",
      " 25  CAMPANAS_U180D            212232 non-null  float64\n",
      " 26  CAMPANAS_U180D_C          212232 non-null  float64\n",
      " 27  SERVICIOS_PV              212232 non-null  float64\n",
      " 28  REGION                    212232 non-null  object \n",
      " 29  COMUNA_CRM                212232 non-null  object \n",
      " 30  USADO_NUEVO               212232 non-null  object \n",
      " 31  DESC_TIPO_VEHICULO        212232 non-null  object \n",
      " 32  NUM_OFERTAS_U12M          212232 non-null  float64\n",
      " 33  COMPRAS_REALIZADAS_U12M   212232 non-null  float64\n",
      " 34  TIPO_CREDITO_USADO_ANT    212232 non-null  object \n",
      "dtypes: float64(26), object(9)\n",
      "memory usage: 56.7+ MB\n"
     ]
    }
   ],
   "source": [
    "#cantidad de missing\n",
    "df.info()"
   ]
  },
  {
   "cell_type": "code",
   "execution_count": 32,
   "metadata": {},
   "outputs": [],
   "source": [
    "numericas = [['NUM_TRABAJADORES',\n",
    "'TOTAL_UTILITARIOS',\n",
    "'UTILITARIOS_EXCLUSION',\n",
    "'RELEVANTE_BUSES',\n",
    "'RELEVANTE_CAMIONES',\n",
    "'RELEVANTE_RODADOS',\n",
    "'RELEVANTE_VANS',\n",
    "'RELEVANTE_CARGA',\n",
    "'RELEVANTE_PASAJERA',\n",
    "'RELEVANTE_PESADO',\n",
    "'RELEVANTE_CAMIONETA',\n",
    "'RELEVANTE_MEDIANO',\n",
    "'RELEVANTE_OTROS',\n",
    "'RELEVANTE_LIVIANO',\n",
    "'RELEVANTE_CAMIONETA_DCAB',\n",
    "'RELEVANTE_FORESTAL',\n",
    "'RELEVANTE_CAMABAJA',\n",
    "'FLOTA_NUEVA',\n",
    "'ANTIGUEDAD_FLOTA',\n",
    "'CAMPANAS_U180D',\n",
    "'CAMPANAS_U180D_C',\n",
    "'NUM_OFERTAS_U12M',\n",
    "'COMPRAS_REALIZADAS_U12M',\n",
    "'CAMPANAS_U180D_C',\n",
    "'NUM_OFERTAS_U12M',\n",
    "'COMPRAS_REALIZADAS_U12M']]\n",
    "\n",
    "df1=df\n",
    "\n",
    "for i in numericas:\n",
    "    df1[i]=(df[i]-df1[i].mean())/df1[i].std()"
   ]
  },
  {
   "cell_type": "code",
   "execution_count": 33,
   "metadata": {},
   "outputs": [
    {
     "name": "stdout",
     "output_type": "stream",
     "text": [
      "<class 'pandas.core.frame.DataFrame'>\n",
      "RangeIndex: 212232 entries, 0 to 212231\n",
      "Data columns (total 35 columns):\n",
      " #   Column                    Non-Null Count   Dtype  \n",
      "---  ------                    --------------   -----  \n",
      " 0   TIPO_CLIENTE              212232 non-null  object \n",
      " 1   RUBRO_ECON                212232 non-null  object \n",
      " 2   ANTIGUEDAD_E              212232 non-null  object \n",
      " 3   TRAMO_VENTA               212232 non-null  float64\n",
      " 4   NUM_TRABAJADORES          212232 non-null  float64\n",
      " 5   TOTAL_UTILITARIOS         212232 non-null  float64\n",
      " 6   UTILITARIOS_EXCLUSION     212232 non-null  float64\n",
      " 7   RELEVANTE_BUSES           212232 non-null  float64\n",
      " 8   RELEVANTE_CAMIONES        212232 non-null  float64\n",
      " 9   RELEVANTE_RODADOS         212232 non-null  float64\n",
      " 10  RELEVANTE_VANS            212232 non-null  float64\n",
      " 11  RELEVANTE_CARGA           212232 non-null  float64\n",
      " 12  RELEVANTE_PASAJERA        212232 non-null  float64\n",
      " 13  RELEVANTE_PESADO          212232 non-null  float64\n",
      " 14  RELEVANTE_CAMIONETA       212232 non-null  float64\n",
      " 15  RELEVANTE_MEDIANO         212232 non-null  float64\n",
      " 16  RELEVANTE_OTROS           212232 non-null  float64\n",
      " 17  RELEVANTE_LIVIANO         212232 non-null  float64\n",
      " 18  RELEVANTE_CAMIONETA_DCAB  212232 non-null  float64\n",
      " 19  RELEVANTE_FORESTAL        212232 non-null  float64\n",
      " 20  RELEVANTE_CAMABAJA        212232 non-null  float64\n",
      " 21  MARCA_AGRUPADA            212232 non-null  object \n",
      " 22  FLOTA_NUEVA               212232 non-null  float64\n",
      " 23  ANTIGUEDAD_FLOTA          212232 non-null  float64\n",
      " 24  COMPRO_NUM                212232 non-null  float64\n",
      " 25  CAMPANAS_U180D            212232 non-null  float64\n",
      " 26  CAMPANAS_U180D_C          212232 non-null  float64\n",
      " 27  SERVICIOS_PV              212232 non-null  float64\n",
      " 28  REGION                    212232 non-null  object \n",
      " 29  COMUNA_CRM                212232 non-null  object \n",
      " 30  USADO_NUEVO               212232 non-null  object \n",
      " 31  DESC_TIPO_VEHICULO        212232 non-null  object \n",
      " 32  NUM_OFERTAS_U12M          212232 non-null  float64\n",
      " 33  COMPRAS_REALIZADAS_U12M   212232 non-null  float64\n",
      " 34  TIPO_CREDITO_USADO_ANT    212232 non-null  object \n",
      "dtypes: float64(26), object(9)\n",
      "memory usage: 56.7+ MB\n"
     ]
    }
   ],
   "source": [
    "df1.info()"
   ]
  },
  {
   "cell_type": "markdown",
   "metadata": {},
   "source": [
    "## Exploración\n",
    "Practicamente todos los grupos tienen una baja conversion pero existen diferencias en promedio"
   ]
  },
  {
   "cell_type": "markdown",
   "metadata": {},
   "source": [
    "### Análisis por columna"
   ]
  },
  {
   "cell_type": "markdown",
   "metadata": {},
   "source": [
    " la variable COMPRO_NUM corresponde a una variable indicadora de si compra o no lo ofertado\n",
    "#(1) compra (0) no compra"
   ]
  },
  {
   "cell_type": "code",
   "execution_count": 34,
   "metadata": {},
   "outputs": [
    {
     "data": {
      "text/plain": [
       "7.712314825285536"
      ]
     },
     "execution_count": 34,
     "metadata": {},
     "output_type": "execute_result"
    }
   ],
   "source": [
    "conversion = (sum(df1['COMPRO_NUM'])/len(df1['COMPRO_NUM'].index))*100\n",
    "conversion"
   ]
  },
  {
   "cell_type": "markdown",
   "metadata": {},
   "source": [
    "Una conversion tan baja requiere balance de la información"
   ]
  },
  {
   "cell_type": "markdown",
   "metadata": {},
   "source": [
    "#### RUBRO_ECON"
   ]
  },
  {
   "cell_type": "code",
   "execution_count": 35,
   "metadata": {},
   "outputs": [
    {
     "data": {
      "image/png": "[encoded data removed]",
      "text/plain": [
       "<Figure size 432x288 with 1 Axes>"
      ]
     },
     "metadata": {
      "needs_background": "light"
     },
     "output_type": "display_data"
    }
   ],
   "source": [
    "sns.countplot(x = \"RUBRO_ECON\", hue = \"COMPRO_NUM\", data = df1)\n",
    "xticks(rotation = 90)\n",
    "plt.show()"
   ]
  },
  {
   "cell_type": "code",
   "execution_count": 36,
   "metadata": {},
   "outputs": [
    {
     "data": {
      "text/plain": [
       "RUBRO_ECON\n",
       "A    0.090921\n",
       "B    0.068592\n",
       "C    0.071257\n",
       "D    0.040698\n",
       "E    0.078757\n",
       "F    0.069842\n",
       "G    0.094826\n",
       "H    0.092270\n",
       "I    0.059809\n",
       "J    0.078740\n",
       "K    0.091837\n",
       "L    0.098921\n",
       "M    0.098731\n",
       "N    0.099344\n",
       "O    0.088889\n",
       "P    0.097059\n",
       "Q    0.045603\n",
       "R    0.088435\n",
       "S    0.098474\n",
       "U    0.038462\n",
       "Z    0.053477\n",
       "Name: COMPRO_NUM, dtype: float64"
      ]
     },
     "execution_count": 36,
     "metadata": {},
     "output_type": "execute_result"
    }
   ],
   "source": [
    "df1.groupby('RUBRO_ECON')[\"COMPRO_NUM\"].mean() "
   ]
  },
  {
   "cell_type": "markdown",
   "metadata": {},
   "source": [
    "#### ANTIGUEDAD_E"
   ]
  },
  {
   "cell_type": "code",
   "execution_count": 37,
   "metadata": {},
   "outputs": [
    {
     "data": {
      "image/png": "[encoded data removed]",
      "text/plain": [
       "<Figure size 432x288 with 1 Axes>"
      ]
     },
     "metadata": {
      "needs_background": "light"
     },
     "output_type": "display_data"
    },
    {
     "data": {
      "text/plain": [
       "ANTIGUEDAD_E\n",
       "ENTRE 15 Y 25 A    0.101447\n",
       "ENTRE 5 Y 15 AÑ    0.089993\n",
       "MAYOR A 25 AÑOS    0.060041\n",
       "MENOS DE 5 AÑOS    0.063202\n",
       "Name: COMPRO_NUM, dtype: float64"
      ]
     },
     "execution_count": 37,
     "metadata": {},
     "output_type": "execute_result"
    }
   ],
   "source": [
    "# la variable la optimize desde sas\n",
    "sns.countplot(x = \"ANTIGUEDAD_E\", hue = \"COMPRO_NUM\", data = df1)\n",
    "xticks(rotation = 90)\n",
    "plt.show(),\n",
    "df1.groupby('ANTIGUEDAD_E')[\"COMPRO_NUM\"].mean() \n"
   ]
  },
  {
   "cell_type": "markdown",
   "metadata": {},
   "source": [
    "#### TRAMO_VENTA"
   ]
  },
  {
   "cell_type": "code",
   "execution_count": 38,
   "metadata": {},
   "outputs": [
    {
     "data": {
      "text/plain": [
       "TRAMO_VENTA\n",
       "1.000000     0.084308\n",
       "2.000000     0.042511\n",
       "3.000000     0.052659\n",
       "4.000000     0.054204\n",
       "5.000000     0.069831\n",
       "6.000000     0.075005\n",
       "7.000000     0.078158\n",
       "8.000000     0.086408\n",
       "8.862954     0.055464\n",
       "9.000000     0.093551\n",
       "10.000000    0.108782\n",
       "11.000000    0.142489\n",
       "12.000000    0.103281\n",
       "13.000000    0.062625\n",
       "Name: COMPRO_NUM, dtype: float64"
      ]
     },
     "execution_count": 38,
     "metadata": {},
     "output_type": "execute_result"
    }
   ],
   "source": [
    "df1.groupby('TRAMO_VENTA')[\"COMPRO_NUM\"].mean() "
   ]
  },
  {
   "cell_type": "code",
   "execution_count": 39,
   "metadata": {
    "scrolled": true
   },
   "outputs": [
    {
     "data": {
      "text/plain": [
       "<function matplotlib.pyplot.show(*args, **kw)>"
      ]
     },
     "execution_count": 39,
     "metadata": {},
     "output_type": "execute_result"
    },
    {
     "data": {
      "image/png": "[encoded data removed]",
      "text/plain": [
       "<Figure size 432x288 with 1 Axes>"
      ]
     },
     "metadata": {
      "needs_background": "light"
     },
     "output_type": "display_data"
    }
   ],
   "source": [
    "plt.hist(df1[\"TRAMO_VENTA\"])\n",
    "plt.show"
   ]
  },
  {
   "cell_type": "markdown",
   "metadata": {},
   "source": [
    "### Numero de trabajadores"
   ]
  },
  {
   "cell_type": "code",
   "execution_count": 40,
   "metadata": {},
   "outputs": [
    {
     "data": {
      "text/plain": [
       "<function matplotlib.pyplot.show(*args, **kw)>"
      ]
     },
     "execution_count": 40,
     "metadata": {},
     "output_type": "execute_result"
    },
    {
     "data": {
      "image/png": "[encoded data removed]",
      "text/plain": [
       "<Figure size 432x288 with 1 Axes>"
      ]
     },
     "metadata": {
      "needs_background": "light"
     },
     "output_type": "display_data"
    }
   ],
   "source": [
    "plt.hist(df1[\"NUM_TRABAJADORES\"],bins=200)\n",
    "plt.show\n",
    "\n"
   ]
  },
  {
   "cell_type": "markdown",
   "metadata": {},
   "source": [
    "Existen aoutliers es esta variable"
   ]
  },
  {
   "cell_type": "markdown",
   "metadata": {},
   "source": [
    "### REGION"
   ]
  },
  {
   "cell_type": "code",
   "execution_count": 41,
   "metadata": {},
   "outputs": [
    {
     "data": {
      "image/png": "[encoded data removed]",
      "text/plain": [
       "<Figure size 432x288 with 1 Axes>"
      ]
     },
     "metadata": {
      "needs_background": "light"
     },
     "output_type": "display_data"
    },
    {
     "data": {
      "text/plain": [
       "REGION\n",
       "NA                                     0.055457\n",
       " Antofagasta                           0.062973\n",
       " Arica y Parinacota                    0.053402\n",
       " Atacama                               0.059837\n",
       " Aysén del Gral. C. Ibáñez del Camp    0.027842\n",
       " Biobío                                0.101514\n",
       " Coquimbo                              0.071220\n",
       " La Araucanía                          0.110455\n",
       " Lib. Gral. Bernardo O'Higgins         0.062145\n",
       " Los Lagos                             0.093520\n",
       " Los Ríos                              0.111512\n",
       " Magallanes y Antártica Chilena        0.089918\n",
       " Maule                                 0.093509\n",
       " Metropolitana de Santiago             0.071720\n",
       " Tarapacá                              0.091216\n",
       " Valparaíso                            0.064106\n",
       " Ñuble                                 0.096650\n",
       "Name: COMPRO_NUM, dtype: float64"
      ]
     },
     "execution_count": 41,
     "metadata": {},
     "output_type": "execute_result"
    }
   ],
   "source": [
    "# la variable la optimize desde sas\n",
    "sns.countplot(x = \"REGION\", hue = \"COMPRO_NUM\", data = df1)\n",
    "xticks(rotation = 90)\n",
    "plt.show(),\n",
    "df1.groupby('REGION')[\"COMPRO_NUM\"].mean() \n"
   ]
  },
  {
   "cell_type": "markdown",
   "metadata": {},
   "source": [
    "### Tipo credito usado anteriormente"
   ]
  },
  {
   "cell_type": "code",
   "execution_count": 42,
   "metadata": {},
   "outputs": [
    {
     "data": {
      "image/png": "[encoded data removed]",
      "text/plain": [
       "<Figure size 432x288 with 1 Axes>"
      ]
     },
     "metadata": {
      "needs_background": "light"
     },
     "output_type": "display_data"
    },
    {
     "data": {
      "text/plain": [
       "TIPO_CREDITO_USADO_ANT\n",
       "CHEQUES                           0.178041\n",
       "CONTADO                           0.161751\n",
       "LEASING FINANCIERO                0.121805\n",
       "LETRAS                            0.153653\n",
       "MUTUOS                            0.155556\n",
       "NA                                0.002306\n",
       "ORDEN DE COMPRA                   0.189965\n",
       "PAGARE/O.COMPRA/CREDITO SIMPLE    0.121955\n",
       "Name: COMPRO_NUM, dtype: float64"
      ]
     },
     "execution_count": 42,
     "metadata": {},
     "output_type": "execute_result"
    }
   ],
   "source": [
    "sns.countplot(x = \"TIPO_CREDITO_USADO_ANT\", hue = \"COMPRO_NUM\", data = df1)\n",
    "xticks(rotation = 90)\n",
    "plt.show(),\n",
    "df1.groupby('TIPO_CREDITO_USADO_ANT')[\"COMPRO_NUM\"].mean() "
   ]
  },
  {
   "cell_type": "markdown",
   "metadata": {},
   "source": [
    "Esto tiene poca logica, pero se usa, si el cliente compra antes, tengo el tipo de credito que ocupa, pero voy a agrupar"
   ]
  },
  {
   "cell_type": "code",
   "execution_count": 43,
   "metadata": {},
   "outputs": [],
   "source": [
    "df1['TIPO_CREDITO_USADO_ANT'] = df1['TIPO_CREDITO_USADO_ANT'].replace('PAGARE/O.COMPRA/CREDITO SIMPLE','CREDITO')\n",
    "df1['TIPO_CREDITO_USADO_ANT'] = df1['TIPO_CREDITO_USADO_ANT'].replace('LEASING FINANCIERO','LEASING')"
   ]
  },
  {
   "cell_type": "markdown",
   "metadata": {},
   "source": [
    "### Ofertas realizadas anteriormente"
   ]
  },
  {
   "cell_type": "code",
   "execution_count": 44,
   "metadata": {},
   "outputs": [
    {
     "data": {
      "text/plain": [
       "-0.05114622620301257"
      ]
     },
     "execution_count": 44,
     "metadata": {},
     "output_type": "execute_result"
    },
    {
     "data": {
      "image/png": "[encoded data removed]",
      "text/plain": [
       "<Figure size 432x288 with 1 Axes>"
      ]
     },
     "metadata": {
      "needs_background": "light"
     },
     "output_type": "display_data"
    }
   ],
   "source": [
    "plt.hist(df1[\"NUM_OFERTAS_U12M\"],bins=50)\n",
    "plt.show\n",
    "\n",
    "df1['NUM_OFERTAS_U12M'].corr(df1[\"COMPRO_NUM\"])"
   ]
  },
  {
   "cell_type": "markdown",
   "metadata": {},
   "source": [
    "### Servicios PV"
   ]
  },
  {
   "cell_type": "code",
   "execution_count": 45,
   "metadata": {},
   "outputs": [
    {
     "data": {
      "image/png": "[encoded data removed]",
      "text/plain": [
       "<Figure size 432x288 with 1 Axes>"
      ]
     },
     "metadata": {
      "needs_background": "light"
     },
     "output_type": "display_data"
    },
    {
     "data": {
      "text/plain": [
       "SERVICIOS_PV\n",
       "0.0    0.062489\n",
       "1.0    0.095462\n",
       "Name: COMPRO_NUM, dtype: float64"
      ]
     },
     "execution_count": 45,
     "metadata": {},
     "output_type": "execute_result"
    }
   ],
   "source": [
    "sns.countplot(x = \"SERVICIOS_PV\", hue = \"COMPRO_NUM\", data = df1)\n",
    "xticks(rotation = 90)\n",
    "plt.show(),\n",
    "df1.groupby('SERVICIOS_PV')[\"COMPRO_NUM\"].mean() "
   ]
  },
  {
   "cell_type": "markdown",
   "metadata": {},
   "source": [
    "## Dummificacion de variables"
   ]
  },
  {
   "cell_type": "code",
   "execution_count": 46,
   "metadata": {},
   "outputs": [],
   "source": [
    "def variables_dummy(dataset,variable):\n",
    "    cat_dummies = pd.get_dummies(dataset[variable],prefix=variable)\n",
    "    #.iloc[:,1:]\n",
    "    data_new = dataset.join(cat_dummies)\n",
    "    dataset = data_new.drop([variable],axis=1)\n",
    "    return dataset"
   ]
  },
  {
   "cell_type": "code",
   "execution_count": 47,
   "metadata": {},
   "outputs": [
    {
     "name": "stdout",
     "output_type": "stream",
     "text": [
      "<class 'pandas.core.frame.DataFrame'>\n",
      "RangeIndex: 212232 entries, 0 to 212231\n",
      "Data columns (total 35 columns):\n",
      " #   Column                    Non-Null Count   Dtype  \n",
      "---  ------                    --------------   -----  \n",
      " 0   TIPO_CLIENTE              212232 non-null  object \n",
      " 1   RUBRO_ECON                212232 non-null  object \n",
      " 2   ANTIGUEDAD_E              212232 non-null  object \n",
      " 3   TRAMO_VENTA               212232 non-null  float64\n",
      " 4   NUM_TRABAJADORES          212232 non-null  float64\n",
      " 5   TOTAL_UTILITARIOS         212232 non-null  float64\n",
      " 6   UTILITARIOS_EXCLUSION     212232 non-null  float64\n",
      " 7   RELEVANTE_BUSES           212232 non-null  float64\n",
      " 8   RELEVANTE_CAMIONES        212232 non-null  float64\n",
      " 9   RELEVANTE_RODADOS         212232 non-null  float64\n",
      " 10  RELEVANTE_VANS            212232 non-null  float64\n",
      " 11  RELEVANTE_CARGA           212232 non-null  float64\n",
      " 12  RELEVANTE_PASAJERA        212232 non-null  float64\n",
      " 13  RELEVANTE_PESADO          212232 non-null  float64\n",
      " 14  RELEVANTE_CAMIONETA       212232 non-null  float64\n",
      " 15  RELEVANTE_MEDIANO         212232 non-null  float64\n",
      " 16  RELEVANTE_OTROS           212232 non-null  float64\n",
      " 17  RELEVANTE_LIVIANO         212232 non-null  float64\n",
      " 18  RELEVANTE_CAMIONETA_DCAB  212232 non-null  float64\n",
      " 19  RELEVANTE_FORESTAL        212232 non-null  float64\n",
      " 20  RELEVANTE_CAMABAJA        212232 non-null  float64\n",
      " 21  MARCA_AGRUPADA            212232 non-null  object \n",
      " 22  FLOTA_NUEVA               212232 non-null  float64\n",
      " 23  ANTIGUEDAD_FLOTA          212232 non-null  float64\n",
      " 24  COMPRO_NUM                212232 non-null  float64\n",
      " 25  CAMPANAS_U180D            212232 non-null  float64\n",
      " 26  CAMPANAS_U180D_C          212232 non-null  float64\n",
      " 27  SERVICIOS_PV              212232 non-null  float64\n",
      " 28  REGION                    212232 non-null  object \n",
      " 29  COMUNA_CRM                212232 non-null  object \n",
      " 30  USADO_NUEVO               212232 non-null  object \n",
      " 31  DESC_TIPO_VEHICULO        212232 non-null  object \n",
      " 32  NUM_OFERTAS_U12M          212232 non-null  float64\n",
      " 33  COMPRAS_REALIZADAS_U12M   212232 non-null  float64\n",
      " 34  TIPO_CREDITO_USADO_ANT    212232 non-null  object \n",
      "dtypes: float64(26), object(9)\n",
      "memory usage: 56.7+ MB\n"
     ]
    }
   ],
   "source": [
    "df3=df1\n",
    "\n",
    "df3.info()"
   ]
  },
  {
   "cell_type": "code",
   "execution_count": 48,
   "metadata": {},
   "outputs": [],
   "source": [
    "tabla=variables_dummy(df3,\"TIPO_CLIENTE\")\n",
    "tabla=variables_dummy(tabla,\"ANTIGUEDAD_E\")\n",
    "tabla=variables_dummy(tabla,\"DESC_TIPO_VEHICULO\")\n",
    "tabla=variables_dummy(tabla,\"MARCA_AGRUPADA\")\n",
    "tabla=variables_dummy(tabla,\"RUBRO_ECON\")\n",
    "tabla=variables_dummy(tabla,\"REGION\")\n",
    "#tabla=variables_dummy(tabla,\"COMUNA_CRM\")\n",
    "tabla=variables_dummy(tabla,\"USADO_NUEVO\")\n",
    "tabla=variables_dummy(tabla,\"TIPO_CREDITO_USADO_ANT\")\n",
    "\n",
    "tabla=tabla.drop([\"COMUNA_CRM\"], axis=1)"
   ]
  },
  {
   "cell_type": "code",
   "execution_count": 49,
   "metadata": {},
   "outputs": [],
   "source": [
    "y=tabla[\"COMPRO_NUM\"]\n",
    "x=tabla.drop([\"COMPRO_NUM\"], axis=1)"
   ]
  },
  {
   "cell_type": "markdown",
   "metadata": {},
   "source": [
    "### Datos entrenamiento y testeo"
   ]
  },
  {
   "cell_type": "markdown",
   "metadata": {},
   "source": [
    "como esta desbalanceado, primero divido la muestra pero por estratos"
   ]
  },
  {
   "cell_type": "code",
   "execution_count": 50,
   "metadata": {},
   "outputs": [],
   "source": [
    "x_res,x_test,y_res,y_test=train_test_split(x,y,test_size=0.1,random_state=1010,stratify=y)"
   ]
  },
  {
   "cell_type": "markdown",
   "metadata": {},
   "source": [
    "Revisamos como quedan las separaciones"
   ]
  },
  {
   "cell_type": "code",
   "execution_count": 51,
   "metadata": {},
   "outputs": [
    {
     "data": {
      "text/plain": [
       "(0.0771224241916569, 0.07712966453071994, (191008,), (21224,))"
      ]
     },
     "execution_count": 51,
     "metadata": {},
     "output_type": "execute_result"
    }
   ],
   "source": [
    "y_res.mean(),y_test.mean(),y_res.shape,y_test.shape"
   ]
  },
  {
   "cell_type": "markdown",
   "metadata": {},
   "source": [
    "### Balanceo de datos de entrenamiento"
   ]
  },
  {
   "cell_type": "markdown",
   "metadata": {},
   "source": [
    "Tengo la opcion de bajar o subir la muestra, a modo de no perder informacion se sube"
   ]
  },
  {
   "cell_type": "code",
   "execution_count": 52,
   "metadata": {},
   "outputs": [
    {
     "name": "stderr",
     "output_type": "stream",
     "text": [
      "Using TensorFlow backend.\n"
     ]
    }
   ],
   "source": [
    "from imblearn.under_sampling import NearMiss\n",
    "from imblearn.over_sampling import SMOTE \n",
    "nm = SMOTE(random_state = 10101) \n",
    "#nm = NearMiss()\n",
    "#X_train, y_train = sm.fit_sample(x_res, y_res.ravel()) "
   ]
  },
  {
   "cell_type": "code",
   "execution_count": 53,
   "metadata": {},
   "outputs": [],
   "source": [
    "x_train,y_train=nm.fit_sample(x_res,y_res)"
   ]
  },
  {
   "cell_type": "markdown",
   "metadata": {},
   "source": [
    "Reviso dimenciones nuevamente"
   ]
  },
  {
   "cell_type": "code",
   "execution_count": 54,
   "metadata": {},
   "outputs": [
    {
     "data": {
      "text/plain": [
       "((191008,), 0.0771224241916569, (352554,), 0.5)"
      ]
     },
     "execution_count": 54,
     "metadata": {},
     "output_type": "execute_result"
    }
   ],
   "source": [
    "y_res.shape, y_res.mean(), y_train.shape,y_train.mean()"
   ]
  },
  {
   "cell_type": "markdown",
   "metadata": {},
   "source": [
    "paso de 191 mil datos de entrenamiento a 352, mediante resample"
   ]
  },
  {
   "cell_type": "markdown",
   "metadata": {},
   "source": [
    "Guardado de bases finales"
   ]
  },
  {
   "cell_type": "code",
   "execution_count": 55,
   "metadata": {},
   "outputs": [],
   "source": [
    "x_train.to_csv(\"x_train.csv\")\n",
    "y_train.to_csv(\"y_train.csv\")\n",
    "x_test.to_csv(\"x_test.csv\")\n",
    "y_test.to_csv(\"y_test.csv\")"
   ]
  },
  {
   "cell_type": "markdown",
   "metadata": {},
   "source": [
    "Carga de bases"
   ]
  },
  {
   "cell_type": "code",
   "execution_count": 31,
   "metadata": {},
   "outputs": [],
   "source": [
    "x_train=pd.read_csv(\"x_train.csv\")\n",
    "y_train=pd.read_csv(\"y_train.csv\")\n",
    "x_test=pd.read_csv(\"x_test.csv\")\n",
    "y_test=pd.read_csv(\"y_test.csv\")\n",
    "\n",
    "\n",
    "y_train=y_train.COMPRO_NUM\n",
    "y_test=y_test.COMPRO_NUM\n",
    "x_train=x_train.drop(['Unnamed: 0'],axis=1)\n",
    "x_test=x_test.drop(['Unnamed: 0'],axis=1)"
   ]
  },
  {
   "cell_type": "markdown",
   "metadata": {},
   "source": [
    "# Modelamiento\n",
    "\n",
    "La estrategia en este caso es utilizar regresion logistica, en el caso de obtener un pobre ajuste, se utilitan varios modelos para probar"
   ]
  },
  {
   "cell_type": "markdown",
   "metadata": {},
   "source": [
    "## Regresion logistica\n",
    "\n",
    "Utilizo regresion loistica y una busqueda por gridsearch para encontrar mejores hiperparametros"
   ]
  },
  {
   "cell_type": "code",
   "execution_count": 382,
   "metadata": {},
   "outputs": [],
   "source": [
    "from sklearn.linear_model import LogisticRegression\n",
    "from sklearn.model_selection import GridSearchCV\n",
    "\n",
    "\n",
    "grid={\"C\":np.logspace(-3,3,7), \"penalty\":[\"l1\",\"l2\"]}\n",
    "\n",
    "logreg=LogisticRegression()\n",
    "\n",
    "logreg_cv=GridSearchCV(logreg,grid,cv=5,verbose=10)"
   ]
  },
  {
   "cell_type": "code",
   "execution_count": 383,
   "metadata": {
    "scrolled": true
   },
   "outputs": [
    {
     "name": "stdout",
     "output_type": "stream",
     "text": [
      "Fitting 5 folds for each of 14 candidates, totalling 70 fits\n",
      "[CV] C=0.001, penalty=l1 .............................................\n"
     ]
    },
    {
     "name": "stderr",
     "output_type": "stream",
     "text": [
      "[Parallel(n_jobs=1)]: Using backend SequentialBackend with 1 concurrent workers.\n"
     ]
    },
    {
     "name": "stdout",
     "output_type": "stream",
     "text": [
      "[CV] ................... C=0.001, penalty=l1, score=nan, total=   0.4s\n",
      "[CV] C=0.001, penalty=l1 .............................................\n",
      "[CV] ................... C=0.001, penalty=l1, score=nan, total=   0.2s\n"
     ]
    },
    {
     "name": "stderr",
     "output_type": "stream",
     "text": [
      "[Parallel(n_jobs=1)]: Done   1 out of   1 | elapsed:    0.3s remaining:    0.0s\n"
     ]
    },
    {
     "name": "stdout",
     "output_type": "stream",
     "text": [
      "[CV] C=0.001, penalty=l1 .............................................\n",
      "[CV] ................... C=0.001, penalty=l1, score=nan, total=   0.2s\n",
      "[CV] C=0.001, penalty=l1 .............................................\n"
     ]
    },
    {
     "name": "stderr",
     "output_type": "stream",
     "text": [
      "[Parallel(n_jobs=1)]: Done   2 out of   2 | elapsed:    0.5s remaining:    0.0s\n",
      "[Parallel(n_jobs=1)]: Done   3 out of   3 | elapsed:    0.8s remaining:    0.0s\n"
     ]
    },
    {
     "name": "stdout",
     "output_type": "stream",
     "text": [
      "[CV] ................... C=0.001, penalty=l1, score=nan, total=   0.3s\n",
      "[CV] C=0.001, penalty=l1 .............................................\n"
     ]
    },
    {
     "name": "stderr",
     "output_type": "stream",
     "text": [
      "[Parallel(n_jobs=1)]: Done   4 out of   4 | elapsed:    1.1s remaining:    0.0s\n"
     ]
    },
    {
     "name": "stdout",
     "output_type": "stream",
     "text": [
      "[CV] ................... C=0.001, penalty=l1, score=nan, total=   0.3s\n",
      "[CV] C=0.001, penalty=l2 .............................................\n"
     ]
    },
    {
     "name": "stderr",
     "output_type": "stream",
     "text": [
      "[Parallel(n_jobs=1)]: Done   5 out of   5 | elapsed:    1.5s remaining:    0.0s\n"
     ]
    },
    {
     "name": "stdout",
     "output_type": "stream",
     "text": [
      "[CV] ................. C=0.001, penalty=l2, score=0.807, total=  11.7s\n",
      "[CV] C=0.001, penalty=l2 .............................................\n"
     ]
    },
    {
     "name": "stderr",
     "output_type": "stream",
     "text": [
      "[Parallel(n_jobs=1)]: Done   6 out of   6 | elapsed:   13.3s remaining:    0.0s\n"
     ]
    },
    {
     "name": "stdout",
     "output_type": "stream",
     "text": [
      "[CV] ................. C=0.001, penalty=l2, score=0.810, total=  11.7s\n",
      "[CV] C=0.001, penalty=l2 .............................................\n"
     ]
    },
    {
     "name": "stderr",
     "output_type": "stream",
     "text": [
      "[Parallel(n_jobs=1)]: Done   7 out of   7 | elapsed:   25.0s remaining:    0.0s\n"
     ]
    },
    {
     "name": "stdout",
     "output_type": "stream",
     "text": [
      "[CV] ................. C=0.001, penalty=l2, score=0.811, total=  11.1s\n",
      "[CV] C=0.001, penalty=l2 .............................................\n"
     ]
    },
    {
     "name": "stderr",
     "output_type": "stream",
     "text": [
      "[Parallel(n_jobs=1)]: Done   8 out of   8 | elapsed:   36.2s remaining:    0.0s\n"
     ]
    },
    {
     "name": "stdout",
     "output_type": "stream",
     "text": [
      "[CV] ................. C=0.001, penalty=l2, score=0.806, total=  11.8s\n",
      "[CV] C=0.001, penalty=l2 .............................................\n"
     ]
    },
    {
     "name": "stderr",
     "output_type": "stream",
     "text": [
      "[Parallel(n_jobs=1)]: Done   9 out of   9 | elapsed:   48.0s remaining:    0.0s\n"
     ]
    },
    {
     "name": "stdout",
     "output_type": "stream",
     "text": [
      "[CV] ................. C=0.001, penalty=l2, score=0.810, total=  11.1s\n",
      "[CV] C=0.01, penalty=l1 ..............................................\n",
      "[CV] .................... C=0.01, penalty=l1, score=nan, total=   0.2s\n",
      "[CV] C=0.01, penalty=l1 ..............................................\n",
      "[CV] .................... C=0.01, penalty=l1, score=nan, total=   0.2s\n",
      "[CV] C=0.01, penalty=l1 ..............................................\n",
      "[CV] .................... C=0.01, penalty=l1, score=nan, total=   0.3s\n",
      "[CV] C=0.01, penalty=l1 ..............................................\n",
      "[CV] .................... C=0.01, penalty=l1, score=nan, total=   0.3s\n",
      "[CV] C=0.01, penalty=l1 ..............................................\n",
      "[CV] .................... C=0.01, penalty=l1, score=nan, total=   0.2s\n",
      "[CV] C=0.01, penalty=l2 ..............................................\n",
      "[CV] .................. C=0.01, penalty=l2, score=0.805, total=  11.3s\n",
      "[CV] C=0.01, penalty=l2 ..............................................\n",
      "[CV] .................. C=0.01, penalty=l2, score=0.841, total=  11.7s\n",
      "[CV] C=0.01, penalty=l2 ..............................................\n",
      "[CV] .................. C=0.01, penalty=l2, score=0.840, total=  11.8s\n",
      "[CV] C=0.01, penalty=l2 ..............................................\n",
      "[CV] .................. C=0.01, penalty=l2, score=0.837, total=  11.5s\n",
      "[CV] C=0.01, penalty=l2 ..............................................\n",
      "[CV] .................. C=0.01, penalty=l2, score=0.840, total=  11.6s\n",
      "[CV] C=0.1, penalty=l1 ...............................................\n",
      "[CV] ..................... C=0.1, penalty=l1, score=nan, total=   0.3s\n",
      "[CV] C=0.1, penalty=l1 ...............................................\n",
      "[CV] ..................... C=0.1, penalty=l1, score=nan, total=   0.2s\n",
      "[CV] C=0.1, penalty=l1 ...............................................\n",
      "[CV] ..................... C=0.1, penalty=l1, score=nan, total=   0.3s\n",
      "[CV] C=0.1, penalty=l1 ...............................................\n",
      "[CV] ..................... C=0.1, penalty=l1, score=nan, total=   0.3s\n",
      "[CV] C=0.1, penalty=l1 ...............................................\n",
      "[CV] ..................... C=0.1, penalty=l1, score=nan, total=   0.3s\n",
      "[CV] C=0.1, penalty=l2 ...............................................\n",
      "[CV] ................... C=0.1, penalty=l2, score=0.795, total=  12.1s\n",
      "[CV] C=0.1, penalty=l2 ...............................................\n",
      "[CV] ................... C=0.1, penalty=l2, score=0.854, total=  11.9s\n",
      "[CV] C=0.1, penalty=l2 ...............................................\n",
      "[CV] ................... C=0.1, penalty=l2, score=0.852, total=  11.0s\n",
      "[CV] C=0.1, penalty=l2 ...............................................\n",
      "[CV] ................... C=0.1, penalty=l2, score=0.851, total=  12.0s\n",
      "[CV] C=0.1, penalty=l2 ...............................................\n",
      "[CV] ................... C=0.1, penalty=l2, score=0.853, total=  13.2s\n",
      "[CV] C=1.0, penalty=l1 ...............................................\n",
      "[CV] ..................... C=1.0, penalty=l1, score=nan, total=   1.8s\n",
      "[CV] C=1.0, penalty=l1 ...............................................\n",
      "[CV] ..................... C=1.0, penalty=l1, score=nan, total=   1.0s\n",
      "[CV] C=1.0, penalty=l1 ...............................................\n",
      "[CV] ..................... C=1.0, penalty=l1, score=nan, total=   0.4s\n",
      "[CV] C=1.0, penalty=l1 ...............................................\n",
      "[CV] ..................... C=1.0, penalty=l1, score=nan, total=   0.4s\n",
      "[CV] C=1.0, penalty=l1 ...............................................\n",
      "[CV] ..................... C=1.0, penalty=l1, score=nan, total=   0.2s\n",
      "[CV] C=1.0, penalty=l2 ...............................................\n",
      "[CV] ................... C=1.0, penalty=l2, score=0.792, total=  16.2s\n",
      "[CV] C=1.0, penalty=l2 ...............................................\n",
      "[CV] ................... C=1.0, penalty=l2, score=0.856, total=  15.8s\n",
      "[CV] C=1.0, penalty=l2 ...............................................\n",
      "[CV] ................... C=1.0, penalty=l2, score=0.854, total=  15.3s\n",
      "[CV] C=1.0, penalty=l2 ...............................................\n",
      "[CV] ................... C=1.0, penalty=l2, score=0.853, total=  12.6s\n",
      "[CV] C=1.0, penalty=l2 ...............................................\n",
      "[CV] ................... C=1.0, penalty=l2, score=0.855, total=  11.9s\n",
      "[CV] C=10.0, penalty=l1 ..............................................\n",
      "[CV] .................... C=10.0, penalty=l1, score=nan, total=   0.3s\n",
      "[CV] C=10.0, penalty=l1 ..............................................\n",
      "[CV] .................... C=10.0, penalty=l1, score=nan, total=   0.3s\n",
      "[CV] C=10.0, penalty=l1 ..............................................\n",
      "[CV] .................... C=10.0, penalty=l1, score=nan, total=   0.2s\n",
      "[CV] C=10.0, penalty=l1 ..............................................\n",
      "[CV] .................... C=10.0, penalty=l1, score=nan, total=   0.3s\n",
      "[CV] C=10.0, penalty=l1 ..............................................\n",
      "[CV] .................... C=10.0, penalty=l1, score=nan, total=   0.2s\n",
      "[CV] C=10.0, penalty=l2 ..............................................\n",
      "[CV] .................. C=10.0, penalty=l2, score=0.789, total=  11.6s\n",
      "[CV] C=10.0, penalty=l2 ..............................................\n",
      "[CV] .................. C=10.0, penalty=l2, score=0.854, total=  12.3s\n",
      "[CV] C=10.0, penalty=l2 ..............................................\n",
      "[CV] .................. C=10.0, penalty=l2, score=0.857, total=  12.8s\n",
      "[CV] C=10.0, penalty=l2 ..............................................\n",
      "[CV] .................. C=10.0, penalty=l2, score=0.855, total=  12.3s\n",
      "[CV] C=10.0, penalty=l2 ..............................................\n",
      "[CV] .................. C=10.0, penalty=l2, score=0.856, total=  11.5s\n",
      "[CV] C=100.0, penalty=l1 .............................................\n",
      "[CV] ................... C=100.0, penalty=l1, score=nan, total=   0.2s\n",
      "[CV] C=100.0, penalty=l1 .............................................\n",
      "[CV] ................... C=100.0, penalty=l1, score=nan, total=   0.2s\n",
      "[CV] C=100.0, penalty=l1 .............................................\n",
      "[CV] ................... C=100.0, penalty=l1, score=nan, total=   0.2s\n",
      "[CV] C=100.0, penalty=l1 .............................................\n",
      "[CV] ................... C=100.0, penalty=l1, score=nan, total=   0.3s\n",
      "[CV] C=100.0, penalty=l1 .............................................\n",
      "[CV] ................... C=100.0, penalty=l1, score=nan, total=   0.3s\n",
      "[CV] C=100.0, penalty=l2 .............................................\n",
      "[CV] ................. C=100.0, penalty=l2, score=0.789, total=  12.3s\n",
      "[CV] C=100.0, penalty=l2 .............................................\n",
      "[CV] ................. C=100.0, penalty=l2, score=0.857, total=  11.9s\n",
      "[CV] C=100.0, penalty=l2 .............................................\n",
      "[CV] ................. C=100.0, penalty=l2, score=0.855, total=  11.6s\n",
      "[CV] C=100.0, penalty=l2 .............................................\n",
      "[CV] ................. C=100.0, penalty=l2, score=0.857, total=  12.8s\n",
      "[CV] C=100.0, penalty=l2 .............................................\n",
      "[CV] ................. C=100.0, penalty=l2, score=0.856, total=  13.1s\n",
      "[CV] C=1000.0, penalty=l1 ............................................\n",
      "[CV] .................. C=1000.0, penalty=l1, score=nan, total=   0.3s\n",
      "[CV] C=1000.0, penalty=l1 ............................................\n",
      "[CV] .................. C=1000.0, penalty=l1, score=nan, total=   0.2s\n",
      "[CV] C=1000.0, penalty=l1 ............................................\n",
      "[CV] .................. C=1000.0, penalty=l1, score=nan, total=   0.2s\n",
      "[CV] C=1000.0, penalty=l1 ............................................\n",
      "[CV] .................. C=1000.0, penalty=l1, score=nan, total=   0.2s\n",
      "[CV] C=1000.0, penalty=l1 ............................................\n",
      "[CV] .................. C=1000.0, penalty=l1, score=nan, total=   0.2s\n",
      "[CV] C=1000.0, penalty=l2 ............................................\n",
      "[CV] ................ C=1000.0, penalty=l2, score=0.788, total=  12.5s\n",
      "[CV] C=1000.0, penalty=l2 ............................................\n",
      "[CV] ................ C=1000.0, penalty=l2, score=0.856, total=  12.0s\n",
      "[CV] C=1000.0, penalty=l2 ............................................\n"
     ]
    },
    {
     "name": "stdout",
     "output_type": "stream",
     "text": [
      "[CV] ................ C=1000.0, penalty=l2, score=0.853, total=  11.5s\n",
      "[CV] C=1000.0, penalty=l2 ............................................\n",
      "[CV] ................ C=1000.0, penalty=l2, score=0.855, total=  11.3s\n",
      "[CV] C=1000.0, penalty=l2 ............................................\n",
      "[CV] ................ C=1000.0, penalty=l2, score=0.854, total=  11.8s\n"
     ]
    },
    {
     "name": "stderr",
     "output_type": "stream",
     "text": [
      "[Parallel(n_jobs=1)]: Done  70 out of  70 | elapsed:  7.4min finished\n"
     ]
    },
    {
     "data": {
      "text/plain": [
       "GridSearchCV(cv=5, error_score=nan,\n",
       "             estimator=LogisticRegression(C=1.0, class_weight=None, dual=False,\n",
       "                                          fit_intercept=True,\n",
       "                                          intercept_scaling=1, l1_ratio=None,\n",
       "                                          max_iter=100, multi_class='auto',\n",
       "                                          n_jobs=None, penalty='l2',\n",
       "                                          random_state=None, solver='lbfgs',\n",
       "                                          tol=0.0001, verbose=0,\n",
       "                                          warm_start=False),\n",
       "             iid='deprecated', n_jobs=None,\n",
       "             param_grid={'C': array([1.e-03, 1.e-02, 1.e-01, 1.e+00, 1.e+01, 1.e+02, 1.e+03]),\n",
       "                         'penalty': ['l1', 'l2']},\n",
       "             pre_dispatch='2*n_jobs', refit=True, return_train_score=False,\n",
       "             scoring=None, verbose=10)"
      ]
     },
     "execution_count": 383,
     "metadata": {},
     "output_type": "execute_result"
    }
   ],
   "source": [
    "logreg_cv.fit(x_train,y_train)"
   ]
  },
  {
   "cell_type": "code",
   "execution_count": 390,
   "metadata": {},
   "outputs": [
    {
     "data": {
      "text/plain": [
       "{'C': 100.0, 'penalty': 'l2'}"
      ]
     },
     "execution_count": 390,
     "metadata": {},
     "output_type": "execute_result"
    }
   ],
   "source": [
    "logreg_cv.best_params_"
   ]
  },
  {
   "cell_type": "code",
   "execution_count": 388,
   "metadata": {
    "scrolled": false
   },
   "outputs": [
    {
     "data": {
      "text/html": [
       "<div>\n",
       "<style scoped>\n",
       "    .dataframe tbody tr th:only-of-type {\n",
       "        vertical-align: middle;\n",
       "    }\n",
       "\n",
       "    .dataframe tbody tr th {\n",
       "        vertical-align: top;\n",
       "    }\n",
       "\n",
       "    .dataframe thead th {\n",
       "        text-align: right;\n",
       "    }\n",
       "</style>\n",
       "<table border=\"1\" class=\"dataframe\">\n",
       "  <thead>\n",
       "    <tr style=\"text-align: right;\">\n",
       "      <th></th>\n",
       "      <th>Entrenamiento</th>\n",
       "      <th>Testeo</th>\n",
       "    </tr>\n",
       "  </thead>\n",
       "  <tbody>\n",
       "    <tr>\n",
       "      <th>Accuracy</th>\n",
       "      <td>0.842</td>\n",
       "      <td>0.798</td>\n",
       "    </tr>\n",
       "    <tr>\n",
       "      <th>recall</th>\n",
       "      <td>0.875</td>\n",
       "      <td>0.626</td>\n",
       "    </tr>\n",
       "    <tr>\n",
       "      <th>roc</th>\n",
       "      <td>0.938</td>\n",
       "      <td>0.844</td>\n",
       "    </tr>\n",
       "  </tbody>\n",
       "</table>\n",
       "</div>"
      ],
      "text/plain": [
       "          Entrenamiento  Testeo\n",
       "Accuracy          0.842   0.798\n",
       "recall            0.875   0.626\n",
       "roc               0.938   0.844"
      ]
     },
     "execution_count": 388,
     "metadata": {},
     "output_type": "execute_result"
    }
   ],
   "source": [
    "mediciones(x_train,y_train,x_test,y_test,logreg_cv)"
   ]
  },
  {
   "cell_type": "markdown",
   "metadata": {},
   "source": [
    "El accuracy es demasiado bajo, pero el recall se mantiene sano con un roc 84% es un buen candidato pero no uno optimo"
   ]
  },
  {
   "cell_type": "code",
   "execution_count": 392,
   "metadata": {},
   "outputs": [
    {
     "data": {
      "image/png": "[encoded data removed]",
      "text/plain": [
       "<Figure size 432x288 with 1 Axes>"
      ]
     },
     "metadata": {
      "needs_background": "light"
     },
     "output_type": "display_data"
    }
   ],
   "source": [
    "from sklearn.metrics import roc_auc_score\n",
    "from sklearn.metrics import roc_curve\n",
    "logit_roc_auc = roc_auc_score(y_test, logreg_cv.predict(x_test))\n",
    "fpr, tpr, thresholds = roc_curve(y_test, logreg_cv.predict_proba(x_test)[:,1])\n",
    "plt.figure()\n",
    "plt.plot(fpr, tpr, label='Logistic Regression (area = %0.2f)' % logit_roc_auc)\n",
    "plt.plot([0, 1], [0, 1],'r--')\n",
    "plt.xlim([0.0, 1.0])\n",
    "plt.ylim([0.0, 1.05])\n",
    "plt.xlabel('False Positive Rate')\n",
    "plt.ylabel('True Positive Rate')\n",
    "plt.title('Receiver operating characteristic')\n",
    "plt.legend(loc=\"lower right\")\n",
    "plt.savefig('Log_ROC')\n",
    "plt.show()"
   ]
  },
  {
   "cell_type": "markdown",
   "metadata": {},
   "source": [
    "Se aprecia un claro bajo ajuste, veamos su aplicamos otros modelos podemos mejorar esto"
   ]
  },
  {
   "cell_type": "markdown",
   "metadata": {},
   "source": [
    "## Multi-modelos"
   ]
  },
  {
   "cell_type": "markdown",
   "metadata": {},
   "source": [
    "Para evita probar uno a uno los modelos, se seleccionan varios y luego se verifica los con mejor rendimiento para hacer una busqueda ampliada de los mejores con gridsearch"
   ]
  },
  {
   "cell_type": "code",
   "execution_count": 41,
   "metadata": {},
   "outputs": [],
   "source": [
    "from sklearn import svm\n",
    "from sklearn.linear_model import LogisticRegression\n",
    "from sklearn.ensemble import RandomForestClassifier,AdaBoostClassifier,VotingClassifier,StackingClassifier\n",
    "from sklearn.neural_network import MLPClassifier\n",
    "from sklearn.discriminant_analysis import LinearDiscriminantAnalysis\n",
    "from sklearn.neighbors import KNeighborsClassifier\n",
    "from sklearn.naive_bayes import GaussianNB\n",
    "from sklearn.tree import DecisionTreeClassifier          \n",
    "              \n",
    "\n",
    "modelos = [[\"SVC\",\"RF\",\"TREE\",\"MLP\",\"GBOOST\",\"ADABOOST\"],\n",
    "           [\n",
    "            svm.LinearSVC(max_iter=30),\n",
    "            RandomForestClassifier(max_depth=12,n_estimators=80,random_state=0),\n",
    "            DecisionTreeClassifier(max_depth=30),\n",
    "            MLPClassifier(alpha=0.1,hidden_layer_sizes=14,random_state= 10101,solver='lbfgs'),\n",
    "            GaussianNB(),\n",
    "            AdaBoostClassifier(base_estimator=DecisionTreeClassifier(max_depth=30))]\n",
    "          ]\n",
    "warnings.filterwarnings(\"ignore\")"
   ]
  },
  {
   "cell_type": "markdown",
   "metadata": {},
   "source": [
    "Inicio de loop"
   ]
  },
  {
   "cell_type": "code",
   "execution_count": 42,
   "metadata": {},
   "outputs": [
    {
     "name": "stdout",
     "output_type": "stream",
     "text": [
      "modelo: SVC\n",
      "          Testeo\n",
      "Accuracy   0.900\n",
      "recall     0.131\n",
      "[[18891   696]\n",
      " [ 1421   216]]\n",
      "f1 score: 0.1694782267555904\n",
      "modelo: RF\n",
      "          Testeo\n",
      "Accuracy   0.709\n",
      "recall     0.888\n",
      "[[13598  5989]\n",
      " [  183  1454]]\n",
      "f1 score: 0.32026431718061676\n",
      "roc-auc: 0.8592316335379964\n",
      "modelo: TREE\n",
      "          Testeo\n",
      "Accuracy   0.889\n",
      "recall     0.391\n",
      "[[18230  1357]\n",
      " [  996   641]]\n",
      "f1 score: 0.3526822558459422\n",
      "roc-auc: 0.7005861011562561\n",
      "modelo: MLP\n",
      "          Testeo\n",
      "Accuracy   0.806\n",
      "recall     0.590\n",
      "[[16161  3426]\n",
      " [  671   966]]\n",
      "f1 score: 0.32045115276165204\n",
      "roc-auc: 0.8421890973464599\n",
      "modelo: GBOOST\n",
      "          Testeo\n",
      "Accuracy   0.651\n",
      "recall     0.920\n",
      "[[12312  7275]\n",
      " [  130  1507]]\n",
      "f1 score: 0.2892792014588732\n",
      "roc-auc: 0.7740739209077967\n",
      "modelo: ADABOOST\n",
      "          Testeo\n",
      "Accuracy   0.898\n",
      "recall     0.339\n",
      "[[18512  1075]\n",
      " [ 1082   555]]\n",
      "f1 score: 0.3397612488521579\n",
      "roc-auc: 0.8116593919788783\n"
     ]
    }
   ],
   "source": [
    "resultados=[]\n",
    "predicion=[]\n",
    "error=[]\n",
    "precision=[]\n",
    "a=0\n",
    "for i in modelos[1]:\n",
    "    ajuste=i.fit(x_train,y_train)\n",
    "    resultados.append(ajuste)\n",
    "    predicion.append(ajuste.predict(x_test))\n",
    "    er = i.score(x_test,y_test)\n",
    "    error.append(er)\n",
    "    precision.append(ajuste.score(x_test , y_test))\n",
    "    print(\"modelo:\",modelos[0][a])\n",
    "    print(mediciones2(x_train,y_train,x_test,y_test,ajuste))\n",
    "    print(confusion_matrix(y_test,ajuste.predict(x_test)))\n",
    "    print(\"f1 score:\",f1_score(y_test,ajuste.predict(x_test)))\n",
    "    if modelos[0][a]!='SVC':\n",
    "        print(\"roc-auc:\", roc_auc_score(y_test,ajuste.predict_proba(x_test)[:,1]))\n",
    "    a=a+1"
   ]
  },
  {
   "cell_type": "markdown",
   "metadata": {},
   "source": [
    "Siguiente paso es usar gridsearch para buscar la mejor version de cada uno usando como referencia para los mejores, el accuracy o roc"
   ]
  },
  {
   "cell_type": "markdown",
   "metadata": {},
   "source": [
    "Los modelos que revisare en mayor profundidad son la rn, adaboost y randomforest"
   ]
  },
  {
   "cell_type": "markdown",
   "metadata": {},
   "source": [
    "## Adaboost con grid search"
   ]
  },
  {
   "cell_type": "code",
   "execution_count": 6,
   "metadata": {},
   "outputs": [],
   "source": [
    "from sklearn.ensemble import AdaBoostClassifier\n",
    "from sklearn.tree import DecisionTreeClassifier\n",
    "from sklearn.model_selection import GridSearchCV\n",
    "\n",
    "params = {'base_estimator__max_depth':[1,20,50,80]}\n",
    "\n",
    "gs = GridSearchCV(AdaBoostClassifier(base_estimator=DecisionTreeClassifier()), params,cv=3,verbose=10,n_jobs=-1)\n",
    "\n",
    "#print(gs.best_estimator_)"
   ]
  },
  {
   "cell_type": "code",
   "execution_count": 7,
   "metadata": {
    "scrolled": true
   },
   "outputs": [
    {
     "name": "stdout",
     "output_type": "stream",
     "text": [
      "Fitting 3 folds for each of 4 candidates, totalling 12 fits\n"
     ]
    },
    {
     "name": "stderr",
     "output_type": "stream",
     "text": [
      "[Parallel(n_jobs=-1)]: Using backend LokyBackend with 8 concurrent workers.\n",
      "[Parallel(n_jobs=-1)]: Done   1 tasks      | elapsed:  2.2min\n",
      "[Parallel(n_jobs=-1)]: Done   3 out of  12 | elapsed:  2.2min remaining:  6.6min\n",
      "[Parallel(n_jobs=-1)]: Done   5 out of  12 | elapsed: 13.1min remaining: 18.3min\n",
      "[Parallel(n_jobs=-1)]: Done   7 out of  12 | elapsed: 13.4min remaining:  9.6min\n",
      "[Parallel(n_jobs=-1)]: Done   9 out of  12 | elapsed: 13.9min remaining:  4.6min\n",
      "[Parallel(n_jobs=-1)]: Done  12 out of  12 | elapsed: 15.8min finished\n"
     ]
    },
    {
     "data": {
      "text/plain": [
       "GridSearchCV(cv=3, error_score=nan,\n",
       "             estimator=AdaBoostClassifier(algorithm='SAMME.R',\n",
       "                                          base_estimator=DecisionTreeClassifier(ccp_alpha=0.0,\n",
       "                                                                                class_weight=None,\n",
       "                                                                                criterion='gini',\n",
       "                                                                                max_depth=None,\n",
       "                                                                                max_features=None,\n",
       "                                                                                max_leaf_nodes=None,\n",
       "                                                                                min_impurity_decrease=0.0,\n",
       "                                                                                min_impurity_split=None,\n",
       "                                                                                min_samples_leaf=1,\n",
       "                                                                                min_samples_split=2,\n",
       "                                                                                min_weight_fraction_leaf=0.0,\n",
       "                                                                                presort='deprecated',\n",
       "                                                                                random_state=None,\n",
       "                                                                                splitter='best'),\n",
       "                                          learning_rate=1.0, n_estimators=50,\n",
       "                                          random_state=None),\n",
       "             iid='deprecated', n_jobs=-1,\n",
       "             param_grid={'base_estimator__max_depth': [1, 20, 50, 80]},\n",
       "             pre_dispatch='2*n_jobs', refit=True, return_train_score=False,\n",
       "             scoring=None, verbose=10)"
      ]
     },
     "execution_count": 7,
     "metadata": {},
     "output_type": "execute_result"
    }
   ],
   "source": [
    "gs.fit(x_train,y_train)"
   ]
  },
  {
   "cell_type": "code",
   "execution_count": 8,
   "metadata": {},
   "outputs": [
    {
     "data": {
      "text/plain": [
       "{'base_estimator__max_depth': 20}"
      ]
     },
     "execution_count": 8,
     "metadata": {},
     "output_type": "execute_result"
    }
   ],
   "source": [
    "gs.best_params_"
   ]
  },
  {
   "cell_type": "code",
   "execution_count": 9,
   "metadata": {},
   "outputs": [
    {
     "data": {
      "text/html": [
       "<div>\n",
       "<style scoped>\n",
       "    .dataframe tbody tr th:only-of-type {\n",
       "        vertical-align: middle;\n",
       "    }\n",
       "\n",
       "    .dataframe tbody tr th {\n",
       "        vertical-align: top;\n",
       "    }\n",
       "\n",
       "    .dataframe thead th {\n",
       "        text-align: right;\n",
       "    }\n",
       "</style>\n",
       "<table border=\"1\" class=\"dataframe\">\n",
       "  <thead>\n",
       "    <tr style=\"text-align: right;\">\n",
       "      <th></th>\n",
       "      <th>Entrenamiento</th>\n",
       "      <th>Testeo</th>\n",
       "    </tr>\n",
       "  </thead>\n",
       "  <tbody>\n",
       "    <tr>\n",
       "      <th>Accuracy</th>\n",
       "      <td>0.983</td>\n",
       "      <td>0.901</td>\n",
       "    </tr>\n",
       "    <tr>\n",
       "      <th>recall</th>\n",
       "      <td>0.983</td>\n",
       "      <td>0.338</td>\n",
       "    </tr>\n",
       "    <tr>\n",
       "      <th>roc</th>\n",
       "      <td>0.999</td>\n",
       "      <td>0.822</td>\n",
       "    </tr>\n",
       "  </tbody>\n",
       "</table>\n",
       "</div>"
      ],
      "text/plain": [
       "          Entrenamiento  Testeo\n",
       "Accuracy          0.983   0.901\n",
       "recall            0.983   0.338\n",
       "roc               0.999   0.822"
      ]
     },
     "execution_count": 9,
     "metadata": {},
     "output_type": "execute_result"
    }
   ],
   "source": [
    "mediciones(x_train,y_train,x_test,y_test,gs)"
   ]
  },
  {
   "cell_type": "code",
   "execution_count": 10,
   "metadata": {},
   "outputs": [
    {
     "data": {
      "image/png": "[encoded data removed]",
      "text/plain": [
       "<Figure size 432x288 with 1 Axes>"
      ]
     },
     "metadata": {
      "needs_background": "light"
     },
     "output_type": "display_data"
    }
   ],
   "source": [
    "from sklearn.metrics import roc_auc_score\n",
    "from sklearn.metrics import roc_curve\n",
    "logit_roc_auc = roc_auc_score(y_test, gs.predict_proba(x_test)[:,1])\n",
    "fpr, tpr, thresholds = roc_curve(y_test, gs.predict_proba(x_test)[:,1])\n",
    "plt.figure()\n",
    "plt.plot(fpr, tpr, label='Adaboost (area = %0.2f)' % logit_roc_auc)\n",
    "plt.plot([0, 1], [0, 1],'r--')\n",
    "plt.xlim([0.0, 1.0])\n",
    "plt.ylim([0.0, 1.05])\n",
    "plt.xlabel('False Positive Rate')\n",
    "plt.ylabel('True Positive Rate')\n",
    "plt.title('Receiver operating characteristic')\n",
    "plt.legend(loc=\"lower right\")\n",
    "plt.savefig('Log_ROC')\n",
    "plt.show()"
   ]
  },
  {
   "cell_type": "markdown",
   "metadata": {},
   "source": [
    "Teniendo en cuenta los ajustes actuales es un buen ajuste pero el recall es muy bajo, veamos mas opciones"
   ]
  },
  {
   "cell_type": "markdown",
   "metadata": {},
   "source": [
    "## Clasificador por Multi-Layer-Perc.  (RN)"
   ]
  },
  {
   "cell_type": "code",
   "execution_count": 11,
   "metadata": {},
   "outputs": [],
   "source": [
    "from sklearn.model_selection import GridSearchCV\n",
    "from sklearn.neural_network import MLPClassifier\n",
    "\n",
    "parameters = {'solver': ['lbfgs'], 'alpha': 10.0 ** -np.arange(1, 10), 'hidden_layer_sizes':np.arange(10, 15), 'random_state':[10101]}\n",
    "mlp_cv = GridSearchCV(MLPClassifier(), parameters, n_jobs=-1,verbose=10,cv=3)\n"
   ]
  },
  {
   "cell_type": "code",
   "execution_count": 12,
   "metadata": {},
   "outputs": [
    {
     "name": "stdout",
     "output_type": "stream",
     "text": [
      "Fitting 3 folds for each of 45 candidates, totalling 135 fits\n"
     ]
    },
    {
     "name": "stderr",
     "output_type": "stream",
     "text": [
      "[Parallel(n_jobs=-1)]: Using backend LokyBackend with 8 concurrent workers.\n",
      "[Parallel(n_jobs=-1)]: Done   2 tasks      | elapsed:   25.4s\n",
      "[Parallel(n_jobs=-1)]: Done   9 tasks      | elapsed:  3.9min\n",
      "[Parallel(n_jobs=-1)]: Done  16 tasks      | elapsed:  4.6min\n",
      "[Parallel(n_jobs=-1)]: Done  25 tasks      | elapsed:  7.3min\n",
      "[Parallel(n_jobs=-1)]: Done  34 tasks      | elapsed:  9.0min\n",
      "[Parallel(n_jobs=-1)]: Done  45 tasks      | elapsed: 12.8min\n",
      "[Parallel(n_jobs=-1)]: Done  56 tasks      | elapsed: 16.1min\n",
      "[Parallel(n_jobs=-1)]: Done  69 tasks      | elapsed: 19.2min\n",
      "[Parallel(n_jobs=-1)]: Done  82 tasks      | elapsed: 22.1min\n",
      "[Parallel(n_jobs=-1)]: Done  97 tasks      | elapsed: 26.2min\n",
      "[Parallel(n_jobs=-1)]: Done 112 tasks      | elapsed: 30.4min\n",
      "[Parallel(n_jobs=-1)]: Done 135 out of 135 | elapsed: 36.8min finished\n"
     ]
    },
    {
     "data": {
      "text/plain": [
       "GridSearchCV(cv=3, error_score=nan,\n",
       "             estimator=MLPClassifier(activation='relu', alpha=0.0001,\n",
       "                                     batch_size='auto', beta_1=0.9,\n",
       "                                     beta_2=0.999, early_stopping=False,\n",
       "                                     epsilon=1e-08, hidden_layer_sizes=(100,),\n",
       "                                     learning_rate='constant',\n",
       "                                     learning_rate_init=0.001, max_fun=15000,\n",
       "                                     max_iter=200, momentum=0.9,\n",
       "                                     n_iter_no_change=10,\n",
       "                                     nesterovs_momentum=True, power_t=0.5,\n",
       "                                     random_state...\n",
       "                                     solver='adam', tol=0.0001,\n",
       "                                     validation_fraction=0.1, verbose=False,\n",
       "                                     warm_start=False),\n",
       "             iid='deprecated', n_jobs=-1,\n",
       "             param_grid={'alpha': array([1.e-01, 1.e-02, 1.e-03, 1.e-04, 1.e-05, 1.e-06, 1.e-07, 1.e-08,\n",
       "       1.e-09]),\n",
       "                         'hidden_layer_sizes': array([10, 11, 12, 13, 14]),\n",
       "                         'random_state': [10101], 'solver': ['lbfgs']},\n",
       "             pre_dispatch='2*n_jobs', refit=True, return_train_score=False,\n",
       "             scoring=None, verbose=10)"
      ]
     },
     "execution_count": 12,
     "metadata": {},
     "output_type": "execute_result"
    }
   ],
   "source": [
    "mlp_cv.fit(x_train,y_train)"
   ]
  },
  {
   "cell_type": "code",
   "execution_count": 16,
   "metadata": {},
   "outputs": [
    {
     "data": {
      "text/plain": [
       "{'alpha': 0.1,\n",
       " 'hidden_layer_sizes': 14,\n",
       " 'random_state': 10101,\n",
       " 'solver': 'lbfgs'}"
      ]
     },
     "execution_count": 16,
     "metadata": {},
     "output_type": "execute_result"
    }
   ],
   "source": [
    "mlp_cv.best_params_"
   ]
  },
  {
   "cell_type": "code",
   "execution_count": 14,
   "metadata": {},
   "outputs": [
    {
     "data": {
      "text/html": [
       "<div>\n",
       "<style scoped>\n",
       "    .dataframe tbody tr th:only-of-type {\n",
       "        vertical-align: middle;\n",
       "    }\n",
       "\n",
       "    .dataframe tbody tr th {\n",
       "        vertical-align: top;\n",
       "    }\n",
       "\n",
       "    .dataframe thead th {\n",
       "        text-align: right;\n",
       "    }\n",
       "</style>\n",
       "<table border=\"1\" class=\"dataframe\">\n",
       "  <thead>\n",
       "    <tr style=\"text-align: right;\">\n",
       "      <th></th>\n",
       "      <th>Entrenamiento</th>\n",
       "      <th>Testeo</th>\n",
       "    </tr>\n",
       "  </thead>\n",
       "  <tbody>\n",
       "    <tr>\n",
       "      <th>Accuracy</th>\n",
       "      <td>0.850</td>\n",
       "      <td>0.806</td>\n",
       "    </tr>\n",
       "    <tr>\n",
       "      <th>recall</th>\n",
       "      <td>0.875</td>\n",
       "      <td>0.590</td>\n",
       "    </tr>\n",
       "    <tr>\n",
       "      <th>roc</th>\n",
       "      <td>0.942</td>\n",
       "      <td>0.842</td>\n",
       "    </tr>\n",
       "  </tbody>\n",
       "</table>\n",
       "</div>"
      ],
      "text/plain": [
       "          Entrenamiento  Testeo\n",
       "Accuracy          0.850   0.806\n",
       "recall            0.875   0.590\n",
       "roc               0.942   0.842"
      ]
     },
     "execution_count": 14,
     "metadata": {},
     "output_type": "execute_result"
    }
   ],
   "source": [
    "mediciones(x_train,y_train,x_test,y_test,mlp_cv)"
   ]
  },
  {
   "cell_type": "code",
   "execution_count": 20,
   "metadata": {
    "scrolled": false
   },
   "outputs": [
    {
     "data": {
      "image/png": "[encoded data removed]",
      "text/plain": [
       "<Figure size 432x288 with 1 Axes>"
      ]
     },
     "metadata": {
      "needs_background": "light"
     },
     "output_type": "display_data"
    }
   ],
   "source": [
    "from sklearn.metrics import roc_auc_score\n",
    "from sklearn.metrics import roc_curve\n",
    "logit_roc_auc = roc_auc_score(y_test, mlp_cv.predict_proba(x_test)[:,1])\n",
    "fpr, tpr, thresholds = roc_curve(y_test, mlp_cv.predict_proba(x_test)[:,1])\n",
    "plt.figure()\n",
    "plt.plot(fpr, tpr, label='mlp (area = %0.2f)' % logit_roc_auc)\n",
    "plt.plot([0, 1], [0, 1],'r--')\n",
    "plt.xlim([0.0, 1.0])\n",
    "plt.ylim([0.0, 1.05])\n",
    "plt.xlabel('False Positive Rate')\n",
    "plt.ylabel('True Positive Rate')\n",
    "plt.title('Receiver operating characteristic')\n",
    "plt.legend(loc=\"lower right\")\n",
    "plt.savefig('Log_ROC')\n",
    "plt.show()"
   ]
  },
  {
   "cell_type": "markdown",
   "metadata": {},
   "source": [
    "Mejora el recall pero caemos en el accuracy, igualmente roc esta muy bueno"
   ]
  },
  {
   "cell_type": "markdown",
   "metadata": {},
   "source": [
    "## Random Forest"
   ]
  },
  {
   "cell_type": "code",
   "execution_count": 43,
   "metadata": {},
   "outputs": [],
   "source": [
    "from sklearn.ensemble import RandomForestClassifier\n",
    "from sklearn.model_selection import GridSearchCV\n",
    "\n",
    "parameters = {\n",
    "    'n_estimators'      : [50,80,100,140,200],\n",
    "    'max_depth'         : [8, 9, 10],\n",
    "    'random_state'      : [0],\n",
    "    #'max_features': ['auto'],\n",
    "    #'criterion' :['gini']\n",
    "}\n",
    "\n",
    "rf_cv = GridSearchCV(RandomForestClassifier(), parameters, cv=3, n_jobs=-1,verbose=10)"
   ]
  },
  {
   "cell_type": "code",
   "execution_count": 44,
   "metadata": {},
   "outputs": [
    {
     "name": "stdout",
     "output_type": "stream",
     "text": [
      "Fitting 3 folds for each of 45 candidates, totalling 135 fits\n"
     ]
    },
    {
     "name": "stderr",
     "output_type": "stream",
     "text": [
      "[Parallel(n_jobs=-1)]: Using backend LokyBackend with 8 concurrent workers.\n",
      "[Parallel(n_jobs=-1)]: Done   2 tasks      | elapsed:  1.5min\n",
      "[Parallel(n_jobs=-1)]: Done   9 tasks      | elapsed:  3.8min\n",
      "[Parallel(n_jobs=-1)]: Done  16 tasks      | elapsed:  7.3min\n",
      "[Parallel(n_jobs=-1)]: Done  25 tasks      | elapsed: 10.8min\n",
      "[Parallel(n_jobs=-1)]: Done  34 tasks      | elapsed: 13.5min\n",
      "[Parallel(n_jobs=-1)]: Done  45 tasks      | elapsed: 16.8min\n",
      "[Parallel(n_jobs=-1)]: Done  56 tasks      | elapsed: 21.1min\n",
      "[Parallel(n_jobs=-1)]: Done  69 tasks      | elapsed: 25.1min\n",
      "[Parallel(n_jobs=-1)]: Done  82 tasks      | elapsed: 30.3min\n",
      "[Parallel(n_jobs=-1)]: Done  97 tasks      | elapsed: 37.5min\n",
      "[Parallel(n_jobs=-1)]: Done 112 tasks      | elapsed: 45.4min\n",
      "[Parallel(n_jobs=-1)]: Done 135 out of 135 | elapsed: 59.0min finished\n"
     ]
    },
    {
     "data": {
      "text/plain": [
       "GridSearchCV(cv=3, error_score=nan,\n",
       "             estimator=RandomForestClassifier(bootstrap=True, ccp_alpha=0.0,\n",
       "                                              class_weight=None,\n",
       "                                              criterion='gini', max_depth=None,\n",
       "                                              max_features='auto',\n",
       "                                              max_leaf_nodes=None,\n",
       "                                              max_samples=None,\n",
       "                                              min_impurity_decrease=0.0,\n",
       "                                              min_impurity_split=None,\n",
       "                                              min_samples_leaf=1,\n",
       "                                              min_samples_split=2,\n",
       "                                              min_weight_fraction_leaf=0.0,\n",
       "                                              n_estimators=100, n_jobs=None,\n",
       "                                              oob_score=False,\n",
       "                                              random_state=None, verbose=0,\n",
       "                                              warm_start=False),\n",
       "             iid='deprecated', n_jobs=-1,\n",
       "             param_grid={'max_depth': [8, 9, 10, 11, 12, 15, 20, 25, 30],\n",
       "                         'n_estimators': [50, 80, 100, 140, 200],\n",
       "                         'random_state': [0]},\n",
       "             pre_dispatch='2*n_jobs', refit=True, return_train_score=False,\n",
       "             scoring=None, verbose=10)"
      ]
     },
     "execution_count": 44,
     "metadata": {},
     "output_type": "execute_result"
    }
   ],
   "source": [
    "rf_cv.fit(x_train,y_train)"
   ]
  },
  {
   "cell_type": "code",
   "execution_count": 45,
   "metadata": {},
   "outputs": [
    {
     "data": {
      "text/plain": [
       "{'max_depth': 30, 'n_estimators': 200, 'random_state': 0}"
      ]
     },
     "execution_count": 45,
     "metadata": {},
     "output_type": "execute_result"
    }
   ],
   "source": [
    "rf_cv.best_params_"
   ]
  },
  {
   "cell_type": "code",
   "execution_count": 46,
   "metadata": {},
   "outputs": [
    {
     "data": {
      "text/html": [
       "<div>\n",
       "<style scoped>\n",
       "    .dataframe tbody tr th:only-of-type {\n",
       "        vertical-align: middle;\n",
       "    }\n",
       "\n",
       "    .dataframe tbody tr th {\n",
       "        vertical-align: top;\n",
       "    }\n",
       "\n",
       "    .dataframe thead th {\n",
       "        text-align: right;\n",
       "    }\n",
       "</style>\n",
       "<table border=\"1\" class=\"dataframe\">\n",
       "  <thead>\n",
       "    <tr style=\"text-align: right;\">\n",
       "      <th></th>\n",
       "      <th>Entrenamiento</th>\n",
       "      <th>Testeo</th>\n",
       "    </tr>\n",
       "  </thead>\n",
       "  <tbody>\n",
       "    <tr>\n",
       "      <th>Accuracy</th>\n",
       "      <td>0.973</td>\n",
       "      <td>0.882</td>\n",
       "    </tr>\n",
       "    <tr>\n",
       "      <th>recall</th>\n",
       "      <td>0.987</td>\n",
       "      <td>0.389</td>\n",
       "    </tr>\n",
       "    <tr>\n",
       "      <th>roc</th>\n",
       "      <td>0.997</td>\n",
       "      <td>0.861</td>\n",
       "    </tr>\n",
       "  </tbody>\n",
       "</table>\n",
       "</div>"
      ],
      "text/plain": [
       "          Entrenamiento  Testeo\n",
       "Accuracy          0.973   0.882\n",
       "recall            0.987   0.389\n",
       "roc               0.997   0.861"
      ]
     },
     "execution_count": 46,
     "metadata": {},
     "output_type": "execute_result"
    }
   ],
   "source": [
    "mediciones(x_train,y_train,x_test,y_test,rf_cv)"
   ]
  },
  {
   "cell_type": "code",
   "execution_count": 47,
   "metadata": {},
   "outputs": [
    {
     "data": {
      "image/png": "[encoded data removed]",
      "text/plain": [
       "<Figure size 432x288 with 1 Axes>"
      ]
     },
     "metadata": {
      "needs_background": "light"
     },
     "output_type": "display_data"
    }
   ],
   "source": [
    "from sklearn.metrics import roc_auc_score\n",
    "from sklearn.metrics import roc_curve\n",
    "logit_roc_auc = roc_auc_score(y_test, rf_cv.predict_proba(x_test)[:,1])\n",
    "fpr, tpr, thresholds = roc_curve(y_test, rf_cv.predict_proba(x_test)[:,1])\n",
    "plt.figure()\n",
    "plt.plot(fpr, tpr, label='Random forest (area = %0.2f)' % logit_roc_auc)\n",
    "plt.plot([0, 1], [0, 1],'r--')\n",
    "plt.xlim([0.0, 1.0])\n",
    "plt.ylim([0.0, 1.05])\n",
    "plt.xlabel('False Positive Rate')\n",
    "plt.ylabel('True Positive Rate')\n",
    "plt.title('Receiver operating characteristic')\n",
    "plt.legend(loc=\"lower right\")\n",
    "plt.savefig('Log_ROC')\n",
    "plt.show()"
   ]
  },
  {
   "cell_type": "code",
   "execution_count": 48,
   "metadata": {},
   "outputs": [
    {
     "name": "stdout",
     "output_type": "stream",
     "text": [
      "[[18100  1487]\n",
      " [ 1000   637]]\n"
     ]
    }
   ],
   "source": [
    "print(confusion_matrix(y_test,rf_cv.predict(x_test)))"
   ]
  },
  {
   "cell_type": "markdown",
   "metadata": {},
   "source": [
    "Ya tengo la mejor version de estos 3 modelos, antes de escojer uno de ellos ¿juntemoslos todos y veamos si la union de todos es mejor que uno solo?"
   ]
  },
  {
   "cell_type": "code",
   "execution_count": 20,
   "metadata": {},
   "outputs": [],
   "source": [
    "from sklearn.ensemble import StackingClassifier\n",
    "from sklearn.model_selection import GridSearchCV\n",
    "from sklearn.linear_model import LogisticRegression\n",
    "from sklearn.ensemble import AdaBoostClassifier\n",
    "from sklearn.tree import DecisionTreeClassifier\n",
    "from sklearn.neural_network import MLPClassifier\n",
    "\n",
    "modelos =[('ada',AdaBoostClassifier(base_estimator=DecisionTreeClassifier(max_depth=20))),\n",
    "('mlp',MLPClassifier(alpha=0.1,hidden_layer_sizes=14,random_state= 10101,solver='lbfgs')),\n",
    "('rfc',RandomForestClassifier(max_depth=12,n_estimators=80,random_state=0))]\n",
    "\n",
    "\n",
    "\n",
    "modelo_salida = LogisticRegression(C= 100.0, penalty= 'l2')\n",
    "\n",
    "#voy a forzarlo a usar las variables predictoras con las predichas\n",
    "stack=StackingClassifier(estimators=modelos, final_estimator=modelo_salida,n_jobs=1,passthrough=True,verbose=10)"
   ]
  },
  {
   "cell_type": "code",
   "execution_count": 21,
   "metadata": {},
   "outputs": [
    {
     "name": "stderr",
     "output_type": "stream",
     "text": [
      "[Parallel(n_jobs=1)]: Using backend SequentialBackend with 1 concurrent workers.\n",
      "[Parallel(n_jobs=1)]: Done   1 out of   1 | elapsed:  5.0min remaining:    0.0s\n",
      "[Parallel(n_jobs=1)]: Done   2 out of   2 | elapsed: 10.0min remaining:    0.0s\n",
      "[Parallel(n_jobs=1)]: Done   3 out of   3 | elapsed: 14.4min remaining:    0.0s\n",
      "[Parallel(n_jobs=1)]: Done   4 out of   4 | elapsed: 18.7min remaining:    0.0s\n",
      "[Parallel(n_jobs=1)]: Done   5 out of   5 | elapsed: 22.9min remaining:    0.0s\n",
      "[Parallel(n_jobs=1)]: Done   5 out of   5 | elapsed: 22.9min finished\n",
      "[Parallel(n_jobs=1)]: Using backend SequentialBackend with 1 concurrent workers.\n",
      "[Parallel(n_jobs=1)]: Done   1 out of   1 | elapsed:  1.1min remaining:    0.0s\n",
      "[Parallel(n_jobs=1)]: Done   2 out of   2 | elapsed:  2.1min remaining:    0.0s\n",
      "[Parallel(n_jobs=1)]: Done   3 out of   3 | elapsed:  3.0min remaining:    0.0s\n",
      "[Parallel(n_jobs=1)]: Done   4 out of   4 | elapsed:  4.1min remaining:    0.0s\n",
      "[Parallel(n_jobs=1)]: Done   5 out of   5 | elapsed:  5.2min remaining:    0.0s\n",
      "[Parallel(n_jobs=1)]: Done   5 out of   5 | elapsed:  5.2min finished\n",
      "[Parallel(n_jobs=1)]: Using backend SequentialBackend with 1 concurrent workers.\n",
      "[Parallel(n_jobs=1)]: Done   1 out of   1 | elapsed:   39.0s remaining:    0.0s\n",
      "[Parallel(n_jobs=1)]: Done   2 out of   2 | elapsed:  1.3min remaining:    0.0s\n",
      "[Parallel(n_jobs=1)]: Done   3 out of   3 | elapsed:  1.8min remaining:    0.0s\n",
      "[Parallel(n_jobs=1)]: Done   4 out of   4 | elapsed:  2.5min remaining:    0.0s\n",
      "[Parallel(n_jobs=1)]: Done   5 out of   5 | elapsed:  3.1min remaining:    0.0s\n",
      "[Parallel(n_jobs=1)]: Done   5 out of   5 | elapsed:  3.1min finished\n"
     ]
    },
    {
     "data": {
      "text/plain": [
       "StackingClassifier(cv=None,\n",
       "                   estimators=[('ada',\n",
       "                                AdaBoostClassifier(algorithm='SAMME.R',\n",
       "                                                   base_estimator=DecisionTreeClassifier(ccp_alpha=0.0,\n",
       "                                                                                         class_weight=None,\n",
       "                                                                                         criterion='gini',\n",
       "                                                                                         max_depth=20,\n",
       "                                                                                         max_features=None,\n",
       "                                                                                         max_leaf_nodes=None,\n",
       "                                                                                         min_impurity_decrease=0.0,\n",
       "                                                                                         min_impurity_split=None,\n",
       "                                                                                         min_samples_leaf=1,\n",
       "                                                                                         min_samples_split=2,\n",
       "                                                                                         min_weight_fraction_leaf=0.0,\n",
       "                                                                                         presort='...\n",
       "                                                       random_state=0,\n",
       "                                                       verbose=0,\n",
       "                                                       warm_start=False))],\n",
       "                   final_estimator=LogisticRegression(C=100.0,\n",
       "                                                      class_weight=None,\n",
       "                                                      dual=False,\n",
       "                                                      fit_intercept=True,\n",
       "                                                      intercept_scaling=1,\n",
       "                                                      l1_ratio=None,\n",
       "                                                      max_iter=100,\n",
       "                                                      multi_class='auto',\n",
       "                                                      n_jobs=None, penalty='l2',\n",
       "                                                      random_state=None,\n",
       "                                                      solver='lbfgs',\n",
       "                                                      tol=0.0001, verbose=0,\n",
       "                                                      warm_start=False),\n",
       "                   n_jobs=1, passthrough=True, stack_method='auto', verbose=10)"
      ]
     },
     "execution_count": 21,
     "metadata": {},
     "output_type": "execute_result"
    }
   ],
   "source": [
    "stack.fit(x_train,y_train)"
   ]
  },
  {
   "cell_type": "code",
   "execution_count": 22,
   "metadata": {},
   "outputs": [
    {
     "data": {
      "text/html": [
       "<div>\n",
       "<style scoped>\n",
       "    .dataframe tbody tr th:only-of-type {\n",
       "        vertical-align: middle;\n",
       "    }\n",
       "\n",
       "    .dataframe tbody tr th {\n",
       "        vertical-align: top;\n",
       "    }\n",
       "\n",
       "    .dataframe thead th {\n",
       "        text-align: right;\n",
       "    }\n",
       "</style>\n",
       "<table border=\"1\" class=\"dataframe\">\n",
       "  <thead>\n",
       "    <tr style=\"text-align: right;\">\n",
       "      <th></th>\n",
       "      <th>Entrenamiento</th>\n",
       "      <th>Testeo</th>\n",
       "    </tr>\n",
       "  </thead>\n",
       "  <tbody>\n",
       "    <tr>\n",
       "      <th>Accuracy</th>\n",
       "      <td>0.977</td>\n",
       "      <td>0.895</td>\n",
       "    </tr>\n",
       "    <tr>\n",
       "      <th>recall</th>\n",
       "      <td>0.984</td>\n",
       "      <td>0.379</td>\n",
       "    </tr>\n",
       "    <tr>\n",
       "      <th>roc</th>\n",
       "      <td>0.998</td>\n",
       "      <td>0.867</td>\n",
       "    </tr>\n",
       "  </tbody>\n",
       "</table>\n",
       "</div>"
      ],
      "text/plain": [
       "          Entrenamiento  Testeo\n",
       "Accuracy          0.977   0.895\n",
       "recall            0.984   0.379\n",
       "roc               0.998   0.867"
      ]
     },
     "execution_count": 22,
     "metadata": {},
     "output_type": "execute_result"
    }
   ],
   "source": [
    "mediciones(x_train,y_train,x_test,y_test,stack)"
   ]
  },
  {
   "cell_type": "code",
   "execution_count": 23,
   "metadata": {},
   "outputs": [
    {
     "data": {
      "image/png": "[encoded data removed]",
      "text/plain": [
       "<Figure size 432x288 with 1 Axes>"
      ]
     },
     "metadata": {
      "needs_background": "light"
     },
     "output_type": "display_data"
    }
   ],
   "source": [
    "from sklearn.metrics import roc_auc_score\n",
    "from sklearn.metrics import roc_curve\n",
    "logit_roc_auc = roc_auc_score(y_test, stack.predict_proba(x_test)[:,1])\n",
    "fpr, tpr, thresholds = roc_curve(y_test, stack.predict_proba(x_test)[:,1])\n",
    "plt.figure()\n",
    "plt.plot(fpr, tpr, label='stacking (area = %0.2f)' % logit_roc_auc)\n",
    "plt.plot([0, 1], [0, 1],'r--')\n",
    "plt.xlim([0.0, 1.0])\n",
    "plt.ylim([0.0, 1.05])\n",
    "plt.xlabel('False Positive Rate')\n",
    "plt.ylabel('True Positive Rate')\n",
    "plt.title('Receiver operating characteristic')\n",
    "plt.legend(loc=\"lower right\")\n",
    "plt.savefig('Log_ROC')\n",
    "plt.show()"
   ]
  },
  {
   "cell_type": "code",
   "execution_count": 25,
   "metadata": {},
   "outputs": [
    {
     "name": "stdout",
     "output_type": "stream",
     "text": [
      "[[18391  1196]\n",
      " [ 1016   621]]\n"
     ]
    }
   ],
   "source": [
    "#stack matriz confucion\n",
    "print(confusion_matrix(y_test,stack.predict(x_test)))"
   ]
  },
  {
   "cell_type": "markdown",
   "metadata": {},
   "source": [
    "Desde mi punto de vista la mejor opcion es random forest, debido a que el recall no es tan bajo y el roc esta bien."
   ]
  },
  {
   "cell_type": "code",
   "execution_count": null,
   "metadata": {},
   "outputs": [],
   "source": []
  }
 ],
 "metadata": {
  "kernelspec": {
   "display_name": "Python 3",
   "language": "python",
   "name": "python3"
  },
  "language_info": {
   "codemirror_mode": {
    "name": "ipython",
    "version": 3
   },
   "file_extension": ".py",
   "mimetype": "text/x-python",
   "name": "python",
   "nbconvert_exporter": "python",
   "pygments_lexer": "ipython3",
   "version": "3.7.2"
  }
 },
 "nbformat": 4,
 "nbformat_minor": 2
}
